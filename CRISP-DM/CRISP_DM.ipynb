{
  "nbformat": 4,
  "nbformat_minor": 0,
  "metadata": {
    "colab": {
      "name": "CRISP-DM.ipynb",
      "provenance": [],
      "collapsed_sections": [],
      "authorship_tag": "ABX9TyPJped+56KwIsIwK5zb7AfC",
      "include_colab_link": true
    },
    "kernelspec": {
      "name": "python3",
      "display_name": "Python 3"
    },
    "language_info": {
      "name": "python"
    }
  },
  "cells": [
    {
      "cell_type": "markdown",
      "metadata": {
        "id": "view-in-github",
        "colab_type": "text"
      },
      "source": [
        "<a href=\"https://colab.research.google.com/github/LeandroCoelhos/estudos_datascience/blob/main/CRISP-DM/CRISP_DM.ipynb\" target=\"_parent\"><img src=\"https://colab.research.google.com/assets/colab-badge.svg\" alt=\"Open In Colab\"/></a>"
      ]
    },
    {
      "cell_type": "markdown",
      "source": [
        "Projeto: CRISP-DM <br>\n",
        "Exemplo prático da metodologia"
      ],
      "metadata": {
        "id": "STMDxo1h0_Lb"
      }
    },
    {
      "cell_type": "markdown",
      "source": [
        "* Dada uma campanha de marketing, um cliente irá realizar um investimento?\n",
        "\n",
        "archive.ics.uci.edu/ml/datasets/Bank+Marketing"
      ],
      "metadata": {
        "id": "T-bRYeFt106r"
      }
    },
    {
      "cell_type": "markdown",
      "source": [
        "# Business understanding ( Entendimento do Negócio)\n",
        "Essa etapa possui 4 tarefas que também possuem subtarefas. Vamos entender quais são elas:\n",
        "* Objetivos do Negócio\n",
        "* Panorama da Situação\n",
        "* Objetivos do Projeto de Ciência de Dados\n",
        "* Produzir um plano de projeto"
      ],
      "metadata": {
        "id": "8xMcUKN44NtN"
      }
    },
    {
      "cell_type": "markdown",
      "source": [
        "**Atenção!!**\n",
        "\n",
        "  - Entender se esse é um problema que realmente precisa de Data Science"
      ],
      "metadata": {
        "id": "yjEXY0dO61Qf"
      }
    },
    {
      "cell_type": "code",
      "execution_count": 2,
      "metadata": {
        "id": "p-5ZjYJ307lK"
      },
      "outputs": [],
      "source": [
        "#IMGc"
      ]
    },
    {
      "cell_type": "markdown",
      "source": [
        "## Determinar os Objetivos de Negócios\n",
        "\n",
        "- Backgroud\n",
        "- Objetivos do Negócio\n",
        " - Critérios de Sucesso do Negócio"
      ],
      "metadata": {
        "id": "iFsd1I4n7FYq"
      }
    },
    {
      "cell_type": "code",
      "source": [
        "#IMG"
      ],
      "metadata": {
        "id": "ion-_tmq7QSb"
      },
      "execution_count": null,
      "outputs": []
    },
    {
      "cell_type": "markdown",
      "source": [
        "### Backgroug\n",
        "\n",
        "Reúna as infirmações conhecidas sobre a situação de negócios da organização no inicío do projeto.\n",
        "Esses detalhes não só servem para identificar mais de perto os objetivos de negócios a serem alcançados, mas também servem para identificar os recursos, tanto humanos como materiais, que podem ser usados ou necessários ao longo do projeto.\n"
      ],
      "metadata": {
        "id": "LZNam6f47RH_"
      }
    },
    {
      "cell_type": "markdown",
      "source": [
        "**As principais atividades são:**\n",
        "\n",
        "(Organização)\n",
        "\n",
        "* Gráfico organizacional: ajuda a identificar áreas e os respectivos responsáveis\n",
        "* Identificar pessoas chaves no negócio e seus papeis\n",
        "* Identificar o sponsor (financeiro e usuário principal)\n",
        "* Identificar se existe um comite dirigente e a lista de membros\n",
        "* Identificar as unidades de negócio que serão afetadas pelo projeto de data science (Marketing, Vendas, Finanças)\n",
        "* Dica de ferramenta: [Mapa dos Stakeholder](Mapa dos Stakeholders parceiros.pptx)"
      ],
      "metadata": {
        "id": "a8oYlX-o7mP8"
      }
    },
    {
      "cell_type": "markdown",
      "source": [
        "(Area do problema)\n",
        "* Identificar a área do problema (Marketing, Vendas, Finanças)\n",
        "* Descrever o problema em termos gerais\n",
        "* Checar o status atual do projeto ( a área afetada já está ciente da realização do projeto)\n",
        "* Esclarecer os pre-requisitos do projeto (Qual é a motivação do projeto)\n",
        "* Se nescessário introduzir o tema data science para o negócio\n",
        "* Identificar o grupo alvo do resultado do projeto (report para uma área? modelo para um cliente)\n",
        "* Identificar as necessidades e expectativas do cliente"
      ],
      "metadata": {
        "id": "Y2S70Mi78KD8"
      }
    },
    {
      "cell_type": "markdown",
      "source": [
        "### Objetivos do Negócio\n",
        "\n",
        "Identificar o objetivo primario, de uma perspectiva do negócio e em seguida, os objetivos secundários.\n",
        "\n",
        "* Descrever informalmente o problema a ser solucionado\n",
        "* Especificar todas as questões do negócio precisamente\n",
        "* Especificar quaisquer outros requisitos do negócio (exemplo: o negócio não quer perder clientes)\n",
        "* Especificar benefícios esperados em termos do negócio"
      ],
      "metadata": {
        "id": "U2_vVDhb81Jj"
      }
    },
    {
      "cell_type": "markdown",
      "source": [
        "<hr/> \n",
        "\n",
        "> ### Exemplo no desafio Bank-Marketing\n",
        ">\n",
        "> **Objetivo relatado pela área de negócio**:\n",
        "> <br/<br/>\n",
        "> <center><i>\"Queremos aumentar nossas vendas de CDB quando nossa central de telemarketing liga para os clientes </i></center>\n",
        ">\n",
        "> Soou <u>genérico</u>? É Assim que os desafios de ciência de dados vêm mesmo. Os detalhes vêm mais claros nas primeiras reuniões, onde fazemos a etapa do **entendimento de negócio**.\n",
        ">\n",
        "> <hr/>\n",
        ">\n",
        "> **1ª reunião**:\n",
        "> <br/><br/>\n",
        "> <center><i>\"Hoje mandamos uma lista de (CPF/Telefone) para nossa central de telemarketing vender nossos CDBs, com um certo script de vendas. Nas nossas atividades cotidianas, não conseguimos desenvolver critérios ou estudos para <b>priorizar</b> esses CPFs, então enviamos pessoas <b>aleatoriamente da nossa base</b> ($\\approx$ 300 mil pessoas), por meio de um <b>arquivo Excel, por e-mail</b>, para o time de telemarketing. Em média atingimos uma <b>efetividade de 11%</b>, mas acreditamos ser possível melhorar esse cenário\"</i></center>\n",
        ">\n",
        "> Daqui já tiramos algumas informações adicionar!\n",
        ">\n",
        ">  - **Priorizar**: Eles não estão tão interessados em saber <u>exatamente</u> que irá investir em um CDM ou não, mas simplesmente ter uma **ordenação** para enviar a base para o time de telemarketing\n",
        ">  - **Benchmark**: O modelo atual deles é um **modelo aleatório**, cujo **precision é 11%**. Essa é a métrica que devemos bater!\n",
        ">  - **Requisito do entregável**: Nossa entrega final deve ser um **arquivo excel contendo a lista de CPFs que devem ser contactados**\n",
        ">   - Note que ssa lista deve **caber em um e-mail**!!\n",
        ">  - **Tamanho do público a ter o modelo aplicado (público de scoragem)**: 300 mil pessoas \n",
        ">\n",
        "> Note que surgem algumas outras perguntas naturais:\n",
        ">\n",
        ">  - Pra quantas pessoas vocês **já ligaram**, e temos uma resposta se a pessoa aceitou ou não?\n",
        ">  - E o *valor** investido no CDB? É relevante?\n",
        ">  - Pra quantas pessoas o time de telemarketing consegue ligar? Você poderia contratar mais pessoas pra ligar pra mais gente? Como funciona isso?\n",
        ">  - Além do modelo, quais **_insights_** você espera desse projeto? Você precisa <u>entender o motivo</u> de um cliente ser mais propenso que outro?\n",
        ">    - (Aqui estamos perguntando a <u>demanda por interpretabilidade</u> da área.\n",
        ">\n",
        "> <hr/>\n",
        ">\n",
        "> **2ª reunião**:\n",
        "> <br/><br/>\n",
        "> <center><i>\"Nossa área é relativamente nova, então ligamos até hoje só para umas <b>2 mil, 3 mil pessoas</b>. Justamente, nesse momento estamos com uma estratégia de <b>expansão de market share</b>, então o valor agora não impacta tanto. Futuramente sim, seria legal já termos uma <u>dica inicial</u> para nosso operador já ofertar o valor adequado do CDB. Com relação ao <b>capacity de telemarketing</b>, nosso contrato com eles garante ligaçõo para <b> 500 pessoas/mês</b>. Se enviarmos menos que isso, há uma cláusula para discutirmos abatimento, mas não conpensa muito, mas se observarmos que há oportunidade, <u>daqui uns meses iremos revisar esse contrato, e podemos modificá-lo</u>. Quanto aos <i>insights</i>, nós fazemos uma série de estudos internos para desenvolver e criar novos produtos, então se pudermos saber os <b>principais fatores da propensão</b>, nos ajudaria bastante no dia-a-dia. Mas nada muito complexo, viu?\" </i></center>\n",
        ">\n",
        "> Olha que legal!\n",
        ">\n",
        ">  - **Termo-chave - Market-share**: Quantos % do mercado de venda de CDBs pertence a esse banco.\n",
        ">  - **Termo-chave - Capacity**: Para quantas pessoas o time de telemarketing consegue ligar por mês?\n",
        ">  - **Capacity do time**: 500 pessoas/mês (variável se observarmos oportunidade)\n",
        ">  - **Tamanho do público de modelagem**: $\\approx$ 3000 pessoas\n",
        ">  - **Demanda por interpretabilidade**: Variáveis que mais impactam na propensão\n",
        ">\n",
        "> Ou seja, queremos **encontrar as 500 pessoas mais propensas do nosso público**!\n"
      ],
      "metadata": {
        "id": "fp4gl_uj9SOp"
      }
    },
    {
      "cell_type": "code",
      "source": [
        "# exemplo de um case em que o cliente acreditava que receberia determinada resposta, mas a metodologia selecionada não entrega essa solução"
      ],
      "metadata": {
        "id": "uw94pbMOEff6"
      },
      "execution_count": null,
      "outputs": []
    },
    {
      "cell_type": "code",
      "source": [
        "# coloque o link para o documento com essas informações"
      ],
      "metadata": {
        "id": "sK07TdibEpgk"
      },
      "execution_count": null,
      "outputs": []
    },
    {
      "cell_type": "markdown",
      "source": [
        "### Critério de sucesso para o Negócio\n",
        "\n",
        "Descrever o critério de sucesso do projeto do ponto de vista do negócio de forma ampla, exemplo, diminuir o churn de clientes\n",
        "\n",
        "* Especificar o critério de sucesso\n",
        "\n",
        "* Identificar quem avalia os critérios de sucesso"
      ],
      "metadata": {
        "id": "68vwNsNpEtLJ"
      }
    },
    {
      "cell_type": "markdown",
      "source": [
        "<hr />\n",
        "\n",
        "> No nosso caso, o ** critério de sucesso** é criar uma lista de clientes que permita uma efetividade **melhor que a lista aleatória que é enviada hoje** para o time de telemarketing\n",
        ">\n",
        "> Para a **etapa de validação** podemos comparar **quantas vezes nosso modelo é melhor do que uma seleção aleatória de clientes** (método de _lift_)\n",
        ">\n",
        "> <u>**Note que**</u> apesar da efetividade **média** ser de 11%, nossos dados podem conter oscilações de mês para mês. Assim, para batermos o martelo que **nosso modelo superou o benchmark** precisaremos realizar um piloto que separe nosso público em **grupo teste e grupo controle**.\n",
        ">\n",
        "> Ou seja, precisaremos ** adicionar pessoas aleatóriamente na nossa lista para permitir uma comparação justa dos resultados**"
      ],
      "metadata": {
        "id": "05RZTlPPE-2T"
      }
    },
    {
      "cell_type": "code",
      "source": [
        "# Coloque o link para o documento com essas informações"
      ],
      "metadata": {
        "id": "4Buen-sbF2Hd"
      },
      "execution_count": null,
      "outputs": []
    },
    {
      "cell_type": "markdown",
      "source": [
        "## Panorama da situação\n",
        "\n",
        "* Inventário de Recursos\n",
        "* Requisitos, Premissas e Restrições\n",
        "* Riscos e Contingências\n",
        "* Terminologia\n",
        "* Custo e Benefícios\n",
        "\n",
        "> Em que ambiente nossa solução vai rodar? <br/>\n",
        "> Se esse modelo não funcionar, vou dar prejuízo pro banco?<br/>\n",
        "> Se ele tiver deteriorado no meio do caminho, como mitigo o dano?<br/>\n",
        "> Se a tabela origem não vir nesse mês, como remedio o problema?\n"
      ],
      "metadata": {
        "id": "uzl5w1bKF008"
      }
    },
    {
      "cell_type": "markdown",
      "source": [
        "### tasks Inventário de recursos"
      ],
      "metadata": {
        "id": "a8VOtpuAGsJj"
      }
    },
    {
      "cell_type": "markdown",
      "source": [
        "* Hardware disponível / Ferramentas (Garagem, Hive)\n",
        "* Bases de dados\n",
        "* Pessoas envolvidas (adm de bancos de dados, acessos)\n",
        "> Quem é a pessoa chave para cuidar dos dados? <br/>\n",
        "> Para quem eu peço acesso?<br/>\n",
        "> Quem me explica as colunas dessa base?"
      ],
      "metadata": {
        "id": "gAG5YX6XGvbd"
      }
    },
    {
      "cell_type": "code",
      "source": [
        "# Façam um documento no excel, e coloquem essas informações, principalmente sobre as bases"
      ],
      "metadata": {
        "id": "QdnlH9cNHCQ-"
      },
      "execution_count": null,
      "outputs": []
    },
    {
      "cell_type": "code",
      "source": [
        "# coloque o link para o documento com essas informações"
      ],
      "metadata": {
        "id": "QomUafkiHIpM"
      },
      "execution_count": null,
      "outputs": []
    },
    {
      "cell_type": "markdown",
      "source": [
        "### Tasks Requisitos, premissas, e restrições\n"
      ],
      "metadata": {
        "id": "Q7BbjZDMHHqS"
      }
    },
    {
      "cell_type": "markdown",
      "source": [
        "* Requisitos: compreensibilidade, acuracia, capacidade de implementação, etc; segurança, restrições legais, privacidade, etc\n",
        "* Premissas: o modelo deve ser interpretável?; Qualidade do dado?; fatores externos?\n",
        "\n",
        "premissas pra seleção de público, Público que é elegível e não é elegivel\n",
        "\n",
        "* Restrições: acesso?, restrição de implementação?\n",
        "\n",
        "quais dados posso usar? devido a lgpd, bacen, normas internas e éticas"
      ],
      "metadata": {
        "id": "DlPJo4_4m4bu"
      }
    },
    {
      "cell_type": "markdown",
      "source": [
        "<hr />\n",
        "\n",
        "> ## No nossa caso:\n",
        ">\n",
        "> **Tabela de Requisitos**\n",
        ">  - **Objetivo**:  Criar uma lista dos clientes mais propensos a aceitarem uma oferta de CDB, após uma ligação telefonica\n",
        ">  - **Tamanho da Lista**: $/leq 500$ CPFs (Variável se observarmos oportunidade)\n",
        ">  - **Formato de entrega**: Arquivo Excel por e-mail\n",
        ">  - **Tamanho do público de modelagem**: $\\approx$ 3 mil pessoas\n",
        ">  - **Tamanho do público de scoragem**: $\\approx$ 300 mil pessoas\n",
        ">  - **Interpretabilidade**:  Importância de variáveis\n",
        ">  - **Requisito da métrica de avaliação**: <u>Ordenação</u> do topo da base"
      ],
      "metadata": {
        "id": "baSB_7F8nxPe"
      }
    },
    {
      "cell_type": "code",
      "source": [
        "#Coloque o link para o documento com essas informações\n",
        "# Essa etapa deve ser feita em conjunto com as áreas envolvidas"
      ],
      "metadata": {
        "id": "n3u6YVp_ovm3"
      },
      "execution_count": null,
      "outputs": []
    },
    {
      "cell_type": "markdown",
      "source": [
        "### Tasks Riscos e Contingências"
      ],
      "metadata": {
        "id": "MNlZqDWsouwW"
      }
    },
    {
      "cell_type": "markdown",
      "source": [
        "* Riscos: negócio, organizacionais, financeiros, técnicos, dados\n",
        "* Contingências: ter uma contingência para cada risco pensado"
      ],
      "metadata": {
        "id": "K2_5sbEho7lX"
      }
    },
    {
      "cell_type": "markdown",
      "source": [
        "<hr />\n",
        "\n",
        "> ## No nosso caso\n",
        ">\n",
        ">   - E se **der problema** nos dados origem, e **o modelo não puder ser aplicado em um dado mês**?\n",
        ">    - Após alinhamento com a área de negócio..........\n",
        ">   - **Regra de contingência**: Enviamos os próximos 500 clientes mais propensos do mês anterior, que ainda não foram contactados\n",
        ">\n",
        "> ** Nota**: ou seja, não basta salvarmos somente o topo da lista: A tabela inteira de propensão precisa estar em um local de fácil acesso para a área de negócio! "
      ],
      "metadata": {
        "id": "es8oX97QpE0i"
      }
    },
    {
      "cell_type": "code",
      "source": [
        "# coloque o link para o documento com essas informações\n",
        "# Deixe claro para quem pediu o projeto os riscos e contingências"
      ],
      "metadata": {
        "id": "uZdxEGtWo55K"
      },
      "execution_count": null,
      "outputs": []
    },
    {
      "cell_type": "markdown",
      "source": [
        "#### Tasks Terminologia\n",
        "Glossário com os termos do negócio e de Ciência de dados"
      ],
      "metadata": {
        "id": "K5iF-TWXpyaH"
      }
    },
    {
      "cell_type": "code",
      "source": [
        "#coloque o link para o documento com essas informações"
      ],
      "metadata": {
        "id": "_Nybw6DLp61Q"
      },
      "execution_count": null,
      "outputs": []
    },
    {
      "cell_type": "markdown",
      "source": [
        "\n",
        "\n",
        "\n",
        "\n",
        "**CRISP-DM** - Cross-Industry Standart Process for Data Mining. Essa metodologia aborda um planejamento de um projeto de Ciencia de Dados.\n",
        "\n",
        "**Algoritimo** - Um processo passo a psso do que deve ser feito, e como deve ser feitom. Um fluxo de informação para resolver um determinado problema, principalmente por computadores.\n",
        "\n",
        "**Conjunto de Dados** -  Uma coleção de informações selapara por elementos que podem ser manipulados e relacionados por um computador.\n",
        "\n",
        "**Modelo** - Refere-se a um grupo de processos em um conjunto de dados que relacionam as informações para chegar a uma conclusão sobre os dados.\n",
        "\n",
        "<hr />\n",
        "\n",
        "> - **Market-Share**: Quantos % do mercado de venda de CDBs pertence a esse banco?\n",
        "> - **Capacity**: `Pra quantas pessoas o time de telemarketing consegue ligar por mês?\n",
        "> - **Benchmark**: Método <u>atual</u> da área de negócio que precisa ser superado\n",
        "> - **Lift**: Quantas vezes o modelo é melhor que o _benchmark_"
      ],
      "metadata": {
        "id": "gRyw3aPGp4m8"
      }
    },
    {
      "cell_type": "markdown",
      "source": [
        "### Tasks Custos e Beneficios"
      ],
      "metadata": {
        "id": "b3NsyMcdrLrs"
      }
    },
    {
      "cell_type": "code",
      "source": [
        ""
      ],
      "metadata": {
        "id": "dH3wjtT9rUUN"
      },
      "execution_count": null,
      "outputs": []
    }
  ]
}