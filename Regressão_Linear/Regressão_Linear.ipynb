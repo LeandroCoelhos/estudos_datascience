{
  "nbformat": 4,
  "nbformat_minor": 0,
  "metadata": {
    "colab": {
      "name": "Regressão Linear.ipynb",
      "provenance": [],
      "collapsed_sections": [],
      "authorship_tag": "ABX9TyOjbWrwRk2Gf98jvvOdPjxl",
      "include_colab_link": true
    },
    "kernelspec": {
      "name": "python3",
      "display_name": "Python 3"
    },
    "language_info": {
      "name": "python"
    }
  },
  "cells": [
    {
      "cell_type": "markdown",
      "metadata": {
        "id": "view-in-github",
        "colab_type": "text"
      },
      "source": [
        "<a href=\"https://colab.research.google.com/github/LeandroCoelhos/estudos_datascience/blob/main/Regress%C3%A3o_Linear/Regress%C3%A3o_Linear.ipynb\" target=\"_parent\"><img src=\"https://colab.research.google.com/assets/colab-badge.svg\" alt=\"Open In Colab\"/></a>"
      ]
    },
    {
      "cell_type": "markdown",
      "source": [
        "# Regressão Linear\n"
      ],
      "metadata": {
        "id": "a4-xCB3v6Sks"
      }
    },
    {
      "cell_type": "code",
      "execution_count": null,
      "metadata": {
        "id": "oOUeArVe6M_e"
      },
      "outputs": [],
      "source": [
        "import pandas as pd\n",
        "import numpy as np\n",
        "import matplotlib.pyplot as plt"
      ]
    },
    {
      "cell_type": "code",
      "source": [
        "#OPCIONAL: ajusta o html do jupter centralizando os outputs de imagens nas células\n",
        "\n",
        "import warnings\n",
        "warnings.filterwarnings('ignore')\n",
        "\n",
        "from IPython.core.display import HTML\n",
        "HTML(\"\"\" \n",
        "<style>\n",
        ".output_png {\n",
        "  display: table-cell;\n",
        "  text-align: center;\n",
        "  vertical-align: middle;\n",
        "}\n",
        "</style>\n",
        "    \n",
        "\"\"\")\n"
      ],
      "metadata": {
        "colab": {
          "base_uri": "https://localhost:8080/",
          "height": 17
        },
        "id": "OkNqebMN6fW0",
        "outputId": "dfae5f95-3fbc-4463-887d-df14d8a36ac7"
      },
      "execution_count": null,
      "outputs": [
        {
          "output_type": "execute_result",
          "data": {
            "text/plain": [
              "<IPython.core.display.HTML object>"
            ],
            "text/html": [
              " \n",
              "<style>\n",
              ".output_png {\n",
              "  display: table-cell;\n",
              "  text-align: center;\n",
              "  vertical-align: middle;\n",
              "}\n",
              "</style>\n",
              "    \n"
            ]
          },
          "metadata": {},
          "execution_count": 2
        }
      ]
    },
    {
      "cell_type": "code",
      "source": [
        "X = np.array([2,6,8,8,12,16,20,20,22,26]).reshape(-1,1)\n",
        "Y = np.array([58,105,88,118,117,137,157,169,149,202])"
      ],
      "metadata": {
        "id": "WaHxU54E7HzH"
      },
      "execution_count": null,
      "outputs": []
    },
    {
      "cell_type": "markdown",
      "source": [
        "Vamos contruir uma hipótese que relacione Y com X linearmente, da forma Y = ax + b"
      ],
      "metadata": {
        "id": "5kRw43UF7-b_"
      }
    },
    {
      "cell_type": "code",
      "source": [
        "from sklearn.linear_model import LinearRegression"
      ],
      "metadata": {
        "id": "yjh77big74xl"
      },
      "execution_count": null,
      "outputs": []
    },
    {
      "cell_type": "code",
      "source": [
        "lr = LinearRegression()"
      ],
      "metadata": {
        "id": "6mkwI1Nn8SxM"
      },
      "execution_count": null,
      "outputs": []
    },
    {
      "cell_type": "code",
      "source": [
        "lr.fit(X, Y)"
      ],
      "metadata": {
        "colab": {
          "base_uri": "https://localhost:8080/"
        },
        "id": "pfqKnnGV8Xy9",
        "outputId": "30054b84-8a2f-40e5-b4e5-caacebe9f618"
      },
      "execution_count": null,
      "outputs": [
        {
          "output_type": "execute_result",
          "data": {
            "text/plain": [
              "LinearRegression()"
            ]
          },
          "metadata": {},
          "execution_count": 6
        }
      ]
    },
    {
      "cell_type": "markdown",
      "source": [
        "Mostrando os coeficientes encontrados pela regressão"
      ],
      "metadata": {
        "id": "HKVHVGGM8v6P"
      }
    },
    {
      "cell_type": "code",
      "source": [
        "print(lr.coef_)\n",
        "print(lr.intercept_)\n",
        "\n",
        "print( f'\\nModelo: y = {lr.coef_[0]} x + {lr.intercept_}')"
      ],
      "metadata": {
        "colab": {
          "base_uri": "https://localhost:8080/"
        },
        "id": "z2vlndP98aqX",
        "outputId": "2671e1c5-cb17-47ad-a44d-8f0a44fad008"
      },
      "execution_count": null,
      "outputs": [
        {
          "output_type": "stream",
          "name": "stdout",
          "text": [
            "[5.]\n",
            "60.0\n",
            "\n",
            "Modelo: y = 5.0 x + 60.0\n"
          ]
        }
      ]
    },
    {
      "cell_type": "markdown",
      "source": [
        "Mostrando diferença do real e do predito pelo nosso modelo"
      ],
      "metadata": {
        "id": "47AmNx4b9Dfy"
      }
    },
    {
      "cell_type": "code",
      "source": [
        "df = pd.DataFrame(X, columns =['Variavel Explicativa'])\n",
        "df['Real'] = Y\n",
        "df['Previsto'] = lr.predict(X)\n",
        "df"
      ],
      "metadata": {
        "colab": {
          "base_uri": "https://localhost:8080/",
          "height": 363
        },
        "id": "AOsQiomV80R7",
        "outputId": "44da16a1-11d8-436f-f402-faa86893a668"
      },
      "execution_count": null,
      "outputs": [
        {
          "output_type": "execute_result",
          "data": {
            "text/plain": [
              "   Variavel Explicativa  Real  Previsto\n",
              "0                     2    58      70.0\n",
              "1                     6   105      90.0\n",
              "2                     8    88     100.0\n",
              "3                     8   118     100.0\n",
              "4                    12   117     120.0\n",
              "5                    16   137     140.0\n",
              "6                    20   157     160.0\n",
              "7                    20   169     160.0\n",
              "8                    22   149     170.0\n",
              "9                    26   202     190.0"
            ],
            "text/html": [
              "\n",
              "  <div id=\"df-21d51654-4b68-42e8-b7ac-47ba03baa1aa\">\n",
              "    <div class=\"colab-df-container\">\n",
              "      <div>\n",
              "<style scoped>\n",
              "    .dataframe tbody tr th:only-of-type {\n",
              "        vertical-align: middle;\n",
              "    }\n",
              "\n",
              "    .dataframe tbody tr th {\n",
              "        vertical-align: top;\n",
              "    }\n",
              "\n",
              "    .dataframe thead th {\n",
              "        text-align: right;\n",
              "    }\n",
              "</style>\n",
              "<table border=\"1\" class=\"dataframe\">\n",
              "  <thead>\n",
              "    <tr style=\"text-align: right;\">\n",
              "      <th></th>\n",
              "      <th>Variavel Explicativa</th>\n",
              "      <th>Real</th>\n",
              "      <th>Previsto</th>\n",
              "    </tr>\n",
              "  </thead>\n",
              "  <tbody>\n",
              "    <tr>\n",
              "      <th>0</th>\n",
              "      <td>2</td>\n",
              "      <td>58</td>\n",
              "      <td>70.0</td>\n",
              "    </tr>\n",
              "    <tr>\n",
              "      <th>1</th>\n",
              "      <td>6</td>\n",
              "      <td>105</td>\n",
              "      <td>90.0</td>\n",
              "    </tr>\n",
              "    <tr>\n",
              "      <th>2</th>\n",
              "      <td>8</td>\n",
              "      <td>88</td>\n",
              "      <td>100.0</td>\n",
              "    </tr>\n",
              "    <tr>\n",
              "      <th>3</th>\n",
              "      <td>8</td>\n",
              "      <td>118</td>\n",
              "      <td>100.0</td>\n",
              "    </tr>\n",
              "    <tr>\n",
              "      <th>4</th>\n",
              "      <td>12</td>\n",
              "      <td>117</td>\n",
              "      <td>120.0</td>\n",
              "    </tr>\n",
              "    <tr>\n",
              "      <th>5</th>\n",
              "      <td>16</td>\n",
              "      <td>137</td>\n",
              "      <td>140.0</td>\n",
              "    </tr>\n",
              "    <tr>\n",
              "      <th>6</th>\n",
              "      <td>20</td>\n",
              "      <td>157</td>\n",
              "      <td>160.0</td>\n",
              "    </tr>\n",
              "    <tr>\n",
              "      <th>7</th>\n",
              "      <td>20</td>\n",
              "      <td>169</td>\n",
              "      <td>160.0</td>\n",
              "    </tr>\n",
              "    <tr>\n",
              "      <th>8</th>\n",
              "      <td>22</td>\n",
              "      <td>149</td>\n",
              "      <td>170.0</td>\n",
              "    </tr>\n",
              "    <tr>\n",
              "      <th>9</th>\n",
              "      <td>26</td>\n",
              "      <td>202</td>\n",
              "      <td>190.0</td>\n",
              "    </tr>\n",
              "  </tbody>\n",
              "</table>\n",
              "</div>\n",
              "      <button class=\"colab-df-convert\" onclick=\"convertToInteractive('df-21d51654-4b68-42e8-b7ac-47ba03baa1aa')\"\n",
              "              title=\"Convert this dataframe to an interactive table.\"\n",
              "              style=\"display:none;\">\n",
              "        \n",
              "  <svg xmlns=\"http://www.w3.org/2000/svg\" height=\"24px\"viewBox=\"0 0 24 24\"\n",
              "       width=\"24px\">\n",
              "    <path d=\"M0 0h24v24H0V0z\" fill=\"none\"/>\n",
              "    <path d=\"M18.56 5.44l.94 2.06.94-2.06 2.06-.94-2.06-.94-.94-2.06-.94 2.06-2.06.94zm-11 1L8.5 8.5l.94-2.06 2.06-.94-2.06-.94L8.5 2.5l-.94 2.06-2.06.94zm10 10l.94 2.06.94-2.06 2.06-.94-2.06-.94-.94-2.06-.94 2.06-2.06.94z\"/><path d=\"M17.41 7.96l-1.37-1.37c-.4-.4-.92-.59-1.43-.59-.52 0-1.04.2-1.43.59L10.3 9.45l-7.72 7.72c-.78.78-.78 2.05 0 2.83L4 21.41c.39.39.9.59 1.41.59.51 0 1.02-.2 1.41-.59l7.78-7.78 2.81-2.81c.8-.78.8-2.07 0-2.86zM5.41 20L4 18.59l7.72-7.72 1.47 1.35L5.41 20z\"/>\n",
              "  </svg>\n",
              "      </button>\n",
              "      \n",
              "  <style>\n",
              "    .colab-df-container {\n",
              "      display:flex;\n",
              "      flex-wrap:wrap;\n",
              "      gap: 12px;\n",
              "    }\n",
              "\n",
              "    .colab-df-convert {\n",
              "      background-color: #E8F0FE;\n",
              "      border: none;\n",
              "      border-radius: 50%;\n",
              "      cursor: pointer;\n",
              "      display: none;\n",
              "      fill: #1967D2;\n",
              "      height: 32px;\n",
              "      padding: 0 0 0 0;\n",
              "      width: 32px;\n",
              "    }\n",
              "\n",
              "    .colab-df-convert:hover {\n",
              "      background-color: #E2EBFA;\n",
              "      box-shadow: 0px 1px 2px rgba(60, 64, 67, 0.3), 0px 1px 3px 1px rgba(60, 64, 67, 0.15);\n",
              "      fill: #174EA6;\n",
              "    }\n",
              "\n",
              "    [theme=dark] .colab-df-convert {\n",
              "      background-color: #3B4455;\n",
              "      fill: #D2E3FC;\n",
              "    }\n",
              "\n",
              "    [theme=dark] .colab-df-convert:hover {\n",
              "      background-color: #434B5C;\n",
              "      box-shadow: 0px 1px 3px 1px rgba(0, 0, 0, 0.15);\n",
              "      filter: drop-shadow(0px 1px 2px rgba(0, 0, 0, 0.3));\n",
              "      fill: #FFFFFF;\n",
              "    }\n",
              "  </style>\n",
              "\n",
              "      <script>\n",
              "        const buttonEl =\n",
              "          document.querySelector('#df-21d51654-4b68-42e8-b7ac-47ba03baa1aa button.colab-df-convert');\n",
              "        buttonEl.style.display =\n",
              "          google.colab.kernel.accessAllowed ? 'block' : 'none';\n",
              "\n",
              "        async function convertToInteractive(key) {\n",
              "          const element = document.querySelector('#df-21d51654-4b68-42e8-b7ac-47ba03baa1aa');\n",
              "          const dataTable =\n",
              "            await google.colab.kernel.invokeFunction('convertToInteractive',\n",
              "                                                     [key], {});\n",
              "          if (!dataTable) return;\n",
              "\n",
              "          const docLinkHtml = 'Like what you see? Visit the ' +\n",
              "            '<a target=\"_blank\" href=https://colab.research.google.com/notebooks/data_table.ipynb>data table notebook</a>'\n",
              "            + ' to learn more about interactive tables.';\n",
              "          element.innerHTML = '';\n",
              "          dataTable['output_type'] = 'display_data';\n",
              "          await google.colab.output.renderOutput(dataTable, element);\n",
              "          const docLink = document.createElement('div');\n",
              "          docLink.innerHTML = docLinkHtml;\n",
              "          element.appendChild(docLink);\n",
              "        }\n",
              "      </script>\n",
              "    </div>\n",
              "  </div>\n",
              "  "
            ]
          },
          "metadata": {},
          "execution_count": 8
        }
      ]
    },
    {
      "cell_type": "markdown",
      "source": [
        "No gráfico abaixo, conseguimos vizualizar os pontos do nosso conjunto de dados e a reta que melhor relaciona os pontos."
      ],
      "metadata": {
        "id": "tvHnr3lv-KG0"
      }
    },
    {
      "cell_type": "code",
      "source": [
        "plt.figure(figsize=(8,6), dpi=100)\n",
        "\n",
        "x = np.arange(min(X), max(X)+1, 1).reshape(-1,1)\n",
        "plt.plot(x, lr.predict(x), label = 'a = '+str(lr.coef_[0])+' e b = '+str(lr.intercept_))\n",
        "\n",
        "plt.scatter(X, Y, c='k')\n",
        "plt.scatter(X,lr.predict(X), color = 'blue')\n",
        "\n",
        "plt.xlabel('x')\n",
        "plt.ylabel('y')\n",
        "plt.legend()\n",
        "plt.show()"
      ],
      "metadata": {
        "colab": {
          "base_uri": "https://localhost:8080/",
          "height": 533
        },
        "id": "b_PErjQp9SkS",
        "outputId": "2529654c-570c-4371-db92-8fadd4f3eb36"
      },
      "execution_count": null,
      "outputs": [
        {
          "output_type": "display_data",
          "data": {
            "text/plain": [
              "<Figure size 800x600 with 1 Axes>"
            ],
            "image/png": "[encoded data removed]"
          },
          "metadata": {
            "needs_background": "light"
          }
        }
      ]
    },
    {
      "cell_type": "markdown",
      "source": [
        "## Exemplo com mais variáveis explicativas"
      ],
      "metadata": {
        "id": "eMxbcTOq-dPP"
      }
    },
    {
      "cell_type": "code",
      "source": [
        "from sklearn.datasets import make_regression\n",
        "#Criar conjunto de dados de uma regressão ficticia\n",
        "X_big, Y_big_real = make_regression(n_samples=200, n_features=10, n_informative=5, noise=30, tail_strength=0.3, random_state=42)"
      ],
      "metadata": {
        "id": "lOqRpT5m-jM1"
      },
      "execution_count": null,
      "outputs": []
    },
    {
      "cell_type": "code",
      "source": [
        "lr_big = LinearRegression()\n",
        "lr_big.fit(X_big, Y_big_real)"
      ],
      "metadata": {
        "colab": {
          "base_uri": "https://localhost:8080/"
        },
        "id": "_vaptbkT_Fsv",
        "outputId": "c99ab0c2-4407-4bf6-d475-1f2c8299148c"
      },
      "execution_count": null,
      "outputs": [
        {
          "output_type": "execute_result",
          "data": {
            "text/plain": [
              "LinearRegression()"
            ]
          },
          "metadata": {},
          "execution_count": 11
        }
      ]
    },
    {
      "cell_type": "code",
      "source": [
        "print('Coeficientes: ', lr_big.intercept_, lr_big.coef_)"
      ],
      "metadata": {
        "colab": {
          "base_uri": "https://localhost:8080/"
        },
        "id": "yuygj71P_PTl",
        "outputId": "2f533bd0-6936-4fc2-c1db-7cfb5529fa34"
      },
      "execution_count": null,
      "outputs": [
        {
          "output_type": "stream",
          "name": "stdout",
          "text": [
            "Coeficientes:  -3.442161118856454 [ 1.53504458 -1.59908847  7.68307896 80.58345008  1.65002134 36.45262863\n",
            "  9.99969291 41.01975588  1.56709946 -1.20620528]\n"
          ]
        }
      ]
    },
    {
      "cell_type": "code",
      "source": [
        "Y_big_previsto = lr_big.predict(X_big)\n",
        "df_big = pd.DataFrame(list(X_big), columns=['Variável '+str(i) for i in range(len(X_big[0]))])\n",
        "df_big['Real'] = Y_big_real\n",
        "df_big['Previsto'] = Y_big_previsto\n",
        "df_big"
      ],
      "metadata": {
        "colab": {
          "base_uri": "https://localhost:8080/",
          "height": 505
        },
        "id": "atAGrjVj_W8_",
        "outputId": "73e3e9f6-2ac2-48be-8be6-a65ce62b34b4"
      },
      "execution_count": null,
      "outputs": [
        {
          "output_type": "execute_result",
          "data": {
            "text/plain": [
              "     Variável 0  Variável 1  Variável 2  Variável 3  Variável 4  Variável 5  \\\n",
              "0      1.262584    0.932591   -0.399636    0.224685   -1.760809    1.726964   \n",
              "1     -0.295480   -0.370011   -0.109610   -0.088363    1.598647   -0.436386   \n",
              "2     -0.692421   -1.320023    0.194607   -0.742471   -0.037037   -0.622649   \n",
              "3     -1.406661   -0.725744    0.026091    0.517659   -0.755383   -0.624819   \n",
              "4     -2.872262   -1.594703   -0.147603   -0.466037   -0.532701    0.323168   \n",
              "..          ...         ...         ...         ...         ...         ...   \n",
              "195   -0.410814   -1.662492   -1.748532    1.304340    1.126705    0.793489   \n",
              "196   -0.894607   -0.309172   -0.462275   -0.434496   -0.478749    0.096121   \n",
              "197   -0.576904    0.150394   -0.525755   -0.759133    1.876171   -2.123896   \n",
              "198   -0.974529   -0.241258    1.109700    0.409819    1.899882    0.634721   \n",
              "199    0.696206   -0.272724   -1.503143   -0.245743   -0.054295   -0.259591   \n",
              "\n",
              "     Variável 6  Variável 7  Variável 8  Variável 9        Real    Previsto  \n",
              "0     -0.372833    0.722381   -1.525656   -1.418366   81.047593   97.310775  \n",
              "1      0.006422    0.546284    0.560919   -0.258796    3.413128   -0.872555  \n",
              "2      1.695051    0.043602   -0.429302   -0.611769 -123.438372  -64.684488  \n",
              "3     -1.279577   -1.840874   -0.611518    0.186767  -76.199271  -76.039565  \n",
              "4     -1.768439    0.140886   -1.169917    0.513600    8.419654  -47.446281  \n",
              "..          ...         ...         ...         ...         ...         ...  \n",
              "195    0.810808   -0.134309   -1.090966    1.032546  100.862559  120.687064  \n",
              "196   -0.516045    0.938284    1.255756    0.222134  -45.348515   -5.144183  \n",
              "197   -0.599393   -0.839722    0.950424    0.341756 -214.088367 -183.468780  \n",
              "198    0.489187    0.350630   -0.132634    0.672574   85.198420   81.525680  \n",
              "199    1.669022   -0.335785   -0.230935   -2.696887   -1.190970  -37.034311  \n",
              "\n",
              "[200 rows x 12 columns]"
            ],
            "text/html": [
              "\n",
              "  <div id=\"df-80268ef3-7a92-419d-984f-dfdd38805425\">\n",
              "    <div class=\"colab-df-container\">\n",
              "      <div>\n",
              "<style scoped>\n",
              "    .dataframe tbody tr th:only-of-type {\n",
              "        vertical-align: middle;\n",
              "    }\n",
              "\n",
              "    .dataframe tbody tr th {\n",
              "        vertical-align: top;\n",
              "    }\n",
              "\n",
              "    .dataframe thead th {\n",
              "        text-align: right;\n",
              "    }\n",
              "</style>\n",
              "<table border=\"1\" class=\"dataframe\">\n",
              "  <thead>\n",
              "    <tr style=\"text-align: right;\">\n",
              "      <th></th>\n",
              "      <th>Variável 0</th>\n",
              "      <th>Variável 1</th>\n",
              "      <th>Variável 2</th>\n",
              "      <th>Variável 3</th>\n",
              "      <th>Variável 4</th>\n",
              "      <th>Variável 5</th>\n",
              "      <th>Variável 6</th>\n",
              "      <th>Variável 7</th>\n",
              "      <th>Variável 8</th>\n",
              "      <th>Variável 9</th>\n",
              "      <th>Real</th>\n",
              "      <th>Previsto</th>\n",
              "    </tr>\n",
              "  </thead>\n",
              "  <tbody>\n",
              "    <tr>\n",
              "      <th>0</th>\n",
              "      <td>1.262584</td>\n",
              "      <td>0.932591</td>\n",
              "      <td>-0.399636</td>\n",
              "      <td>0.224685</td>\n",
              "      <td>-1.760809</td>\n",
              "      <td>1.726964</td>\n",
              "      <td>-0.372833</td>\n",
              "      <td>0.722381</td>\n",
              "      <td>-1.525656</td>\n",
              "      <td>-1.418366</td>\n",
              "      <td>81.047593</td>\n",
              "      <td>97.310775</td>\n",
              "    </tr>\n",
              "    <tr>\n",
              "      <th>1</th>\n",
              "      <td>-0.295480</td>\n",
              "      <td>-0.370011</td>\n",
              "      <td>-0.109610</td>\n",
              "      <td>-0.088363</td>\n",
              "      <td>1.598647</td>\n",
              "      <td>-0.436386</td>\n",
              "      <td>0.006422</td>\n",
              "      <td>0.546284</td>\n",
              "      <td>0.560919</td>\n",
              "      <td>-0.258796</td>\n",
              "      <td>3.413128</td>\n",
              "      <td>-0.872555</td>\n",
              "    </tr>\n",
              "    <tr>\n",
              "      <th>2</th>\n",
              "      <td>-0.692421</td>\n",
              "      <td>-1.320023</td>\n",
              "      <td>0.194607</td>\n",
              "      <td>-0.742471</td>\n",
              "      <td>-0.037037</td>\n",
              "      <td>-0.622649</td>\n",
              "      <td>1.695051</td>\n",
              "      <td>0.043602</td>\n",
              "      <td>-0.429302</td>\n",
              "      <td>-0.611769</td>\n",
              "      <td>-123.438372</td>\n",
              "      <td>-64.684488</td>\n",
              "    </tr>\n",
              "    <tr>\n",
              "      <th>3</th>\n",
              "      <td>-1.406661</td>\n",
              "      <td>-0.725744</td>\n",
              "      <td>0.026091</td>\n",
              "      <td>0.517659</td>\n",
              "      <td>-0.755383</td>\n",
              "      <td>-0.624819</td>\n",
              "      <td>-1.279577</td>\n",
              "      <td>-1.840874</td>\n",
              "      <td>-0.611518</td>\n",
              "      <td>0.186767</td>\n",
              "      <td>-76.199271</td>\n",
              "      <td>-76.039565</td>\n",
              "    </tr>\n",
              "    <tr>\n",
              "      <th>4</th>\n",
              "      <td>-2.872262</td>\n",
              "      <td>-1.594703</td>\n",
              "      <td>-0.147603</td>\n",
              "      <td>-0.466037</td>\n",
              "      <td>-0.532701</td>\n",
              "      <td>0.323168</td>\n",
              "      <td>-1.768439</td>\n",
              "      <td>0.140886</td>\n",
              "      <td>-1.169917</td>\n",
              "      <td>0.513600</td>\n",
              "      <td>8.419654</td>\n",
              "      <td>-47.446281</td>\n",
              "    </tr>\n",
              "    <tr>\n",
              "      <th>...</th>\n",
              "      <td>...</td>\n",
              "      <td>...</td>\n",
              "      <td>...</td>\n",
              "      <td>...</td>\n",
              "      <td>...</td>\n",
              "      <td>...</td>\n",
              "      <td>...</td>\n",
              "      <td>...</td>\n",
              "      <td>...</td>\n",
              "      <td>...</td>\n",
              "      <td>...</td>\n",
              "      <td>...</td>\n",
              "    </tr>\n",
              "    <tr>\n",
              "      <th>195</th>\n",
              "      <td>-0.410814</td>\n",
              "      <td>-1.662492</td>\n",
              "      <td>-1.748532</td>\n",
              "      <td>1.304340</td>\n",
              "      <td>1.126705</td>\n",
              "      <td>0.793489</td>\n",
              "      <td>0.810808</td>\n",
              "      <td>-0.134309</td>\n",
              "      <td>-1.090966</td>\n",
              "      <td>1.032546</td>\n",
              "      <td>100.862559</td>\n",
              "      <td>120.687064</td>\n",
              "    </tr>\n",
              "    <tr>\n",
              "      <th>196</th>\n",
              "      <td>-0.894607</td>\n",
              "      <td>-0.309172</td>\n",
              "      <td>-0.462275</td>\n",
              "      <td>-0.434496</td>\n",
              "      <td>-0.478749</td>\n",
              "      <td>0.096121</td>\n",
              "      <td>-0.516045</td>\n",
              "      <td>0.938284</td>\n",
              "      <td>1.255756</td>\n",
              "      <td>0.222134</td>\n",
              "      <td>-45.348515</td>\n",
              "      <td>-5.144183</td>\n",
              "    </tr>\n",
              "    <tr>\n",
              "      <th>197</th>\n",
              "      <td>-0.576904</td>\n",
              "      <td>0.150394</td>\n",
              "      <td>-0.525755</td>\n",
              "      <td>-0.759133</td>\n",
              "      <td>1.876171</td>\n",
              "      <td>-2.123896</td>\n",
              "      <td>-0.599393</td>\n",
              "      <td>-0.839722</td>\n",
              "      <td>0.950424</td>\n",
              "      <td>0.341756</td>\n",
              "      <td>-214.088367</td>\n",
              "      <td>-183.468780</td>\n",
              "    </tr>\n",
              "    <tr>\n",
              "      <th>198</th>\n",
              "      <td>-0.974529</td>\n",
              "      <td>-0.241258</td>\n",
              "      <td>1.109700</td>\n",
              "      <td>0.409819</td>\n",
              "      <td>1.899882</td>\n",
              "      <td>0.634721</td>\n",
              "      <td>0.489187</td>\n",
              "      <td>0.350630</td>\n",
              "      <td>-0.132634</td>\n",
              "      <td>0.672574</td>\n",
              "      <td>85.198420</td>\n",
              "      <td>81.525680</td>\n",
              "    </tr>\n",
              "    <tr>\n",
              "      <th>199</th>\n",
              "      <td>0.696206</td>\n",
              "      <td>-0.272724</td>\n",
              "      <td>-1.503143</td>\n",
              "      <td>-0.245743</td>\n",
              "      <td>-0.054295</td>\n",
              "      <td>-0.259591</td>\n",
              "      <td>1.669022</td>\n",
              "      <td>-0.335785</td>\n",
              "      <td>-0.230935</td>\n",
              "      <td>-2.696887</td>\n",
              "      <td>-1.190970</td>\n",
              "      <td>-37.034311</td>\n",
              "    </tr>\n",
              "  </tbody>\n",
              "</table>\n",
              "<p>200 rows × 12 columns</p>\n",
              "</div>\n",
              "      <button class=\"colab-df-convert\" onclick=\"convertToInteractive('df-80268ef3-7a92-419d-984f-dfdd38805425')\"\n",
              "              title=\"Convert this dataframe to an interactive table.\"\n",
              "              style=\"display:none;\">\n",
              "        \n",
              "  <svg xmlns=\"http://www.w3.org/2000/svg\" height=\"24px\"viewBox=\"0 0 24 24\"\n",
              "       width=\"24px\">\n",
              "    <path d=\"M0 0h24v24H0V0z\" fill=\"none\"/>\n",
              "    <path d=\"M18.56 5.44l.94 2.06.94-2.06 2.06-.94-2.06-.94-.94-2.06-.94 2.06-2.06.94zm-11 1L8.5 8.5l.94-2.06 2.06-.94-2.06-.94L8.5 2.5l-.94 2.06-2.06.94zm10 10l.94 2.06.94-2.06 2.06-.94-2.06-.94-.94-2.06-.94 2.06-2.06.94z\"/><path d=\"M17.41 7.96l-1.37-1.37c-.4-.4-.92-.59-1.43-.59-.52 0-1.04.2-1.43.59L10.3 9.45l-7.72 7.72c-.78.78-.78 2.05 0 2.83L4 21.41c.39.39.9.59 1.41.59.51 0 1.02-.2 1.41-.59l7.78-7.78 2.81-2.81c.8-.78.8-2.07 0-2.86zM5.41 20L4 18.59l7.72-7.72 1.47 1.35L5.41 20z\"/>\n",
              "  </svg>\n",
              "      </button>\n",
              "      \n",
              "  <style>\n",
              "    .colab-df-container {\n",
              "      display:flex;\n",
              "      flex-wrap:wrap;\n",
              "      gap: 12px;\n",
              "    }\n",
              "\n",
              "    .colab-df-convert {\n",
              "      background-color: #E8F0FE;\n",
              "      border: none;\n",
              "      border-radius: 50%;\n",
              "      cursor: pointer;\n",
              "      display: none;\n",
              "      fill: #1967D2;\n",
              "      height: 32px;\n",
              "      padding: 0 0 0 0;\n",
              "      width: 32px;\n",
              "    }\n",
              "\n",
              "    .colab-df-convert:hover {\n",
              "      background-color: #E2EBFA;\n",
              "      box-shadow: 0px 1px 2px rgba(60, 64, 67, 0.3), 0px 1px 3px 1px rgba(60, 64, 67, 0.15);\n",
              "      fill: #174EA6;\n",
              "    }\n",
              "\n",
              "    [theme=dark] .colab-df-convert {\n",
              "      background-color: #3B4455;\n",
              "      fill: #D2E3FC;\n",
              "    }\n",
              "\n",
              "    [theme=dark] .colab-df-convert:hover {\n",
              "      background-color: #434B5C;\n",
              "      box-shadow: 0px 1px 3px 1px rgba(0, 0, 0, 0.15);\n",
              "      filter: drop-shadow(0px 1px 2px rgba(0, 0, 0, 0.3));\n",
              "      fill: #FFFFFF;\n",
              "    }\n",
              "  </style>\n",
              "\n",
              "      <script>\n",
              "        const buttonEl =\n",
              "          document.querySelector('#df-80268ef3-7a92-419d-984f-dfdd38805425 button.colab-df-convert');\n",
              "        buttonEl.style.display =\n",
              "          google.colab.kernel.accessAllowed ? 'block' : 'none';\n",
              "\n",
              "        async function convertToInteractive(key) {\n",
              "          const element = document.querySelector('#df-80268ef3-7a92-419d-984f-dfdd38805425');\n",
              "          const dataTable =\n",
              "            await google.colab.kernel.invokeFunction('convertToInteractive',\n",
              "                                                     [key], {});\n",
              "          if (!dataTable) return;\n",
              "\n",
              "          const docLinkHtml = 'Like what you see? Visit the ' +\n",
              "            '<a target=\"_blank\" href=https://colab.research.google.com/notebooks/data_table.ipynb>data table notebook</a>'\n",
              "            + ' to learn more about interactive tables.';\n",
              "          element.innerHTML = '';\n",
              "          dataTable['output_type'] = 'display_data';\n",
              "          await google.colab.output.renderOutput(dataTable, element);\n",
              "          const docLink = document.createElement('div');\n",
              "          docLink.innerHTML = docLinkHtml;\n",
              "          element.appendChild(docLink);\n",
              "        }\n",
              "      </script>\n",
              "    </div>\n",
              "  </div>\n",
              "  "
            ]
          },
          "metadata": {},
          "execution_count": 13
        }
      ]
    },
    {
      "cell_type": "markdown",
      "source": [
        "#Métricas"
      ],
      "metadata": {
        "id": "ctCCwDzuCzVB"
      }
    },
    {
      "cell_type": "markdown",
      "source": [
        "Queremos formas de identificar se um modelo de regressão está bom ou ruim. Essas métricas são independentes do estilo de modelo utilizado, por isso vamos voltar com a nomeclatura\n",
        "\n",
        "$$(x_1,\\cdots,x_n). $$"
      ],
      "metadata": {
        "id": "k95WEvdPW3fm"
      }
    },
    {
      "cell_type": "markdown",
      "source": [
        "Novamente, com um conjunto de dados\n",
        "\n",
        "$$ S = \\{ (x_{1,1}, x_{1,2}, \\cdots, x_{1,n}, y_1), (x_{2,1}, x_{2,2}, \\cdots, x_{2,n}, y_2), \\cdots, (x_{N,1}, x_{N,2}, \\cdots x_{N,n},y_N) \\} ,$$\n",
        "\n",
        "dizemos que o **erro quadrático médio** ou **mean squared error (MSE)** de um regressor $h$ no conjunto de dados $S$ é dado por \n",
        "\n",
        "$$ \\textrm{MSE}(h,S) = \\frac{1}{N} \\sum{1=1}^N \\left( h(x_{i,1}, x_{i,2}, \\cdots, x_{i,n}) - y_i \\right)^2 = \\frac{1}{N} \\sum_{i=1}^N \\left( \\widehat{y}_i - y_i \\right)^2 ,$$\n",
        "\n",
        "em que $\\widehat{y}_i = h(x_{i,1}, x_{i,2}, \\cdots, x_{i,n})$ é a previsão do regressor $h$ para o exemplo $i$ do conjunto de dados $S$.\n",
        "\n",
        "Essa era a métrica que estávamos otimizando no mínimos quadrados (a menos de um fator constante)!"
      ],
      "metadata": {
        "id": "m-L2Gt5VXJae"
      }
    },
    {
      "cell_type": "code",
      "source": [
        ""
      ],
      "metadata": {
        "id": "hO8P2Bw6kGoC"
      },
      "execution_count": null,
      "outputs": []
    },
    {
      "cell_type": "code",
      "source": [
        "from sklearn.metrics import mean_squared_error, r2_score, mean_absolute_error"
      ],
      "metadata": {
        "id": "D-nqBqobC0t0"
      },
      "execution_count": null,
      "outputs": []
    },
    {
      "cell_type": "code",
      "source": [
        "mean_squared_error(Y_big_real, Y_big_previsto)"
      ],
      "metadata": {
        "id": "RYJTIciIC0wh",
        "colab": {
          "base_uri": "https://localhost:8080/"
        },
        "outputId": "6d00e3a1-e5fc-463c-e2d7-5ed1a9793195"
      },
      "execution_count": null,
      "outputs": [
        {
          "output_type": "execute_result",
          "data": {
            "text/plain": [
              "763.2123045705787"
            ]
          },
          "metadata": {},
          "execution_count": 15
        }
      ]
    },
    {
      "cell_type": "markdown",
      "source": [
        "Um problema que surge é: se $y$ tem uma unidade, por exemplo _reais_, o que significa estar errando em méria _763 reais²_? \n",
        "perdemos um pouco a interpretação do nosso erro, nos motivando a criar a a**raiz do erro quadrático médio** ou **root mean sqared error (RMSE)** de um regressor $h$ no conjunto de dados $S$ como\n",
        "\n",
        "$$ \\textrm{RMSE}(h,S) = \\sqrt{\\textrm{MSE}(h,S) } = \\sqrt{ \\frac{1}{N} \\sum_{i=1}^N \\left( \\widehat{y}_i - y_i \\right)^2 } .$$\n",
        "\n",
        "No `sklearn` podemos simplesmente tirar a raíz da métrica com as ferramentas do `numpy`:"
      ],
      "metadata": {
        "id": "vpN-WD-mZ8cR"
      }
    },
    {
      "cell_type": "code",
      "source": [
        "np.sqrt(mean_squared_error(Y_big_real, Y_big_previsto))"
      ],
      "metadata": {
        "id": "J5-aVHTRC0zN",
        "colab": {
          "base_uri": "https://localhost:8080/"
        },
        "outputId": "9b24097d-192a-49d4-e6b9-0cd53821c13e"
      },
      "execution_count": null,
      "outputs": [
        {
          "output_type": "execute_result",
          "data": {
            "text/plain": [
              "27.626297337330218"
            ]
          },
          "metadata": {},
          "execution_count": 16
        }
      ]
    },
    {
      "cell_type": "markdown",
      "source": [
        "Beleza, então temos um RMSE tal. Isso é bom, ruim? Depende muito das propriedades do conjunto de dados e principalmente da escala da target.\n",
        "\n",
        "Sugestão: comparar com um benchmark.\n",
        "\n",
        "**Pergunta*: Qual o bencjmark simples para a regressão? Reformulando: Se eu não pudesse usar nenhum dos atributos e quisesse prever o target, como poderia fazer isso? Se eu quisesse chutar uma constante para os nosso exemplos, qual a meldor contante que podemos usar?"
      ],
      "metadata": {
        "id": "DMBL-IQ7bKyg"
      }
    },
    {
      "cell_type": "markdown",
      "source": [
        "A média $\\bar{y}$ de média dos $y_i$ é uma opção muito boa! Na verdade, a média é a melhor opção constante se queremos minimizar o erro quadrático médio!\n",
        "\n",
        "<p><details>\n",
        "  <summary><b>Demontração.</b></summary>\n",
        "<p>O erro MSE de uma hipótese $h(x_1,\\cdots, x_n) = \\alpha$ constante é dado por \n",
        "\n",
        "$$ \\textrm{MSE}(\\alpha,S) = \\frac{1}{N} \\sum_{i=1}^N \\left(\\alpha - y_i\\right)^2  .$$\n",
        "\n",
        "Derivando em relação a $\\alpha$, temos\n",
        "\n",
        "$$ \\frac{\\partial}{\\partial \\alpha} \\textrm{MSE} (\\alpha, S) = \\frac{2}{N} \\sum_{i=1}^N \\left(\\alpha - y_i\\right) = 0 \\implies \\implies \\alpha = \\frac{1}{N} \\sum_{i=1}^N y_i = \\bar{y} .$$\n",
        "\n",
        "</p>\n",
        "</details></p>\n"
      ],
      "metadata": {
        "id": "uk228hiXbrqQ"
      }
    },
    {
      "cell_type": "markdown",
      "source": [
        "Comparamos então $\\textrm{MSE}(h,S)$ com $ \\textrm{MSE}\\left(\\bar{y}, S\\right)$ definindo a métrica **R²**:\n",
        "\n",
        "$$ R^2 (h,S) = 1 - \\frac{\\textrm{MSE}(h,S)}{\\textrm{MSE}(\\bar{y}, S)} = 1 - \\frac{\\sum_{i=1}^N \\left( \\widehat{y}_i - y_i \\right)^2}{\\sum_{i=1}^N \\left(\\bar{y} - y_i\\right)^2} .$$"
      ],
      "metadata": {
        "id": "a_5gfVvldgOh"
      }
    },
    {
      "cell_type": "markdown",
      "source": [
        "Se o modelo $h$ é bem melhor que a hipótese da média. Então a fração dos erros quadráticos deve ser próxima de $0$ e portanto o R² próximo de $1$.\n",
        "\n",
        "Agora, se o modelo é tão bom quanto a média, sem diminuir o MSE, temos R² próximo de 0. No pior dos casos, se o $h$ tem um erro MSE maior que o erro da média, ficamos com um R² negativo!\n",
        "\n",
        "No `sklearn` fazemos apenas:"
      ],
      "metadata": {
        "id": "xS3nh2iVgE81"
      }
    },
    {
      "cell_type": "code",
      "source": [
        "r2_score(Y_big_real, Y_big_previsto)"
      ],
      "metadata": {
        "colab": {
          "base_uri": "https://localhost:8080/"
        },
        "id": "fQE0KV2igk2M",
        "outputId": "b3f00199-2dcc-4424-a711-b119803ac644"
      },
      "execution_count": null,
      "outputs": [
        {
          "output_type": "execute_result",
          "data": {
            "text/plain": [
              "0.9229757493547153"
            ]
          },
          "metadata": {},
          "execution_count": 17
        }
      ]
    },
    {
      "cell_type": "code",
      "source": [
        "#maneira de calcular na mão\n",
        "1 - mean_squared_error(Y_big_real, Y_big_previsto)/mean_squared_error(Y_big_real, [np.mean(Y_big_real)]*Y_big_real.shape[0])"
      ],
      "metadata": {
        "colab": {
          "base_uri": "https://localhost:8080/"
        },
        "id": "im_PpB1chKlZ",
        "outputId": "5a9a5f94-f4a8-490e-dbb4-6954a6e9de40"
      },
      "execution_count": null,
      "outputs": [
        {
          "output_type": "execute_result",
          "data": {
            "text/plain": [
              "0.9229757493547153"
            ]
          },
          "metadata": {},
          "execution_count": 18
        }
      ]
    },
    {
      "cell_type": "markdown",
      "source": [
        "# ***obs: Vale a pena reparar que otimizar o MSE é equivalente a otimizar o R² ou otimizar o RMSE!***"
      ],
      "metadata": {
        "id": "nN8vQ88Xhjva"
      }
    },
    {
      "cell_type": "markdown",
      "source": [
        "Uma outra forma de medira qualidade de um modelo de regressão é com o **erro absoluto médio** ou **mean absolute error (MAE)** de um regressor $h$ no conjunto de dados $S$ é dado por\n",
        "\n",
        "$$ \\textrm{MAE}(h,S) = \\frac{1}{N} \\sum_{i=1}^N \\left| h(x_i^1, x_i^2, \\cdots, x_i^n) - y_i \\right | = \\frac{1}{N} \\sum_{i=1}^N \\left| \\widehat{y}_i - y_i \\right| .$$"
      ],
      "metadata": {
        "id": "wop3O9ZRhu_K"
      }
    },
    {
      "cell_type": "markdown",
      "source": [
        "O erro absoluto médio nos da uma noção de quanto estamos errando (em valor absoluto) em média. É bem mais intuitiva, mas menos utilizada pois a função módulo |.| não é diferenciavél em 0.\n",
        "\n",
        "Para medir tal erro no `sklearn` fazemos:"
      ],
      "metadata": {
        "id": "lX_dRMdBi_2s"
      }
    },
    {
      "cell_type": "code",
      "source": [
        "mean_absolute_error(Y_big_real, Y_big_previsto)"
      ],
      "metadata": {
        "colab": {
          "base_uri": "https://localhost:8080/"
        },
        "id": "LhCwxpwAij6J",
        "outputId": "dd11ec8e-6d2f-41b1-8110-eaa63a81046d"
      },
      "execution_count": null,
      "outputs": [
        {
          "output_type": "execute_result",
          "data": {
            "text/plain": [
              "21.874317340785474"
            ]
          },
          "metadata": {},
          "execution_count": 19
        }
      ]
    },
    {
      "cell_type": "markdown",
      "source": [
        "Se a gente quisesse fazer um R² análogo, a gente poderia. Temos que achar a melhor contante que minimiza $\\textrm{MSE}(\\alpha,S)$ e depois subistituir."
      ],
      "metadata": {
        "id": "zxifOhf-jad5"
      }
    },
    {
      "cell_type": "code",
      "source": [
        "1 - mean_absolute_error(Y_big_real, Y_big_previsto)/mean_absolute_error(Y_big_real, [np.median(Y_big_real)]*Y_big_real.shape[0])"
      ],
      "metadata": {
        "colab": {
          "base_uri": "https://localhost:8080/"
        },
        "id": "f6WZbAwXhKoa",
        "outputId": "660a5031-b544-4c8c-cc46-2118f25e8479"
      },
      "execution_count": null,
      "outputs": [
        {
          "output_type": "execute_result",
          "data": {
            "text/plain": [
              "0.7266765354040082"
            ]
          },
          "metadata": {},
          "execution_count": 20
        }
      ]
    },
    {
      "cell_type": "markdown",
      "source": [
        "Existem ainda outras formas de métricas de regressão. Podemos, por exemplo, colocar pesos na frente de exemplos importantes que queremos penalizar por error, ou fazer erros relativos, dividindo pelo valor da target e olhando o erro nessa proporção."
      ],
      "metadata": {
        "id": "TYHyJnmekZS-"
      }
    },
    {
      "cell_type": "markdown",
      "source": [
        "# Regressão Polinomial\n",
        "\n",
        "Não temos mais a suposição que nossos dados sigam uma relação linear. Tomamos agora uma relação polinomial que explique nossos dados.\n",
        "\n",
        "A escolha do Grau do polinomio é arbitrária, mas durante a regularização vamos ver formas de contornar este problema de escolha do grau do polinomio."
      ],
      "metadata": {
        "id": "l2_cBg8_C08g"
      }
    },
    {
      "cell_type": "code",
      "source": [
        "X = pd.DataFrame([-6,-7.5,-4,-2.3,-2.5,-1,0,0.5,2,3.45,6.3,5,7.6,9.5,-8.9,-9.5,-8,-3.5,3.4,5.6], columns=['x'])\n",
        "y = [528.9, -182.8, 337.5, 396.3, 414.8, 394.7, 725.9, 362.2, 505.8, 486.6, 128.2, 481.3, 1328.3, 2218.9, -872.8, -1151.1, \n",
        "     -591.2, 601.6, 651.8, 1361.6]"
      ],
      "metadata": {
        "id": "r78qX_qpDUZs"
      },
      "execution_count": null,
      "outputs": []
    },
    {
      "cell_type": "code",
      "source": [
        "X.head()"
      ],
      "metadata": {
        "colab": {
          "base_uri": "https://localhost:8080/",
          "height": 206
        },
        "id": "c8GkrUQ1FdKc",
        "outputId": "598ef43e-498f-4609-f012-1e7281315fdc"
      },
      "execution_count": null,
      "outputs": [
        {
          "output_type": "execute_result",
          "data": {
            "text/plain": [
              "     x\n",
              "0 -6.0\n",
              "1 -7.5\n",
              "2 -4.0\n",
              "3 -2.3\n",
              "4 -2.5"
            ],
            "text/html": [
              "\n",
              "  <div id=\"df-4353a667-f778-41e5-b35d-eafaf45043b2\">\n",
              "    <div class=\"colab-df-container\">\n",
              "      <div>\n",
              "<style scoped>\n",
              "    .dataframe tbody tr th:only-of-type {\n",
              "        vertical-align: middle;\n",
              "    }\n",
              "\n",
              "    .dataframe tbody tr th {\n",
              "        vertical-align: top;\n",
              "    }\n",
              "\n",
              "    .dataframe thead th {\n",
              "        text-align: right;\n",
              "    }\n",
              "</style>\n",
              "<table border=\"1\" class=\"dataframe\">\n",
              "  <thead>\n",
              "    <tr style=\"text-align: right;\">\n",
              "      <th></th>\n",
              "      <th>x</th>\n",
              "    </tr>\n",
              "  </thead>\n",
              "  <tbody>\n",
              "    <tr>\n",
              "      <th>0</th>\n",
              "      <td>-6.0</td>\n",
              "    </tr>\n",
              "    <tr>\n",
              "      <th>1</th>\n",
              "      <td>-7.5</td>\n",
              "    </tr>\n",
              "    <tr>\n",
              "      <th>2</th>\n",
              "      <td>-4.0</td>\n",
              "    </tr>\n",
              "    <tr>\n",
              "      <th>3</th>\n",
              "      <td>-2.3</td>\n",
              "    </tr>\n",
              "    <tr>\n",
              "      <th>4</th>\n",
              "      <td>-2.5</td>\n",
              "    </tr>\n",
              "  </tbody>\n",
              "</table>\n",
              "</div>\n",
              "      <button class=\"colab-df-convert\" onclick=\"convertToInteractive('df-4353a667-f778-41e5-b35d-eafaf45043b2')\"\n",
              "              title=\"Convert this dataframe to an interactive table.\"\n",
              "              style=\"display:none;\">\n",
              "        \n",
              "  <svg xmlns=\"http://www.w3.org/2000/svg\" height=\"24px\"viewBox=\"0 0 24 24\"\n",
              "       width=\"24px\">\n",
              "    <path d=\"M0 0h24v24H0V0z\" fill=\"none\"/>\n",
              "    <path d=\"M18.56 5.44l.94 2.06.94-2.06 2.06-.94-2.06-.94-.94-2.06-.94 2.06-2.06.94zm-11 1L8.5 8.5l.94-2.06 2.06-.94-2.06-.94L8.5 2.5l-.94 2.06-2.06.94zm10 10l.94 2.06.94-2.06 2.06-.94-2.06-.94-.94-2.06-.94 2.06-2.06.94z\"/><path d=\"M17.41 7.96l-1.37-1.37c-.4-.4-.92-.59-1.43-.59-.52 0-1.04.2-1.43.59L10.3 9.45l-7.72 7.72c-.78.78-.78 2.05 0 2.83L4 21.41c.39.39.9.59 1.41.59.51 0 1.02-.2 1.41-.59l7.78-7.78 2.81-2.81c.8-.78.8-2.07 0-2.86zM5.41 20L4 18.59l7.72-7.72 1.47 1.35L5.41 20z\"/>\n",
              "  </svg>\n",
              "      </button>\n",
              "      \n",
              "  <style>\n",
              "    .colab-df-container {\n",
              "      display:flex;\n",
              "      flex-wrap:wrap;\n",
              "      gap: 12px;\n",
              "    }\n",
              "\n",
              "    .colab-df-convert {\n",
              "      background-color: #E8F0FE;\n",
              "      border: none;\n",
              "      border-radius: 50%;\n",
              "      cursor: pointer;\n",
              "      display: none;\n",
              "      fill: #1967D2;\n",
              "      height: 32px;\n",
              "      padding: 0 0 0 0;\n",
              "      width: 32px;\n",
              "    }\n",
              "\n",
              "    .colab-df-convert:hover {\n",
              "      background-color: #E2EBFA;\n",
              "      box-shadow: 0px 1px 2px rgba(60, 64, 67, 0.3), 0px 1px 3px 1px rgba(60, 64, 67, 0.15);\n",
              "      fill: #174EA6;\n",
              "    }\n",
              "\n",
              "    [theme=dark] .colab-df-convert {\n",
              "      background-color: #3B4455;\n",
              "      fill: #D2E3FC;\n",
              "    }\n",
              "\n",
              "    [theme=dark] .colab-df-convert:hover {\n",
              "      background-color: #434B5C;\n",
              "      box-shadow: 0px 1px 3px 1px rgba(0, 0, 0, 0.15);\n",
              "      filter: drop-shadow(0px 1px 2px rgba(0, 0, 0, 0.3));\n",
              "      fill: #FFFFFF;\n",
              "    }\n",
              "  </style>\n",
              "\n",
              "      <script>\n",
              "        const buttonEl =\n",
              "          document.querySelector('#df-4353a667-f778-41e5-b35d-eafaf45043b2 button.colab-df-convert');\n",
              "        buttonEl.style.display =\n",
              "          google.colab.kernel.accessAllowed ? 'block' : 'none';\n",
              "\n",
              "        async function convertToInteractive(key) {\n",
              "          const element = document.querySelector('#df-4353a667-f778-41e5-b35d-eafaf45043b2');\n",
              "          const dataTable =\n",
              "            await google.colab.kernel.invokeFunction('convertToInteractive',\n",
              "                                                     [key], {});\n",
              "          if (!dataTable) return;\n",
              "\n",
              "          const docLinkHtml = 'Like what you see? Visit the ' +\n",
              "            '<a target=\"_blank\" href=https://colab.research.google.com/notebooks/data_table.ipynb>data table notebook</a>'\n",
              "            + ' to learn more about interactive tables.';\n",
              "          element.innerHTML = '';\n",
              "          dataTable['output_type'] = 'display_data';\n",
              "          await google.colab.output.renderOutput(dataTable, element);\n",
              "          const docLink = document.createElement('div');\n",
              "          docLink.innerHTML = docLinkHtml;\n",
              "          element.appendChild(docLink);\n",
              "        }\n",
              "      </script>\n",
              "    </div>\n",
              "  </div>\n",
              "  "
            ]
          },
          "metadata": {},
          "execution_count": 22
        }
      ]
    },
    {
      "cell_type": "code",
      "source": [
        "y[:5]"
      ],
      "metadata": {
        "colab": {
          "base_uri": "https://localhost:8080/"
        },
        "id": "ANU8AK62Fill",
        "outputId": "dc6c0739-29f7-44b8-99fe-6c2648647f6e"
      },
      "execution_count": null,
      "outputs": [
        {
          "output_type": "execute_result",
          "data": {
            "text/plain": [
              "[528.9, -182.8, 337.5, 396.3, 414.8]"
            ]
          },
          "metadata": {},
          "execution_count": 23
        }
      ]
    },
    {
      "cell_type": "code",
      "source": [
        "lr = LinearRegression()\n",
        "lr.fit(X, y)\n",
        "y_pred = lr.predict(X)"
      ],
      "metadata": {
        "id": "nAc5uhoVFlvA"
      },
      "execution_count": null,
      "outputs": []
    },
    {
      "cell_type": "code",
      "source": [
        "plt.figure(figsize=(8,6), dpi=100)\n",
        "plt.plot(X, y_pred)\n",
        "plt.scatter(X.x, y, color='black')\n",
        "plt.xlabel('x')\n",
        "plt.ylabel('y')\n",
        "plt.show()"
      ],
      "metadata": {
        "colab": {
          "base_uri": "https://localhost:8080/",
          "height": 533
        },
        "id": "dniZ-pEWGE8C",
        "outputId": "a06bab33-8acd-4a83-bb58-2cfb4c7ca955"
      },
      "execution_count": null,
      "outputs": [
        {
          "output_type": "display_data",
          "data": {
            "text/plain": [
              "<Figure size 800x600 with 1 Axes>"
            ],
            "image/png": "[encoded data removed]"
          },
          "metadata": {
            "needs_background": "light"
          }
        }
      ]
    },
    {
      "cell_type": "code",
      "source": [
        ""
      ],
      "metadata": {
        "id": "wWUiFx9IGX5Z"
      },
      "execution_count": null,
      "outputs": []
    },
    {
      "cell_type": "markdown",
      "source": [
        "Como o algoritimo sempre tenta encontrar relações lineares entre as variáveis, ele não consegue capturar o padrão mais complexo deste caso específico.\n",
        "\n",
        "Para contornarmos este problema, podemos criar novas features, de modo que a relação ente a nossa variável resposta Y, e as novas features criadas sejam aproximadamente linear. Em geral, um método comum para geração de novas features é aumentar o grau do polinômio, ou seja, utilizar os valores de x², x³ .... como features novas.\n",
        "\n",
        "Para este exemplo vamos crias as novas features x² e x³ e tentar aplicar novamente o algoritimo. Para diferenciar os casos, vamos chamar as features do novo caso de z. Teremos então 3 features\n",
        "\n",
        "$$ z_1 = x $$\n",
        "\n",
        "$$z_2 = x²$$\n",
        "$$z_3 = x³$$\n",
        "\n",
        "E o algoritimo tentará encontrar o hiperplano\n",
        "\n",
        "$$y = a_0 + a_1z_1 + a_2z_2 + a_3z_3$$\n",
        "\n",
        "Note que em relação a z o algoritimo está resolvendo um problema de regressão linear comum."
      ],
      "metadata": {
        "id": "SuK893cnGbJy"
      }
    },
    {
      "cell_type": "code",
      "source": [
        "Z = pd.DataFrame()\n",
        "Z['z1'] = X.x\n",
        "Z['z2'] = X.x**2\n",
        "Z['z3'] = X.x**3\n",
        "Z.head()"
      ],
      "metadata": {
        "colab": {
          "base_uri": "https://localhost:8080/",
          "height": 206
        },
        "id": "COPF6nBgHkVe",
        "outputId": "132b7fbb-2853-4170-ce40-0a6ca5103407"
      },
      "execution_count": null,
      "outputs": [
        {
          "output_type": "execute_result",
          "data": {
            "text/plain": [
              "    z1     z2       z3\n",
              "0 -6.0  36.00 -216.000\n",
              "1 -7.5  56.25 -421.875\n",
              "2 -4.0  16.00  -64.000\n",
              "3 -2.3   5.29  -12.167\n",
              "4 -2.5   6.25  -15.625"
            ],
            "text/html": [
              "\n",
              "  <div id=\"df-a4858306-d173-44e2-9d35-ee19028dfe06\">\n",
              "    <div class=\"colab-df-container\">\n",
              "      <div>\n",
              "<style scoped>\n",
              "    .dataframe tbody tr th:only-of-type {\n",
              "        vertical-align: middle;\n",
              "    }\n",
              "\n",
              "    .dataframe tbody tr th {\n",
              "        vertical-align: top;\n",
              "    }\n",
              "\n",
              "    .dataframe thead th {\n",
              "        text-align: right;\n",
              "    }\n",
              "</style>\n",
              "<table border=\"1\" class=\"dataframe\">\n",
              "  <thead>\n",
              "    <tr style=\"text-align: right;\">\n",
              "      <th></th>\n",
              "      <th>z1</th>\n",
              "      <th>z2</th>\n",
              "      <th>z3</th>\n",
              "    </tr>\n",
              "  </thead>\n",
              "  <tbody>\n",
              "    <tr>\n",
              "      <th>0</th>\n",
              "      <td>-6.0</td>\n",
              "      <td>36.00</td>\n",
              "      <td>-216.000</td>\n",
              "    </tr>\n",
              "    <tr>\n",
              "      <th>1</th>\n",
              "      <td>-7.5</td>\n",
              "      <td>56.25</td>\n",
              "      <td>-421.875</td>\n",
              "    </tr>\n",
              "    <tr>\n",
              "      <th>2</th>\n",
              "      <td>-4.0</td>\n",
              "      <td>16.00</td>\n",
              "      <td>-64.000</td>\n",
              "    </tr>\n",
              "    <tr>\n",
              "      <th>3</th>\n",
              "      <td>-2.3</td>\n",
              "      <td>5.29</td>\n",
              "      <td>-12.167</td>\n",
              "    </tr>\n",
              "    <tr>\n",
              "      <th>4</th>\n",
              "      <td>-2.5</td>\n",
              "      <td>6.25</td>\n",
              "      <td>-15.625</td>\n",
              "    </tr>\n",
              "  </tbody>\n",
              "</table>\n",
              "</div>\n",
              "      <button class=\"colab-df-convert\" onclick=\"convertToInteractive('df-a4858306-d173-44e2-9d35-ee19028dfe06')\"\n",
              "              title=\"Convert this dataframe to an interactive table.\"\n",
              "              style=\"display:none;\">\n",
              "        \n",
              "  <svg xmlns=\"http://www.w3.org/2000/svg\" height=\"24px\"viewBox=\"0 0 24 24\"\n",
              "       width=\"24px\">\n",
              "    <path d=\"M0 0h24v24H0V0z\" fill=\"none\"/>\n",
              "    <path d=\"M18.56 5.44l.94 2.06.94-2.06 2.06-.94-2.06-.94-.94-2.06-.94 2.06-2.06.94zm-11 1L8.5 8.5l.94-2.06 2.06-.94-2.06-.94L8.5 2.5l-.94 2.06-2.06.94zm10 10l.94 2.06.94-2.06 2.06-.94-2.06-.94-.94-2.06-.94 2.06-2.06.94z\"/><path d=\"M17.41 7.96l-1.37-1.37c-.4-.4-.92-.59-1.43-.59-.52 0-1.04.2-1.43.59L10.3 9.45l-7.72 7.72c-.78.78-.78 2.05 0 2.83L4 21.41c.39.39.9.59 1.41.59.51 0 1.02-.2 1.41-.59l7.78-7.78 2.81-2.81c.8-.78.8-2.07 0-2.86zM5.41 20L4 18.59l7.72-7.72 1.47 1.35L5.41 20z\"/>\n",
              "  </svg>\n",
              "      </button>\n",
              "      \n",
              "  <style>\n",
              "    .colab-df-container {\n",
              "      display:flex;\n",
              "      flex-wrap:wrap;\n",
              "      gap: 12px;\n",
              "    }\n",
              "\n",
              "    .colab-df-convert {\n",
              "      background-color: #E8F0FE;\n",
              "      border: none;\n",
              "      border-radius: 50%;\n",
              "      cursor: pointer;\n",
              "      display: none;\n",
              "      fill: #1967D2;\n",
              "      height: 32px;\n",
              "      padding: 0 0 0 0;\n",
              "      width: 32px;\n",
              "    }\n",
              "\n",
              "    .colab-df-convert:hover {\n",
              "      background-color: #E2EBFA;\n",
              "      box-shadow: 0px 1px 2px rgba(60, 64, 67, 0.3), 0px 1px 3px 1px rgba(60, 64, 67, 0.15);\n",
              "      fill: #174EA6;\n",
              "    }\n",
              "\n",
              "    [theme=dark] .colab-df-convert {\n",
              "      background-color: #3B4455;\n",
              "      fill: #D2E3FC;\n",
              "    }\n",
              "\n",
              "    [theme=dark] .colab-df-convert:hover {\n",
              "      background-color: #434B5C;\n",
              "      box-shadow: 0px 1px 3px 1px rgba(0, 0, 0, 0.15);\n",
              "      filter: drop-shadow(0px 1px 2px rgba(0, 0, 0, 0.3));\n",
              "      fill: #FFFFFF;\n",
              "    }\n",
              "  </style>\n",
              "\n",
              "      <script>\n",
              "        const buttonEl =\n",
              "          document.querySelector('#df-a4858306-d173-44e2-9d35-ee19028dfe06 button.colab-df-convert');\n",
              "        buttonEl.style.display =\n",
              "          google.colab.kernel.accessAllowed ? 'block' : 'none';\n",
              "\n",
              "        async function convertToInteractive(key) {\n",
              "          const element = document.querySelector('#df-a4858306-d173-44e2-9d35-ee19028dfe06');\n",
              "          const dataTable =\n",
              "            await google.colab.kernel.invokeFunction('convertToInteractive',\n",
              "                                                     [key], {});\n",
              "          if (!dataTable) return;\n",
              "\n",
              "          const docLinkHtml = 'Like what you see? Visit the ' +\n",
              "            '<a target=\"_blank\" href=https://colab.research.google.com/notebooks/data_table.ipynb>data table notebook</a>'\n",
              "            + ' to learn more about interactive tables.';\n",
              "          element.innerHTML = '';\n",
              "          dataTable['output_type'] = 'display_data';\n",
              "          await google.colab.output.renderOutput(dataTable, element);\n",
              "          const docLink = document.createElement('div');\n",
              "          docLink.innerHTML = docLinkHtml;\n",
              "          element.appendChild(docLink);\n",
              "        }\n",
              "      </script>\n",
              "    </div>\n",
              "  </div>\n",
              "  "
            ]
          },
          "metadata": {},
          "execution_count": 26
        }
      ]
    },
    {
      "cell_type": "code",
      "source": [
        "lr = LinearRegression()\n",
        "lr.fit(Z, y)\n",
        "y_pred = lr.predict(Z)\n",
        "\n",
        "#Gerando o desenho da curva\n",
        "X_graf = np.linspace(-10,10,num=100)\n",
        "Z = pd.DataFrame()\n",
        "Z['z1'] = X_graf\n",
        "Z['z2'] = X_graf**2\n",
        "Z['z3'] = X_graf**3\n",
        "y_graf = lr.predict(Z)"
      ],
      "metadata": {
        "id": "H19ytsOZHv36"
      },
      "execution_count": null,
      "outputs": []
    },
    {
      "cell_type": "code",
      "source": [
        "plt.figure(figsize=(8,6), dpi=100)\n",
        "plt.plot(X_graf, y_graf)\n",
        "plt.scatter(X.x, y, color='black')\n",
        "plt.scatter(X.x, y_pred, color = 'blue')\n",
        "plt.xlabel('x')\n",
        "plt.ylabel('y')\n",
        "plt.show()"
      ],
      "metadata": {
        "colab": {
          "base_uri": "https://localhost:8080/",
          "height": 533
        },
        "id": "t0X6rUFVIQ-h",
        "outputId": "ede0e4b4-a777-4cc6-c8e6-d00620adf855"
      },
      "execution_count": null,
      "outputs": [
        {
          "output_type": "display_data",
          "data": {
            "text/plain": [
              "<Figure size 800x600 with 1 Axes>"
            ],
            "image/png": "[encoded data removed]"
          },
          "metadata": {
            "needs_background": "light"
          }
        }
      ]
    },
    {
      "cell_type": "markdown",
      "source": [
        "### Vamos fazer isso de uma forma automatizada pelo Sciklear"
      ],
      "metadata": {
        "id": "YmObdZK8JHcT"
      }
    },
    {
      "cell_type": "code",
      "source": [
        "#fazer isso para gerar o agraficos "
      ],
      "metadata": {
        "id": "FptR-tZ-JMPQ"
      },
      "execution_count": null,
      "outputs": []
    },
    {
      "cell_type": "code",
      "source": [
        ""
      ],
      "metadata": {
        "id": "-wCimzPfJMR6"
      },
      "execution_count": null,
      "outputs": []
    },
    {
      "cell_type": "markdown",
      "source": [
        "Podemos ver que aumentar o grau do polinômio permite que o algoritimo aprenda um padrão nos dados com um polinômio de grau 3.\n",
        "\n",
        "\n",
        "Mas o que acontece se continuarmos a aumentar o grau do polinômio? Abaixo está um exemplo do resultado encontrado ao se aplicar a regressão a polinômios de grau 10 e 15."
      ],
      "metadata": {
        "id": "njcBp65yIs0I"
      }
    },
    {
      "cell_type": "markdown",
      "source": [
        "Podemos ver que ao aumentar muito o grau do polinômio a predição do algorítimo se torna muito sensível aos dados de entrada. Apesar disso, permitir que o algorítimo consiga um erro pequeno nos dados de treino provavelmente não irá generalizar bem pois está se ajustando ao ruído dos dados. Quando isso acontece, dizermos que aconteceu um overfitting."
      ],
      "metadata": {
        "id": "bHiOkz-MJdQ4"
      }
    },
    {
      "cell_type": "markdown",
      "source": [
        "Para vizualizar o impacto desses fenômenos na generalização, vamos gerar novos dados a aprtir da função real do exemplo acima e ver o desempenho do modelo neste caso."
      ],
      "metadata": {
        "id": "rW_ytFtAKKLa"
      }
    },
    {
      "cell_type": "code",
      "source": [
        "x_test =np.array([-6,-7.5,-4,-2.3,-2.5,-1,0,0.5,2,3.45,6.3,5,7.6,9.5,-8.9,-9.5,-8,-3.5,3.4,5.6])\n",
        "y_test = [528.9, -182.8, 337.5, 396.3, 414.8, 394.7, 725.9, 362.2, 505.8, 486.6, 128.2, 481.3, 1328.3, 2218.9, -872.8, -1151.1, \n",
        "     -591.2, 601.6, 651.8, 1361.6]"
      ],
      "metadata": {
        "id": "4bt6QpotJ6cg"
      },
      "execution_count": null,
      "outputs": []
    },
    {
      "cell_type": "code",
      "source": [
        "#Gerar features polinomiais\n",
        "def gen_pol(X, n):\n",
        "  X_pol = np.zeros((X.shape[0], n))\n",
        "  for i in range(n):\n",
        "    X_pol[:,i] = X**(i+1)\n",
        "  return(X_pol)\n",
        "\n",
        "Z = gen_pol(X.x, 10)\n",
        "Z_test = gen_pol(x_test, 10) "
      ],
      "metadata": {
        "id": "abpXUHRcKfvk"
      },
      "execution_count": null,
      "outputs": []
    },
    {
      "cell_type": "code",
      "source": [
        "#Linear\n",
        "lr = LinearRegression()\n",
        "lr.fit(Z[:,0].reshape(-1,1), y)\n",
        "y_pred = lr.predict(Z_test[:,0].reshape(-1,1))\n",
        "\n",
        "print('MSE: ', mean_squared_error(y_test, y_pred))\n",
        "print('MAE: ', mean_absolute_error(y_test, y_pred))\n",
        "print('R2: ', r2_score(y_test, y_pred))\n"
      ],
      "metadata": {
        "id": "6UQTRG3mLBth",
        "colab": {
          "base_uri": "https://localhost:8080/"
        },
        "outputId": "c8caad43-a9b1-4991-8bca-b44032a80a88"
      },
      "execution_count": null,
      "outputs": [
        {
          "output_type": "stream",
          "name": "stdout",
          "text": [
            "MSE:  185023.4097595035\n",
            "MAE:  351.6901063174573\n",
            "R2:  0.6565283620758233\n"
          ]
        }
      ]
    },
    {
      "cell_type": "code",
      "source": [
        "# Grau 3\n",
        "lr = LinearRegression()\n",
        "lr.fit(Z[:,:3], y)\n",
        "y_pred = lr.predict(Z_test[:,:3])\n",
        "\n",
        "print('MSE: ', mean_squared_error(y_test, y_pred))\n",
        "print('MAE: ', mean_absolute_error(y_test, y_pred))\n",
        "print('R2: ', r2_score(y_test, y_pred))"
      ],
      "metadata": {
        "colab": {
          "base_uri": "https://localhost:8080/"
        },
        "id": "6s6fq1NXS_ww",
        "outputId": "788b4ef4-c6d2-46cd-c1c9-257cf59786f3"
      },
      "execution_count": null,
      "outputs": [
        {
          "output_type": "stream",
          "name": "stdout",
          "text": [
            "MSE:  65776.07611967418\n",
            "MAE:  173.94590312791803\n",
            "R2:  0.8778953612928464\n"
          ]
        }
      ]
    },
    {
      "cell_type": "code",
      "source": [
        "#Grau 10\n",
        "lr = LinearRegression()\n",
        "lr.fit(Z, y)\n",
        "y_pred = lr.predict(Z_test)\n",
        "\n",
        "print('MSE: ', mean_squared_error(y_test, y_pred))\n",
        "print('MAE: ', mean_absolute_error(y_test, y_pred))\n",
        "print('R2: ', r2_score(y_test, y_pred))"
      ],
      "metadata": {
        "colab": {
          "base_uri": "https://localhost:8080/"
        },
        "id": "3N6xAMT4Tm-C",
        "outputId": "4d0aec76-154f-4762-80c0-632b4d4d611d"
      },
      "execution_count": null,
      "outputs": [
        {
          "output_type": "stream",
          "name": "stdout",
          "text": [
            "MSE:  44563.93177979018\n",
            "MAE:  136.41240521016567\n",
            "R2:  0.9172729188125903\n"
          ]
        }
      ]
    },
    {
      "cell_type": "code",
      "source": [
        ""
      ],
      "metadata": {
        "id": "RVZEpwZQT2jm"
      },
      "execution_count": null,
      "outputs": []
    },
    {
      "cell_type": "markdown",
      "source": [
        "# Regularização\n",
        "\n"
      ],
      "metadata": {
        "id": "XSzrFOY1UUvO"
      }
    },
    {
      "cell_type": "markdown",
      "source": [
        "Como vimos anteriormente é importante controlar a capacidade do modelo para previnir o overfitting e manter seu poder de generalização. A regularização é o nome dado a técnicas que tem como objetivo diminuir esta capacapacidade.\n",
        "\n",
        "No contexto de Regressão Linear as formas mais comuns de regularização são as chamadas de Ridge (L1), Lasso (L2) e ElasticNet.\n",
        "\n",
        "Para entender seu funciomento, vamos relembrar a função custo da regressão linear\n",
        "\n",
        "$$ E(\\textbf{a}) = \\sum_{i=1}^{N} \\left(h_{\\textbf{a}}(\\textbf{x}_i) - y_i \\right)^2 + \\alpha\\sum_{j=1}^{n}(a_j)^2 = || \\textbf{X}\\textbf{a} - \\textbf{y}||^2_2 + \\alpha||\\textbf{a}||^2_2  $$\n",
        "\n",
        "A ideia principal é que diminuir o valor dos coeficientes diminui a influencia de algumas variáveis no modelo e assim nosso modelo se torna mais simples. No exemplo aparesentado do polinômio de décimo grau, diminuir os coeficientes pode diminuir a influência dos termos de maior grau e assim tornar nossa função mais proxima do caso mais adequado. Em resumo, ao penalizar os coeficientes estamos reduzindo a capacidade do nosso modelo de se adaptar aos dados. Assim reduzimos a variância9 e aumentamos o viés), e controlamos o overfitting.\n",
        "\n",
        "Na utilização do Ridge, é impportante notar o valor do termo $zalpha$ que multiplica a soma dos parâmetros. Ao alterar o valor deste parâmetro, conseguimos controlar o quanto queremos que o algoritimo penalize o modelo. Outro detalhe importante é que ao utilizar variáveis com escalas diferentes podemos acabar induzindo valores maiores ou menores nos coeficientes do modelo. Por isso temos que normalizar as variáveis ao utilizar regularização.\n",
        "\n",
        "Vamos ver o efeito da utilização do Ridge no exemplo polinomial."
      ],
      "metadata": {
        "id": "XeYTa47xUZTw"
      }
    },
    {
      "cell_type": "markdown",
      "source": [
        "# Ridge"
      ],
      "metadata": {
        "id": "tDaPsu_-XLsN"
      }
    },
    {
      "cell_type": "code",
      "source": [
        "X = pd.DataFrame([-6,-7.5,-4,-2.3,-2.5,-1,0,0.5,2,3.45,6.3,5,7.6,9.5,-8.9,-9.5,-8,-3.5,3.4,5.6], columns=['x'])\n",
        "y = [528.9, -182.8, 337.5, 396.3, 414.8, 394.7, 725.9, 362.2, 505.8, 486.6, 128.2, 481.3, 1328.3, 2218.9, -872.8, -1151.1, \n",
        "     -591.2, 601.6, 651.8, 1361.6]\n",
        "#faltam dados\n",
        "\n",
        "X_test = np.array([-6.5,-7.6,-4.4,-2.2,-2.1,-0.5,-0.4,1.2,1.6,4,5.7,4.8,7.9,10.2,-8.8,-9.2])\n",
        "y_test = [294.3,-74.2,295.8,159.5,688.1,525.2,508.2,499.7,648.7,874,715,394.2,1660.5,2788.1,-1198.6,-1385.3]"
      ],
      "metadata": {
        "id": "xpxp6CW2XNcX"
      },
      "execution_count": 43,
      "outputs": []
    },
    {
      "cell_type": "code",
      "source": [
        "from sklearn.preprocessing import PolynomialFeatures\n",
        "pf = PolynomialFeatures(degree=10, include_bias=False)\n",
        "\n",
        "Z = pf.fit_transform(X)\n",
        "Z_test = pf.transform(X_test.reshape(-1,1))"
      ],
      "metadata": {
        "id": "5jD2orGVVR5d"
      },
      "execution_count": 46,
      "outputs": []
    },
    {
      "cell_type": "code",
      "source": [
        "from sklearn.preprocessing import MinMaxScaler\n",
        "\n",
        "sc = MinMaxScaler()\n",
        "Z_esc = sc.fit_transform(Z)\n",
        "Z_esc_test = sc.transform(Z_test)"
      ],
      "metadata": {
        "id": "C3LcTcjgUPZ0"
      },
      "execution_count": 50,
      "outputs": []
    },
    {
      "cell_type": "code",
      "source": [
        "lr = LinearRegression()\n",
        "lr.fit(Z_esc, y)\n",
        "y_pred = lr.predict(Z_esc_test)\n",
        "\n",
        "print('MSE: ', mean_squared_error(y_test, y_pred))\n",
        "print('MAE: ', mean_absolute_error(y_test, y_pred))\n",
        "print('R2: ', r2_score(y_test, y_pred))"
      ],
      "metadata": {
        "id": "UhsFyjEdUJd7",
        "colab": {
          "base_uri": "https://localhost:8080/"
        },
        "outputId": "f492061a-3130-4faa-a27f-69b11efa173b"
      },
      "execution_count": 51,
      "outputs": [
        {
          "output_type": "stream",
          "name": "stdout",
          "text": [
            "MSE:  12027197.98607052\n",
            "MAE:  1060.1654390887184\n",
            "R2:  -12.960871786426607\n"
          ]
        }
      ]
    },
    {
      "cell_type": "code",
      "source": [
        "print((lr.coef_**2).sum())\n",
        "lr.coef_"
      ],
      "metadata": {
        "colab": {
          "base_uri": "https://localhost:8080/"
        },
        "id": "yMvO68Z7ZtKz",
        "outputId": "1b5f676b-e3d0-4ad4-8b94-8a0a38ab0d7e"
      },
      "execution_count": 52,
      "outputs": [
        {
          "output_type": "stream",
          "name": "stdout",
          "text": [
            "250272719382.14227\n"
          ]
        },
        {
          "output_type": "execute_result",
          "data": {
            "text/plain": [
              "array([  -1563.83545813,   -4773.89810306,   33407.25230557,\n",
              "         56784.8931557 , -160012.47483269, -199702.38798023,\n",
              "        271746.51530816,  268798.12068191, -140198.34821743,\n",
              "       -121110.29735801])"
            ]
          },
          "metadata": {},
          "execution_count": 52
        }
      ]
    },
    {
      "cell_type": "code",
      "source": [
        "from sklearn.linear_model import Ridge\n",
        "\n",
        "rg = Ridge(alpha=10)\n",
        "rg.fit(Z_esc, y)\n",
        "y_pred = rg.predict(Z_esc_test)\n",
        "\n",
        "print('MSE: ', mean_squared_error(y_test, y_pred))\n",
        "print('MAE: ', mean_absolute_error(y_test, y_pred))\n",
        "print('R2: ', r2_score(y_test, y_pred))"
      ],
      "metadata": {
        "colab": {
          "base_uri": "https://localhost:8080/"
        },
        "id": "Wj6CfsyHZzGJ",
        "outputId": "c25c8ed0-f46d-4742-f1e6-ad8d9d7b629c"
      },
      "execution_count": 54,
      "outputs": [
        {
          "output_type": "stream",
          "name": "stdout",
          "text": [
            "MSE:  507930.47008748783\n",
            "MAE:  453.6018179450182\n",
            "R2:  0.4104069644880265\n"
          ]
        }
      ]
    },
    {
      "cell_type": "code",
      "source": [
        "print((rg.coef_**2).sum())\n",
        "rg.coef_"
      ],
      "metadata": {
        "colab": {
          "base_uri": "https://localhost:8080/"
        },
        "id": "toBOQ9GAaCh1",
        "outputId": "13a87508-ad28-4073-9f97-5d5f5b5dfe9e"
      },
      "execution_count": 57,
      "outputs": [
        {
          "output_type": "stream",
          "name": "stdout",
          "text": [
            "192914.87239964464\n"
          ]
        },
        {
          "output_type": "execute_result",
          "data": {
            "text/plain": [
              "array([239.12306605, -45.03593323, 205.50606927, -41.83787657,\n",
              "       184.32297454, -31.32340428, 169.7866677 , -20.52090809,\n",
              "       159.36645612, -11.01098757])"
            ]
          },
          "metadata": {},
          "execution_count": 57
        }
      ]
    },
    {
      "cell_type": "markdown",
      "source": [
        "# Lasso"
      ],
      "metadata": {
        "id": "woI2wWE9aP9u"
      }
    },
    {
      "cell_type": "markdown",
      "source": [
        "Como mostrado anteriormente o Ridge penaliza os coeficientes colocando o termo $\\alpha||\\textbf{a}||^2_2$ na função custo por ser um termo quadrático  o impacto da penalização acaba sendo maior em coeficientes de maior valor e quase nulo em coeficientes próximos de zero. Por isso, o Ridge não costuma zerar os coeficientes do modelo. Para contornar este efeito, o Lasso altera a penalização para o termo $\\alpha||\\textbf{a}||_1$. Assim, a função de custo se torna:\n",
        "\n",
        "$$ E(\\textbf{a}) = \\sum_{i=1}^{N} \\left(h_{\\textbf{a}}(\\textbf{x}_i) - y_i \\right)^2 + \\alpha\\sum_{j=1}^{n}(|a_j|) = ||\\textbf{X}\\textbf{a} - \\textbf{y}||^2_2 + \\alpha||\\textbf{a}||_1 $$\n",
        "\n",
        "Essa alteração permite que o Lasso exclua completamente algumas variáveis do modelo. Isso é bem útil quando não temos certeza se todas as variáveis que temos são de fato uteis."
      ],
      "metadata": {
        "id": "Q-4jcC_PaS_x"
      }
    },
    {
      "cell_type": "code",
      "source": [
        "from sklearn.linear_model import Lasso\n",
        "\n",
        "ls = Lasso(alpha=20)\n",
        "ls.fit(Z_esc, y)\n",
        "y_pred = ls.predict(Z_esc_test)\n",
        "\n",
        "print('MSE: ', mean_squared_error(y_test, y_pred))\n",
        "print('MAE: ', mean_absolute_error(y_test, y_pred))\n",
        "print('R2: ', r2_score(y_test, y_pred))"
      ],
      "metadata": {
        "colab": {
          "base_uri": "https://localhost:8080/"
        },
        "id": "tGhNC1r-bonl",
        "outputId": "c289460a-779a-4577-97ca-2b8ec1d18ca8"
      },
      "execution_count": 58,
      "outputs": [
        {
          "output_type": "stream",
          "name": "stdout",
          "text": [
            "MSE:  95796.96072927683\n",
            "MAE:  242.29882406801306\n",
            "R2:  0.8888012745928254\n"
          ]
        }
      ]
    },
    {
      "cell_type": "code",
      "source": [
        "print(np.abs(ls.coef_).sum())\n",
        "ls.coef_"
      ],
      "metadata": {
        "colab": {
          "base_uri": "https://localhost:8080/"
        },
        "id": "knvHl5g1b4jS",
        "outputId": "ece26874-85b4-461f-d5cc-9ae2623ddacf"
      },
      "execution_count": 59,
      "outputs": [
        {
          "output_type": "stream",
          "name": "stdout",
          "text": [
            "2820.6469438814647\n"
          ]
        },
        {
          "output_type": "execute_result",
          "data": {
            "text/plain": [
              "array([   0.        ,   -0.        , 2267.68428393,   -0.        ,\n",
              "        552.96265995,   -0.        ,    0.        ,   -0.        ,\n",
              "          0.        ,   -0.        ])"
            ]
          },
          "metadata": {},
          "execution_count": 59
        }
      ]
    },
    {
      "cell_type": "markdown",
      "source": [
        "# Elastic Net"
      ],
      "metadata": {
        "id": "l1NiESn-cGLG"
      }
    },
    {
      "cell_type": "markdown",
      "source": [
        "O Elastic Net é utilizado para combinar os efeitos do Ridge e Lasso. Nele utilizamos um parâmetro adicional para indicar o quanto do efeito da penalização se deve o Ridge e o quanto se deve ao Lasso. A sua função de custo é:\n",
        "\n",
        "$$E(\\textbf{a}) = || \\textbf{X}\\textbf{a} - \\textbf{y}||^2_2 + \\rho\\alpha||\\textbf{a}||_1 + (1-\\rho)\\alpha||\\textbf{a}||^2_2 $$"
      ],
      "metadata": {
        "id": "li2cNqNNcHys"
      }
    },
    {
      "cell_type": "code",
      "source": [
        "from sklearn.linear_model import ElasticNet\n",
        "en = ElasticNet(alpha=0.001, l1_ratio=0.3)\n",
        "en.fit(Z_esc, y)\n",
        "y_pred = en.predict(Z_esc_test)\n",
        "\n",
        "print('MSE: ', mean_squared_error(y_test, y_pred))\n",
        "print('MAE: ', mean_absolute_error(y_test, y_pred))\n",
        "print('R2: ', r2_score(y_test, y_pred))"
      ],
      "metadata": {
        "colab": {
          "base_uri": "https://localhost:8080/"
        },
        "id": "42WG_LqOcwOe",
        "outputId": "21557aa2-2f42-42be-c734-a8b095c8e071"
      },
      "execution_count": 60,
      "outputs": [
        {
          "output_type": "stream",
          "name": "stdout",
          "text": [
            "MSE:  69784.58743524973\n",
            "MAE:  214.0830556529295\n",
            "R2:  0.9189957894614734\n"
          ]
        }
      ]
    },
    {
      "cell_type": "code",
      "source": [
        "#Imagem comparando regularização e sem regularização"
      ],
      "metadata": {
        "id": "W1YI64rYdHsQ"
      },
      "execution_count": null,
      "outputs": []
    },
    {
      "cell_type": "markdown",
      "source": [
        "Para selecionar os melhores hiperparâmetros, vamos avaliar o desempenho do algoritimo em uma base de validação"
      ],
      "metadata": {
        "id": "qpzeNtV_dORd"
      }
    },
    {
      "cell_type": "code",
      "source": [
        "rg = Ridge(alpha=1)\n",
        "rg.fit(Z_esc, y)\n",
        "y_pred = rg.predict(Z_esc_test)\n",
        "\n",
        "print('MSE: ', mean_squared_error(y_test, y_pred))\n",
        "print('MAE: ', mean_absolute_error(y_test, y_pred))\n",
        "print('R2: ', r2_score(y_test, y_pred))"
      ],
      "metadata": {
        "colab": {
          "base_uri": "https://localhost:8080/"
        },
        "id": "MltFIJshdcWp",
        "outputId": "098e040d-2949-4a73-baff-39205aca445c"
      },
      "execution_count": 61,
      "outputs": [
        {
          "output_type": "stream",
          "name": "stdout",
          "text": [
            "MSE:  107633.59115169829\n",
            "MAE:  239.65820777254427\n",
            "R2:  0.8750616088866378\n"
          ]
        }
      ]
    },
    {
      "cell_type": "code",
      "source": [
        "rg = Ridge(alpha=10)\n",
        "rg.fit(Z_esc, y)\n",
        "y_pred = rg.predict(Z_esc_test)\n",
        "\n",
        "print('MSE: ', mean_squared_error(y_test, y_pred))\n",
        "print('MAE: ', mean_absolute_error(y_test, y_pred))\n",
        "print('R2: ', r2_score(y_test, y_pred))"
      ],
      "metadata": {
        "colab": {
          "base_uri": "https://localhost:8080/"
        },
        "id": "-9EUKpdcaHRD",
        "outputId": "dcea1fb9-e0ad-40bb-b2a9-39f636e30792"
      },
      "execution_count": 62,
      "outputs": [
        {
          "output_type": "stream",
          "name": "stdout",
          "text": [
            "MSE:  507930.47008748783\n",
            "MAE:  453.6018179450182\n",
            "R2:  0.4104069644880265\n"
          ]
        }
      ]
    },
    {
      "cell_type": "code",
      "source": [
        "rg = Ridge(alpha=20)\n",
        "rg.fit(Z_esc, y)\n",
        "y_pred = rg.predict(Z_esc_test)\n",
        "\n",
        "print('MSE: ', mean_squared_error(y_test, y_pred))\n",
        "print('MAE: ', mean_absolute_error(y_test, y_pred))\n",
        "print('R2: ', r2_score(y_test, y_pred))"
      ],
      "metadata": {
        "colab": {
          "base_uri": "https://localhost:8080/"
        },
        "id": "N4xrTXutdmsQ",
        "outputId": "23302dea-2a48-47ab-ddde-c15c3eafe83b"
      },
      "execution_count": 63,
      "outputs": [
        {
          "output_type": "stream",
          "name": "stdout",
          "text": [
            "MSE:  646903.3533786811\n",
            "MAE:  513.3948741685924\n",
            "R2:  0.24909070382070986\n"
          ]
        }
      ]
    },
    {
      "cell_type": "markdown",
      "source": [
        "# Considerações Finais"
      ],
      "metadata": {
        "id": "0wXUO7Xcd57d"
      }
    },
    {
      "cell_type": "markdown",
      "source": [
        "# Requisitos\n",
        "* **Linearidade**: Existe uma relação linear entre as variáveis explicativas ( ou as variáveis explicativas tranformadas) e a variável resposta.\n",
        "* **Erros independentes**: os resíduos são independentes para cada amostra e respeitam uma distribuição normal com média 0 e ***variância contrante*** (homoscedasticidade).\n",
        "* **Sem multicolinearidade**: Não existe relação linear perfeita entre as variáveis explicativas."
      ],
      "metadata": {
        "id": "3999nAfrd8V_"
      }
    },
    {
      "cell_type": "markdown",
      "source": [
        "# Vantagens\n",
        "* **Simplicade e Interpretabilidade**: Modelos lineares são relativamente simples de entender, de usar e apresenntam fácil interpretabilidade, ou seja, é facil identificar quais são as variáveis que mais influenciam o resultado final.\n",
        "* **Seleção de variáveis**: Se nossas variáveis estão **normalizadas**, podemos entender as variáveis mais importantes olhando o valor absoluto dos coeficientes. Podemos usar isso para realizar a seleção de variáveis (feature selection), principalmente aliado á regularização Lasso."
      ],
      "metadata": {
        "id": "1WhVWbD_eia2"
      }
    },
    {
      "cell_type": "markdown",
      "source": [
        "# Desvantagens\n",
        "* Dificilmente consegue capturar relações mais complexas entre as variáveis. Criar variáveis novas nem sempre é imediato e fácil de observar.\n",
        "* Os requisitos do modelo raramente são atendidos.\n",
        "* O modelo é facilmente afetado por outliers."
      ],
      "metadata": {
        "id": "TbcmVsaJfFHl"
      }
    }
  ]
}