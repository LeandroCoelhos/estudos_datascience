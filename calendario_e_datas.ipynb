{
  "nbformat": 4,
  "nbformat_minor": 0,
  "metadata": {
    "colab": {
      "provenance": [],
      "authorship_tag": "ABX9TyN/C1haiObvTeMsjX7goNg9",
      "include_colab_link": true
    },
    "kernelspec": {
      "name": "python3",
      "display_name": "Python 3"
    },
    "language_info": {
      "name": "python"
    }
  },
  "cells": [
    {
      "cell_type": "markdown",
      "metadata": {
        "id": "view-in-github",
        "colab_type": "text"
      },
      "source": [
        "<a href=\"https://colab.research.google.com/github/LeandroCoelhos/estudos_datascience/blob/main/calendario_e_datas.ipynb\" target=\"_parent\"><img src=\"https://colab.research.google.com/assets/colab-badge.svg\" alt=\"Open In Colab\"/></a>"
      ]
    },
    {
      "cell_type": "code",
      "execution_count": 1,
      "metadata": {
        "colab": {
          "base_uri": "https://localhost:8080/"
        },
        "id": "zvjaX_9hO4o2",
        "outputId": "1acd84c8-c265-4c49-92f4-01ebb7e73379"
      },
      "outputs": [
        {
          "output_type": "stream",
          "name": "stdout",
          "text": [
            "16 Meses Anteriores:\n",
            "[202310, 202309, 202308, 202307, 202306, 202305, 202304, 202303, 202302, 202301, 202212, 202211, 202210, 202209, 202208, 202207]\n"
          ]
        }
      ],
      "source": [
        "import pandas as pd\n",
        "from datetime import datetime, timedelta\n",
        "\n",
        "def obter_meses_anteriores(ano_mes_inicial, qtd_meses=16):\n",
        "    # Converte a entrada para o formato de data\n",
        "    data_inicial = datetime.strptime(str(ano_mes_inicial), '%Y%m')\n",
        "\n",
        "    # Gera os 16 meses anteriores\n",
        "    meses_anteriores = [data_inicial - timedelta(days=31*i) for i in range(1, qtd_meses+1)]\n",
        "\n",
        "    # Formata os meses no mesmo formato de entrada (ano+mes)\n",
        "    meses_formatados = [int(mes.strftime('%Y%m')) for mes in meses_anteriores]\n",
        "\n",
        "    return meses_formatados\n",
        "\n",
        "# Exemplo de uso\n",
        "ano_mes_inicial = 202312\n",
        "meses_anteriores = obter_meses_anteriores(ano_mes_inicial)\n",
        "\n",
        "print(\"16 Meses Anteriores:\")\n",
        "print(meses_anteriores)\n"
      ]
    },
    {
      "cell_type": "code",
      "source": [
        "import pandas as pd\n",
        "from datetime import datetime, timedelta\n",
        "\n",
        "def gerar_dias_mes(ano_mes):\n",
        "    # Converte a entrada para o formato de data\n",
        "    data_inicial = datetime.strptime(str(ano_mes), '%Y%m')\n",
        "\n",
        "    # Obtém o último dia do mês\n",
        "    ultimo_dia_mes = (data_inicial.replace(day=28) + timedelta(days=4)).replace(day=1) - timedelta(days=1)\n",
        "\n",
        "    # Gera todos os dias do mês\n",
        "    dias_mes = pd.date_range(start=data_inicial, end=ultimo_dia_mes, freq='D')\n",
        "\n",
        "    # Formata os dias no formato desejado (ano+mes+dia)\n",
        "    dias_formatados = [int(dia.strftime('%Y%m%d')) for dia in dias_mes]\n",
        "\n",
        "    return dias_mes, dias_formatados\n",
        "\n",
        "# Exemplo de uso\n",
        "ano_mes_entrada = 202312\n",
        "dias_mes, dias_formatados = gerar_dias_mes(ano_mes_entrada)\n",
        "\n",
        "print(\"Dias do Mês em Formato de Datetime:\")\n",
        "print(dias_mes)\n",
        "\n",
        "print(\"\\nDias do Mês Formatados (ano+mes+dia):\")\n",
        "print(dias_formatados)\n"
      ],
      "metadata": {
        "colab": {
          "base_uri": "https://localhost:8080/"
        },
        "id": "4uOr-2e6O5M_",
        "outputId": "535d43dd-9059-496e-f1ee-d66100700077"
      },
      "execution_count": 2,
      "outputs": [
        {
          "output_type": "stream",
          "name": "stdout",
          "text": [
            "Dias do Mês em Formato de Datetime:\n",
            "DatetimeIndex(['2023-12-01', '2023-12-02', '2023-12-03', '2023-12-04',\n",
            "               '2023-12-05', '2023-12-06', '2023-12-07', '2023-12-08',\n",
            "               '2023-12-09', '2023-12-10', '2023-12-11', '2023-12-12',\n",
            "               '2023-12-13', '2023-12-14', '2023-12-15', '2023-12-16',\n",
            "               '2023-12-17', '2023-12-18', '2023-12-19', '2023-12-20',\n",
            "               '2023-12-21', '2023-12-22', '2023-12-23', '2023-12-24',\n",
            "               '2023-12-25', '2023-12-26', '2023-12-27', '2023-12-28',\n",
            "               '2023-12-29', '2023-12-30', '2023-12-31'],\n",
            "              dtype='datetime64[ns]', freq='D')\n",
            "\n",
            "Dias do Mês Formatados (ano+mes+dia):\n",
            "[20231201, 20231202, 20231203, 20231204, 20231205, 20231206, 20231207, 20231208, 20231209, 20231210, 20231211, 20231212, 20231213, 20231214, 20231215, 20231216, 20231217, 20231218, 20231219, 20231220, 20231221, 20231222, 20231223, 20231224, 20231225, 20231226, 20231227, 20231228, 20231229, 20231230, 20231231]\n"
          ]
        }
      ]
    },
    {
      "cell_type": "code",
      "source": [
        "import pandas as pd\n",
        "\n",
        "# Especifica o ano desejado\n",
        "ano_desejado = 2024\n",
        "\n",
        "# Gera todos os dias do ano\n",
        "dias_do_ano = pd.date_range(start=f'{ano_desejado}-01-01', end=f'{ano_desejado}-12-31', freq='D')\n",
        "\n",
        "# Exibe os dias\n",
        "print(dias_do_ano)\n"
      ],
      "metadata": {
        "colab": {
          "base_uri": "https://localhost:8080/"
        },
        "id": "56N_V3vIPJrI",
        "outputId": "78dca248-5865-4189-dddb-e7e841694896"
      },
      "execution_count": 3,
      "outputs": [
        {
          "output_type": "stream",
          "name": "stdout",
          "text": [
            "DatetimeIndex(['2024-01-01', '2024-01-02', '2024-01-03', '2024-01-04',\n",
            "               '2024-01-05', '2024-01-06', '2024-01-07', '2024-01-08',\n",
            "               '2024-01-09', '2024-01-10',\n",
            "               ...\n",
            "               '2024-12-22', '2024-12-23', '2024-12-24', '2024-12-25',\n",
            "               '2024-12-26', '2024-12-27', '2024-12-28', '2024-12-29',\n",
            "               '2024-12-30', '2024-12-31'],\n",
            "              dtype='datetime64[ns]', length=366, freq='D')\n"
          ]
        }
      ]
    },
    {
      "cell_type": "code",
      "source": [
        "dias_do_ano_lista = dias_do_ano.tolist()\n",
        "print(dias_do_ano_lista)\n"
      ],
      "metadata": {
        "colab": {
          "base_uri": "https://localhost:8080/"
        },
        "id": "sKtbVUscPVtN",
        "outputId": "8fc10a10-0df3-4277-ce9c-594389ef3341"
      },
      "execution_count": 4,
      "outputs": [
        {
          "output_type": "stream",
          "name": "stdout",
          "text": [
            "[Timestamp('2024-01-01 00:00:00', freq='D'), Timestamp('2024-01-02 00:00:00', freq='D'), Timestamp('2024-01-03 00:00:00', freq='D'), Timestamp('2024-01-04 00:00:00', freq='D'), Timestamp('2024-01-05 00:00:00', freq='D'), Timestamp('2024-01-06 00:00:00', freq='D'), Timestamp('2024-01-07 00:00:00', freq='D'), Timestamp('2024-01-08 00:00:00', freq='D'), Timestamp('2024-01-09 00:00:00', freq='D'), Timestamp('2024-01-10 00:00:00', freq='D'), Timestamp('2024-01-11 00:00:00', freq='D'), Timestamp('2024-01-12 00:00:00', freq='D'), Timestamp('2024-01-13 00:00:00', freq='D'), Timestamp('2024-01-14 00:00:00', freq='D'), Timestamp('2024-01-15 00:00:00', freq='D'), Timestamp('2024-01-16 00:00:00', freq='D'), Timestamp('2024-01-17 00:00:00', freq='D'), Timestamp('2024-01-18 00:00:00', freq='D'), Timestamp('2024-01-19 00:00:00', freq='D'), Timestamp('2024-01-20 00:00:00', freq='D'), Timestamp('2024-01-21 00:00:00', freq='D'), Timestamp('2024-01-22 00:00:00', freq='D'), Timestamp('2024-01-23 00:00:00', freq='D'), Timestamp('2024-01-24 00:00:00', freq='D'), Timestamp('2024-01-25 00:00:00', freq='D'), Timestamp('2024-01-26 00:00:00', freq='D'), Timestamp('2024-01-27 00:00:00', freq='D'), Timestamp('2024-01-28 00:00:00', freq='D'), Timestamp('2024-01-29 00:00:00', freq='D'), Timestamp('2024-01-30 00:00:00', freq='D'), Timestamp('2024-01-31 00:00:00', freq='D'), Timestamp('2024-02-01 00:00:00', freq='D'), Timestamp('2024-02-02 00:00:00', freq='D'), Timestamp('2024-02-03 00:00:00', freq='D'), Timestamp('2024-02-04 00:00:00', freq='D'), Timestamp('2024-02-05 00:00:00', freq='D'), Timestamp('2024-02-06 00:00:00', freq='D'), Timestamp('2024-02-07 00:00:00', freq='D'), Timestamp('2024-02-08 00:00:00', freq='D'), Timestamp('2024-02-09 00:00:00', freq='D'), Timestamp('2024-02-10 00:00:00', freq='D'), Timestamp('2024-02-11 00:00:00', freq='D'), Timestamp('2024-02-12 00:00:00', freq='D'), Timestamp('2024-02-13 00:00:00', freq='D'), Timestamp('2024-02-14 00:00:00', freq='D'), Timestamp('2024-02-15 00:00:00', freq='D'), Timestamp('2024-02-16 00:00:00', freq='D'), Timestamp('2024-02-17 00:00:00', freq='D'), Timestamp('2024-02-18 00:00:00', freq='D'), Timestamp('2024-02-19 00:00:00', freq='D'), Timestamp('2024-02-20 00:00:00', freq='D'), Timestamp('2024-02-21 00:00:00', freq='D'), Timestamp('2024-02-22 00:00:00', freq='D'), Timestamp('2024-02-23 00:00:00', freq='D'), Timestamp('2024-02-24 00:00:00', freq='D'), Timestamp('2024-02-25 00:00:00', freq='D'), Timestamp('2024-02-26 00:00:00', freq='D'), Timestamp('2024-02-27 00:00:00', freq='D'), Timestamp('2024-02-28 00:00:00', freq='D'), Timestamp('2024-02-29 00:00:00', freq='D'), Timestamp('2024-03-01 00:00:00', freq='D'), Timestamp('2024-03-02 00:00:00', freq='D'), Timestamp('2024-03-03 00:00:00', freq='D'), Timestamp('2024-03-04 00:00:00', freq='D'), Timestamp('2024-03-05 00:00:00', freq='D'), Timestamp('2024-03-06 00:00:00', freq='D'), Timestamp('2024-03-07 00:00:00', freq='D'), Timestamp('2024-03-08 00:00:00', freq='D'), Timestamp('2024-03-09 00:00:00', freq='D'), Timestamp('2024-03-10 00:00:00', freq='D'), Timestamp('2024-03-11 00:00:00', freq='D'), Timestamp('2024-03-12 00:00:00', freq='D'), Timestamp('2024-03-13 00:00:00', freq='D'), Timestamp('2024-03-14 00:00:00', freq='D'), Timestamp('2024-03-15 00:00:00', freq='D'), Timestamp('2024-03-16 00:00:00', freq='D'), Timestamp('2024-03-17 00:00:00', freq='D'), Timestamp('2024-03-18 00:00:00', freq='D'), Timestamp('2024-03-19 00:00:00', freq='D'), Timestamp('2024-03-20 00:00:00', freq='D'), Timestamp('2024-03-21 00:00:00', freq='D'), Timestamp('2024-03-22 00:00:00', freq='D'), Timestamp('2024-03-23 00:00:00', freq='D'), Timestamp('2024-03-24 00:00:00', freq='D'), Timestamp('2024-03-25 00:00:00', freq='D'), Timestamp('2024-03-26 00:00:00', freq='D'), Timestamp('2024-03-27 00:00:00', freq='D'), Timestamp('2024-03-28 00:00:00', freq='D'), Timestamp('2024-03-29 00:00:00', freq='D'), Timestamp('2024-03-30 00:00:00', freq='D'), Timestamp('2024-03-31 00:00:00', freq='D'), Timestamp('2024-04-01 00:00:00', freq='D'), Timestamp('2024-04-02 00:00:00', freq='D'), Timestamp('2024-04-03 00:00:00', freq='D'), Timestamp('2024-04-04 00:00:00', freq='D'), Timestamp('2024-04-05 00:00:00', freq='D'), Timestamp('2024-04-06 00:00:00', freq='D'), Timestamp('2024-04-07 00:00:00', freq='D'), Timestamp('2024-04-08 00:00:00', freq='D'), Timestamp('2024-04-09 00:00:00', freq='D'), Timestamp('2024-04-10 00:00:00', freq='D'), Timestamp('2024-04-11 00:00:00', freq='D'), Timestamp('2024-04-12 00:00:00', freq='D'), Timestamp('2024-04-13 00:00:00', freq='D'), Timestamp('2024-04-14 00:00:00', freq='D'), Timestamp('2024-04-15 00:00:00', freq='D'), Timestamp('2024-04-16 00:00:00', freq='D'), Timestamp('2024-04-17 00:00:00', freq='D'), Timestamp('2024-04-18 00:00:00', freq='D'), Timestamp('2024-04-19 00:00:00', freq='D'), Timestamp('2024-04-20 00:00:00', freq='D'), Timestamp('2024-04-21 00:00:00', freq='D'), Timestamp('2024-04-22 00:00:00', freq='D'), Timestamp('2024-04-23 00:00:00', freq='D'), Timestamp('2024-04-24 00:00:00', freq='D'), Timestamp('2024-04-25 00:00:00', freq='D'), Timestamp('2024-04-26 00:00:00', freq='D'), Timestamp('2024-04-27 00:00:00', freq='D'), Timestamp('2024-04-28 00:00:00', freq='D'), Timestamp('2024-04-29 00:00:00', freq='D'), Timestamp('2024-04-30 00:00:00', freq='D'), Timestamp('2024-05-01 00:00:00', freq='D'), Timestamp('2024-05-02 00:00:00', freq='D'), Timestamp('2024-05-03 00:00:00', freq='D'), Timestamp('2024-05-04 00:00:00', freq='D'), Timestamp('2024-05-05 00:00:00', freq='D'), Timestamp('2024-05-06 00:00:00', freq='D'), Timestamp('2024-05-07 00:00:00', freq='D'), Timestamp('2024-05-08 00:00:00', freq='D'), Timestamp('2024-05-09 00:00:00', freq='D'), Timestamp('2024-05-10 00:00:00', freq='D'), Timestamp('2024-05-11 00:00:00', freq='D'), Timestamp('2024-05-12 00:00:00', freq='D'), Timestamp('2024-05-13 00:00:00', freq='D'), Timestamp('2024-05-14 00:00:00', freq='D'), Timestamp('2024-05-15 00:00:00', freq='D'), Timestamp('2024-05-16 00:00:00', freq='D'), Timestamp('2024-05-17 00:00:00', freq='D'), Timestamp('2024-05-18 00:00:00', freq='D'), Timestamp('2024-05-19 00:00:00', freq='D'), Timestamp('2024-05-20 00:00:00', freq='D'), Timestamp('2024-05-21 00:00:00', freq='D'), Timestamp('2024-05-22 00:00:00', freq='D'), Timestamp('2024-05-23 00:00:00', freq='D'), Timestamp('2024-05-24 00:00:00', freq='D'), Timestamp('2024-05-25 00:00:00', freq='D'), Timestamp('2024-05-26 00:00:00', freq='D'), Timestamp('2024-05-27 00:00:00', freq='D'), Timestamp('2024-05-28 00:00:00', freq='D'), Timestamp('2024-05-29 00:00:00', freq='D'), Timestamp('2024-05-30 00:00:00', freq='D'), Timestamp('2024-05-31 00:00:00', freq='D'), Timestamp('2024-06-01 00:00:00', freq='D'), Timestamp('2024-06-02 00:00:00', freq='D'), Timestamp('2024-06-03 00:00:00', freq='D'), Timestamp('2024-06-04 00:00:00', freq='D'), Timestamp('2024-06-05 00:00:00', freq='D'), Timestamp('2024-06-06 00:00:00', freq='D'), Timestamp('2024-06-07 00:00:00', freq='D'), Timestamp('2024-06-08 00:00:00', freq='D'), Timestamp('2024-06-09 00:00:00', freq='D'), Timestamp('2024-06-10 00:00:00', freq='D'), Timestamp('2024-06-11 00:00:00', freq='D'), Timestamp('2024-06-12 00:00:00', freq='D'), Timestamp('2024-06-13 00:00:00', freq='D'), Timestamp('2024-06-14 00:00:00', freq='D'), Timestamp('2024-06-15 00:00:00', freq='D'), Timestamp('2024-06-16 00:00:00', freq='D'), Timestamp('2024-06-17 00:00:00', freq='D'), Timestamp('2024-06-18 00:00:00', freq='D'), Timestamp('2024-06-19 00:00:00', freq='D'), Timestamp('2024-06-20 00:00:00', freq='D'), Timestamp('2024-06-21 00:00:00', freq='D'), Timestamp('2024-06-22 00:00:00', freq='D'), Timestamp('2024-06-23 00:00:00', freq='D'), Timestamp('2024-06-24 00:00:00', freq='D'), Timestamp('2024-06-25 00:00:00', freq='D'), Timestamp('2024-06-26 00:00:00', freq='D'), Timestamp('2024-06-27 00:00:00', freq='D'), Timestamp('2024-06-28 00:00:00', freq='D'), Timestamp('2024-06-29 00:00:00', freq='D'), Timestamp('2024-06-30 00:00:00', freq='D'), Timestamp('2024-07-01 00:00:00', freq='D'), Timestamp('2024-07-02 00:00:00', freq='D'), Timestamp('2024-07-03 00:00:00', freq='D'), Timestamp('2024-07-04 00:00:00', freq='D'), Timestamp('2024-07-05 00:00:00', freq='D'), Timestamp('2024-07-06 00:00:00', freq='D'), Timestamp('2024-07-07 00:00:00', freq='D'), Timestamp('2024-07-08 00:00:00', freq='D'), Timestamp('2024-07-09 00:00:00', freq='D'), Timestamp('2024-07-10 00:00:00', freq='D'), Timestamp('2024-07-11 00:00:00', freq='D'), Timestamp('2024-07-12 00:00:00', freq='D'), Timestamp('2024-07-13 00:00:00', freq='D'), Timestamp('2024-07-14 00:00:00', freq='D'), Timestamp('2024-07-15 00:00:00', freq='D'), Timestamp('2024-07-16 00:00:00', freq='D'), Timestamp('2024-07-17 00:00:00', freq='D'), Timestamp('2024-07-18 00:00:00', freq='D'), Timestamp('2024-07-19 00:00:00', freq='D'), Timestamp('2024-07-20 00:00:00', freq='D'), Timestamp('2024-07-21 00:00:00', freq='D'), Timestamp('2024-07-22 00:00:00', freq='D'), Timestamp('2024-07-23 00:00:00', freq='D'), Timestamp('2024-07-24 00:00:00', freq='D'), Timestamp('2024-07-25 00:00:00', freq='D'), Timestamp('2024-07-26 00:00:00', freq='D'), Timestamp('2024-07-27 00:00:00', freq='D'), Timestamp('2024-07-28 00:00:00', freq='D'), Timestamp('2024-07-29 00:00:00', freq='D'), Timestamp('2024-07-30 00:00:00', freq='D'), Timestamp('2024-07-31 00:00:00', freq='D'), Timestamp('2024-08-01 00:00:00', freq='D'), Timestamp('2024-08-02 00:00:00', freq='D'), Timestamp('2024-08-03 00:00:00', freq='D'), Timestamp('2024-08-04 00:00:00', freq='D'), Timestamp('2024-08-05 00:00:00', freq='D'), Timestamp('2024-08-06 00:00:00', freq='D'), Timestamp('2024-08-07 00:00:00', freq='D'), Timestamp('2024-08-08 00:00:00', freq='D'), Timestamp('2024-08-09 00:00:00', freq='D'), Timestamp('2024-08-10 00:00:00', freq='D'), Timestamp('2024-08-11 00:00:00', freq='D'), Timestamp('2024-08-12 00:00:00', freq='D'), Timestamp('2024-08-13 00:00:00', freq='D'), Timestamp('2024-08-14 00:00:00', freq='D'), Timestamp('2024-08-15 00:00:00', freq='D'), Timestamp('2024-08-16 00:00:00', freq='D'), Timestamp('2024-08-17 00:00:00', freq='D'), Timestamp('2024-08-18 00:00:00', freq='D'), Timestamp('2024-08-19 00:00:00', freq='D'), Timestamp('2024-08-20 00:00:00', freq='D'), Timestamp('2024-08-21 00:00:00', freq='D'), Timestamp('2024-08-22 00:00:00', freq='D'), Timestamp('2024-08-23 00:00:00', freq='D'), Timestamp('2024-08-24 00:00:00', freq='D'), Timestamp('2024-08-25 00:00:00', freq='D'), Timestamp('2024-08-26 00:00:00', freq='D'), Timestamp('2024-08-27 00:00:00', freq='D'), Timestamp('2024-08-28 00:00:00', freq='D'), Timestamp('2024-08-29 00:00:00', freq='D'), Timestamp('2024-08-30 00:00:00', freq='D'), Timestamp('2024-08-31 00:00:00', freq='D'), Timestamp('2024-09-01 00:00:00', freq='D'), Timestamp('2024-09-02 00:00:00', freq='D'), Timestamp('2024-09-03 00:00:00', freq='D'), Timestamp('2024-09-04 00:00:00', freq='D'), Timestamp('2024-09-05 00:00:00', freq='D'), Timestamp('2024-09-06 00:00:00', freq='D'), Timestamp('2024-09-07 00:00:00', freq='D'), Timestamp('2024-09-08 00:00:00', freq='D'), Timestamp('2024-09-09 00:00:00', freq='D'), Timestamp('2024-09-10 00:00:00', freq='D'), Timestamp('2024-09-11 00:00:00', freq='D'), Timestamp('2024-09-12 00:00:00', freq='D'), Timestamp('2024-09-13 00:00:00', freq='D'), Timestamp('2024-09-14 00:00:00', freq='D'), Timestamp('2024-09-15 00:00:00', freq='D'), Timestamp('2024-09-16 00:00:00', freq='D'), Timestamp('2024-09-17 00:00:00', freq='D'), Timestamp('2024-09-18 00:00:00', freq='D'), Timestamp('2024-09-19 00:00:00', freq='D'), Timestamp('2024-09-20 00:00:00', freq='D'), Timestamp('2024-09-21 00:00:00', freq='D'), Timestamp('2024-09-22 00:00:00', freq='D'), Timestamp('2024-09-23 00:00:00', freq='D'), Timestamp('2024-09-24 00:00:00', freq='D'), Timestamp('2024-09-25 00:00:00', freq='D'), Timestamp('2024-09-26 00:00:00', freq='D'), Timestamp('2024-09-27 00:00:00', freq='D'), Timestamp('2024-09-28 00:00:00', freq='D'), Timestamp('2024-09-29 00:00:00', freq='D'), Timestamp('2024-09-30 00:00:00', freq='D'), Timestamp('2024-10-01 00:00:00', freq='D'), Timestamp('2024-10-02 00:00:00', freq='D'), Timestamp('2024-10-03 00:00:00', freq='D'), Timestamp('2024-10-04 00:00:00', freq='D'), Timestamp('2024-10-05 00:00:00', freq='D'), Timestamp('2024-10-06 00:00:00', freq='D'), Timestamp('2024-10-07 00:00:00', freq='D'), Timestamp('2024-10-08 00:00:00', freq='D'), Timestamp('2024-10-09 00:00:00', freq='D'), Timestamp('2024-10-10 00:00:00', freq='D'), Timestamp('2024-10-11 00:00:00', freq='D'), Timestamp('2024-10-12 00:00:00', freq='D'), Timestamp('2024-10-13 00:00:00', freq='D'), Timestamp('2024-10-14 00:00:00', freq='D'), Timestamp('2024-10-15 00:00:00', freq='D'), Timestamp('2024-10-16 00:00:00', freq='D'), Timestamp('2024-10-17 00:00:00', freq='D'), Timestamp('2024-10-18 00:00:00', freq='D'), Timestamp('2024-10-19 00:00:00', freq='D'), Timestamp('2024-10-20 00:00:00', freq='D'), Timestamp('2024-10-21 00:00:00', freq='D'), Timestamp('2024-10-22 00:00:00', freq='D'), Timestamp('2024-10-23 00:00:00', freq='D'), Timestamp('2024-10-24 00:00:00', freq='D'), Timestamp('2024-10-25 00:00:00', freq='D'), Timestamp('2024-10-26 00:00:00', freq='D'), Timestamp('2024-10-27 00:00:00', freq='D'), Timestamp('2024-10-28 00:00:00', freq='D'), Timestamp('2024-10-29 00:00:00', freq='D'), Timestamp('2024-10-30 00:00:00', freq='D'), Timestamp('2024-10-31 00:00:00', freq='D'), Timestamp('2024-11-01 00:00:00', freq='D'), Timestamp('2024-11-02 00:00:00', freq='D'), Timestamp('2024-11-03 00:00:00', freq='D'), Timestamp('2024-11-04 00:00:00', freq='D'), Timestamp('2024-11-05 00:00:00', freq='D'), Timestamp('2024-11-06 00:00:00', freq='D'), Timestamp('2024-11-07 00:00:00', freq='D'), Timestamp('2024-11-08 00:00:00', freq='D'), Timestamp('2024-11-09 00:00:00', freq='D'), Timestamp('2024-11-10 00:00:00', freq='D'), Timestamp('2024-11-11 00:00:00', freq='D'), Timestamp('2024-11-12 00:00:00', freq='D'), Timestamp('2024-11-13 00:00:00', freq='D'), Timestamp('2024-11-14 00:00:00', freq='D'), Timestamp('2024-11-15 00:00:00', freq='D'), Timestamp('2024-11-16 00:00:00', freq='D'), Timestamp('2024-11-17 00:00:00', freq='D'), Timestamp('2024-11-18 00:00:00', freq='D'), Timestamp('2024-11-19 00:00:00', freq='D'), Timestamp('2024-11-20 00:00:00', freq='D'), Timestamp('2024-11-21 00:00:00', freq='D'), Timestamp('2024-11-22 00:00:00', freq='D'), Timestamp('2024-11-23 00:00:00', freq='D'), Timestamp('2024-11-24 00:00:00', freq='D'), Timestamp('2024-11-25 00:00:00', freq='D'), Timestamp('2024-11-26 00:00:00', freq='D'), Timestamp('2024-11-27 00:00:00', freq='D'), Timestamp('2024-11-28 00:00:00', freq='D'), Timestamp('2024-11-29 00:00:00', freq='D'), Timestamp('2024-11-30 00:00:00', freq='D'), Timestamp('2024-12-01 00:00:00', freq='D'), Timestamp('2024-12-02 00:00:00', freq='D'), Timestamp('2024-12-03 00:00:00', freq='D'), Timestamp('2024-12-04 00:00:00', freq='D'), Timestamp('2024-12-05 00:00:00', freq='D'), Timestamp('2024-12-06 00:00:00', freq='D'), Timestamp('2024-12-07 00:00:00', freq='D'), Timestamp('2024-12-08 00:00:00', freq='D'), Timestamp('2024-12-09 00:00:00', freq='D'), Timestamp('2024-12-10 00:00:00', freq='D'), Timestamp('2024-12-11 00:00:00', freq='D'), Timestamp('2024-12-12 00:00:00', freq='D'), Timestamp('2024-12-13 00:00:00', freq='D'), Timestamp('2024-12-14 00:00:00', freq='D'), Timestamp('2024-12-15 00:00:00', freq='D'), Timestamp('2024-12-16 00:00:00', freq='D'), Timestamp('2024-12-17 00:00:00', freq='D'), Timestamp('2024-12-18 00:00:00', freq='D'), Timestamp('2024-12-19 00:00:00', freq='D'), Timestamp('2024-12-20 00:00:00', freq='D'), Timestamp('2024-12-21 00:00:00', freq='D'), Timestamp('2024-12-22 00:00:00', freq='D'), Timestamp('2024-12-23 00:00:00', freq='D'), Timestamp('2024-12-24 00:00:00', freq='D'), Timestamp('2024-12-25 00:00:00', freq='D'), Timestamp('2024-12-26 00:00:00', freq='D'), Timestamp('2024-12-27 00:00:00', freq='D'), Timestamp('2024-12-28 00:00:00', freq='D'), Timestamp('2024-12-29 00:00:00', freq='D'), Timestamp('2024-12-30 00:00:00', freq='D'), Timestamp('2024-12-31 00:00:00', freq='D')]\n"
          ]
        }
      ]
    },
    {
      "cell_type": "code",
      "source": [
        "import pandas as pd\n",
        "from datetime import date\n",
        "import holidays\n",
        "\n",
        "# Função para verificar se uma data é feriado no Brasil\n",
        "def is_br_holiday(day):\n",
        "    br_holidays = holidays.Brazil(years=day.year)\n",
        "    return day in br_holidays\n",
        "\n",
        "# Especifica o ano desejado\n",
        "ano_desejado = 2024\n",
        "\n",
        "# Gera todos os dias do ano\n",
        "dias_do_ano = pd.date_range(start=f'{ano_desejado}-01-01', end=f'{ano_desejado}-12-31', freq='D')\n",
        "\n",
        "# Cria um DataFrame com os dias do ano\n",
        "df_calendario = pd.DataFrame(dias_do_ano, columns=['Data'])\n",
        "\n",
        "# Adiciona uma coluna de feriado\n",
        "df_calendario['Feriado'] = df_calendario['Data'].apply(is_br_holiday)\n",
        "\n",
        "# Exibe o DataFrame\n",
        "print(df_calendario)\n"
      ],
      "metadata": {
        "colab": {
          "base_uri": "https://localhost:8080/"
        },
        "id": "hbzn_8qmPXKZ",
        "outputId": "d6cce4b5-e883-4408-d820-5cc3066adcb9"
      },
      "execution_count": 5,
      "outputs": [
        {
          "output_type": "stream",
          "name": "stdout",
          "text": [
            "          Data  Feriado\n",
            "0   2024-01-01     True\n",
            "1   2024-01-02    False\n",
            "2   2024-01-03    False\n",
            "3   2024-01-04    False\n",
            "4   2024-01-05    False\n",
            "..         ...      ...\n",
            "361 2024-12-27    False\n",
            "362 2024-12-28    False\n",
            "363 2024-12-29    False\n",
            "364 2024-12-30    False\n",
            "365 2024-12-31    False\n",
            "\n",
            "[366 rows x 2 columns]\n"
          ]
        }
      ]
    },
    {
      "cell_type": "code",
      "source": [],
      "metadata": {
        "id": "7xTzARhOPf4m"
      },
      "execution_count": null,
      "outputs": []
    }
  ]
}