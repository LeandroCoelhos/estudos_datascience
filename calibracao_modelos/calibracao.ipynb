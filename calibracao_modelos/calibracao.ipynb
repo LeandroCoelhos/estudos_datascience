{
  "cells": [
    {
      "cell_type": "markdown",
      "metadata": {
        "id": "view-in-github",
        "colab_type": "text"
      },
      "source": [
        "<a href=\"https://colab.research.google.com/github/LeandroCoelhos/estudos_datascience/blob/main/calibracao_modelos/calibracao.ipynb\" target=\"_parent\"><img src=\"https://colab.research.google.com/assets/colab-badge.svg\" alt=\"Open In Colab\"/></a>"
      ]
    },
    {
      "cell_type": "code",
      "execution_count": 2,
      "metadata": {
        "id": "qbHFERnk1ZxI"
      },
      "outputs": [],
      "source": [
        "import numpy as np\n",
        "import matplotlib.pyplot as plt\n",
        "import pandas as pd"
      ]
    },
    {
      "cell_type": "markdown",
      "source": [
        "## Conjunto de dados previamente tratado, somente usado para exemplo rápido"
      ],
      "metadata": {
        "id": "fk6puG4n1hJk"
      }
    },
    {
      "cell_type": "code",
      "execution_count": 3,
      "metadata": {
        "colab": {
          "base_uri": "https://localhost:8080/",
          "height": 488
        },
        "id": "g5ZiB0H91ZxJ",
        "outputId": "5080b5d4-dc64-43dc-b5d6-25eef40b267d"
      },
      "outputs": [
        {
          "output_type": "execute_result",
          "data": {
            "text/plain": [
              "      Year_Birth   Income  Kidhome  Teenhome  Recency  MntWines  MntFruits  \\\n",
              "0           1957  58138.0        0         0       58       635         88   \n",
              "1           1954  46344.0        1         1       38        11          1   \n",
              "2           1965  71613.0        0         0       26       426         49   \n",
              "3           1984  26646.0        1         0       26        11          4   \n",
              "4           1981  58293.0        1         0       94       173         43   \n",
              "...          ...      ...      ...       ...      ...       ...        ...   \n",
              "2235        1967  61223.0        0         1       46       709         43   \n",
              "2236        1946  64014.0        2         1       56       406          0   \n",
              "2237        1981  56981.0        0         0       91       908         48   \n",
              "2238        1956  69245.0        0         1        8       428         30   \n",
              "2239        1954  52869.0        1         1       40        84          3   \n",
              "\n",
              "      MntMeatProducts  MntFishProducts  MntSweetProducts  ...  \\\n",
              "0                 546              172                88  ...   \n",
              "1                   6                2                 1  ...   \n",
              "2                 127              111                21  ...   \n",
              "3                  20               10                 3  ...   \n",
              "4                 118               46                27  ...   \n",
              "...               ...              ...               ...  ...   \n",
              "2235              182               42               118  ...   \n",
              "2236               30                0                 0  ...   \n",
              "2237              217               32                12  ...   \n",
              "2238              214               80                30  ...   \n",
              "2239               61                2                 1  ...   \n",
              "\n",
              "      Education_Master  Education_PhD  Marital_Status_Absurd  \\\n",
              "0                    0              0                      0   \n",
              "1                    0              0                      0   \n",
              "2                    0              0                      0   \n",
              "3                    0              0                      0   \n",
              "4                    0              1                      0   \n",
              "...                ...            ...                    ...   \n",
              "2235                 0              0                      0   \n",
              "2236                 0              1                      0   \n",
              "2237                 0              0                      0   \n",
              "2238                 1              0                      0   \n",
              "2239                 0              1                      0   \n",
              "\n",
              "      Marital_Status_Alone  Marital_Status_Divorced  Marital_Status_Married  \\\n",
              "0                        0                        0                       0   \n",
              "1                        0                        0                       0   \n",
              "2                        0                        0                       0   \n",
              "3                        0                        0                       0   \n",
              "4                        0                        0                       1   \n",
              "...                    ...                      ...                     ...   \n",
              "2235                     0                        0                       1   \n",
              "2236                     0                        0                       0   \n",
              "2237                     0                        1                       0   \n",
              "2238                     0                        0                       0   \n",
              "2239                     0                        0                       1   \n",
              "\n",
              "      Marital_Status_Single  Marital_Status_Together  Marital_Status_Widow  \\\n",
              "0                         1                        0                     0   \n",
              "1                         1                        0                     0   \n",
              "2                         0                        1                     0   \n",
              "3                         0                        1                     0   \n",
              "4                         0                        0                     0   \n",
              "...                     ...                      ...                   ...   \n",
              "2235                      0                        0                     0   \n",
              "2236                      0                        1                     0   \n",
              "2237                      0                        0                     0   \n",
              "2238                      0                        1                     0   \n",
              "2239                      0                        0                     0   \n",
              "\n",
              "      Marital_Status_YOLO  \n",
              "0                       0  \n",
              "1                       0  \n",
              "2                       0  \n",
              "3                       0  \n",
              "4                       0  \n",
              "...                   ...  \n",
              "2235                    0  \n",
              "2236                    0  \n",
              "2237                    0  \n",
              "2238                    0  \n",
              "2239                    0  \n",
              "\n",
              "[2240 rows x 38 columns]"
            ],
            "text/html": [
              "\n",
              "  <div id=\"df-9aeb0453-628f-4983-b488-804c4e520d5f\">\n",
              "    <div class=\"colab-df-container\">\n",
              "      <div>\n",
              "<style scoped>\n",
              "    .dataframe tbody tr th:only-of-type {\n",
              "        vertical-align: middle;\n",
              "    }\n",
              "\n",
              "    .dataframe tbody tr th {\n",
              "        vertical-align: top;\n",
              "    }\n",
              "\n",
              "    .dataframe thead th {\n",
              "        text-align: right;\n",
              "    }\n",
              "</style>\n",
              "<table border=\"1\" class=\"dataframe\">\n",
              "  <thead>\n",
              "    <tr style=\"text-align: right;\">\n",
              "      <th></th>\n",
              "      <th>Year_Birth</th>\n",
              "      <th>Income</th>\n",
              "      <th>Kidhome</th>\n",
              "      <th>Teenhome</th>\n",
              "      <th>Recency</th>\n",
              "      <th>MntWines</th>\n",
              "      <th>MntFruits</th>\n",
              "      <th>MntMeatProducts</th>\n",
              "      <th>MntFishProducts</th>\n",
              "      <th>MntSweetProducts</th>\n",
              "      <th>...</th>\n",
              "      <th>Education_Master</th>\n",
              "      <th>Education_PhD</th>\n",
              "      <th>Marital_Status_Absurd</th>\n",
              "      <th>Marital_Status_Alone</th>\n",
              "      <th>Marital_Status_Divorced</th>\n",
              "      <th>Marital_Status_Married</th>\n",
              "      <th>Marital_Status_Single</th>\n",
              "      <th>Marital_Status_Together</th>\n",
              "      <th>Marital_Status_Widow</th>\n",
              "      <th>Marital_Status_YOLO</th>\n",
              "    </tr>\n",
              "  </thead>\n",
              "  <tbody>\n",
              "    <tr>\n",
              "      <th>0</th>\n",
              "      <td>1957</td>\n",
              "      <td>58138.0</td>\n",
              "      <td>0</td>\n",
              "      <td>0</td>\n",
              "      <td>58</td>\n",
              "      <td>635</td>\n",
              "      <td>88</td>\n",
              "      <td>546</td>\n",
              "      <td>172</td>\n",
              "      <td>88</td>\n",
              "      <td>...</td>\n",
              "      <td>0</td>\n",
              "      <td>0</td>\n",
              "      <td>0</td>\n",
              "      <td>0</td>\n",
              "      <td>0</td>\n",
              "      <td>0</td>\n",
              "      <td>1</td>\n",
              "      <td>0</td>\n",
              "      <td>0</td>\n",
              "      <td>0</td>\n",
              "    </tr>\n",
              "    <tr>\n",
              "      <th>1</th>\n",
              "      <td>1954</td>\n",
              "      <td>46344.0</td>\n",
              "      <td>1</td>\n",
              "      <td>1</td>\n",
              "      <td>38</td>\n",
              "      <td>11</td>\n",
              "      <td>1</td>\n",
              "      <td>6</td>\n",
              "      <td>2</td>\n",
              "      <td>1</td>\n",
              "      <td>...</td>\n",
              "      <td>0</td>\n",
              "      <td>0</td>\n",
              "      <td>0</td>\n",
              "      <td>0</td>\n",
              "      <td>0</td>\n",
              "      <td>0</td>\n",
              "      <td>1</td>\n",
              "      <td>0</td>\n",
              "      <td>0</td>\n",
              "      <td>0</td>\n",
              "    </tr>\n",
              "    <tr>\n",
              "      <th>2</th>\n",
              "      <td>1965</td>\n",
              "      <td>71613.0</td>\n",
              "      <td>0</td>\n",
              "      <td>0</td>\n",
              "      <td>26</td>\n",
              "      <td>426</td>\n",
              "      <td>49</td>\n",
              "      <td>127</td>\n",
              "      <td>111</td>\n",
              "      <td>21</td>\n",
              "      <td>...</td>\n",
              "      <td>0</td>\n",
              "      <td>0</td>\n",
              "      <td>0</td>\n",
              "      <td>0</td>\n",
              "      <td>0</td>\n",
              "      <td>0</td>\n",
              "      <td>0</td>\n",
              "      <td>1</td>\n",
              "      <td>0</td>\n",
              "      <td>0</td>\n",
              "    </tr>\n",
              "    <tr>\n",
              "      <th>3</th>\n",
              "      <td>1984</td>\n",
              "      <td>26646.0</td>\n",
              "      <td>1</td>\n",
              "      <td>0</td>\n",
              "      <td>26</td>\n",
              "      <td>11</td>\n",
              "      <td>4</td>\n",
              "      <td>20</td>\n",
              "      <td>10</td>\n",
              "      <td>3</td>\n",
              "      <td>...</td>\n",
              "      <td>0</td>\n",
              "      <td>0</td>\n",
              "      <td>0</td>\n",
              "      <td>0</td>\n",
              "      <td>0</td>\n",
              "      <td>0</td>\n",
              "      <td>0</td>\n",
              "      <td>1</td>\n",
              "      <td>0</td>\n",
              "      <td>0</td>\n",
              "    </tr>\n",
              "    <tr>\n",
              "      <th>4</th>\n",
              "      <td>1981</td>\n",
              "      <td>58293.0</td>\n",
              "      <td>1</td>\n",
              "      <td>0</td>\n",
              "      <td>94</td>\n",
              "      <td>173</td>\n",
              "      <td>43</td>\n",
              "      <td>118</td>\n",
              "      <td>46</td>\n",
              "      <td>27</td>\n",
              "      <td>...</td>\n",
              "      <td>0</td>\n",
              "      <td>1</td>\n",
              "      <td>0</td>\n",
              "      <td>0</td>\n",
              "      <td>0</td>\n",
              "      <td>1</td>\n",
              "      <td>0</td>\n",
              "      <td>0</td>\n",
              "      <td>0</td>\n",
              "      <td>0</td>\n",
              "    </tr>\n",
              "    <tr>\n",
              "      <th>...</th>\n",
              "      <td>...</td>\n",
              "      <td>...</td>\n",
              "      <td>...</td>\n",
              "      <td>...</td>\n",
              "      <td>...</td>\n",
              "      <td>...</td>\n",
              "      <td>...</td>\n",
              "      <td>...</td>\n",
              "      <td>...</td>\n",
              "      <td>...</td>\n",
              "      <td>...</td>\n",
              "      <td>...</td>\n",
              "      <td>...</td>\n",
              "      <td>...</td>\n",
              "      <td>...</td>\n",
              "      <td>...</td>\n",
              "      <td>...</td>\n",
              "      <td>...</td>\n",
              "      <td>...</td>\n",
              "      <td>...</td>\n",
              "      <td>...</td>\n",
              "    </tr>\n",
              "    <tr>\n",
              "      <th>2235</th>\n",
              "      <td>1967</td>\n",
              "      <td>61223.0</td>\n",
              "      <td>0</td>\n",
              "      <td>1</td>\n",
              "      <td>46</td>\n",
              "      <td>709</td>\n",
              "      <td>43</td>\n",
              "      <td>182</td>\n",
              "      <td>42</td>\n",
              "      <td>118</td>\n",
              "      <td>...</td>\n",
              "      <td>0</td>\n",
              "      <td>0</td>\n",
              "      <td>0</td>\n",
              "      <td>0</td>\n",
              "      <td>0</td>\n",
              "      <td>1</td>\n",
              "      <td>0</td>\n",
              "      <td>0</td>\n",
              "      <td>0</td>\n",
              "      <td>0</td>\n",
              "    </tr>\n",
              "    <tr>\n",
              "      <th>2236</th>\n",
              "      <td>1946</td>\n",
              "      <td>64014.0</td>\n",
              "      <td>2</td>\n",
              "      <td>1</td>\n",
              "      <td>56</td>\n",
              "      <td>406</td>\n",
              "      <td>0</td>\n",
              "      <td>30</td>\n",
              "      <td>0</td>\n",
              "      <td>0</td>\n",
              "      <td>...</td>\n",
              "      <td>0</td>\n",
              "      <td>1</td>\n",
              "      <td>0</td>\n",
              "      <td>0</td>\n",
              "      <td>0</td>\n",
              "      <td>0</td>\n",
              "      <td>0</td>\n",
              "      <td>1</td>\n",
              "      <td>0</td>\n",
              "      <td>0</td>\n",
              "    </tr>\n",
              "    <tr>\n",
              "      <th>2237</th>\n",
              "      <td>1981</td>\n",
              "      <td>56981.0</td>\n",
              "      <td>0</td>\n",
              "      <td>0</td>\n",
              "      <td>91</td>\n",
              "      <td>908</td>\n",
              "      <td>48</td>\n",
              "      <td>217</td>\n",
              "      <td>32</td>\n",
              "      <td>12</td>\n",
              "      <td>...</td>\n",
              "      <td>0</td>\n",
              "      <td>0</td>\n",
              "      <td>0</td>\n",
              "      <td>0</td>\n",
              "      <td>1</td>\n",
              "      <td>0</td>\n",
              "      <td>0</td>\n",
              "      <td>0</td>\n",
              "      <td>0</td>\n",
              "      <td>0</td>\n",
              "    </tr>\n",
              "    <tr>\n",
              "      <th>2238</th>\n",
              "      <td>1956</td>\n",
              "      <td>69245.0</td>\n",
              "      <td>0</td>\n",
              "      <td>1</td>\n",
              "      <td>8</td>\n",
              "      <td>428</td>\n",
              "      <td>30</td>\n",
              "      <td>214</td>\n",
              "      <td>80</td>\n",
              "      <td>30</td>\n",
              "      <td>...</td>\n",
              "      <td>1</td>\n",
              "      <td>0</td>\n",
              "      <td>0</td>\n",
              "      <td>0</td>\n",
              "      <td>0</td>\n",
              "      <td>0</td>\n",
              "      <td>0</td>\n",
              "      <td>1</td>\n",
              "      <td>0</td>\n",
              "      <td>0</td>\n",
              "    </tr>\n",
              "    <tr>\n",
              "      <th>2239</th>\n",
              "      <td>1954</td>\n",
              "      <td>52869.0</td>\n",
              "      <td>1</td>\n",
              "      <td>1</td>\n",
              "      <td>40</td>\n",
              "      <td>84</td>\n",
              "      <td>3</td>\n",
              "      <td>61</td>\n",
              "      <td>2</td>\n",
              "      <td>1</td>\n",
              "      <td>...</td>\n",
              "      <td>0</td>\n",
              "      <td>1</td>\n",
              "      <td>0</td>\n",
              "      <td>0</td>\n",
              "      <td>0</td>\n",
              "      <td>1</td>\n",
              "      <td>0</td>\n",
              "      <td>0</td>\n",
              "      <td>0</td>\n",
              "      <td>0</td>\n",
              "    </tr>\n",
              "  </tbody>\n",
              "</table>\n",
              "<p>2240 rows × 38 columns</p>\n",
              "</div>\n",
              "      <button class=\"colab-df-convert\" onclick=\"convertToInteractive('df-9aeb0453-628f-4983-b488-804c4e520d5f')\"\n",
              "              title=\"Convert this dataframe to an interactive table.\"\n",
              "              style=\"display:none;\">\n",
              "        \n",
              "  <svg xmlns=\"http://www.w3.org/2000/svg\" height=\"24px\"viewBox=\"0 0 24 24\"\n",
              "       width=\"24px\">\n",
              "    <path d=\"M0 0h24v24H0V0z\" fill=\"none\"/>\n",
              "    <path d=\"M18.56 5.44l.94 2.06.94-2.06 2.06-.94-2.06-.94-.94-2.06-.94 2.06-2.06.94zm-11 1L8.5 8.5l.94-2.06 2.06-.94-2.06-.94L8.5 2.5l-.94 2.06-2.06.94zm10 10l.94 2.06.94-2.06 2.06-.94-2.06-.94-.94-2.06-.94 2.06-2.06.94z\"/><path d=\"M17.41 7.96l-1.37-1.37c-.4-.4-.92-.59-1.43-.59-.52 0-1.04.2-1.43.59L10.3 9.45l-7.72 7.72c-.78.78-.78 2.05 0 2.83L4 21.41c.39.39.9.59 1.41.59.51 0 1.02-.2 1.41-.59l7.78-7.78 2.81-2.81c.8-.78.8-2.07 0-2.86zM5.41 20L4 18.59l7.72-7.72 1.47 1.35L5.41 20z\"/>\n",
              "  </svg>\n",
              "      </button>\n",
              "      \n",
              "  <style>\n",
              "    .colab-df-container {\n",
              "      display:flex;\n",
              "      flex-wrap:wrap;\n",
              "      gap: 12px;\n",
              "    }\n",
              "\n",
              "    .colab-df-convert {\n",
              "      background-color: #E8F0FE;\n",
              "      border: none;\n",
              "      border-radius: 50%;\n",
              "      cursor: pointer;\n",
              "      display: none;\n",
              "      fill: #1967D2;\n",
              "      height: 32px;\n",
              "      padding: 0 0 0 0;\n",
              "      width: 32px;\n",
              "    }\n",
              "\n",
              "    .colab-df-convert:hover {\n",
              "      background-color: #E2EBFA;\n",
              "      box-shadow: 0px 1px 2px rgba(60, 64, 67, 0.3), 0px 1px 3px 1px rgba(60, 64, 67, 0.15);\n",
              "      fill: #174EA6;\n",
              "    }\n",
              "\n",
              "    [theme=dark] .colab-df-convert {\n",
              "      background-color: #3B4455;\n",
              "      fill: #D2E3FC;\n",
              "    }\n",
              "\n",
              "    [theme=dark] .colab-df-convert:hover {\n",
              "      background-color: #434B5C;\n",
              "      box-shadow: 0px 1px 3px 1px rgba(0, 0, 0, 0.15);\n",
              "      filter: drop-shadow(0px 1px 2px rgba(0, 0, 0, 0.3));\n",
              "      fill: #FFFFFF;\n",
              "    }\n",
              "  </style>\n",
              "\n",
              "      <script>\n",
              "        const buttonEl =\n",
              "          document.querySelector('#df-9aeb0453-628f-4983-b488-804c4e520d5f button.colab-df-convert');\n",
              "        buttonEl.style.display =\n",
              "          google.colab.kernel.accessAllowed ? 'block' : 'none';\n",
              "\n",
              "        async function convertToInteractive(key) {\n",
              "          const element = document.querySelector('#df-9aeb0453-628f-4983-b488-804c4e520d5f');\n",
              "          const dataTable =\n",
              "            await google.colab.kernel.invokeFunction('convertToInteractive',\n",
              "                                                     [key], {});\n",
              "          if (!dataTable) return;\n",
              "\n",
              "          const docLinkHtml = 'Like what you see? Visit the ' +\n",
              "            '<a target=\"_blank\" href=https://colab.research.google.com/notebooks/data_table.ipynb>data table notebook</a>'\n",
              "            + ' to learn more about interactive tables.';\n",
              "          element.innerHTML = '';\n",
              "          dataTable['output_type'] = 'display_data';\n",
              "          await google.colab.output.renderOutput(dataTable, element);\n",
              "          const docLink = document.createElement('div');\n",
              "          docLink.innerHTML = docLinkHtml;\n",
              "          element.appendChild(docLink);\n",
              "        }\n",
              "      </script>\n",
              "    </div>\n",
              "  </div>\n",
              "  "
            ]
          },
          "metadata": {},
          "execution_count": 3
        }
      ],
      "source": [
        "df = pd.read_csv('https://raw.githubusercontent.com/LeandroCoelhos/estudos_datascience/main/calibracao_modelos/base_calibracao.csv')\n",
        "df"
      ]
    },
    {
      "cell_type": "code",
      "execution_count": null,
      "metadata": {
        "id": "YXDijw7U1ZxL"
      },
      "outputs": [],
      "source": [
        "X = df.drop('Response',axis=1)\n",
        "y = df.Response\n",
        "\n",
        "from sklearn.model_selection import train_test_split\n",
        "X_tr, X_ts, y_tr, y_ts = train_test_split(X,y, test_size=0.50)"
      ]
    },
    {
      "cell_type": "markdown",
      "source": [
        "## RobustScaler\n",
        "\n",
        "pega sua mediana como ponto central zero"
      ],
      "metadata": {
        "id": "p_NuUF9A1qO2"
      }
    },
    {
      "cell_type": "code",
      "execution_count": null,
      "metadata": {
        "id": "GRjPU8cc1ZxM"
      },
      "outputs": [],
      "source": [
        "from sklearn.preprocessing import RobustScaler\n",
        "\n",
        "scaler = RobustScaler()\n",
        "\n",
        "scaler.fit(X_tr)\n",
        "\n",
        "X_tr_s = scaler.transform(X_tr)\n",
        "X_ts_s = scaler.transform(X_ts)"
      ]
    },
    {
      "cell_type": "code",
      "execution_count": null,
      "metadata": {
        "id": "_f3-VyaY1ZxM",
        "outputId": "a1507965-7561-4959-be97-623dc3ee538b"
      },
      "outputs": [
        {
          "data": {
            "text/plain": [
              "GaussianNB()"
            ]
          },
          "execution_count": 5,
          "metadata": {},
          "output_type": "execute_result"
        }
      ],
      "source": [
        "from sklearn.naive_bayes import GaussianNB\n",
        "\n",
        "gnb = GaussianNB()\n",
        "\n",
        "gnb.fit(X_tr_s, y_tr)"
      ]
    },
    {
      "cell_type": "code",
      "execution_count": null,
      "metadata": {
        "id": "jDOGGvDX1ZxM",
        "outputId": "602d02c0-d552-469c-826f-5e63fdae9a69"
      },
      "outputs": [
        {
          "data": {
            "text/plain": [
              "0.7872022681922659"
            ]
          },
          "execution_count": 6,
          "metadata": {},
          "output_type": "execute_result"
        }
      ],
      "source": [
        "from sklearn.metrics import roc_auc_score\n",
        "\n",
        "preds = gnb.predict_proba(X_ts_s)[:,1]\n",
        "\n",
        "roc_auc_score(y_ts, preds)"
      ]
    },
    {
      "cell_type": "markdown",
      "source": [
        "## Note que o modelo não solta a probabilidade\n",
        "Se fosse probabilidade, ele seguiria uma tendencia linear conforme as probabilidades aumentam, sem essa queda depois dos 40%"
      ],
      "metadata": {
        "id": "osJ-oLHe14cq"
      }
    },
    {
      "cell_type": "code",
      "execution_count": null,
      "metadata": {
        "id": "lIcgujAy1ZxO",
        "outputId": "d1d4c95e-2534-4d03-aef9-ba1ab5b2fc85"
      },
      "outputs": [
        {
          "data": {
            "text/plain": [
              "[<matplotlib.lines.Line2D at 0x7f273cfdd1c0>]"
            ]
          },
          "execution_count": 7,
          "metadata": {},
          "output_type": "execute_result"
        },
        {
          "data": {
            "image/png": "[encoded data removed]",
            "text/plain": [
              "<Figure size 1080x360 with 1 Axes>"
            ]
          },
          "metadata": {
            "needs_background": "light"
          },
          "output_type": "display_data"
        }
      ],
      "source": [
        "from sklearn.calibration import calibration_curve\n",
        "\n",
        "prob_true, prob_pred = calibration_curve(y_ts, preds)\n",
        "\n",
        "plt.figure(figsize=(15,5))\n",
        "plt.plot(prob_pred, prob_true,'o-')\n",
        "plt.plot((0,1),(0,1),'k:')"
      ]
    },
    {
      "cell_type": "markdown",
      "source": [
        "## Treinar a regressão logistica apenas com a saida do Nayv\n",
        "\n",
        "A ideia é treinar uma regressão logistica com os scores soltos pelo Nayv\n",
        "Mas note que temos que tomar um cuidado, pois usamos os scores do conjunto de teste do nayv para treinar nossa regressão, então precisamos dividir novamente nosso conjunto\n",
        "\n",
        "Isso fasz com que nosso conjuntod e teste fique ainda menor, o que pode ser um problema"
      ],
      "metadata": {
        "id": "3P01QXIy2U7e"
      }
    },
    {
      "cell_type": "code",
      "execution_count": null,
      "metadata": {
        "id": "8En_KJhS1ZxO"
      },
      "outputs": [],
      "source": [
        "X_tr2, X_ts2, y_tr2, y_ts2 = train_test_split(X_ts_s, y_ts, test_size=.50)\n",
        "\n",
        "from sklearn.linear_model import LogisticRegression\n",
        "\n",
        "preds_tr = gnb.predict_proba(X_tr2)[:,1]\n",
        "preds_ts = gnb.predict_proba(X_ts2)[:,1]\n",
        "\n",
        "lr = LogisticRegression(penalty='none')\n",
        "\n",
        "pred_tr_df = pd.DataFrame(np.array([preds_tr]).T,columns=['pred'])\n",
        "pred_ts_df = pd.DataFrame(np.array([preds_ts]).T,columns=['pred'])\n",
        "\n",
        "lr.fit(pred_tr_df, y_tr2)\n",
        "\n",
        "preds_2 = lr.predict_proba(pred_ts_df)[:,1]"
      ]
    },
    {
      "cell_type": "markdown",
      "source": [
        "## Não vemos grande diferença na AUC\n",
        "Pois já estamos partindo de uma boa ordenação, o impacto da regressão é somente em esticar ou melhor, em mudar um pouco o formato desse score para uma curva de problabilidade"
      ],
      "metadata": {
        "id": "6Cwonrlk2uuj"
      }
    },
    {
      "cell_type": "code",
      "execution_count": null,
      "metadata": {
        "id": "lBe_UCz11ZxP",
        "outputId": "25248733-b3f0-4991-d137-256fb5f99f82"
      },
      "outputs": [
        {
          "name": "stdout",
          "output_type": "stream",
          "text": [
            "Original:  0.7889004149377593\n",
            "Reg.Log.:  0.7890999042451324\n"
          ]
        }
      ],
      "source": [
        "print('Original: ', roc_auc_score(y_ts2, preds_ts) )\n",
        "print('Reg.Log.: ', roc_auc_score(y_ts2, preds_2) )"
      ]
    },
    {
      "cell_type": "markdown",
      "source": [
        "## Note que o Score encolheu\n",
        "Isso aconteceu porque a regressão considerou o Nayv uma modelo otimista demais, então considerou que não deveriam haver pessoas com score de 100% nem com 0%"
      ],
      "metadata": {
        "id": "hnUJQlMx3dO2"
      }
    },
    {
      "cell_type": "code",
      "execution_count": null,
      "metadata": {
        "id": "gqTJGh5b1ZxQ",
        "outputId": "5207c1ca-fc95-4910-87d2-0a86c5447c31"
      },
      "outputs": [
        {
          "data": {
            "text/plain": [
              "[<matplotlib.lines.Line2D at 0x7f273cf46970>]"
            ]
          },
          "execution_count": 10,
          "metadata": {},
          "output_type": "execute_result"
        },
        {
          "data": {
            "image/png": "[encoded data removed]",
            "text/plain": [
              "<Figure size 1080x360 with 1 Axes>"
            ]
          },
          "metadata": {
            "needs_background": "light"
          },
          "output_type": "display_data"
        }
      ],
      "source": [
        "prob_true, prob_pred = calibration_curve(y_ts2, preds_ts)\n",
        "prob_true_2, prob_pred_2 = calibration_curve(y_ts2, preds_2)\n",
        "\n",
        "plt.figure(figsize=(15,5))\n",
        "plt.plot(prob_pred, prob_true,'o-')\n",
        "plt.plot(prob_pred_2, prob_true_2,'go-')\n",
        "plt.plot((0,1),(0,1),'k:')"
      ]
    },
    {
      "cell_type": "code",
      "execution_count": null,
      "metadata": {
        "id": "vfbdhx9C1ZxR",
        "outputId": "287f9ff1-8b69-42d3-ce5f-2a0a806f65a9"
      },
      "outputs": [
        {
          "data": {
            "text/plain": [
              "(array([0.        , 7.17948718, 0.8974359 , 0.17948718, 0.17948718,\n",
              "        0.17948718, 5.38461538, 0.        , 0.        , 0.        ,\n",
              "        0.        , 0.        , 0.        , 0.        ]),\n",
              " array([0.        , 0.07142857, 0.14285714, 0.21428571, 0.28571429,\n",
              "        0.35714286, 0.42857143, 0.5       , 0.57142857, 0.64285714,\n",
              "        0.71428571, 0.78571429, 0.85714286, 0.92857143, 1.        ]),\n",
              " <BarContainer object of 14 artists>)"
            ]
          },
          "execution_count": 11,
          "metadata": {},
          "output_type": "execute_result"
        },
        {
          "data": {
            "image/png": "[encoded data removed]",
            "text/plain": [
              "<Figure size 1080x360 with 1 Axes>"
            ]
          },
          "metadata": {
            "needs_background": "light"
          },
          "output_type": "display_data"
        },
        {
          "data": {
            "image/png": "[encoded data removed]",
            "text/plain": [
              "<Figure size 1080x360 with 1 Axes>"
            ]
          },
          "metadata": {
            "needs_background": "light"
          },
          "output_type": "display_data"
        }
      ],
      "source": [
        "plt.figure(figsize=(15,5))\n",
        "plt.hist(preds[y_ts==0], bins=np.linspace(0,1,15),rwidth=.8, alpha=.3, color='C0',density=True)\n",
        "plt.hist(preds[y_ts==1], bins=np.linspace(0,1,15),rwidth=.8, alpha=.3, color='C3',density=True)\n",
        "\n",
        "plt.figure(figsize=(15,5))\n",
        "plt.hist(preds_2[y_ts2==0], bins=np.linspace(0,1,15),rwidth=.8, alpha=.3, color='C0',density=True)\n",
        "plt.hist(preds_2[y_ts2==1], bins=np.linspace(0,1,15),rwidth=.8, alpha=.3, color='C3',density=True)"
      ]
    },
    {
      "cell_type": "code",
      "execution_count": null,
      "metadata": {
        "id": "Y24Fls7T1ZxS"
      },
      "outputs": [],
      "source": []
    }
  ],
  "metadata": {
    "kernelspec": {
      "display_name": "Python 3",
      "language": "python",
      "name": "python3"
    },
    "language_info": {
      "codemirror_mode": {
        "name": "ipython",
        "version": 3
      },
      "file_extension": ".py",
      "mimetype": "text/x-python",
      "name": "python",
      "nbconvert_exporter": "python",
      "pygments_lexer": "ipython3",
      "version": "3.9.2"
    },
    "colab": {
      "provenance": [],
      "include_colab_link": true
    }
  },
  "nbformat": 4,
  "nbformat_minor": 0
}