{
  "cells": [
    {
      "cell_type": "markdown",
      "metadata": {
        "id": "view-in-github",
        "colab_type": "text"
      },
      "source": [
        "<a href=\"https://colab.research.google.com/github/LeandroCoelhos/estudos_datascience/blob/main/feature%20importance.ipynb\" target=\"_parent\"><img src=\"https://colab.research.google.com/assets/colab-badge.svg\" alt=\"Open In Colab\"/></a>"
      ]
    },
    {
      "cell_type": "code",
      "execution_count": null,
      "metadata": {
        "id": "zeaEMEwaJd4k"
      },
      "outputs": [],
      "source": [
        "#!pip install sweetviz #Faz o uso de uma interface para eda Basico"
      ]
    },
    {
      "cell_type": "code",
      "execution_count": null,
      "metadata": {
        "id": "_pL4qAcyJklO"
      },
      "outputs": [],
      "source": [
        "import pandas as pd\n",
        "import numpy as np\n",
        "import seaborn as sns\n",
        "import matplotlib.pyplot as plt\n",
        "\n",
        "import sweetviz \n",
        "import IPython\n",
        "\n",
        "from sklearn.preprocessing import StandardScaler\n",
        "\n",
        "from sklearn.feature_selection import SelectFromModel\n",
        "from matplotlib.axes._axes import _log as matplotlib_axes_logger\n",
        "\n",
        "from sklearn.ensemble import RandomTreesEmbedding, ExtraTreesClassifier, AdaBoostClassifier, GradientBoostingClassifier, VotingClassifier\n",
        "from sklearn.ensemble import RandomForestClassifier\n",
        "from sklearn.model_selection import cross_validate, RepeatedStratifiedKFold \n",
        "from sklearn.linear_model import LogisticRegression, Perceptron, PassiveAggressiveClassifier\n",
        "from sklearn.discriminant_analysis import LinearDiscriminantAnalysis, QuadraticDiscriminantAnalysis\n",
        "from sklearn.neighbors import KNeighborsClassifier\n",
        "from sklearn.ensemble import BaggingClassifier\n",
        "from sklearn.neural_network import MLPClassifier \n",
        "from sklearn.tree import DecisionTreeClassifier\n",
        "from sklearn.svm import SVC\n",
        "from sklearn.naive_bayes import GaussianNB\n",
        "from sklearn.dummy import DummyClassifier\n",
        "\n",
        "\n",
        "from sklearn.model_selection import GridSearchCV\n",
        "from sklearn.model_selection import RandomizedSearchCV\n",
        "from time import time"
      ]
    },
    {
      "cell_type": "code",
      "execution_count": null,
      "metadata": {
        "id": "-KgspkHR-6p_"
      },
      "outputs": [],
      "source": [
        "# importanto os conjuntos de dados (via upload no Colab)\n",
        "\n",
        "treino = pd.read_csv('https://raw.githubusercontent.com/LeandroCoelhos/datasets/main/3%20Competicao%20Flai/treino.csv')\n",
        "teste = pd.read_csv('https://raw.githubusercontent.com/LeandroCoelhos/datasets/main/3%20Competicao%20Flai/teste.csv')"
      ]
    },
    {
      "cell_type": "markdown",
      "metadata": {
        "id": "G0ErA2FpX9bB"
      },
      "source": [
        "Descrição das Variáveis\n",
        "\n",
        "\n",
        "*   **Age:** Idade do Cliente\n",
        "*   **Job:** Tipo de emprego\n",
        "*   **Marital:** Estado Civil\n",
        "*   **Education:** nível de educação\n",
        "*   **default:** é inadiplente?\n",
        "*   **Balance:** quantidade em conta\n",
        "*   **housing:** tem casa própria?\n",
        "*   **Loan:** tem empréstimo pessoal\n",
        "*   **Contact:** tipo de Comunicação\n",
        "*   **Month:** mês do último contato\n",
        "*   **Campaign:** número de contatos\n",
        "*   **Pdays:** número de dias que se passaram desde que o cliente foi contatado em campanha anterior\n",
        "*   **Previus:** número de contatos realizados antes desta campanha\n",
        "*   **Poutcome:** resultado da campanha de marketing anterior\n",
        "*   **term_deposit:** O CLIENTE FEZ DEPÓSITO?[Target]\n",
        "\n"
      ]
    },
    {
      "cell_type": "code",
      "execution_count": null,
      "metadata": {
        "colab": {
          "base_uri": "https://localhost:8080/"
        },
        "id": "uQcuGR3qaVQv",
        "outputId": "ee74ae5c-ccfb-45ea-ebee-49f13475fc54"
      },
      "outputs": [
        {
          "name": "stdout",
          "output_type": "stream",
          "text": [
            "Valores no Conjunto de TREINO:\n",
            "\n",
            "<class 'pandas.core.frame.DataFrame'>\n",
            "RangeIndex: 6500 entries, 0 to 6499\n",
            "Data columns (total 17 columns):\n",
            " #   Column        Non-Null Count  Dtype \n",
            "---  ------        --------------  ----- \n",
            " 0   Unnamed: 0    6500 non-null   int64 \n",
            " 1   age           6500 non-null   int64 \n",
            " 2   job           6500 non-null   object\n",
            " 3   marital       6500 non-null   object\n",
            " 4   education     6500 non-null   object\n",
            " 5   default       6500 non-null   object\n",
            " 6   balance       6500 non-null   int64 \n",
            " 7   housing       6500 non-null   object\n",
            " 8   loan          6500 non-null   object\n",
            " 9   contact       6500 non-null   object\n",
            " 10  day           6500 non-null   int64 \n",
            " 11  month         6500 non-null   object\n",
            " 12  campaign      6500 non-null   int64 \n",
            " 13  pdays         6500 non-null   int64 \n",
            " 14  previous      6500 non-null   int64 \n",
            " 15  poutcome      6500 non-null   object\n",
            " 16  term_deposit  6500 non-null   object\n",
            "dtypes: int64(7), object(10)\n",
            "memory usage: 863.4+ KB\n",
            "None\n",
            "\n",
            "\n",
            "Valores no Conjunto de Teste:\n",
            "\n",
            "<class 'pandas.core.frame.DataFrame'>\n",
            "RangeIndex: 1422 entries, 0 to 1421\n",
            "Data columns (total 16 columns):\n",
            " #   Column      Non-Null Count  Dtype \n",
            "---  ------      --------------  ----- \n",
            " 0   Unnamed: 0  1422 non-null   int64 \n",
            " 1   age         1422 non-null   int64 \n",
            " 2   job         1422 non-null   object\n",
            " 3   marital     1422 non-null   object\n",
            " 4   education   1422 non-null   object\n",
            " 5   default     1422 non-null   object\n",
            " 6   balance     1422 non-null   int64 \n",
            " 7   housing     1422 non-null   object\n",
            " 8   loan        1422 non-null   object\n",
            " 9   contact     1422 non-null   object\n",
            " 10  day         1422 non-null   int64 \n",
            " 11  month       1422 non-null   object\n",
            " 12  campaign    1422 non-null   int64 \n",
            " 13  pdays       1422 non-null   int64 \n",
            " 14  previous    1422 non-null   int64 \n",
            " 15  poutcome    1422 non-null   object\n",
            "dtypes: int64(7), object(9)\n",
            "memory usage: 177.9+ KB\n",
            "None\n"
          ]
        }
      ],
      "source": [
        "print(\"Valores no Conjunto de TREINO:\\n\")\n",
        "print(treino.info())\n",
        "print(\"\\n\\nValores no Conjunto de Teste:\\n\")\n",
        "print(teste.info())"
      ]
    },
    {
      "cell_type": "code",
      "execution_count": null,
      "metadata": {
        "colab": {
          "base_uri": "https://localhost:8080/",
          "height": 206
        },
        "id": "gfeMZsMSaVZV",
        "outputId": "35069b4a-6a12-4612-d737-e5cf11168344"
      },
      "outputs": [
        {
          "data": {
            "text/html": [
              "<div>\n",
              "<style scoped>\n",
              "    .dataframe tbody tr th:only-of-type {\n",
              "        vertical-align: middle;\n",
              "    }\n",
              "\n",
              "    .dataframe tbody tr th {\n",
              "        vertical-align: top;\n",
              "    }\n",
              "\n",
              "    .dataframe thead th {\n",
              "        text-align: right;\n",
              "    }\n",
              "</style>\n",
              "<table border=\"1\" class=\"dataframe\">\n",
              "  <thead>\n",
              "    <tr style=\"text-align: right;\">\n",
              "      <th></th>\n",
              "      <th>Unnamed: 0</th>\n",
              "      <th>age</th>\n",
              "      <th>job</th>\n",
              "      <th>marital</th>\n",
              "      <th>education</th>\n",
              "      <th>default</th>\n",
              "      <th>balance</th>\n",
              "      <th>housing</th>\n",
              "      <th>loan</th>\n",
              "      <th>contact</th>\n",
              "      <th>day</th>\n",
              "      <th>month</th>\n",
              "      <th>campaign</th>\n",
              "      <th>pdays</th>\n",
              "      <th>previous</th>\n",
              "      <th>poutcome</th>\n",
              "      <th>term_deposit</th>\n",
              "    </tr>\n",
              "  </thead>\n",
              "  <tbody>\n",
              "    <tr>\n",
              "      <th>0</th>\n",
              "      <td>0</td>\n",
              "      <td>46</td>\n",
              "      <td>management</td>\n",
              "      <td>divorced</td>\n",
              "      <td>tertiary</td>\n",
              "      <td>no</td>\n",
              "      <td>14481</td>\n",
              "      <td>yes</td>\n",
              "      <td>no</td>\n",
              "      <td>unknown</td>\n",
              "      <td>30</td>\n",
              "      <td>may</td>\n",
              "      <td>1</td>\n",
              "      <td>-1</td>\n",
              "      <td>0</td>\n",
              "      <td>unknown</td>\n",
              "      <td>yes</td>\n",
              "    </tr>\n",
              "    <tr>\n",
              "      <th>1</th>\n",
              "      <td>1</td>\n",
              "      <td>37</td>\n",
              "      <td>management</td>\n",
              "      <td>single</td>\n",
              "      <td>tertiary</td>\n",
              "      <td>no</td>\n",
              "      <td>457</td>\n",
              "      <td>yes</td>\n",
              "      <td>no</td>\n",
              "      <td>cellular</td>\n",
              "      <td>1</td>\n",
              "      <td>apr</td>\n",
              "      <td>3</td>\n",
              "      <td>-1</td>\n",
              "      <td>0</td>\n",
              "      <td>unknown</td>\n",
              "      <td>no</td>\n",
              "    </tr>\n",
              "    <tr>\n",
              "      <th>2</th>\n",
              "      <td>2</td>\n",
              "      <td>34</td>\n",
              "      <td>blue-collar</td>\n",
              "      <td>single</td>\n",
              "      <td>secondary</td>\n",
              "      <td>no</td>\n",
              "      <td>1698</td>\n",
              "      <td>yes</td>\n",
              "      <td>no</td>\n",
              "      <td>unknown</td>\n",
              "      <td>27</td>\n",
              "      <td>may</td>\n",
              "      <td>7</td>\n",
              "      <td>-1</td>\n",
              "      <td>0</td>\n",
              "      <td>unknown</td>\n",
              "      <td>no</td>\n",
              "    </tr>\n",
              "    <tr>\n",
              "      <th>3</th>\n",
              "      <td>3</td>\n",
              "      <td>45</td>\n",
              "      <td>unemployed</td>\n",
              "      <td>single</td>\n",
              "      <td>secondary</td>\n",
              "      <td>no</td>\n",
              "      <td>33</td>\n",
              "      <td>no</td>\n",
              "      <td>no</td>\n",
              "      <td>cellular</td>\n",
              "      <td>5</td>\n",
              "      <td>feb</td>\n",
              "      <td>1</td>\n",
              "      <td>-1</td>\n",
              "      <td>0</td>\n",
              "      <td>unknown</td>\n",
              "      <td>no</td>\n",
              "    </tr>\n",
              "    <tr>\n",
              "      <th>4</th>\n",
              "      <td>4</td>\n",
              "      <td>31</td>\n",
              "      <td>management</td>\n",
              "      <td>married</td>\n",
              "      <td>tertiary</td>\n",
              "      <td>no</td>\n",
              "      <td>131</td>\n",
              "      <td>no</td>\n",
              "      <td>no</td>\n",
              "      <td>cellular</td>\n",
              "      <td>18</td>\n",
              "      <td>feb</td>\n",
              "      <td>2</td>\n",
              "      <td>-1</td>\n",
              "      <td>0</td>\n",
              "      <td>unknown</td>\n",
              "      <td>yes</td>\n",
              "    </tr>\n",
              "  </tbody>\n",
              "</table>\n",
              "</div>"
            ],
            "text/plain": [
              "   Unnamed: 0  age          job   marital  education default  balance housing  \\\n",
              "0           0   46   management  divorced   tertiary      no    14481     yes   \n",
              "1           1   37   management    single   tertiary      no      457     yes   \n",
              "2           2   34  blue-collar    single  secondary      no     1698     yes   \n",
              "3           3   45   unemployed    single  secondary      no       33      no   \n",
              "4           4   31   management   married   tertiary      no      131      no   \n",
              "\n",
              "  loan   contact  day month  campaign  pdays  previous poutcome term_deposit  \n",
              "0   no   unknown   30   may         1     -1         0  unknown          yes  \n",
              "1   no  cellular    1   apr         3     -1         0  unknown           no  \n",
              "2   no   unknown   27   may         7     -1         0  unknown           no  \n",
              "3   no  cellular    5   feb         1     -1         0  unknown           no  \n",
              "4   no  cellular   18   feb         2     -1         0  unknown          yes  "
            ]
          },
          "execution_count": 5,
          "metadata": {},
          "output_type": "execute_result"
        }
      ],
      "source": [
        "treino.head()"
      ]
    },
    {
      "cell_type": "markdown",
      "metadata": {
        "id": "nfkuKBhAo3FM"
      },
      "source": [
        "Análise Exploratória do conjunto de Teste"
      ]
    },
    {
      "cell_type": "code",
      "execution_count": null,
      "metadata": {
        "colab": {
          "base_uri": "https://localhost:8080/",
          "height": 772
        },
        "id": "aGDF2MEvo6Ws",
        "outputId": "191c7e95-ca27-48c4-bb08-d1b3e35ffe41"
      },
      "outputs": [
        {
          "data": {
            "text/plain": [
              "<AxesSubplot:xlabel='education', ylabel='count'>"
            ]
          },
          "execution_count": 6,
          "metadata": {},
          "output_type": "execute_result"
        },
        {
          "data": {
            "image/png": "[encoded data removed]",
            "text/plain": [
              "<Figure size 2880x1440 with 2 Axes>"
            ]
          },
          "metadata": {
            "needs_background": "light"
          },
          "output_type": "display_data"
        }
      ],
      "source": [
        "fig, (ax1, ax2) = plt.subplots(nrows= 1, ncols=2, figsize = (40,20))\n",
        "sns.countplot(x='contact' ,hue='term_deposit', data = treino, ax=ax1, palette='YlGnBu', alpha = 0.8)\n",
        "sns.countplot(x='education' ,hue='contact', data = treino, ax=ax2, palette='PuOr', alpha = 0.8)\n",
        "#sns.countplot(x='previous' ,hue='term_deposit', data = treino, ax=ax3, palette='YlGnBu', alpha = 0.8)\n",
        "#sns.countplot(x='poutcome' ,hue='term_deposit', data = treino, ax=ax4, palette='PuOr', alpha = 0.8)\n",
        "\n",
        "#fig.savefig('ageComparação.pdf')\n",
        "\n",
        "#sns.countplot(x = treino.loc[treino.month == 'may'].month, hue = treino['day'], palette = 'PuOr', ax=ax2, alpha=0.8)"
      ]
    },
    {
      "cell_type": "code",
      "execution_count": null,
      "metadata": {
        "colab": {
          "base_uri": "https://localhost:8080/",
          "height": 401
        },
        "id": "8_aTb31ROsqZ",
        "outputId": "c8a5a62d-e9a9-485b-8241-e06e91d19648"
      },
      "outputs": [
        {
          "data": {
            "text/plain": [
              "<seaborn.axisgrid.FacetGrid at 0x20f957d5040>"
            ]
          },
          "execution_count": 7,
          "metadata": {},
          "output_type": "execute_result"
        },
        {
          "data": {
            "image/png": "[encoded data removed]",
            "text/plain": [
              "<Figure size 360x360 with 1 Axes>"
            ]
          },
          "metadata": {
            "needs_background": "light"
          },
          "output_type": "display_data"
        }
      ],
      "source": [
        "sns.catplot(data=treino, kind=\"bar\", x=\"previous\", y=\"previous\", hue=\"previous\")\n"
      ]
    },
    {
      "cell_type": "code",
      "execution_count": null,
      "metadata": {
        "colab": {
          "base_uri": "https://localhost:8080/",
          "height": 206
        },
        "id": "adaIKs7cXEdy",
        "outputId": "0b9e3b7a-e04a-46be-b839-0cce570b4fb6"
      },
      "outputs": [
        {
          "data": {
            "text/html": [
              "<div>\n",
              "<style scoped>\n",
              "    .dataframe tbody tr th:only-of-type {\n",
              "        vertical-align: middle;\n",
              "    }\n",
              "\n",
              "    .dataframe tbody tr th {\n",
              "        vertical-align: top;\n",
              "    }\n",
              "\n",
              "    .dataframe thead th {\n",
              "        text-align: right;\n",
              "    }\n",
              "</style>\n",
              "<table border=\"1\" class=\"dataframe\">\n",
              "  <thead>\n",
              "    <tr style=\"text-align: right;\">\n",
              "      <th></th>\n",
              "      <th>Unnamed: 0</th>\n",
              "      <th>age</th>\n",
              "      <th>job</th>\n",
              "      <th>marital</th>\n",
              "      <th>education</th>\n",
              "      <th>default</th>\n",
              "      <th>balance</th>\n",
              "      <th>housing</th>\n",
              "      <th>loan</th>\n",
              "      <th>contact</th>\n",
              "      <th>day</th>\n",
              "      <th>month</th>\n",
              "      <th>campaign</th>\n",
              "      <th>pdays</th>\n",
              "      <th>previous</th>\n",
              "      <th>poutcome</th>\n",
              "      <th>term_deposit</th>\n",
              "    </tr>\n",
              "  </thead>\n",
              "  <tbody>\n",
              "    <tr>\n",
              "      <th>0</th>\n",
              "      <td>0</td>\n",
              "      <td>46</td>\n",
              "      <td>management</td>\n",
              "      <td>divorced</td>\n",
              "      <td>tertiary</td>\n",
              "      <td>no</td>\n",
              "      <td>14481</td>\n",
              "      <td>yes</td>\n",
              "      <td>no</td>\n",
              "      <td>unknown</td>\n",
              "      <td>30</td>\n",
              "      <td>may</td>\n",
              "      <td>1</td>\n",
              "      <td>-1</td>\n",
              "      <td>0</td>\n",
              "      <td>unknown</td>\n",
              "      <td>yes</td>\n",
              "    </tr>\n",
              "    <tr>\n",
              "      <th>1</th>\n",
              "      <td>1</td>\n",
              "      <td>37</td>\n",
              "      <td>management</td>\n",
              "      <td>single</td>\n",
              "      <td>tertiary</td>\n",
              "      <td>no</td>\n",
              "      <td>457</td>\n",
              "      <td>yes</td>\n",
              "      <td>no</td>\n",
              "      <td>cellular</td>\n",
              "      <td>1</td>\n",
              "      <td>apr</td>\n",
              "      <td>3</td>\n",
              "      <td>-1</td>\n",
              "      <td>0</td>\n",
              "      <td>unknown</td>\n",
              "      <td>no</td>\n",
              "    </tr>\n",
              "    <tr>\n",
              "      <th>2</th>\n",
              "      <td>2</td>\n",
              "      <td>34</td>\n",
              "      <td>blue-collar</td>\n",
              "      <td>single</td>\n",
              "      <td>secondary</td>\n",
              "      <td>no</td>\n",
              "      <td>1698</td>\n",
              "      <td>yes</td>\n",
              "      <td>no</td>\n",
              "      <td>unknown</td>\n",
              "      <td>27</td>\n",
              "      <td>may</td>\n",
              "      <td>7</td>\n",
              "      <td>-1</td>\n",
              "      <td>0</td>\n",
              "      <td>unknown</td>\n",
              "      <td>no</td>\n",
              "    </tr>\n",
              "    <tr>\n",
              "      <th>3</th>\n",
              "      <td>3</td>\n",
              "      <td>45</td>\n",
              "      <td>unemployed</td>\n",
              "      <td>single</td>\n",
              "      <td>secondary</td>\n",
              "      <td>no</td>\n",
              "      <td>33</td>\n",
              "      <td>no</td>\n",
              "      <td>no</td>\n",
              "      <td>cellular</td>\n",
              "      <td>5</td>\n",
              "      <td>feb</td>\n",
              "      <td>1</td>\n",
              "      <td>-1</td>\n",
              "      <td>0</td>\n",
              "      <td>unknown</td>\n",
              "      <td>no</td>\n",
              "    </tr>\n",
              "    <tr>\n",
              "      <th>4</th>\n",
              "      <td>4</td>\n",
              "      <td>31</td>\n",
              "      <td>management</td>\n",
              "      <td>married</td>\n",
              "      <td>tertiary</td>\n",
              "      <td>no</td>\n",
              "      <td>131</td>\n",
              "      <td>no</td>\n",
              "      <td>no</td>\n",
              "      <td>cellular</td>\n",
              "      <td>18</td>\n",
              "      <td>feb</td>\n",
              "      <td>2</td>\n",
              "      <td>-1</td>\n",
              "      <td>0</td>\n",
              "      <td>unknown</td>\n",
              "      <td>yes</td>\n",
              "    </tr>\n",
              "  </tbody>\n",
              "</table>\n",
              "</div>"
            ],
            "text/plain": [
              "   Unnamed: 0  age          job   marital  education default  balance housing  \\\n",
              "0           0   46   management  divorced   tertiary      no    14481     yes   \n",
              "1           1   37   management    single   tertiary      no      457     yes   \n",
              "2           2   34  blue-collar    single  secondary      no     1698     yes   \n",
              "3           3   45   unemployed    single  secondary      no       33      no   \n",
              "4           4   31   management   married   tertiary      no      131      no   \n",
              "\n",
              "  loan   contact  day month  campaign  pdays  previous poutcome term_deposit  \n",
              "0   no   unknown   30   may         1     -1         0  unknown          yes  \n",
              "1   no  cellular    1   apr         3     -1         0  unknown           no  \n",
              "2   no   unknown   27   may         7     -1         0  unknown           no  \n",
              "3   no  cellular    5   feb         1     -1         0  unknown           no  \n",
              "4   no  cellular   18   feb         2     -1         0  unknown          yes  "
            ]
          },
          "execution_count": 8,
          "metadata": {},
          "output_type": "execute_result"
        }
      ],
      "source": [
        "x=treino[treino['previous'] > 0]['previous']\n",
        "hue =treino[treino['previous'] > 0]['term_deposit']\n",
        "#sns.countplot(x=x ,hue=hue, palette='PuOr', alpha = 0.8)\n",
        "#sns.countplot(x='age' ,hue='term_deposit', data = treino, palette='PuOr', alpha = 0.8)\n",
        "treino.head()"
      ]
    },
    {
      "cell_type": "code",
      "execution_count": null,
      "metadata": {
        "colab": {
          "base_uri": "https://localhost:8080/"
        },
        "id": "Q4XwltXAWUup",
        "outputId": "404615a2-42b3-48dd-89bb-12a9c9c3c5ad"
      },
      "outputs": [
        {
          "data": {
            "text/plain": [
              "yes    4\n",
              "no     3\n",
              "Name: term_deposit, dtype: int64"
            ]
          },
          "execution_count": 9,
          "metadata": {},
          "output_type": "execute_result"
        }
      ],
      "source": [
        "treino[(treino['pdays'] >= 0 ) & (treino['default'] == 'yes' )]['term_deposit'].value_counts()"
      ]
    },
    {
      "cell_type": "code",
      "execution_count": null,
      "metadata": {
        "colab": {
          "base_uri": "https://localhost:8080/"
        },
        "id": "L_1rT0Xlbkw1",
        "outputId": "7860c214-b46f-4987-b614-9a32e8b336bc"
      },
      "outputs": [
        {
          "data": {
            "text/plain": [
              "no     6403\n",
              "yes      97\n",
              "Name: default, dtype: int64"
            ]
          },
          "execution_count": 10,
          "metadata": {},
          "output_type": "execute_result"
        }
      ],
      "source": [
        "treino['default'].value_counts()"
      ]
    },
    {
      "cell_type": "code",
      "execution_count": null,
      "metadata": {
        "colab": {
          "base_uri": "https://localhost:8080/"
        },
        "id": "0MNSYuNsbmPT",
        "outputId": "7029a027-2463-4e77-ae24-4973c0875003"
      },
      "outputs": [
        {
          "data": {
            "text/plain": [
              "5231"
            ]
          },
          "execution_count": 11,
          "metadata": {},
          "output_type": "execute_result"
        }
      ],
      "source": [
        "treino[treino['previous'] == 0]['previous'].count()"
      ]
    },
    {
      "cell_type": "code",
      "execution_count": null,
      "metadata": {
        "colab": {
          "base_uri": "https://localhost:8080/"
        },
        "id": "etMbCOhrVTCI",
        "outputId": "f8ddbd42-81a1-4bd0-8a1c-1c4736c39fed"
      },
      "outputs": [
        {
          "data": {
            "text/plain": [
              "5231"
            ]
          },
          "execution_count": 12,
          "metadata": {},
          "output_type": "execute_result"
        }
      ],
      "source": [
        "treino[treino['pdays'] == -1]['pdays'].count()"
      ]
    },
    {
      "cell_type": "code",
      "execution_count": null,
      "metadata": {
        "colab": {
          "base_uri": "https://localhost:8080/"
        },
        "id": "VJGB7rYLWLtI",
        "outputId": "5274a83d-a1a1-4400-9882-b577bc290461"
      },
      "outputs": [
        {
          "data": {
            "text/plain": [
              "319"
            ]
          },
          "execution_count": 13,
          "metadata": {},
          "output_type": "execute_result"
        }
      ],
      "source": [
        "treino[(treino['pdays'] >= 300 ) & (treino['pdays'] < 30000 )]['pdays'].count()"
      ]
    },
    {
      "cell_type": "code",
      "execution_count": null,
      "metadata": {
        "colab": {
          "base_uri": "https://localhost:8080/",
          "height": 940
        },
        "id": "qT7qGuAAUivR",
        "outputId": "c68d9cff-251f-4c67-9148-8f11ffd744bb"
      },
      "outputs": [
        {
          "data": {
            "text/plain": [
              "count     452.000000\n",
              "mean     -336.955752\n",
              "std       392.830637\n",
              "min     -3372.000000\n",
              "25%      -432.000000\n",
              "50%      -241.500000\n",
              "75%       -94.750000\n",
              "max        -1.000000\n",
              "Name: balance, dtype: float64"
            ]
          },
          "execution_count": 14,
          "metadata": {},
          "output_type": "execute_result"
        },
        {
          "data": {
            "image/png": "[encoded data removed]",
            "text/plain": [
              "<Figure size 2160x1080 with 1 Axes>"
            ]
          },
          "metadata": {
            "needs_background": "light"
          },
          "output_type": "display_data"
        }
      ],
      "source": [
        "fig, ax1= plt.subplots(nrows= 1, ncols=1, figsize = (30,15))\n",
        "\n",
        "x=treino[(treino['balance'] >= -10000) & (treino['balance'] <  0)]['balance']\n",
        "\n",
        "sns.boxplot(x=x,ax=ax1)\n",
        "\n",
        "treino[(treino['balance'] >= -10000) & (treino['balance'] <  0)]['balance'].describe()"
      ]
    },
    {
      "cell_type": "code",
      "execution_count": null,
      "metadata": {
        "colab": {
          "base_uri": "https://localhost:8080/",
          "height": 542
        },
        "id": "9NC-GUYHIJz9",
        "outputId": "4087541c-d605-4f93-b30c-540ab6db1237"
      },
      "outputs": [
        {
          "data": {
            "text/plain": [
              "'import plotly.express as px\\n\\nfig = px.box(treino, x=\"job\", y=\"pdays\", color=\"term_deposit\")\\n#fig.update_traces(quartilemethod=\"exclusive\") # or \"inclusive\", or \"linear\" by default\\nfig.show()'"
            ]
          },
          "execution_count": 15,
          "metadata": {},
          "output_type": "execute_result"
        }
      ],
      "source": [
        "'''import plotly.express as px\n",
        "\n",
        "fig = px.box(treino, x=\"job\", y=\"pdays\", color=\"term_deposit\")\n",
        "#fig.update_traces(quartilemethod=\"exclusive\") # or \"inclusive\", or \"linear\" by default\n",
        "fig.show()'''\n",
        "\n"
      ]
    },
    {
      "cell_type": "code",
      "execution_count": null,
      "metadata": {
        "id": "oNsp9By5xpez"
      },
      "outputs": [],
      "source": [
        "#sns.displot(\n",
        " #   treino, x=\"age\", col=\"term_deposit\", row=\"marital\", facet_kws=dict(margin_titles=True),\n",
        "#)#.savefig('agexCampanin.pdf')\n"
      ]
    },
    {
      "cell_type": "markdown",
      "metadata": {
        "id": "g2ZHzOZxXDgb"
      },
      "source": [
        "Conclusões\n",
        "\n",
        "Por uma análise mais aprofundada, é possivel verificar a redundancia de dados entre 'pdays' (-1) e 'pcoutme' 'unknow', sendo nescessária a remoção dessa ambiguidade para teste de performance"
      ]
    },
    {
      "cell_type": "code",
      "execution_count": null,
      "metadata": {
        "colab": {
          "base_uri": "https://localhost:8080/"
        },
        "id": "hblS-lpKXZbA",
        "outputId": "9e88dcc4-6e1e-4dd7-e365-7f91dbd56a7d"
      },
      "outputs": [
        {
          "data": {
            "text/plain": [
              "no     1044\n",
              "yes     397\n",
              "Name: term_deposit, dtype: int64"
            ]
          },
          "execution_count": 17,
          "metadata": {},
          "output_type": "execute_result"
        }
      ],
      "source": [
        "treino[(treino['contact'] == 'unknown' ) & (treino['poutcome'] == 'unknown' )]['term_deposit'].value_counts()"
      ]
    },
    {
      "cell_type": "markdown",
      "metadata": {
        "id": "ry1Q3RmyeVe1"
      },
      "source": [
        "Copiando o Data set para manter o original\n",
        "\n"
      ]
    },
    {
      "cell_type": "code",
      "execution_count": null,
      "metadata": {
        "colab": {
          "base_uri": "https://localhost:8080/"
        },
        "id": "WIVkVlC_asKZ",
        "outputId": "e20ac020-d727-438d-9033-4ffe190ba29b"
      },
      "outputs": [
        {
          "name": "stdout",
          "output_type": "stream",
          "text": [
            "(6500, 17)\n",
            "(1422, 16)\n"
          ]
        }
      ],
      "source": [
        "data_treino = treino\n",
        "data_teste = teste\n",
        "\n",
        "print(data_treino.shape)\n",
        "print(data_teste.shape)"
      ]
    },
    {
      "cell_type": "markdown",
      "metadata": {
        "id": "1LchNta4mN7R"
      },
      "source": [
        "Mapeando as Váriáveis categóricas bivariadas (possuem duas classes)"
      ]
    },
    {
      "cell_type": "code",
      "execution_count": null,
      "metadata": {
        "colab": {
          "base_uri": "https://localhost:8080/"
        },
        "id": "yr6JbSFbMGpk",
        "outputId": "1fd60445-be3e-400d-fd0b-03a9c5154134"
      },
      "outputs": [
        {
          "data": {
            "text/plain": [
              "(6500, 17)"
            ]
          },
          "execution_count": 19,
          "metadata": {},
          "output_type": "execute_result"
        }
      ],
      "source": [
        "data_treino_map = data_treino.copy()\n",
        "data_treino_map['default'] = data_treino_map['default'].map({'yes': 1, 'no':0})\n",
        "data_treino_map['housing'] = data_treino_map['housing'].map({'yes': 1, 'no':0})\n",
        "data_treino_map['loan'] = data_treino_map['loan'].map({'yes': 1, 'no':0})\n",
        "data_treino_map['term_deposit'] = data_treino_map['term_deposit'].map({'yes': 1, 'no':0})\n",
        "data_treino_map.shape"
      ]
    },
    {
      "cell_type": "code",
      "execution_count": null,
      "metadata": {
        "colab": {
          "base_uri": "https://localhost:8080/"
        },
        "id": "WE0dJkSCypjs",
        "outputId": "dac6a577-6f3f-4fe4-dfc4-111f7d79e36d"
      },
      "outputs": [
        {
          "data": {
            "text/plain": [
              "(1422, 16)"
            ]
          },
          "execution_count": 20,
          "metadata": {},
          "output_type": "execute_result"
        }
      ],
      "source": [
        "#Aplicando o Mesmo para o Conjunto de Teste\n",
        "data_teste_map = data_teste.copy()\n",
        "data_teste_map['default'] = data_teste_map['default'].map({'yes': 1, 'no':0})\n",
        "data_teste_map['housing'] = data_teste_map['housing'].map({'yes': 1, 'no':0})\n",
        "data_teste_map['loan'] = data_teste_map['loan'].map({'yes': 1, 'no':0})\n",
        "data_teste_map.shape"
      ]
    },
    {
      "cell_type": "markdown",
      "metadata": {
        "id": "lsqAaDRPOVsH"
      },
      "source": [
        "Verificando a correlação entre as váriaveis dentro do dataset na parte somente de trinamento, que possui a vaiavel target definida\n",
        "\n",
        "Mostra correlação forte com a variável resposta:\n",
        "\n",
        "*   Housing\n",
        "*   Campaingn\n",
        "*   Loan\n",
        "*   Balance\n",
        "*   previous\n",
        "\n"
      ]
    },
    {
      "cell_type": "code",
      "execution_count": null,
      "metadata": {
        "colab": {
          "base_uri": "https://localhost:8080/",
          "height": 394
        },
        "id": "3JT_EHPdOR-F",
        "outputId": "6512a79c-2e05-460e-98c6-3403819292b5"
      },
      "outputs": [
        {
          "data": {
            "text/html": [
              "<div>\n",
              "<style scoped>\n",
              "    .dataframe tbody tr th:only-of-type {\n",
              "        vertical-align: middle;\n",
              "    }\n",
              "\n",
              "    .dataframe tbody tr th {\n",
              "        vertical-align: top;\n",
              "    }\n",
              "\n",
              "    .dataframe thead th {\n",
              "        text-align: right;\n",
              "    }\n",
              "</style>\n",
              "<table border=\"1\" class=\"dataframe\">\n",
              "  <thead>\n",
              "    <tr style=\"text-align: right;\">\n",
              "      <th></th>\n",
              "      <th>Unnamed: 0</th>\n",
              "      <th>age</th>\n",
              "      <th>default</th>\n",
              "      <th>balance</th>\n",
              "      <th>housing</th>\n",
              "      <th>loan</th>\n",
              "      <th>day</th>\n",
              "      <th>campaign</th>\n",
              "      <th>pdays</th>\n",
              "      <th>previous</th>\n",
              "      <th>term_deposit</th>\n",
              "    </tr>\n",
              "  </thead>\n",
              "  <tbody>\n",
              "    <tr>\n",
              "      <th>Unnamed: 0</th>\n",
              "      <td>1.000000</td>\n",
              "      <td>-0.007698</td>\n",
              "      <td>0.024331</td>\n",
              "      <td>-0.005262</td>\n",
              "      <td>0.000405</td>\n",
              "      <td>-0.014089</td>\n",
              "      <td>-0.012264</td>\n",
              "      <td>0.017670</td>\n",
              "      <td>0.010465</td>\n",
              "      <td>0.019903</td>\n",
              "      <td>-0.005780</td>\n",
              "    </tr>\n",
              "    <tr>\n",
              "      <th>age</th>\n",
              "      <td>-0.007698</td>\n",
              "      <td>1.000000</td>\n",
              "      <td>-0.028868</td>\n",
              "      <td>0.103223</td>\n",
              "      <td>-0.190134</td>\n",
              "      <td>-0.020363</td>\n",
              "      <td>-0.011285</td>\n",
              "      <td>-0.017425</td>\n",
              "      <td>-0.029025</td>\n",
              "      <td>-0.026395</td>\n",
              "      <td>0.018511</td>\n",
              "    </tr>\n",
              "    <tr>\n",
              "      <th>default</th>\n",
              "      <td>0.024331</td>\n",
              "      <td>-0.028868</td>\n",
              "      <td>1.000000</td>\n",
              "      <td>-0.058626</td>\n",
              "      <td>0.011306</td>\n",
              "      <td>0.066354</td>\n",
              "      <td>0.018650</td>\n",
              "      <td>0.030005</td>\n",
              "      <td>-0.023302</td>\n",
              "      <td>-0.020528</td>\n",
              "      <td>-0.031079</td>\n",
              "    </tr>\n",
              "    <tr>\n",
              "      <th>balance</th>\n",
              "      <td>-0.005262</td>\n",
              "      <td>0.103223</td>\n",
              "      <td>-0.058626</td>\n",
              "      <td>1.000000</td>\n",
              "      <td>-0.070938</td>\n",
              "      <td>-0.080525</td>\n",
              "      <td>0.012602</td>\n",
              "      <td>-0.013405</td>\n",
              "      <td>0.019080</td>\n",
              "      <td>0.030579</td>\n",
              "      <td>0.069766</td>\n",
              "    </tr>\n",
              "    <tr>\n",
              "      <th>housing</th>\n",
              "      <td>0.000405</td>\n",
              "      <td>-0.190134</td>\n",
              "      <td>0.011306</td>\n",
              "      <td>-0.070938</td>\n",
              "      <td>1.000000</td>\n",
              "      <td>0.064868</td>\n",
              "      <td>-0.001361</td>\n",
              "      <td>0.005816</td>\n",
              "      <td>0.164108</td>\n",
              "      <td>0.062683</td>\n",
              "      <td>-0.161844</td>\n",
              "    </tr>\n",
              "    <tr>\n",
              "      <th>loan</th>\n",
              "      <td>-0.014089</td>\n",
              "      <td>-0.020363</td>\n",
              "      <td>0.066354</td>\n",
              "      <td>-0.080525</td>\n",
              "      <td>0.064868</td>\n",
              "      <td>1.000000</td>\n",
              "      <td>0.017598</td>\n",
              "      <td>0.004238</td>\n",
              "      <td>-0.005693</td>\n",
              "      <td>0.000721</td>\n",
              "      <td>-0.093758</td>\n",
              "    </tr>\n",
              "    <tr>\n",
              "      <th>day</th>\n",
              "      <td>-0.012264</td>\n",
              "      <td>-0.011285</td>\n",
              "      <td>0.018650</td>\n",
              "      <td>0.012602</td>\n",
              "      <td>-0.001361</td>\n",
              "      <td>0.017598</td>\n",
              "      <td>1.000000</td>\n",
              "      <td>0.136593</td>\n",
              "      <td>-0.092078</td>\n",
              "      <td>-0.063649</td>\n",
              "      <td>-0.045515</td>\n",
              "    </tr>\n",
              "    <tr>\n",
              "      <th>campaign</th>\n",
              "      <td>0.017670</td>\n",
              "      <td>-0.017425</td>\n",
              "      <td>0.030005</td>\n",
              "      <td>-0.013405</td>\n",
              "      <td>0.005816</td>\n",
              "      <td>0.004238</td>\n",
              "      <td>0.136593</td>\n",
              "      <td>1.000000</td>\n",
              "      <td>-0.080613</td>\n",
              "      <td>-0.039137</td>\n",
              "      <td>-0.119816</td>\n",
              "    </tr>\n",
              "    <tr>\n",
              "      <th>pdays</th>\n",
              "      <td>0.010465</td>\n",
              "      <td>-0.029025</td>\n",
              "      <td>-0.023302</td>\n",
              "      <td>0.019080</td>\n",
              "      <td>0.164108</td>\n",
              "      <td>-0.005693</td>\n",
              "      <td>-0.092078</td>\n",
              "      <td>-0.080613</td>\n",
              "      <td>1.000000</td>\n",
              "      <td>0.530580</td>\n",
              "      <td>0.068136</td>\n",
              "    </tr>\n",
              "    <tr>\n",
              "      <th>previous</th>\n",
              "      <td>0.019903</td>\n",
              "      <td>-0.026395</td>\n",
              "      <td>-0.020528</td>\n",
              "      <td>0.030579</td>\n",
              "      <td>0.062683</td>\n",
              "      <td>0.000721</td>\n",
              "      <td>-0.063649</td>\n",
              "      <td>-0.039137</td>\n",
              "      <td>0.530580</td>\n",
              "      <td>1.000000</td>\n",
              "      <td>0.080222</td>\n",
              "    </tr>\n",
              "    <tr>\n",
              "      <th>term_deposit</th>\n",
              "      <td>-0.005780</td>\n",
              "      <td>0.018511</td>\n",
              "      <td>-0.031079</td>\n",
              "      <td>0.069766</td>\n",
              "      <td>-0.161844</td>\n",
              "      <td>-0.093758</td>\n",
              "      <td>-0.045515</td>\n",
              "      <td>-0.119816</td>\n",
              "      <td>0.068136</td>\n",
              "      <td>0.080222</td>\n",
              "      <td>1.000000</td>\n",
              "    </tr>\n",
              "  </tbody>\n",
              "</table>\n",
              "</div>"
            ],
            "text/plain": [
              "              Unnamed: 0       age   default   balance   housing      loan  \\\n",
              "Unnamed: 0      1.000000 -0.007698  0.024331 -0.005262  0.000405 -0.014089   \n",
              "age            -0.007698  1.000000 -0.028868  0.103223 -0.190134 -0.020363   \n",
              "default         0.024331 -0.028868  1.000000 -0.058626  0.011306  0.066354   \n",
              "balance        -0.005262  0.103223 -0.058626  1.000000 -0.070938 -0.080525   \n",
              "housing         0.000405 -0.190134  0.011306 -0.070938  1.000000  0.064868   \n",
              "loan           -0.014089 -0.020363  0.066354 -0.080525  0.064868  1.000000   \n",
              "day            -0.012264 -0.011285  0.018650  0.012602 -0.001361  0.017598   \n",
              "campaign        0.017670 -0.017425  0.030005 -0.013405  0.005816  0.004238   \n",
              "pdays           0.010465 -0.029025 -0.023302  0.019080  0.164108 -0.005693   \n",
              "previous        0.019903 -0.026395 -0.020528  0.030579  0.062683  0.000721   \n",
              "term_deposit   -0.005780  0.018511 -0.031079  0.069766 -0.161844 -0.093758   \n",
              "\n",
              "                   day  campaign     pdays  previous  term_deposit  \n",
              "Unnamed: 0   -0.012264  0.017670  0.010465  0.019903     -0.005780  \n",
              "age          -0.011285 -0.017425 -0.029025 -0.026395      0.018511  \n",
              "default       0.018650  0.030005 -0.023302 -0.020528     -0.031079  \n",
              "balance       0.012602 -0.013405  0.019080  0.030579      0.069766  \n",
              "housing      -0.001361  0.005816  0.164108  0.062683     -0.161844  \n",
              "loan          0.017598  0.004238 -0.005693  0.000721     -0.093758  \n",
              "day           1.000000  0.136593 -0.092078 -0.063649     -0.045515  \n",
              "campaign      0.136593  1.000000 -0.080613 -0.039137     -0.119816  \n",
              "pdays        -0.092078 -0.080613  1.000000  0.530580      0.068136  \n",
              "previous     -0.063649 -0.039137  0.530580  1.000000      0.080222  \n",
              "term_deposit -0.045515 -0.119816  0.068136  0.080222      1.000000  "
            ]
          },
          "execution_count": 21,
          "metadata": {},
          "output_type": "execute_result"
        }
      ],
      "source": [
        "data_treino_map.corr()"
      ]
    },
    {
      "cell_type": "markdown",
      "metadata": {
        "id": "_29TV70xWfUQ"
      },
      "source": [
        "Forte Correlação:\n",
        "* job e age\n",
        "* marital e age\n",
        "* previus e pdays pcoutme\n",
        "* day e month\n",
        "\n"
      ]
    },
    {
      "cell_type": "code",
      "execution_count": null,
      "metadata": {
        "id": "NdtXBhaoXLmF"
      },
      "outputs": [],
      "source": [
        "#eda2 = sweetviz.compare_intra(data_map.loc[:tamanho_treino-1,:], data_map.loc[:tamanho_treino-1,:]['term_deposit'] == 0, ['Não', 'Sim'])\n",
        "#eda2.show_html()\n",
        "#IPython.display.HTML(filename='/content/SWEETVIZ_REPORT.html')"
      ]
    },
    {
      "cell_type": "markdown",
      "metadata": {
        "id": "odF3SrKDaqb_"
      },
      "source": [
        "Escluindo colunas Unnamed do treino e do teste"
      ]
    },
    {
      "cell_type": "code",
      "execution_count": null,
      "metadata": {
        "colab": {
          "base_uri": "https://localhost:8080/"
        },
        "id": "NvcA-S-mawxY",
        "outputId": "43a6fcdc-f7f0-4e91-e018-de027931d168"
      },
      "outputs": [
        {
          "data": {
            "text/plain": [
              "(6500, 16)"
            ]
          },
          "execution_count": 23,
          "metadata": {},
          "output_type": "execute_result"
        }
      ],
      "source": [
        "data_treino_drop = data_treino_map.copy()\n",
        "data_treino_drop.drop(['Unnamed: 0'], axis=1, inplace=True)#, 'default'\n",
        "data_treino_drop.shape"
      ]
    },
    {
      "cell_type": "code",
      "execution_count": null,
      "metadata": {
        "colab": {
          "base_uri": "https://localhost:8080/"
        },
        "id": "XRrEKLgFzkid",
        "outputId": "3ba0e1ed-30b9-40ba-c066-0c6a25188ff8"
      },
      "outputs": [
        {
          "data": {
            "text/plain": [
              "(1422, 15)"
            ]
          },
          "execution_count": 24,
          "metadata": {},
          "output_type": "execute_result"
        }
      ],
      "source": [
        "#Mesmo para o teste\n",
        "data_teste_drop = data_teste_map.copy()\n",
        "data_teste_drop.drop(['Unnamed: 0'], axis=1, inplace=True)#, 'default'\n",
        "data_teste_drop.shape"
      ]
    },
    {
      "cell_type": "markdown",
      "metadata": {
        "id": "6oXL4APfOhbQ"
      },
      "source": [
        "#Tratando Outliers\n",
        "\n",
        "Todo tratamento é feito apenas no conjunto de TREINO, o conjunto de teste, que é a submissão do desafio não deve ter interferência nesta parte da engenharia de variáveis"
      ]
    },
    {
      "cell_type": "code",
      "execution_count": null,
      "metadata": {
        "id": "QGKYIK7M0NP9"
      },
      "outputs": [],
      "source": [
        "#data_treino_drop = data_teste_drop"
      ]
    },
    {
      "cell_type": "code",
      "execution_count": null,
      "metadata": {
        "colab": {
          "base_uri": "https://localhost:8080/",
          "height": 1000
        },
        "id": "lQr2ErQbOgvz",
        "outputId": "362e9c77-16ca-4587-9839-bee6ff09be8f"
      },
      "outputs": [
        {
          "data": {
            "text/plain": [
              "Text(0.5, 1.0, 'previous')"
            ]
          },
          "execution_count": 26,
          "metadata": {},
          "output_type": "execute_result"
        },
        {
          "data": {
            "image/png": "[encoded data removed]",
            "text/plain": [
              "<Figure size 1080x2160 with 6 Axes>"
            ]
          },
          "metadata": {
            "needs_background": "light"
          },
          "output_type": "display_data"
        }
      ],
      "source": [
        "plt.figure(figsize = (15, 30))\n",
        "plt.style.use('seaborn-white')\n",
        "ax=plt.subplot(521)\n",
        "plt.boxplot(data_treino_drop['age'])\n",
        "ax.set_title('age')\n",
        "ax=plt.subplot(522)\n",
        "plt.boxplot(data_treino_drop['balance'])\n",
        "ax.set_title('balance')\n",
        "ax=plt.subplot(523)\n",
        "plt.boxplot(data_treino_drop['day'])\n",
        "ax.set_title('day')\n",
        "ax=plt.subplot(524)\n",
        "plt.boxplot(data_treino_drop['campaign'])\n",
        "ax.set_title('campaign')\n",
        "ax=plt.subplot(525)\n",
        "plt.boxplot(data_treino_drop['pdays'])\n",
        "ax.set_title('pdays')\n",
        "ax=plt.subplot(526)\n",
        "plt.boxplot(data_treino_drop['previous'])\n",
        "ax.set_title('previous')"
      ]
    },
    {
      "cell_type": "markdown",
      "metadata": {
        "id": "_Ll94MR20hUE"
      },
      "source": [
        "Precisamos retirar alguns outliers para criar um padrão melhor para o conjunto de treinamento"
      ]
    },
    {
      "cell_type": "code",
      "execution_count": null,
      "metadata": {
        "colab": {
          "base_uri": "https://localhost:8080/"
        },
        "id": "_9M2krbv0ngg",
        "outputId": "282aa37c-7259-4a07-81ca-f290334a759d"
      },
      "outputs": [
        {
          "data": {
            "text/plain": [
              "(6500, 16)"
            ]
          },
          "execution_count": 27,
          "metadata": {},
          "output_type": "execute_result"
        }
      ],
      "source": [
        "data_treino_drop.shape"
      ]
    },
    {
      "cell_type": "code",
      "execution_count": null,
      "metadata": {
        "id": "z3pmJlPePvuf"
      },
      "outputs": [],
      "source": [
        "#Nós podemos concluir que as váriaveis Age, balance, Campanha, Pdays e Previus possuiem muitas outliers\n",
        "#A váriavel Pdays apresenta maior discrepancia entre os dados\n",
        "#Aplicando o Método IQR para tratamento de Outliers\n",
        "\n",
        "numerical_features=['age', 'balance', 'campaign']#'pdays',  'previous'\n",
        "for cols in numerical_features:\n",
        "    Q1 = data_treino_drop[cols].quantile(0.25)\n",
        "    Q3 = data_treino_drop[cols].quantile(0.75)\n",
        "    IQR = Q3 - Q1     \n",
        "\n",
        "    filter = (data_treino_drop[cols] >= Q1 - 1.5 * IQR) & (data_treino_drop[cols] <= Q3 + 1.5 *IQR)\n",
        "    data_treino_out=data_treino_drop.loc[filter]"
      ]
    },
    {
      "cell_type": "code",
      "execution_count": null,
      "metadata": {
        "colab": {
          "base_uri": "https://localhost:8080/"
        },
        "id": "WP1ccwZCcm9B",
        "outputId": "30e196f9-584e-49b7-c119-0e8d980fdfbc"
      },
      "outputs": [
        {
          "data": {
            "text/plain": [
              "(6124, 16)"
            ]
          },
          "execution_count": 29,
          "metadata": {},
          "output_type": "execute_result"
        }
      ],
      "source": [
        "data_treino_out.shape"
      ]
    },
    {
      "cell_type": "code",
      "execution_count": null,
      "metadata": {
        "colab": {
          "base_uri": "https://localhost:8080/",
          "height": 1000
        },
        "id": "HZudzHlHQ_ZK",
        "outputId": "fe73d4ae-2c91-429e-a34b-c143809a5553"
      },
      "outputs": [
        {
          "data": {
            "text/plain": [
              "Text(0.5, 1.0, 'previous')"
            ]
          },
          "execution_count": 30,
          "metadata": {},
          "output_type": "execute_result"
        },
        {
          "data": {
            "image/png": "[encoded data removed]",
            "text/plain": [
              "<Figure size 1080x2160 with 5 Axes>"
            ]
          },
          "metadata": {},
          "output_type": "display_data"
        }
      ],
      "source": [
        "#Verificando o resultado\n",
        "plt.figure(figsize = (15, 30))\n",
        "plt.style.use('seaborn-white')\n",
        "ax=plt.subplot(521)\n",
        "plt.boxplot(data_treino_out['age'])\n",
        "ax.set_title('age')\n",
        "ax=plt.subplot(522)\n",
        "plt.boxplot(data_treino_out['balance'])\n",
        "ax.set_title('balance')\n",
        "ax=plt.subplot(523)\n",
        "plt.boxplot(data_treino_out['campaign'])\n",
        "ax.set_title('campaign')\n",
        "ax=plt.subplot(524)\n",
        "plt.boxplot(data_treino_out['pdays'])\n",
        "ax.set_title('pdays')\n",
        "ax=plt.subplot(525)\n",
        "plt.boxplot(data_treino_out['previous'])\n",
        "ax.set_title('previous')"
      ]
    },
    {
      "cell_type": "markdown",
      "metadata": {
        "id": "glw08Q2fb6yh"
      },
      "source": [
        "Agrupando valores semelhantes e Categorizando\n"
      ]
    },
    {
      "cell_type": "code",
      "execution_count": null,
      "metadata": {
        "colab": {
          "base_uri": "https://localhost:8080/"
        },
        "id": "CMnCQteblkXF",
        "outputId": "53c191c3-2cfe-4548-a008-60b6a723c3e3"
      },
      "outputs": [
        {
          "data": {
            "text/plain": [
              "6500"
            ]
          },
          "execution_count": 31,
          "metadata": {},
          "output_type": "execute_result"
        }
      ],
      "source": [
        "#treino[(treino['balance'] >= 1) & (treino['balance'] <  100)]['term_deposit'].value_counts()\n",
        "treino['day'].count()"
      ]
    },
    {
      "cell_type": "code",
      "execution_count": null,
      "metadata": {
        "id": "yyHazxAdh3NM"
      },
      "outputs": [],
      "source": [
        "#Categorizando o Balance\n",
        "def balance_group(x):\n",
        "  if x < 0:\n",
        "    return -3000\n",
        "  elif (x >= 4000):\n",
        "    return 4000\n",
        "  else:\n",
        "    return x\n",
        "\n",
        "#####################Categorizando o Balance\n",
        "def balance_group2(x):\n",
        "  if (x >= 1) and (x <= 100):\n",
        "    return '1_100'\n",
        "  elif (x >= 101) and (x <= 200):\n",
        "    return '101_200'\n",
        "  elif (x >= 201) and (x <= 300):\n",
        "    return '201_300'\n",
        "  elif (x >= 301) and (x <= 500):\n",
        "    return '301_500'\n",
        "  elif (x >= 501) and (x <= 700):\n",
        "    return '501_700'\n",
        "  elif (x >= 701) and (x <= 1000):\n",
        "    return '701_1000'\n",
        "  elif (x >= 1001) and (x <= 1500):\n",
        "    return '1001_1500'\n",
        "  elif (x >= 1501) and (x <= 2500):\n",
        "    return '1501_2500'\n",
        "  elif (x >= 2501) and (x <= 4000):\n",
        "    return '2501_4000'\n",
        "  elif x == 0:\n",
        "    return 'Zero'\n",
        "  elif (x >= -500) and (x <= -1):\n",
        "    return '-500_-1'\n",
        "  elif (x >= -1000) and (x <= -501):\n",
        "    return '-1000_-500'\n",
        "  elif x < -1001:\n",
        "    return 'Negativo+'\n",
        "  else:\n",
        "    return '4000+'\n",
        "\n",
        "\n",
        "#Definindo faixas de idade\n",
        "def age_group(x):\n",
        "  if (x >= 18) and (x <= 28):\n",
        "    return '18_28'\n",
        "  #elif x == 35:\n",
        "    #return 'Sim'\n",
        "  elif x >=59:\n",
        "    return '59+'\n",
        "  else:\n",
        "    return '19_58'\n",
        "\n",
        "####################Definindo faixas de idade\n",
        "def age_group5(x):\n",
        "  if (x >= 18) and (x < 28):\n",
        "    return '18_27'\n",
        "  elif (x >= 28) and (x < 38):\n",
        "    return '28_37'\n",
        "  elif (x >= 38) and (x < 48):\n",
        "    return '28_47+'\n",
        "  elif (x >= 48) and (x < 58):\n",
        "    return '48_58'\n",
        "  elif (x >= 58) and (x < 63):\n",
        "    return '58_63'\n",
        "  elif (x >= 63) and (x < 68):\n",
        "    return '63_68'\n",
        "  else:\n",
        "    return '68+'\n",
        "\n",
        "####################Definindo faixas de idade\n",
        "def age_group4(x):\n",
        "  if (x >= 18) and (x < 28):\n",
        "    return '18_27'\n",
        "  elif (x >= 28) and (x < 38):\n",
        "    return '28_37'\n",
        "  elif (x >= 38) and (x < 48):\n",
        "    return '28_47+'\n",
        "  elif (x >= 48) and (x < 58):\n",
        "    return '48_58'\n",
        "  elif (x >= 58) and (x < 63):\n",
        "    return '58_63'\n",
        "  else:\n",
        "    return '63+'\n",
        "\n",
        "####################Definindo faixas de idade\n",
        "def age_group3(x):\n",
        "  if (x >= 18) and (x < 23):\n",
        "    return '18_23'\n",
        "  elif (x >= 23) and (x < 28):\n",
        "    return '23_28'\n",
        "  elif (x >= 28) and (x < 33):\n",
        "    return '28_33'\n",
        "  elif (x >= 33) and (x < 38):\n",
        "    return '33_38'\n",
        "  elif (x >= 38) and (x < 43):\n",
        "    return '38_43'\n",
        "  elif (x >= 43) and (x < 48):\n",
        "    return '43_48'\n",
        "  elif (x >= 48) and (x < 53):\n",
        "    return '48_53'\n",
        "  elif (x >= 53) and (x < 58):\n",
        "    return '53_58'\n",
        "  else:\n",
        "    return '58+'\n",
        "\n",
        "\n",
        "####################Definindo faixas de idade\n",
        "def age_group2(x):\n",
        "  if (x >= 18) and (x < 28):\n",
        "    return '18_27'\n",
        "  elif (x >= 28) and (x < 38):\n",
        "    return '28_37'\n",
        "  elif (x >= 38) and (x < 48):\n",
        "    return '28_47+'\n",
        "  elif (x >= 48) and (x < 58):\n",
        "    return '48_58'\n",
        "  else:\n",
        "    return '58+'\n",
        "\n",
        "\n",
        "#agrupando os Day\n",
        "def day_group2(a):\n",
        "  if (a >= 1) and (a <= 5):\n",
        "    return 'começo'\n",
        "  elif (a >= 10) and (a <= 15):\n",
        "    return 'meio'\n",
        "  elif a == 22:\n",
        "    return 'fim'\n",
        "  elif a == 24:\n",
        "    return 'fim'\n",
        "  elif a== 25:\n",
        "    return 'fim'\n",
        "  elif a == 27:\n",
        "    return 'fim'\n",
        "  else:\n",
        "    return \"fim\"\n",
        "\n",
        "#agrupando os Day\n",
        "def day_group(a):\n",
        "  if (a >= 1) and (a <= 5):\n",
        "    return 'day_s'\n",
        "  elif (a >= 10) and (a <= 15):\n",
        "    return 'day_s'\n",
        "  elif a == 22:\n",
        "    return 'day_s'\n",
        "  elif a == 24:\n",
        "    return 'day_s'\n",
        "  elif a== 25:\n",
        "    return 'day_s'\n",
        "  elif a == 27:\n",
        "    return 'day_s'\n",
        "  else:\n",
        "    return \"day_n\"\n",
        "\n",
        "#Agrupando os Meses Dezembro, Março, Outubro, Setembro\n",
        "def month_group(x):\n",
        "  if x == 'dec':\n",
        "    return 'De_Ma_Ou_Se'\n",
        "  elif x == 'mar':\n",
        "    return 'De_Ma_Ou_Se'\n",
        "  elif x == 'sep':\n",
        "    return 'De_Ma_Ou_Se'\n",
        "  elif x == 'oct':\n",
        "    return 'De_Ma_Ou_Se'\n",
        "  else:\n",
        "    return x\n",
        "\n",
        "#Agrupando os Job\n",
        "def job_group(x):\n",
        "  if x == 'entrepreneur':\n",
        "    return 'Entr_Unem'\n",
        "  elif x== 'unemployed':\n",
        "    return 'Entr_Unem'\n",
        "  elif x== 'admin.':\n",
        "    return 'Adm_self'\n",
        "  elif x== 'self-employed':\n",
        "    return 'Adm_self'\n",
        "  else:\n",
        "    return x\n",
        "\n",
        "#faixas de intervalo para agrupar campaign\n",
        "def campaign_group(x):\n",
        "  if x == 1:\n",
        "    return 1\n",
        "  elif x==2:\n",
        "    return 2\n",
        "  elif x==3:\n",
        "    return 3\n",
        "  elif x==4:\n",
        "    return 4\n",
        "  else:\n",
        "    return 5\n",
        "\n",
        "#agrupando os previus\n",
        "def previous_group(x):\n",
        "  if x ==0:\n",
        "    return 'Sem_contato'\n",
        "  else:\n",
        "    return \"Contactado\"\n",
        "\n",
        "############agrupando os previus\n",
        "def previous_group2(x):\n",
        "  if x < 8:\n",
        "    return x\n",
        "  else:\n",
        "    return '8+'\n",
        "\n",
        "#Agrupando Pday em > 0 Contato\n",
        "def pdays_group(x):\n",
        "  if x == -1:\n",
        "    return -100\n",
        "  else:\n",
        "    return x\n",
        "\n",
        "  #Agrupando Pday em > 0 Contato\n",
        "def pdays_group2(x):\n",
        "  if x == -1:\n",
        "    return -1\n",
        "  elif (x >= 1) and (x < 100):\n",
        "    return 100\n",
        "  elif (x >= 100) and (x < 200):\n",
        "    return 200\n",
        "  elif (x >= 200) and (x < 300):\n",
        "    return 300\n",
        "  else:\n",
        "    return 400\n",
        "\n",
        "###########################################################################################\n",
        "#Agrupando os Meses Dezembro, Março, Outubro, Setembro\n",
        "def month_group2(x):\n",
        "  if x == 'jan':\n",
        "    return 1\n",
        "  elif x == 'feb':\n",
        "    return 2\n",
        "  elif x == 'mar':\n",
        "    return 3\n",
        "  elif x == 'apr':\n",
        "    return 4\n",
        "  elif x == 'may':\n",
        "    return 5\n",
        "  elif x == 'jun':\n",
        "    return 6\n",
        "  elif x == 'jul':\n",
        "    return 7\n",
        "  elif x == 'aug':\n",
        "    return 8\n",
        "  elif x == 'sep':\n",
        "    return 9\n",
        "  elif x == 'oct':\n",
        "    return 10\n",
        "  elif x == 'nov':\n",
        "    return 11\n",
        "  elif x == 'dec':\n",
        "    return 12\n",
        "  else:\n",
        "    return '20'\n",
        " \n"
      ]
    },
    {
      "cell_type": "code",
      "execution_count": null,
      "metadata": {
        "colab": {
          "base_uri": "https://localhost:8080/",
          "height": 363
        },
        "id": "lGF7CvCNcEN8",
        "outputId": "31bd0167-aa11-4691-b0d1-bb33aae245ce"
      },
      "outputs": [
        {
          "data": {
            "text/html": [
              "<div>\n",
              "<style scoped>\n",
              "    .dataframe tbody tr th:only-of-type {\n",
              "        vertical-align: middle;\n",
              "    }\n",
              "\n",
              "    .dataframe tbody tr th {\n",
              "        vertical-align: top;\n",
              "    }\n",
              "\n",
              "    .dataframe thead th {\n",
              "        text-align: right;\n",
              "    }\n",
              "</style>\n",
              "<table border=\"1\" class=\"dataframe\">\n",
              "  <thead>\n",
              "    <tr style=\"text-align: right;\">\n",
              "      <th></th>\n",
              "      <th>age</th>\n",
              "      <th>job</th>\n",
              "      <th>marital</th>\n",
              "      <th>education</th>\n",
              "      <th>default</th>\n",
              "      <th>balance</th>\n",
              "      <th>housing</th>\n",
              "      <th>loan</th>\n",
              "      <th>contact</th>\n",
              "      <th>day</th>\n",
              "      <th>month</th>\n",
              "      <th>campaign</th>\n",
              "      <th>pdays</th>\n",
              "      <th>previous</th>\n",
              "      <th>poutcome</th>\n",
              "      <th>term_deposit</th>\n",
              "    </tr>\n",
              "  </thead>\n",
              "  <tbody>\n",
              "    <tr>\n",
              "      <th>0</th>\n",
              "      <td>46</td>\n",
              "      <td>management</td>\n",
              "      <td>divorced</td>\n",
              "      <td>tertiary</td>\n",
              "      <td>0</td>\n",
              "      <td>14481</td>\n",
              "      <td>1</td>\n",
              "      <td>0</td>\n",
              "      <td>unknown</td>\n",
              "      <td>30</td>\n",
              "      <td>may</td>\n",
              "      <td>1</td>\n",
              "      <td>-1</td>\n",
              "      <td>0</td>\n",
              "      <td>unknown</td>\n",
              "      <td>1</td>\n",
              "    </tr>\n",
              "    <tr>\n",
              "      <th>1</th>\n",
              "      <td>37</td>\n",
              "      <td>management</td>\n",
              "      <td>single</td>\n",
              "      <td>tertiary</td>\n",
              "      <td>0</td>\n",
              "      <td>457</td>\n",
              "      <td>1</td>\n",
              "      <td>0</td>\n",
              "      <td>cellular</td>\n",
              "      <td>1</td>\n",
              "      <td>apr</td>\n",
              "      <td>3</td>\n",
              "      <td>-1</td>\n",
              "      <td>0</td>\n",
              "      <td>unknown</td>\n",
              "      <td>0</td>\n",
              "    </tr>\n",
              "    <tr>\n",
              "      <th>3</th>\n",
              "      <td>45</td>\n",
              "      <td>unemployed</td>\n",
              "      <td>single</td>\n",
              "      <td>secondary</td>\n",
              "      <td>0</td>\n",
              "      <td>33</td>\n",
              "      <td>0</td>\n",
              "      <td>0</td>\n",
              "      <td>cellular</td>\n",
              "      <td>5</td>\n",
              "      <td>feb</td>\n",
              "      <td>1</td>\n",
              "      <td>-1</td>\n",
              "      <td>0</td>\n",
              "      <td>unknown</td>\n",
              "      <td>0</td>\n",
              "    </tr>\n",
              "    <tr>\n",
              "      <th>4</th>\n",
              "      <td>31</td>\n",
              "      <td>management</td>\n",
              "      <td>married</td>\n",
              "      <td>tertiary</td>\n",
              "      <td>0</td>\n",
              "      <td>131</td>\n",
              "      <td>0</td>\n",
              "      <td>0</td>\n",
              "      <td>cellular</td>\n",
              "      <td>18</td>\n",
              "      <td>feb</td>\n",
              "      <td>2</td>\n",
              "      <td>-1</td>\n",
              "      <td>0</td>\n",
              "      <td>unknown</td>\n",
              "      <td>1</td>\n",
              "    </tr>\n",
              "    <tr>\n",
              "      <th>5</th>\n",
              "      <td>35</td>\n",
              "      <td>management</td>\n",
              "      <td>married</td>\n",
              "      <td>tertiary</td>\n",
              "      <td>0</td>\n",
              "      <td>646</td>\n",
              "      <td>1</td>\n",
              "      <td>0</td>\n",
              "      <td>cellular</td>\n",
              "      <td>18</td>\n",
              "      <td>nov</td>\n",
              "      <td>2</td>\n",
              "      <td>-1</td>\n",
              "      <td>0</td>\n",
              "      <td>unknown</td>\n",
              "      <td>0</td>\n",
              "    </tr>\n",
              "    <tr>\n",
              "      <th>6</th>\n",
              "      <td>35</td>\n",
              "      <td>blue-collar</td>\n",
              "      <td>married</td>\n",
              "      <td>secondary</td>\n",
              "      <td>0</td>\n",
              "      <td>74</td>\n",
              "      <td>0</td>\n",
              "      <td>0</td>\n",
              "      <td>cellular</td>\n",
              "      <td>23</td>\n",
              "      <td>jul</td>\n",
              "      <td>2</td>\n",
              "      <td>-1</td>\n",
              "      <td>0</td>\n",
              "      <td>unknown</td>\n",
              "      <td>0</td>\n",
              "    </tr>\n",
              "    <tr>\n",
              "      <th>8</th>\n",
              "      <td>22</td>\n",
              "      <td>blue-collar</td>\n",
              "      <td>single</td>\n",
              "      <td>secondary</td>\n",
              "      <td>0</td>\n",
              "      <td>682</td>\n",
              "      <td>0</td>\n",
              "      <td>0</td>\n",
              "      <td>cellular</td>\n",
              "      <td>5</td>\n",
              "      <td>jun</td>\n",
              "      <td>2</td>\n",
              "      <td>91</td>\n",
              "      <td>1</td>\n",
              "      <td>success</td>\n",
              "      <td>1</td>\n",
              "    </tr>\n",
              "    <tr>\n",
              "      <th>9</th>\n",
              "      <td>33</td>\n",
              "      <td>management</td>\n",
              "      <td>married</td>\n",
              "      <td>tertiary</td>\n",
              "      <td>0</td>\n",
              "      <td>271</td>\n",
              "      <td>1</td>\n",
              "      <td>0</td>\n",
              "      <td>cellular</td>\n",
              "      <td>14</td>\n",
              "      <td>aug</td>\n",
              "      <td>2</td>\n",
              "      <td>-1</td>\n",
              "      <td>0</td>\n",
              "      <td>unknown</td>\n",
              "      <td>1</td>\n",
              "    </tr>\n",
              "    <tr>\n",
              "      <th>11</th>\n",
              "      <td>27</td>\n",
              "      <td>services</td>\n",
              "      <td>single</td>\n",
              "      <td>secondary</td>\n",
              "      <td>0</td>\n",
              "      <td>1347</td>\n",
              "      <td>0</td>\n",
              "      <td>0</td>\n",
              "      <td>telephone</td>\n",
              "      <td>28</td>\n",
              "      <td>dec</td>\n",
              "      <td>1</td>\n",
              "      <td>193</td>\n",
              "      <td>11</td>\n",
              "      <td>success</td>\n",
              "      <td>1</td>\n",
              "    </tr>\n",
              "    <tr>\n",
              "      <th>12</th>\n",
              "      <td>34</td>\n",
              "      <td>management</td>\n",
              "      <td>single</td>\n",
              "      <td>tertiary</td>\n",
              "      <td>0</td>\n",
              "      <td>-578</td>\n",
              "      <td>1</td>\n",
              "      <td>0</td>\n",
              "      <td>cellular</td>\n",
              "      <td>18</td>\n",
              "      <td>may</td>\n",
              "      <td>2</td>\n",
              "      <td>-1</td>\n",
              "      <td>0</td>\n",
              "      <td>unknown</td>\n",
              "      <td>1</td>\n",
              "    </tr>\n",
              "  </tbody>\n",
              "</table>\n",
              "</div>"
            ],
            "text/plain": [
              "    age          job   marital  education  default  balance  housing  loan  \\\n",
              "0    46   management  divorced   tertiary        0    14481        1     0   \n",
              "1    37   management    single   tertiary        0      457        1     0   \n",
              "3    45   unemployed    single  secondary        0       33        0     0   \n",
              "4    31   management   married   tertiary        0      131        0     0   \n",
              "5    35   management   married   tertiary        0      646        1     0   \n",
              "6    35  blue-collar   married  secondary        0       74        0     0   \n",
              "8    22  blue-collar    single  secondary        0      682        0     0   \n",
              "9    33   management   married   tertiary        0      271        1     0   \n",
              "11   27     services    single  secondary        0     1347        0     0   \n",
              "12   34   management    single   tertiary        0     -578        1     0   \n",
              "\n",
              "      contact  day month  campaign  pdays  previous poutcome  term_deposit  \n",
              "0     unknown   30   may         1     -1         0  unknown             1  \n",
              "1    cellular    1   apr         3     -1         0  unknown             0  \n",
              "3    cellular    5   feb         1     -1         0  unknown             0  \n",
              "4    cellular   18   feb         2     -1         0  unknown             1  \n",
              "5    cellular   18   nov         2     -1         0  unknown             0  \n",
              "6    cellular   23   jul         2     -1         0  unknown             0  \n",
              "8    cellular    5   jun         2     91         1  success             1  \n",
              "9    cellular   14   aug         2     -1         0  unknown             1  \n",
              "11  telephone   28   dec         1    193        11  success             1  \n",
              "12   cellular   18   may         2     -1         0  unknown             1  "
            ]
          },
          "execution_count": 33,
          "metadata": {},
          "output_type": "execute_result"
        }
      ],
      "source": [
        "data_treino_out.head(10)"
      ]
    },
    {
      "cell_type": "code",
      "execution_count": null,
      "metadata": {
        "colab": {
          "base_uri": "https://localhost:8080/",
          "height": 206
        },
        "id": "Xv4Zl-PckUPd",
        "outputId": "7f4cf149-1f5c-48d4-9da6-fda1a68e7110"
      },
      "outputs": [
        {
          "data": {
            "text/html": [
              "<div>\n",
              "<style scoped>\n",
              "    .dataframe tbody tr th:only-of-type {\n",
              "        vertical-align: middle;\n",
              "    }\n",
              "\n",
              "    .dataframe tbody tr th {\n",
              "        vertical-align: top;\n",
              "    }\n",
              "\n",
              "    .dataframe thead th {\n",
              "        text-align: right;\n",
              "    }\n",
              "</style>\n",
              "<table border=\"1\" class=\"dataframe\">\n",
              "  <thead>\n",
              "    <tr style=\"text-align: right;\">\n",
              "      <th></th>\n",
              "      <th>job</th>\n",
              "      <th>education</th>\n",
              "      <th>marital</th>\n",
              "    </tr>\n",
              "  </thead>\n",
              "  <tbody>\n",
              "    <tr>\n",
              "      <th>0</th>\n",
              "      <td>1377</td>\n",
              "      <td>2000</td>\n",
              "      <td>divorced</td>\n",
              "    </tr>\n",
              "    <tr>\n",
              "      <th>1</th>\n",
              "      <td>1377</td>\n",
              "      <td>2000</td>\n",
              "      <td>single</td>\n",
              "    </tr>\n",
              "    <tr>\n",
              "      <th>3</th>\n",
              "      <td>210</td>\n",
              "      <td>3021</td>\n",
              "      <td>single</td>\n",
              "    </tr>\n",
              "    <tr>\n",
              "      <th>4</th>\n",
              "      <td>1377</td>\n",
              "      <td>2000</td>\n",
              "      <td>married</td>\n",
              "    </tr>\n",
              "    <tr>\n",
              "      <th>5</th>\n",
              "      <td>1377</td>\n",
              "      <td>2000</td>\n",
              "      <td>married</td>\n",
              "    </tr>\n",
              "  </tbody>\n",
              "</table>\n",
              "</div>"
            ],
            "text/plain": [
              "    job  education   marital\n",
              "0  1377       2000  divorced\n",
              "1  1377       2000    single\n",
              "3   210       3021    single\n",
              "4  1377       2000   married\n",
              "5  1377       2000   married"
            ]
          },
          "execution_count": 34,
          "metadata": {},
          "output_type": "execute_result"
        }
      ],
      "source": [
        "data_treino_num = data_treino_out.copy()\n",
        "\n",
        "data_treino_num['month'] = data_treino_num['month'].apply(month_group2)\n",
        "data_treino_num['pdays'] = data_treino_num['pdays'].apply(pdays_group)\n",
        "\n",
        "\n",
        "data_treino_job = data_treino_num['job'].value_counts().to_dict()\n",
        "data_treino_edu = data_treino_num['education'].value_counts().to_dict()\n",
        "data_treino_mar = data_treino_num['marital'].value_counts().to_dict()\n",
        "\n",
        "\n",
        "\n",
        "data_treino_num['job']=data_treino_num['job'].map(data_treino_job)\n",
        "data_treino_num['education']=data_treino_num['education'].map(data_treino_edu)\n",
        "#data_treino_num['marital']=data_treino_num['marital'].map(data_treino_mar)\n",
        "\n",
        "data_treino_num.loc[:,['job','education','marital']].head()"
      ]
    },
    {
      "cell_type": "code",
      "execution_count": null,
      "metadata": {
        "colab": {
          "base_uri": "https://localhost:8080/"
        },
        "id": "slJyxTu43gN_",
        "outputId": "ca88215c-13f7-4025-a1d1-5c67fbe46adb"
      },
      "outputs": [
        {
          "data": {
            "text/plain": [
              "(1422, 15)"
            ]
          },
          "execution_count": 35,
          "metadata": {},
          "output_type": "execute_result"
        }
      ],
      "source": [
        "#Mesma tranformação para o conjunto de teste\n",
        "data_teste_num = data_teste_drop\n",
        "data_teste_num['month'] = data_teste_num['month'].apply(month_group2)\n",
        "data_teste_num['pdays'] = data_teste_num['pdays'].apply(pdays_group)\n",
        "\n",
        "data_teste_num['job']=data_teste_num['job'].map(data_treino_job)\n",
        "data_teste_num['education']=data_teste_num['education'].map(data_treino_edu)\n",
        "#data_teste_num['marital']=data_teste_num['marital'].map(data_treino_mar)\n",
        "\n",
        "\n",
        "data_teste_num.shape"
      ]
    },
    {
      "cell_type": "code",
      "execution_count": null,
      "metadata": {
        "colab": {
          "base_uri": "https://localhost:8080/"
        },
        "id": "zaTXcIa_c6LX",
        "outputId": "23533294-80d5-4fd2-a4ba-c71d006d875e"
      },
      "outputs": [
        {
          "data": {
            "text/plain": [
              "pdays  term_deposit\n",
              "-100   0               2575\n",
              "       1               2308\n",
              " 1     0                  1\n",
              " 2     0                  1\n",
              " 5     0                  1\n",
              "                       ... \n",
              " 475   1                  1\n",
              " 476   1                  1\n",
              " 477   1                  1\n",
              " 495   1                  1\n",
              " 515   1                  1\n",
              "Name: term_deposit, Length: 478, dtype: int64"
            ]
          },
          "execution_count": 36,
          "metadata": {},
          "output_type": "execute_result"
        }
      ],
      "source": [
        "data_treino_num.groupby(['pdays'])['term_deposit'].value_counts()"
      ]
    },
    {
      "cell_type": "code",
      "execution_count": null,
      "metadata": {
        "colab": {
          "base_uri": "https://localhost:8080/"
        },
        "id": "IDcvb-lWc-6z",
        "outputId": "8131662c-b8ea-46ad-c163-73d2601c7aa2"
      },
      "outputs": [
        {
          "data": {
            "text/plain": [
              "0    3464\n",
              "2    1923\n",
              "1     737\n",
              "Name: Estado_Civil, dtype: int64"
            ]
          },
          "execution_count": 37,
          "metadata": {},
          "output_type": "execute_result"
        }
      ],
      "source": [
        "\n",
        "estado_civil=data_treino_num.groupby(['marital'])['term_deposit'].mean().sort_values().index\n",
        "estado_civil\n",
        "\n",
        "estado_civil2={k:i for i,k in enumerate(estado_civil,0)}\n",
        "estado_civil2\n",
        "\n",
        "data_treino_num['Estado_Civil']=data_treino_num['marital'].map(estado_civil2)\n",
        "data_treino_num.drop(['marital'], axis=1,inplace=True)\n",
        "\n",
        "data_treino_num.Estado_Civil.value_counts()\n",
        "\n"
      ]
    },
    {
      "cell_type": "code",
      "execution_count": null,
      "metadata": {
        "colab": {
          "base_uri": "https://localhost:8080/"
        },
        "id": "y8ibzxpYeAaU",
        "outputId": "6e07aa0a-6118-4d88-afad-64e362a6bf00"
      },
      "outputs": [
        {
          "data": {
            "text/plain": [
              "0    815\n",
              "2    432\n",
              "1    175\n",
              "Name: Estado_Civil, dtype: int64"
            ]
          },
          "execution_count": 38,
          "metadata": {},
          "output_type": "execute_result"
        }
      ],
      "source": [
        "\n",
        "#MEsmo para o Teste\n",
        "data_teste_num['Estado_Civil']=data_teste_num['marital'].map(estado_civil2)\n",
        "data_teste_num.drop(['marital'], axis=1,inplace=True)\n",
        "\n",
        "data_teste_num.Estado_Civil.value_counts()\n"
      ]
    },
    {
      "cell_type": "markdown",
      "metadata": {
        "id": "PFJlFdSklO1n"
      },
      "source": [
        "Dummificando as colunas"
      ]
    },
    {
      "cell_type": "code",
      "execution_count": null,
      "metadata": {
        "colab": {
          "base_uri": "https://localhost:8080/"
        },
        "id": "bZBnDll_1wxX",
        "outputId": "f4be2cdb-84a4-499c-d72b-32225e4d08e8"
      },
      "outputs": [
        {
          "data": {
            "text/plain": [
              "(6124, 16)"
            ]
          },
          "execution_count": 39,
          "metadata": {},
          "output_type": "execute_result"
        }
      ],
      "source": [
        "data_treino_num.shape"
      ]
    },
    {
      "cell_type": "code",
      "execution_count": null,
      "metadata": {
        "colab": {
          "base_uri": "https://localhost:8080/",
          "height": 81
        },
        "id": "n7oyC9qc65cD",
        "outputId": "2dc90566-34f7-4e38-f1b3-9bde6e101645"
      },
      "outputs": [
        {
          "data": {
            "text/html": [
              "<div>\n",
              "<style scoped>\n",
              "    .dataframe tbody tr th:only-of-type {\n",
              "        vertical-align: middle;\n",
              "    }\n",
              "\n",
              "    .dataframe tbody tr th {\n",
              "        vertical-align: top;\n",
              "    }\n",
              "\n",
              "    .dataframe thead th {\n",
              "        text-align: right;\n",
              "    }\n",
              "</style>\n",
              "<table border=\"1\" class=\"dataframe\">\n",
              "  <thead>\n",
              "    <tr style=\"text-align: right;\">\n",
              "      <th></th>\n",
              "      <th>age</th>\n",
              "      <th>job</th>\n",
              "      <th>education</th>\n",
              "      <th>default</th>\n",
              "      <th>balance</th>\n",
              "      <th>housing</th>\n",
              "      <th>loan</th>\n",
              "      <th>contact</th>\n",
              "      <th>day</th>\n",
              "      <th>month</th>\n",
              "      <th>campaign</th>\n",
              "      <th>pdays</th>\n",
              "      <th>previous</th>\n",
              "      <th>poutcome</th>\n",
              "      <th>term_deposit</th>\n",
              "      <th>Estado_Civil</th>\n",
              "    </tr>\n",
              "  </thead>\n",
              "  <tbody>\n",
              "    <tr>\n",
              "      <th>0</th>\n",
              "      <td>46</td>\n",
              "      <td>1377</td>\n",
              "      <td>2000</td>\n",
              "      <td>0</td>\n",
              "      <td>14481</td>\n",
              "      <td>1</td>\n",
              "      <td>0</td>\n",
              "      <td>unknown</td>\n",
              "      <td>30</td>\n",
              "      <td>5</td>\n",
              "      <td>1</td>\n",
              "      <td>-100</td>\n",
              "      <td>0</td>\n",
              "      <td>unknown</td>\n",
              "      <td>1</td>\n",
              "      <td>1</td>\n",
              "    </tr>\n",
              "  </tbody>\n",
              "</table>\n",
              "</div>"
            ],
            "text/plain": [
              "   age   job  education  default  balance  housing  loan  contact  day  month  \\\n",
              "0   46  1377       2000        0    14481        1     0  unknown   30      5   \n",
              "\n",
              "   campaign  pdays  previous poutcome  term_deposit  Estado_Civil  \n",
              "0         1   -100         0  unknown             1             1  "
            ]
          },
          "execution_count": 40,
          "metadata": {},
          "output_type": "execute_result"
        }
      ],
      "source": [
        "data_treino_num.head(1)"
      ]
    },
    {
      "cell_type": "code",
      "execution_count": null,
      "metadata": {
        "colab": {
          "base_uri": "https://localhost:8080/"
        },
        "id": "9iCqUBGuk_yP",
        "outputId": "12d496b8-a6e8-48e5-f7c0-345d78f36222"
      },
      "outputs": [
        {
          "data": {
            "text/plain": [
              "(6124, 21)"
            ]
          },
          "execution_count": 41,
          "metadata": {},
          "output_type": "execute_result"
        }
      ],
      "source": [
        "data_treino_dum = data_treino_num.copy()\n",
        "data_treino_dum = pd.get_dummies(data_treino_dum, \n",
        "                                 columns = ['contact',  'poutcome' ])\n",
        "\n",
        "data_treino_dum.shape"
      ]
    },
    {
      "cell_type": "code",
      "execution_count": null,
      "metadata": {
        "colab": {
          "base_uri": "https://localhost:8080/"
        },
        "id": "MRdt1oYT7NSl",
        "outputId": "beb12deb-7b4c-46b2-d1f1-af4b4518b44f"
      },
      "outputs": [
        {
          "data": {
            "text/plain": [
              "(1422, 20)"
            ]
          },
          "execution_count": 42,
          "metadata": {},
          "output_type": "execute_result"
        }
      ],
      "source": [
        "#Mesmo para o conjunto de Teste\n",
        "data_teste_dum = data_teste_num.copy()\n",
        "data_teste_dum = pd.get_dummies(data_teste_dum, \n",
        "                                 columns = ['contact',  'poutcome' ])\n",
        "data_teste_dum.shape"
      ]
    },
    {
      "cell_type": "markdown",
      "metadata": {
        "id": "nDAxVnvanhNt"
      },
      "source": [
        "#Normalizando as faixas de valores altas\n",
        "\n",
        "Aqui temos um data liquid controlado, pois apesar de aplicar as padrozinações no conjunto de teste apartir do conjunto de treino, é uma situação controlada, pois não esperamos dados muito fora dessa faixa"
      ]
    },
    {
      "cell_type": "code",
      "execution_count": null,
      "metadata": {
        "colab": {
          "base_uri": "https://localhost:8080/",
          "height": 101
        },
        "id": "Vyb9bW1u_Xuz",
        "outputId": "07c5db55-61c2-4d18-942e-f91d796ed1b8"
      },
      "outputs": [
        {
          "data": {
            "text/html": [
              "<div>\n",
              "<style scoped>\n",
              "    .dataframe tbody tr th:only-of-type {\n",
              "        vertical-align: middle;\n",
              "    }\n",
              "\n",
              "    .dataframe tbody tr th {\n",
              "        vertical-align: top;\n",
              "    }\n",
              "\n",
              "    .dataframe thead th {\n",
              "        text-align: right;\n",
              "    }\n",
              "</style>\n",
              "<table border=\"1\" class=\"dataframe\">\n",
              "  <thead>\n",
              "    <tr style=\"text-align: right;\">\n",
              "      <th></th>\n",
              "      <th>age</th>\n",
              "      <th>job</th>\n",
              "      <th>education</th>\n",
              "      <th>default</th>\n",
              "      <th>balance</th>\n",
              "      <th>housing</th>\n",
              "      <th>loan</th>\n",
              "      <th>day</th>\n",
              "      <th>month</th>\n",
              "      <th>campaign</th>\n",
              "      <th>...</th>\n",
              "      <th>previous</th>\n",
              "      <th>term_deposit</th>\n",
              "      <th>Estado_Civil</th>\n",
              "      <th>contact_cellular</th>\n",
              "      <th>contact_telephone</th>\n",
              "      <th>contact_unknown</th>\n",
              "      <th>poutcome_failure</th>\n",
              "      <th>poutcome_other</th>\n",
              "      <th>poutcome_success</th>\n",
              "      <th>poutcome_unknown</th>\n",
              "    </tr>\n",
              "  </thead>\n",
              "  <tbody>\n",
              "    <tr>\n",
              "      <th>0</th>\n",
              "      <td>46</td>\n",
              "      <td>1377</td>\n",
              "      <td>2000</td>\n",
              "      <td>0</td>\n",
              "      <td>14481</td>\n",
              "      <td>1</td>\n",
              "      <td>0</td>\n",
              "      <td>30</td>\n",
              "      <td>5</td>\n",
              "      <td>1</td>\n",
              "      <td>...</td>\n",
              "      <td>0</td>\n",
              "      <td>1</td>\n",
              "      <td>1</td>\n",
              "      <td>0</td>\n",
              "      <td>0</td>\n",
              "      <td>1</td>\n",
              "      <td>0</td>\n",
              "      <td>0</td>\n",
              "      <td>0</td>\n",
              "      <td>1</td>\n",
              "    </tr>\n",
              "  </tbody>\n",
              "</table>\n",
              "<p>1 rows × 21 columns</p>\n",
              "</div>"
            ],
            "text/plain": [
              "   age   job  education  default  balance  housing  loan  day  month  \\\n",
              "0   46  1377       2000        0    14481        1     0   30      5   \n",
              "\n",
              "   campaign  ...  previous  term_deposit  Estado_Civil  contact_cellular  \\\n",
              "0         1  ...         0             1             1                 0   \n",
              "\n",
              "   contact_telephone  contact_unknown  poutcome_failure  poutcome_other  \\\n",
              "0                  0                1                 0               0   \n",
              "\n",
              "   poutcome_success  poutcome_unknown  \n",
              "0                 0                 1  \n",
              "\n",
              "[1 rows x 21 columns]"
            ]
          },
          "execution_count": 43,
          "metadata": {},
          "output_type": "execute_result"
        }
      ],
      "source": [
        "data_treino_dum.head(1)"
      ]
    },
    {
      "cell_type": "code",
      "execution_count": null,
      "metadata": {
        "colab": {
          "base_uri": "https://localhost:8080/",
          "height": 444
        },
        "id": "cogdTWr08EBl",
        "outputId": "11dac212-c595-4801-f01a-1e3c6aa86a9f"
      },
      "outputs": [
        {
          "data": {
            "text/html": [
              "<div>\n",
              "<style scoped>\n",
              "    .dataframe tbody tr th:only-of-type {\n",
              "        vertical-align: middle;\n",
              "    }\n",
              "\n",
              "    .dataframe tbody tr th {\n",
              "        vertical-align: top;\n",
              "    }\n",
              "\n",
              "    .dataframe thead th {\n",
              "        text-align: right;\n",
              "    }\n",
              "</style>\n",
              "<table border=\"1\" class=\"dataframe\">\n",
              "  <thead>\n",
              "    <tr style=\"text-align: right;\">\n",
              "      <th></th>\n",
              "      <th>default</th>\n",
              "      <th>housing</th>\n",
              "      <th>loan</th>\n",
              "      <th>day</th>\n",
              "      <th>month</th>\n",
              "      <th>campaign</th>\n",
              "      <th>term_deposit</th>\n",
              "      <th>Estado_Civil</th>\n",
              "      <th>contact_cellular</th>\n",
              "      <th>contact_telephone</th>\n",
              "      <th>...</th>\n",
              "      <th>poutcome_failure</th>\n",
              "      <th>poutcome_other</th>\n",
              "      <th>poutcome_success</th>\n",
              "      <th>poutcome_unknown</th>\n",
              "      <th>idade</th>\n",
              "      <th>Cargo</th>\n",
              "      <th>Educação</th>\n",
              "      <th>Saldo_conta</th>\n",
              "      <th>dias_Contato</th>\n",
              "      <th>Previo</th>\n",
              "    </tr>\n",
              "  </thead>\n",
              "  <tbody>\n",
              "    <tr>\n",
              "      <th>0</th>\n",
              "      <td>0</td>\n",
              "      <td>1</td>\n",
              "      <td>0</td>\n",
              "      <td>30</td>\n",
              "      <td>5</td>\n",
              "      <td>1</td>\n",
              "      <td>1</td>\n",
              "      <td>1</td>\n",
              "      <td>0</td>\n",
              "      <td>0</td>\n",
              "      <td>...</td>\n",
              "      <td>0</td>\n",
              "      <td>0</td>\n",
              "      <td>0</td>\n",
              "      <td>1</td>\n",
              "      <td>0.444481</td>\n",
              "      <td>1.199626</td>\n",
              "      <td>-0.314281</td>\n",
              "      <td>4.009700</td>\n",
              "      <td>-0.467776</td>\n",
              "      <td>-0.307291</td>\n",
              "    </tr>\n",
              "    <tr>\n",
              "      <th>1</th>\n",
              "      <td>0</td>\n",
              "      <td>1</td>\n",
              "      <td>0</td>\n",
              "      <td>1</td>\n",
              "      <td>4</td>\n",
              "      <td>3</td>\n",
              "      <td>0</td>\n",
              "      <td>2</td>\n",
              "      <td>1</td>\n",
              "      <td>0</td>\n",
              "      <td>...</td>\n",
              "      <td>0</td>\n",
              "      <td>0</td>\n",
              "      <td>0</td>\n",
              "      <td>1</td>\n",
              "      <td>-0.345650</td>\n",
              "      <td>1.199626</td>\n",
              "      <td>-0.314281</td>\n",
              "      <td>-0.340459</td>\n",
              "      <td>-0.467776</td>\n",
              "      <td>-0.307291</td>\n",
              "    </tr>\n",
              "    <tr>\n",
              "      <th>2</th>\n",
              "      <td>0</td>\n",
              "      <td>0</td>\n",
              "      <td>0</td>\n",
              "      <td>5</td>\n",
              "      <td>2</td>\n",
              "      <td>1</td>\n",
              "      <td>0</td>\n",
              "      <td>2</td>\n",
              "      <td>1</td>\n",
              "      <td>0</td>\n",
              "      <td>...</td>\n",
              "      <td>0</td>\n",
              "      <td>0</td>\n",
              "      <td>0</td>\n",
              "      <td>1</td>\n",
              "      <td>0.356688</td>\n",
              "      <td>-1.565588</td>\n",
              "      <td>0.865132</td>\n",
              "      <td>-0.471981</td>\n",
              "      <td>-0.467776</td>\n",
              "      <td>-0.307291</td>\n",
              "    </tr>\n",
              "    <tr>\n",
              "      <th>3</th>\n",
              "      <td>0</td>\n",
              "      <td>0</td>\n",
              "      <td>0</td>\n",
              "      <td>18</td>\n",
              "      <td>2</td>\n",
              "      <td>2</td>\n",
              "      <td>1</td>\n",
              "      <td>0</td>\n",
              "      <td>1</td>\n",
              "      <td>0</td>\n",
              "      <td>...</td>\n",
              "      <td>0</td>\n",
              "      <td>0</td>\n",
              "      <td>0</td>\n",
              "      <td>1</td>\n",
              "      <td>-0.872403</td>\n",
              "      <td>1.199626</td>\n",
              "      <td>-0.314281</td>\n",
              "      <td>-0.441582</td>\n",
              "      <td>-0.467776</td>\n",
              "      <td>-0.307291</td>\n",
              "    </tr>\n",
              "    <tr>\n",
              "      <th>4</th>\n",
              "      <td>0</td>\n",
              "      <td>1</td>\n",
              "      <td>0</td>\n",
              "      <td>18</td>\n",
              "      <td>11</td>\n",
              "      <td>2</td>\n",
              "      <td>0</td>\n",
              "      <td>0</td>\n",
              "      <td>1</td>\n",
              "      <td>0</td>\n",
              "      <td>...</td>\n",
              "      <td>0</td>\n",
              "      <td>0</td>\n",
              "      <td>0</td>\n",
              "      <td>1</td>\n",
              "      <td>-0.521234</td>\n",
              "      <td>1.199626</td>\n",
              "      <td>-0.314281</td>\n",
              "      <td>-0.281832</td>\n",
              "      <td>-0.467776</td>\n",
              "      <td>-0.307291</td>\n",
              "    </tr>\n",
              "    <tr>\n",
              "      <th>...</th>\n",
              "      <td>...</td>\n",
              "      <td>...</td>\n",
              "      <td>...</td>\n",
              "      <td>...</td>\n",
              "      <td>...</td>\n",
              "      <td>...</td>\n",
              "      <td>...</td>\n",
              "      <td>...</td>\n",
              "      <td>...</td>\n",
              "      <td>...</td>\n",
              "      <td>...</td>\n",
              "      <td>...</td>\n",
              "      <td>...</td>\n",
              "      <td>...</td>\n",
              "      <td>...</td>\n",
              "      <td>...</td>\n",
              "      <td>...</td>\n",
              "      <td>...</td>\n",
              "      <td>...</td>\n",
              "      <td>...</td>\n",
              "      <td>...</td>\n",
              "    </tr>\n",
              "    <tr>\n",
              "      <th>6119</th>\n",
              "      <td>0</td>\n",
              "      <td>1</td>\n",
              "      <td>0</td>\n",
              "      <td>2</td>\n",
              "      <td>7</td>\n",
              "      <td>1</td>\n",
              "      <td>1</td>\n",
              "      <td>2</td>\n",
              "      <td>1</td>\n",
              "      <td>0</td>\n",
              "      <td>...</td>\n",
              "      <td>0</td>\n",
              "      <td>0</td>\n",
              "      <td>1</td>\n",
              "      <td>0</td>\n",
              "      <td>-1.135780</td>\n",
              "      <td>1.199626</td>\n",
              "      <td>-0.314281</td>\n",
              "      <td>3.536654</td>\n",
              "      <td>3.363369</td>\n",
              "      <td>1.332903</td>\n",
              "    </tr>\n",
              "    <tr>\n",
              "      <th>6120</th>\n",
              "      <td>0</td>\n",
              "      <td>0</td>\n",
              "      <td>0</td>\n",
              "      <td>14</td>\n",
              "      <td>8</td>\n",
              "      <td>2</td>\n",
              "      <td>0</td>\n",
              "      <td>0</td>\n",
              "      <td>0</td>\n",
              "      <td>1</td>\n",
              "      <td>...</td>\n",
              "      <td>0</td>\n",
              "      <td>0</td>\n",
              "      <td>0</td>\n",
              "      <td>1</td>\n",
              "      <td>1.410195</td>\n",
              "      <td>-1.141447</td>\n",
              "      <td>0.865132</td>\n",
              "      <td>-0.333634</td>\n",
              "      <td>-0.467776</td>\n",
              "      <td>-0.307291</td>\n",
              "    </tr>\n",
              "    <tr>\n",
              "      <th>6121</th>\n",
              "      <td>0</td>\n",
              "      <td>0</td>\n",
              "      <td>0</td>\n",
              "      <td>20</td>\n",
              "      <td>6</td>\n",
              "      <td>6</td>\n",
              "      <td>0</td>\n",
              "      <td>0</td>\n",
              "      <td>0</td>\n",
              "      <td>0</td>\n",
              "      <td>...</td>\n",
              "      <td>0</td>\n",
              "      <td>0</td>\n",
              "      <td>0</td>\n",
              "      <td>1</td>\n",
              "      <td>-0.082273</td>\n",
              "      <td>-1.667477</td>\n",
              "      <td>0.865132</td>\n",
              "      <td>-0.401567</td>\n",
              "      <td>-0.467776</td>\n",
              "      <td>-0.307291</td>\n",
              "    </tr>\n",
              "    <tr>\n",
              "      <th>6122</th>\n",
              "      <td>0</td>\n",
              "      <td>0</td>\n",
              "      <td>0</td>\n",
              "      <td>3</td>\n",
              "      <td>6</td>\n",
              "      <td>1</td>\n",
              "      <td>1</td>\n",
              "      <td>1</td>\n",
              "      <td>1</td>\n",
              "      <td>0</td>\n",
              "      <td>...</td>\n",
              "      <td>0</td>\n",
              "      <td>0</td>\n",
              "      <td>0</td>\n",
              "      <td>1</td>\n",
              "      <td>1.146819</td>\n",
              "      <td>-0.404530</td>\n",
              "      <td>0.865132</td>\n",
              "      <td>-0.420178</td>\n",
              "      <td>-0.467776</td>\n",
              "      <td>-0.307291</td>\n",
              "    </tr>\n",
              "    <tr>\n",
              "      <th>6123</th>\n",
              "      <td>0</td>\n",
              "      <td>1</td>\n",
              "      <td>0</td>\n",
              "      <td>11</td>\n",
              "      <td>8</td>\n",
              "      <td>4</td>\n",
              "      <td>1</td>\n",
              "      <td>0</td>\n",
              "      <td>1</td>\n",
              "      <td>0</td>\n",
              "      <td>...</td>\n",
              "      <td>0</td>\n",
              "      <td>0</td>\n",
              "      <td>0</td>\n",
              "      <td>1</td>\n",
              "      <td>0.005519</td>\n",
              "      <td>1.199626</td>\n",
              "      <td>0.865132</td>\n",
              "      <td>-0.340769</td>\n",
              "      <td>-0.467776</td>\n",
              "      <td>-0.307291</td>\n",
              "    </tr>\n",
              "  </tbody>\n",
              "</table>\n",
              "<p>6124 rows × 21 columns</p>\n",
              "</div>"
            ],
            "text/plain": [
              "      default  housing  loan  day  month  campaign  term_deposit  \\\n",
              "0           0        1     0   30      5         1             1   \n",
              "1           0        1     0    1      4         3             0   \n",
              "2           0        0     0    5      2         1             0   \n",
              "3           0        0     0   18      2         2             1   \n",
              "4           0        1     0   18     11         2             0   \n",
              "...       ...      ...   ...  ...    ...       ...           ...   \n",
              "6119        0        1     0    2      7         1             1   \n",
              "6120        0        0     0   14      8         2             0   \n",
              "6121        0        0     0   20      6         6             0   \n",
              "6122        0        0     0    3      6         1             1   \n",
              "6123        0        1     0   11      8         4             1   \n",
              "\n",
              "      Estado_Civil  contact_cellular  contact_telephone  ...  \\\n",
              "0                1                 0                  0  ...   \n",
              "1                2                 1                  0  ...   \n",
              "2                2                 1                  0  ...   \n",
              "3                0                 1                  0  ...   \n",
              "4                0                 1                  0  ...   \n",
              "...            ...               ...                ...  ...   \n",
              "6119             2                 1                  0  ...   \n",
              "6120             0                 0                  1  ...   \n",
              "6121             0                 0                  0  ...   \n",
              "6122             1                 1                  0  ...   \n",
              "6123             0                 1                  0  ...   \n",
              "\n",
              "      poutcome_failure  poutcome_other  poutcome_success  poutcome_unknown  \\\n",
              "0                    0               0                 0                 1   \n",
              "1                    0               0                 0                 1   \n",
              "2                    0               0                 0                 1   \n",
              "3                    0               0                 0                 1   \n",
              "4                    0               0                 0                 1   \n",
              "...                ...             ...               ...               ...   \n",
              "6119                 0               0                 1                 0   \n",
              "6120                 0               0                 0                 1   \n",
              "6121                 0               0                 0                 1   \n",
              "6122                 0               0                 0                 1   \n",
              "6123                 0               0                 0                 1   \n",
              "\n",
              "         idade     Cargo  Educação  Saldo_conta  dias_Contato    Previo  \n",
              "0     0.444481  1.199626 -0.314281     4.009700     -0.467776 -0.307291  \n",
              "1    -0.345650  1.199626 -0.314281    -0.340459     -0.467776 -0.307291  \n",
              "2     0.356688 -1.565588  0.865132    -0.471981     -0.467776 -0.307291  \n",
              "3    -0.872403  1.199626 -0.314281    -0.441582     -0.467776 -0.307291  \n",
              "4    -0.521234  1.199626 -0.314281    -0.281832     -0.467776 -0.307291  \n",
              "...        ...       ...       ...          ...           ...       ...  \n",
              "6119 -1.135780  1.199626 -0.314281     3.536654      3.363369  1.332903  \n",
              "6120  1.410195 -1.141447  0.865132    -0.333634     -0.467776 -0.307291  \n",
              "6121 -0.082273 -1.667477  0.865132    -0.401567     -0.467776 -0.307291  \n",
              "6122  1.146819 -0.404530  0.865132    -0.420178     -0.467776 -0.307291  \n",
              "6123  0.005519  1.199626  0.865132    -0.340769     -0.467776 -0.307291  \n",
              "\n",
              "[6124 rows x 21 columns]"
            ]
          },
          "execution_count": 44,
          "metadata": {},
          "output_type": "execute_result"
        }
      ],
      "source": [
        "sc = StandardScaler()\n",
        "\n",
        "data_treino_norm = data_treino_dum.copy().reset_index(drop=True)\n",
        "\n",
        "aux0 = sc.fit_transform(data_treino_norm[['age', 'job', 'education', 'balance', 'pdays', 'previous']])#faz o ajuste, calculo da média e do desvio padrão. (- a mpedia) / desvio padrão\n",
        "aux1 = pd.DataFrame(aux0, columns = ['idade', 'Cargo', 'Educação', 'Saldo_conta', 'dias_Contato', 'Previo'])#transforma num data frame o numpy array e adicionado ao data frame\n",
        "data_treino_norm = pd.concat([data_treino_norm, aux1], axis = 1)#concatena com o o conjunto de dados\n",
        "data_treino_norm.drop(['age', 'job', 'education', 'balance', 'pdays', 'previous'], axis = 1, inplace = True) #dropa as colunas antigas do conjunto de dados\n",
        "data_treino_norm"
      ]
    },
    {
      "cell_type": "code",
      "execution_count": null,
      "metadata": {
        "colab": {
          "base_uri": "https://localhost:8080/"
        },
        "id": "3ANh65Dk86zL",
        "outputId": "7a2c4543-00fa-4d6a-9e08-13fc85a9de1f"
      },
      "outputs": [
        {
          "data": {
            "text/plain": [
              "(1422, 20)"
            ]
          },
          "execution_count": 45,
          "metadata": {},
          "output_type": "execute_result"
        }
      ],
      "source": [
        "#Mesmo ao Conjunto de Teste\n",
        "aux0 = sc.transform(data_teste_dum[['age', 'job', 'education', 'balance', 'pdays', 'previous']])#sem o fit, ele ja foi feito na etapa passada, sem vazamento de dados\n",
        "aux1 = pd.DataFrame(aux0, columns = ['idade', 'Cargo', 'Educação', 'Saldo_conta', 'dias_Contato', 'Previo'])\n",
        "data_teste_norm = pd.concat([data_teste_dum, aux1], axis = 1)\n",
        "data_teste_norm.drop(['age', 'job', 'education', 'balance', 'pdays', 'previous'], axis = 1, inplace = True)\n",
        "data_teste_norm.shape"
      ]
    },
    {
      "cell_type": "markdown",
      "metadata": {
        "id": "i0divSHU9VdG"
      },
      "source": [
        "Separando a variável Alvo(term_deposit) e ajustando para o treino e teste"
      ]
    },
    {
      "cell_type": "code",
      "execution_count": null,
      "metadata": {
        "id": "Ve-N7k7FAerR"
      },
      "outputs": [],
      "source": [
        "#data_treino_norm = data_treino_dum\n",
        "\n",
        "#data_teste_norm = data_teste_dum"
      ]
    },
    {
      "cell_type": "code",
      "execution_count": null,
      "metadata": {
        "colab": {
          "base_uri": "https://localhost:8080/",
          "height": 320
        },
        "id": "OshIpmmKnx6R",
        "outputId": "f748d42b-cd53-4fe7-8968-239ec755a74a"
      },
      "outputs": [
        {
          "data": {
            "text/html": [
              "<div>\n",
              "<style scoped>\n",
              "    .dataframe tbody tr th:only-of-type {\n",
              "        vertical-align: middle;\n",
              "    }\n",
              "\n",
              "    .dataframe tbody tr th {\n",
              "        vertical-align: top;\n",
              "    }\n",
              "\n",
              "    .dataframe thead th {\n",
              "        text-align: right;\n",
              "    }\n",
              "</style>\n",
              "<table border=\"1\" class=\"dataframe\">\n",
              "  <thead>\n",
              "    <tr style=\"text-align: right;\">\n",
              "      <th></th>\n",
              "      <th>default</th>\n",
              "      <th>housing</th>\n",
              "      <th>loan</th>\n",
              "      <th>day</th>\n",
              "      <th>month</th>\n",
              "      <th>campaign</th>\n",
              "      <th>Estado_Civil</th>\n",
              "      <th>contact_cellular</th>\n",
              "      <th>contact_telephone</th>\n",
              "      <th>contact_unknown</th>\n",
              "      <th>poutcome_failure</th>\n",
              "      <th>poutcome_other</th>\n",
              "      <th>poutcome_success</th>\n",
              "      <th>poutcome_unknown</th>\n",
              "      <th>idade</th>\n",
              "      <th>Cargo</th>\n",
              "      <th>Educação</th>\n",
              "      <th>Saldo_conta</th>\n",
              "      <th>dias_Contato</th>\n",
              "      <th>Previo</th>\n",
              "    </tr>\n",
              "  </thead>\n",
              "  <tbody>\n",
              "    <tr>\n",
              "      <th>count</th>\n",
              "      <td>6124.000000</td>\n",
              "      <td>6124.00000</td>\n",
              "      <td>6124.000000</td>\n",
              "      <td>6124.000000</td>\n",
              "      <td>6124.000000</td>\n",
              "      <td>6124.000000</td>\n",
              "      <td>6124.000000</td>\n",
              "      <td>6124.000000</td>\n",
              "      <td>6124.000000</td>\n",
              "      <td>6124.000000</td>\n",
              "      <td>6124.000000</td>\n",
              "      <td>6124.000000</td>\n",
              "      <td>6124.000000</td>\n",
              "      <td>6124.000000</td>\n",
              "      <td>6.124000e+03</td>\n",
              "      <td>6.124000e+03</td>\n",
              "      <td>6.124000e+03</td>\n",
              "      <td>6.124000e+03</td>\n",
              "      <td>6.124000e+03</td>\n",
              "      <td>6.124000e+03</td>\n",
              "    </tr>\n",
              "    <tr>\n",
              "      <th>mean</th>\n",
              "      <td>0.014696</td>\n",
              "      <td>0.50098</td>\n",
              "      <td>0.135206</td>\n",
              "      <td>15.422436</td>\n",
              "      <td>6.301274</td>\n",
              "      <td>2.067603</td>\n",
              "      <td>0.748367</td>\n",
              "      <td>0.718321</td>\n",
              "      <td>0.061398</td>\n",
              "      <td>0.220281</td>\n",
              "      <td>0.103854</td>\n",
              "      <td>0.038537</td>\n",
              "      <td>0.059928</td>\n",
              "      <td>0.797681</td>\n",
              "      <td>5.766794e-17</td>\n",
              "      <td>-2.955398e-16</td>\n",
              "      <td>2.405725e-16</td>\n",
              "      <td>1.404095e-17</td>\n",
              "      <td>1.038251e-16</td>\n",
              "      <td>-8.036608e-17</td>\n",
              "    </tr>\n",
              "    <tr>\n",
              "      <th>std</th>\n",
              "      <td>0.120344</td>\n",
              "      <td>0.50004</td>\n",
              "      <td>0.341971</td>\n",
              "      <td>8.305416</td>\n",
              "      <td>2.556727</td>\n",
              "      <td>1.283828</td>\n",
              "      <td>0.903586</td>\n",
              "      <td>0.449854</td>\n",
              "      <td>0.240078</td>\n",
              "      <td>0.414470</td>\n",
              "      <td>0.305096</td>\n",
              "      <td>0.192504</td>\n",
              "      <td>0.237373</td>\n",
              "      <td>0.401761</td>\n",
              "      <td>1.000082e+00</td>\n",
              "      <td>1.000082e+00</td>\n",
              "      <td>1.000082e+00</td>\n",
              "      <td>1.000082e+00</td>\n",
              "      <td>1.000082e+00</td>\n",
              "      <td>1.000082e+00</td>\n",
              "    </tr>\n",
              "    <tr>\n",
              "      <th>min</th>\n",
              "      <td>0.000000</td>\n",
              "      <td>0.00000</td>\n",
              "      <td>0.000000</td>\n",
              "      <td>1.000000</td>\n",
              "      <td>1.000000</td>\n",
              "      <td>1.000000</td>\n",
              "      <td>0.000000</td>\n",
              "      <td>0.000000</td>\n",
              "      <td>0.000000</td>\n",
              "      <td>0.000000</td>\n",
              "      <td>0.000000</td>\n",
              "      <td>0.000000</td>\n",
              "      <td>0.000000</td>\n",
              "      <td>0.000000</td>\n",
              "      <td>-2.013703e+00</td>\n",
              "      <td>-1.977882e+00</td>\n",
              "      <td>-2.333492e+00</td>\n",
              "      <td>-1.528191e+00</td>\n",
              "      <td>-4.677760e-01</td>\n",
              "      <td>-3.072909e-01</td>\n",
              "    </tr>\n",
              "    <tr>\n",
              "      <th>25%</th>\n",
              "      <td>0.000000</td>\n",
              "      <td>0.00000</td>\n",
              "      <td>0.000000</td>\n",
              "      <td>8.000000</td>\n",
              "      <td>5.000000</td>\n",
              "      <td>1.000000</td>\n",
              "      <td>0.000000</td>\n",
              "      <td>0.000000</td>\n",
              "      <td>0.000000</td>\n",
              "      <td>0.000000</td>\n",
              "      <td>0.000000</td>\n",
              "      <td>0.000000</td>\n",
              "      <td>0.000000</td>\n",
              "      <td>1.000000</td>\n",
              "      <td>-7.846110e-01</td>\n",
              "      <td>-7.646951e-01</td>\n",
              "      <td>-3.142810e-01</td>\n",
              "      <td>-4.480959e-01</td>\n",
              "      <td>-4.677760e-01</td>\n",
              "      <td>-3.072909e-01</td>\n",
              "    </tr>\n",
              "    <tr>\n",
              "      <th>50%</th>\n",
              "      <td>0.000000</td>\n",
              "      <td>1.00000</td>\n",
              "      <td>0.000000</td>\n",
              "      <td>15.000000</td>\n",
              "      <td>6.000000</td>\n",
              "      <td>2.000000</td>\n",
              "      <td>0.000000</td>\n",
              "      <td>1.000000</td>\n",
              "      <td>0.000000</td>\n",
              "      <td>0.000000</td>\n",
              "      <td>0.000000</td>\n",
              "      <td>0.000000</td>\n",
              "      <td>0.000000</td>\n",
              "      <td>1.000000</td>\n",
              "      <td>-1.700652e-01</td>\n",
              "      <td>2.518231e-01</td>\n",
              "      <td>-3.142810e-01</td>\n",
              "      <td>-3.136269e-01</td>\n",
              "      <td>-4.677760e-01</td>\n",
              "      <td>-3.072909e-01</td>\n",
              "    </tr>\n",
              "    <tr>\n",
              "      <th>75%</th>\n",
              "      <td>0.000000</td>\n",
              "      <td>1.00000</td>\n",
              "      <td>0.000000</td>\n",
              "      <td>21.000000</td>\n",
              "      <td>8.000000</td>\n",
              "      <td>3.000000</td>\n",
              "      <td>2.000000</td>\n",
              "      <td>1.000000</td>\n",
              "      <td>0.000000</td>\n",
              "      <td>0.000000</td>\n",
              "      <td>0.000000</td>\n",
              "      <td>0.000000</td>\n",
              "      <td>0.000000</td>\n",
              "      <td>1.000000</td>\n",
              "      <td>7.078573e-01</td>\n",
              "      <td>7.020293e-01</td>\n",
              "      <td>8.651322e-01</td>\n",
              "      <td>5.488345e-02</td>\n",
              "      <td>-4.677760e-01</td>\n",
              "      <td>-3.072909e-01</td>\n",
              "    </tr>\n",
              "    <tr>\n",
              "      <th>max</th>\n",
              "      <td>1.000000</td>\n",
              "      <td>1.00000</td>\n",
              "      <td>1.000000</td>\n",
              "      <td>31.000000</td>\n",
              "      <td>12.000000</td>\n",
              "      <td>6.000000</td>\n",
              "      <td>2.000000</td>\n",
              "      <td>1.000000</td>\n",
              "      <td>1.000000</td>\n",
              "      <td>1.000000</td>\n",
              "      <td>1.000000</td>\n",
              "      <td>1.000000</td>\n",
              "      <td>1.000000</td>\n",
              "      <td>1.000000</td>\n",
              "      <td>4.307340e+00</td>\n",
              "      <td>1.199626e+00</td>\n",
              "      <td>8.651322e-01</td>\n",
              "      <td>2.470677e+01</td>\n",
              "      <td>4.253976e+00</td>\n",
              "      <td>3.140313e+01</td>\n",
              "    </tr>\n",
              "  </tbody>\n",
              "</table>\n",
              "</div>"
            ],
            "text/plain": [
              "           default     housing         loan          day        month  \\\n",
              "count  6124.000000  6124.00000  6124.000000  6124.000000  6124.000000   \n",
              "mean      0.014696     0.50098     0.135206    15.422436     6.301274   \n",
              "std       0.120344     0.50004     0.341971     8.305416     2.556727   \n",
              "min       0.000000     0.00000     0.000000     1.000000     1.000000   \n",
              "25%       0.000000     0.00000     0.000000     8.000000     5.000000   \n",
              "50%       0.000000     1.00000     0.000000    15.000000     6.000000   \n",
              "75%       0.000000     1.00000     0.000000    21.000000     8.000000   \n",
              "max       1.000000     1.00000     1.000000    31.000000    12.000000   \n",
              "\n",
              "          campaign  Estado_Civil  contact_cellular  contact_telephone  \\\n",
              "count  6124.000000   6124.000000       6124.000000        6124.000000   \n",
              "mean      2.067603      0.748367          0.718321           0.061398   \n",
              "std       1.283828      0.903586          0.449854           0.240078   \n",
              "min       1.000000      0.000000          0.000000           0.000000   \n",
              "25%       1.000000      0.000000          0.000000           0.000000   \n",
              "50%       2.000000      0.000000          1.000000           0.000000   \n",
              "75%       3.000000      2.000000          1.000000           0.000000   \n",
              "max       6.000000      2.000000          1.000000           1.000000   \n",
              "\n",
              "       contact_unknown  poutcome_failure  poutcome_other  poutcome_success  \\\n",
              "count      6124.000000       6124.000000     6124.000000       6124.000000   \n",
              "mean          0.220281          0.103854        0.038537          0.059928   \n",
              "std           0.414470          0.305096        0.192504          0.237373   \n",
              "min           0.000000          0.000000        0.000000          0.000000   \n",
              "25%           0.000000          0.000000        0.000000          0.000000   \n",
              "50%           0.000000          0.000000        0.000000          0.000000   \n",
              "75%           0.000000          0.000000        0.000000          0.000000   \n",
              "max           1.000000          1.000000        1.000000          1.000000   \n",
              "\n",
              "       poutcome_unknown         idade         Cargo      Educação  \\\n",
              "count       6124.000000  6.124000e+03  6.124000e+03  6.124000e+03   \n",
              "mean           0.797681  5.766794e-17 -2.955398e-16  2.405725e-16   \n",
              "std            0.401761  1.000082e+00  1.000082e+00  1.000082e+00   \n",
              "min            0.000000 -2.013703e+00 -1.977882e+00 -2.333492e+00   \n",
              "25%            1.000000 -7.846110e-01 -7.646951e-01 -3.142810e-01   \n",
              "50%            1.000000 -1.700652e-01  2.518231e-01 -3.142810e-01   \n",
              "75%            1.000000  7.078573e-01  7.020293e-01  8.651322e-01   \n",
              "max            1.000000  4.307340e+00  1.199626e+00  8.651322e-01   \n",
              "\n",
              "        Saldo_conta  dias_Contato        Previo  \n",
              "count  6.124000e+03  6.124000e+03  6.124000e+03  \n",
              "mean   1.404095e-17  1.038251e-16 -8.036608e-17  \n",
              "std    1.000082e+00  1.000082e+00  1.000082e+00  \n",
              "min   -1.528191e+00 -4.677760e-01 -3.072909e-01  \n",
              "25%   -4.480959e-01 -4.677760e-01 -3.072909e-01  \n",
              "50%   -3.136269e-01 -4.677760e-01 -3.072909e-01  \n",
              "75%    5.488345e-02 -4.677760e-01 -3.072909e-01  \n",
              "max    2.470677e+01  4.253976e+00  3.140313e+01  "
            ]
          },
          "execution_count": 47,
          "metadata": {},
          "output_type": "execute_result"
        }
      ],
      "source": [
        "#separa novamente o conjunto em treino e teste, depois de todas as modificações feitas\n",
        "YTreino = data_treino_norm['term_deposit'].to_list()\n",
        "XTreino = data_treino_norm.drop(['term_deposit'],axis=1)\n",
        "\n",
        "XTeste = data_teste_norm.copy()\n",
        "\n",
        "XTreino.describe()"
      ]
    },
    {
      "cell_type": "code",
      "execution_count": null,
      "metadata": {
        "colab": {
          "base_uri": "https://localhost:8080/"
        },
        "id": "ehzqgZaPoPxv",
        "outputId": "13b9777a-e251-4766-ffa0-4515d2e8785b"
      },
      "outputs": [
        {
          "name": "stdout",
          "output_type": "stream",
          "text": [
            "(6124, 20)\n",
            "(1422, 20)\n"
          ]
        },
        {
          "data": {
            "text/plain": [
              "6124"
            ]
          },
          "execution_count": 48,
          "metadata": {},
          "output_type": "execute_result"
        }
      ],
      "source": [
        "print(XTreino.shape)\n",
        "print(XTeste.shape)\n",
        "len(YTreino)"
      ]
    },
    {
      "cell_type": "markdown",
      "metadata": {
        "id": "ZVRdPrzXvv6D"
      },
      "source": [
        "Finalmente começando a busca de modelos"
      ]
    },
    {
      "cell_type": "markdown",
      "metadata": {
        "id": "Vys1vcs6vNY_"
      },
      "source": [
        "Engenharia de Variáveis\n"
      ]
    },
    {
      "cell_type": "code",
      "execution_count": null,
      "metadata": {
        "colab": {
          "base_uri": "https://localhost:8080/",
          "height": 878
        },
        "id": "OTi0_Hokvmai",
        "outputId": "dbcf1e4e-0054-4192-d3e2-738eee938eaf"
      },
      "outputs": [
        {
          "name": "stdout",
          "output_type": "stream",
          "text": [
            "(6124, 20)\n"
          ]
        },
        {
          "data": {
            "image/png": "[encoded data removed]",
            "text/plain": [
              "<Figure size 1080x1080 with 1 Axes>"
            ]
          },
          "metadata": {},
          "output_type": "display_data"
        }
      ],
      "source": [
        "modelo_base = RandomForestClassifier(min_samples_split = 10) \n",
        "modelo_base.fit(XTreino, YTreino) \n",
        "#Array que mostra a importância de cada variável usada para contruir o modelo\n",
        "modelo_base.feature_importances_\n",
        "\n",
        "variaveis = pd.DataFrame()#tranforma em um data frame para melhor visualização\n",
        "variaveis['variavel'] = XTreino.columns#pega os nome das colunas\n",
        "variaveis['importância'] = modelo_base.feature_importances_#atribui os valores\n",
        "variaveis.sort_values(by = \"importância\", ascending = False)#organiza por ordem decrescente de importância\n",
        "\n",
        "#Traz de forma grafica para melhor vizualisção\n",
        "variaveis.sort_values(by = 'importância', ascending = True, inplace = True)\n",
        "variaveis.set_index('variavel', inplace = True)\n",
        "variaveis.plot(kind='barh', figsize=(15, 15));\n",
        "\n",
        "print(XTreino.shape)\n"
      ]
    },
    {
      "cell_type": "code",
      "execution_count": null,
      "metadata": {
        "colab": {
          "base_uri": "https://localhost:8080/",
          "height": 128
        },
        "id": "40eiYrLHvxri",
        "outputId": "4392e82e-26fe-4245-9685-af7910f3ef1f"
      },
      "outputs": [
        {
          "data": {
            "text/plain": [
              "\"resultados2 = pd.DataFrame()\\nt = time()\\n\\n\\nfor i in np.arange(1,XTreino.shape[1]+1,1):\\n\\n  seletor = SelectFromModel(modelo_base, prefit = True, max_features = i, threshold = -np.inf)#modelo base, prefit , max_features = maximo de variáveis\\n  treino_reduzido = seletor.transform(XTreino)#filtra o conjunto de dados baseado no select\\n  teste_reduzido = seletor.transform(XTeste)#filtra o conjunto de dados para o teste\\n\\n  modelo = RandomForestClassifier(max_depth = 9, min_samples_split = 20)\\n  validacao = RepeatedStratifiedKFold(n_splits = 10, n_repeats = 10)\\n  \\n  mol_randon2 = cross_validate(modelo, treino_reduzido, YTreino, cv = validacao, scoring = ['accuracy', 'recall', 'f1', 'precision'],verbose = 10)\\n  \\n  acc2 = mol_randon2['test_accuracy'].mean()\\n  pre2 = mol_randon2['test_precision'].mean()\\n  rec2 = mol_randon2['test_recall'].mean()\\n  f1s2 = mol_randon2['test_f1'].mean()\\n\\n  print('F1: ',  f1s2)\\n  print('Precisão: ',  pre2)\\n  print('Recall', rec2)\\n  print( 'Acurácia' ,acc2)\\n\\n  print('\\n   ', i, '\\n\\n\\n\\n')\\n\\n  dic2 = {'Acurácia': [acc2], 'Precisão' : [pre2],  'Recall': [rec2], 'F1-Score': [f1s2]}\\n  aux2 = pd.DataFrame(dic2, index = [i])\\n  resultados2 = pd.concat([resultados2, aux2])\\n\\nprint('Tempo de Total Execução:', round((time() - t)/60, 2), 'minutos\\n')\""
            ]
          },
          "execution_count": 50,
          "metadata": {},
          "output_type": "execute_result"
        }
      ],
      "source": [
        "'''resultados2 = pd.DataFrame()\n",
        "t = time()\n",
        "\n",
        "\n",
        "for i in np.arange(1,XTreino.shape[1]+1,1):\n",
        "\n",
        "  seletor = SelectFromModel(modelo_base, prefit = True, max_features = i, threshold = -np.inf)#modelo base, prefit , max_features = maximo de variáveis\n",
        "  treino_reduzido = seletor.transform(XTreino)#filtra o conjunto de dados baseado no select\n",
        "  teste_reduzido = seletor.transform(XTeste)#filtra o conjunto de dados para o teste\n",
        "\n",
        "  modelo = RandomForestClassifier(max_depth = 9, min_samples_split = 20)\n",
        "  validacao = RepeatedStratifiedKFold(n_splits = 10, n_repeats = 10)\n",
        "  \n",
        "  mol_randon2 = cross_validate(modelo, treino_reduzido, YTreino, cv = validacao, scoring = ['accuracy', 'recall', 'f1', 'precision'],verbose = 10)\n",
        "  \n",
        "  acc2 = mol_randon2['test_accuracy'].mean()\n",
        "  pre2 = mol_randon2['test_precision'].mean()\n",
        "  rec2 = mol_randon2['test_recall'].mean()\n",
        "  f1s2 = mol_randon2['test_f1'].mean()\n",
        "\n",
        "  print('F1: ',  f1s2)\n",
        "  print('Precisão: ',  pre2)\n",
        "  print('Recall', rec2)\n",
        "  print( 'Acurácia' ,acc2)\n",
        "\n",
        "  print('\\n   ', i, '\\n\\n\\n\\n')\n",
        "\n",
        "  dic2 = {'Acurácia': [acc2], 'Precisão' : [pre2],  'Recall': [rec2], 'F1-Score': [f1s2]}\n",
        "  aux2 = pd.DataFrame(dic2, index = [i])\n",
        "  resultados2 = pd.concat([resultados2, aux2])\n",
        "\n",
        "print('Tempo de Total Execução:', round((time() - t)/60, 2), 'minutos\\n')'''"
      ]
    },
    {
      "cell_type": "code",
      "execution_count": null,
      "metadata": {
        "id": "Dbka1G3pvUc6"
      },
      "outputs": [],
      "source": [
        "#resultados2.sort_values('Recall', ascending=False)"
      ]
    },
    {
      "cell_type": "code",
      "execution_count": null,
      "metadata": {
        "id": "UQl5ySmMPTq4"
      },
      "outputs": [],
      "source": [
        "#XTreino['job'].value_counts()"
      ]
    },
    {
      "cell_type": "markdown",
      "metadata": {
        "id": "rAS1_nGzk_9r"
      },
      "source": [
        "#TESTE de Vários algorítimos básicos"
      ]
    },
    {
      "cell_type": "code",
      "execution_count": null,
      "metadata": {
        "id": "ciOgBGSdk_Sq"
      },
      "outputs": [],
      "source": [
        "#Nomes dos classificadores considerados\n",
        "nome = [\n",
        "    '5-Vizinhos Mais Próximos',\n",
        "    '45-Vizinhos Mais Próximos',\n",
        "    '25-Vizinhos Mais Próximos',\n",
        "    '65-Vizinhos Mais Próximos',\n",
        "    'Árvore de Decisão',\n",
        "    'Regressão Logística', \n",
        "    'Análise Discriminante Linear',\n",
        "    'Análise Discriminante Quadrática',\n",
        "    'Bagging de Árvores',\n",
        "    'Bagging de Regressão Logística',\n",
        "    'Floresta Aleatória',\n",
        "    'AdaBoost',\n",
        "    'Extra Árvores',\n",
        "    'Classificador Passivo Agressivo',\n",
        "    'Gradient Boosting',\n",
        "    'Gaussian Naive Bayes', \n",
        "    'Support Vector Machine (Linear)',\n",
        "    'Support Vector Machine (RBF)',\n",
        "    'Support Vector Machine (Poli.G3)',\n",
        "    'Support Vector Machine (Sigmoid)',\n",
        "    'Rede Neural Perceptron',\n",
        "    'Rede Neural MLP (10)',\n",
        "    'Rede Neural MLP (10,10)',\n",
        "    'Rede Neural MLP (100)']\n",
        "\n",
        "#Classificadores considerados\n",
        "classifiers = [\n",
        "    KNeighborsClassifier(n_neighbors = 5),\n",
        "    KNeighborsClassifier(n_neighbors = 45),\n",
        "    KNeighborsClassifier(n_neighbors = 25),\n",
        "    KNeighborsClassifier(n_neighbors = 65),\n",
        "    DecisionTreeClassifier(),\n",
        "    LogisticRegression(), \n",
        "    LinearDiscriminantAnalysis(),\n",
        "    QuadraticDiscriminantAnalysis(),\n",
        "    BaggingClassifier(),\n",
        "    BaggingClassifier(base_estimator = LogisticRegression()),\n",
        "    RandomForestClassifier(),\n",
        "    AdaBoostClassifier(),\n",
        "    ExtraTreesClassifier(),\n",
        "    PassiveAggressiveClassifier(),\n",
        "    GradientBoostingClassifier(),\n",
        "    GaussianNB(), \n",
        "    SVC(kernel = 'linear'),\n",
        "    SVC(kernel = 'rbf'),\n",
        "    SVC(kernel = 'poly'),\n",
        "    SVC(kernel = 'sigmoid'),\n",
        "    Perceptron(),\n",
        "    MLPClassifier(hidden_layer_sizes=(10), max_iter = 1000),\n",
        "    MLPClassifier(hidden_layer_sizes=(10,10), max_iter = 1000),\n",
        "    MLPClassifier(hidden_layer_sizes=(100), max_iter = 1000)]"
      ]
    },
    {
      "cell_type": "code",
      "execution_count": null,
      "metadata": {
        "colab": {
          "base_uri": "https://localhost:8080/"
        },
        "id": "8VADcG-7lUBe",
        "outputId": "d7356267-612f-4876-fd1e-02e2ded69790"
      },
      "outputs": [
        {
          "name": "stdout",
          "output_type": "stream",
          "text": [
            "1619841278.5486822\n",
            "Ajustando o modelo 5-Vizinhos Mais Próximos\n"
          ]
        },
        {
          "name": "stderr",
          "output_type": "stream",
          "text": [
            "[Parallel(n_jobs=-1)]: Using backend LokyBackend with 4 concurrent workers.\n",
            "[Parallel(n_jobs=-1)]: Done  10 tasks      | elapsed:    7.0s\n",
            "[Parallel(n_jobs=-1)]: Done  33 tasks      | elapsed:    9.5s\n",
            "[Parallel(n_jobs=-1)]: Done  64 tasks      | elapsed:   12.8s\n",
            "[Parallel(n_jobs=-1)]: Done 100 out of 100 | elapsed:   16.7s finished\n",
            "[Parallel(n_jobs=-1)]: Using backend LokyBackend with 4 concurrent workers.\n"
          ]
        },
        {
          "name": "stdout",
          "output_type": "stream",
          "text": [
            "Tempo de Execução: 16.79 segundos\n",
            "\n",
            "Ajustando o modelo 45-Vizinhos Mais Próximos\n"
          ]
        },
        {
          "name": "stderr",
          "output_type": "stream",
          "text": [
            "[Parallel(n_jobs=-1)]: Done  10 tasks      | elapsed:    1.8s\n",
            "[Parallel(n_jobs=-1)]: Done  33 tasks      | elapsed:    5.1s\n",
            "[Parallel(n_jobs=-1)]: Done  64 tasks      | elapsed:    9.4s\n",
            "[Parallel(n_jobs=-1)]: Done 100 out of 100 | elapsed:   14.5s finished\n",
            "[Parallel(n_jobs=-1)]: Using backend LokyBackend with 4 concurrent workers.\n"
          ]
        },
        {
          "name": "stdout",
          "output_type": "stream",
          "text": [
            "Tempo de Execução: 14.57 segundos\n",
            "\n",
            "Ajustando o modelo 25-Vizinhos Mais Próximos\n"
          ]
        },
        {
          "name": "stderr",
          "output_type": "stream",
          "text": [
            "[Parallel(n_jobs=-1)]: Done  10 tasks      | elapsed:    1.7s\n",
            "[Parallel(n_jobs=-1)]: Done  33 tasks      | elapsed:    4.5s\n",
            "[Parallel(n_jobs=-1)]: Done  64 tasks      | elapsed:    8.1s\n",
            "[Parallel(n_jobs=-1)]: Done 100 out of 100 | elapsed:   12.9s finished\n",
            "[Parallel(n_jobs=-1)]: Using backend LokyBackend with 4 concurrent workers.\n"
          ]
        },
        {
          "name": "stdout",
          "output_type": "stream",
          "text": [
            "Tempo de Execução: 12.98 segundos\n",
            "\n",
            "Ajustando o modelo 65-Vizinhos Mais Próximos\n"
          ]
        },
        {
          "name": "stderr",
          "output_type": "stream",
          "text": [
            "[Parallel(n_jobs=-1)]: Done  10 tasks      | elapsed:    2.6s\n",
            "[Parallel(n_jobs=-1)]: Done  33 tasks      | elapsed:    6.5s\n",
            "[Parallel(n_jobs=-1)]: Done  64 tasks      | elapsed:   11.1s\n",
            "[Parallel(n_jobs=-1)]: Done 100 out of 100 | elapsed:   16.2s finished\n",
            "[Parallel(n_jobs=-1)]: Using backend LokyBackend with 4 concurrent workers.\n"
          ]
        },
        {
          "name": "stdout",
          "output_type": "stream",
          "text": [
            "Tempo de Execução: 16.28 segundos\n",
            "\n",
            "Ajustando o modelo Árvore de Decisão\n"
          ]
        },
        {
          "name": "stderr",
          "output_type": "stream",
          "text": [
            "[Parallel(n_jobs=-1)]: Done  12 tasks      | elapsed:    0.5s\n",
            "[Parallel(n_jobs=-1)]: Done  58 tasks      | elapsed:    1.9s\n",
            "[Parallel(n_jobs=-1)]: Done 100 out of 100 | elapsed:    3.2s finished\n",
            "[Parallel(n_jobs=-1)]: Using backend LokyBackend with 4 concurrent workers.\n"
          ]
        },
        {
          "name": "stdout",
          "output_type": "stream",
          "text": [
            "Tempo de Execução: 3.27 segundos\n",
            "\n",
            "Ajustando o modelo Regressão Logística\n"
          ]
        },
        {
          "name": "stderr",
          "output_type": "stream",
          "text": [
            "[Parallel(n_jobs=-1)]: Done  10 tasks      | elapsed:    0.9s\n",
            "[Parallel(n_jobs=-1)]: Done  33 tasks      | elapsed:    2.4s\n",
            "[Parallel(n_jobs=-1)]: Done  64 tasks      | elapsed:    4.6s\n",
            "[Parallel(n_jobs=-1)]: Done 100 out of 100 | elapsed:    7.5s finished\n",
            "[Parallel(n_jobs=-1)]: Using backend LokyBackend with 4 concurrent workers.\n"
          ]
        },
        {
          "name": "stdout",
          "output_type": "stream",
          "text": [
            "Tempo de Execução: 7.62 segundos\n",
            "\n",
            "Ajustando o modelo Análise Discriminante Linear\n"
          ]
        },
        {
          "name": "stderr",
          "output_type": "stream",
          "text": [
            "[Parallel(n_jobs=-1)]: Done  12 tasks      | elapsed:    0.4s\n",
            "[Parallel(n_jobs=-1)]: Done  58 tasks      | elapsed:    1.4s\n",
            "[Parallel(n_jobs=-1)]: Done 100 out of 100 | elapsed:    2.3s finished\n",
            "[Parallel(n_jobs=-1)]: Using backend LokyBackend with 4 concurrent workers.\n"
          ]
        },
        {
          "name": "stdout",
          "output_type": "stream",
          "text": [
            "Tempo de Execução: 2.41 segundos\n",
            "\n",
            "Ajustando o modelo Análise Discriminante Quadrática\n"
          ]
        },
        {
          "name": "stderr",
          "output_type": "stream",
          "text": [
            "[Parallel(n_jobs=-1)]: Done  12 tasks      | elapsed:    0.3s\n",
            "[Parallel(n_jobs=-1)]: Done  58 tasks      | elapsed:    1.3s\n",
            "[Parallel(n_jobs=-1)]: Done  93 out of 100 | elapsed:    2.2s remaining:    0.1s\n",
            "[Parallel(n_jobs=-1)]: Done 100 out of 100 | elapsed:    2.3s finished\n",
            "[Parallel(n_jobs=-1)]: Using backend LokyBackend with 4 concurrent workers.\n"
          ]
        },
        {
          "name": "stdout",
          "output_type": "stream",
          "text": [
            "Tempo de Execução: 2.44 segundos\n",
            "\n",
            "Ajustando o modelo Bagging de Árvores\n"
          ]
        },
        {
          "name": "stderr",
          "output_type": "stream",
          "text": [
            "[Parallel(n_jobs=-1)]: Done  10 tasks      | elapsed:    1.6s\n",
            "[Parallel(n_jobs=-1)]: Done  33 tasks      | elapsed:    4.8s\n",
            "[Parallel(n_jobs=-1)]: Done  64 tasks      | elapsed:    8.9s\n",
            "[Parallel(n_jobs=-1)]: Done 100 out of 100 | elapsed:   14.2s finished\n",
            "[Parallel(n_jobs=-1)]: Using backend LokyBackend with 4 concurrent workers.\n"
          ]
        },
        {
          "name": "stdout",
          "output_type": "stream",
          "text": [
            "Tempo de Execução: 14.28 segundos\n",
            "\n",
            "Ajustando o modelo Bagging de Regressão Logística\n"
          ]
        },
        {
          "name": "stderr",
          "output_type": "stream",
          "text": [
            "[Parallel(n_jobs=-1)]: Done  10 tasks      | elapsed:    6.9s\n",
            "[Parallel(n_jobs=-1)]: Done  33 tasks      | elapsed:   19.8s\n",
            "[Parallel(n_jobs=-1)]: Done  64 tasks      | elapsed:   36.8s\n",
            "[Parallel(n_jobs=-1)]: Done 100 out of 100 | elapsed:   55.9s finished\n",
            "[Parallel(n_jobs=-1)]: Using backend LokyBackend with 4 concurrent workers.\n"
          ]
        },
        {
          "name": "stdout",
          "output_type": "stream",
          "text": [
            "Tempo de Execução: 56.02 segundos\n",
            "\n",
            "Ajustando o modelo Floresta Aleatória\n"
          ]
        },
        {
          "name": "stderr",
          "output_type": "stream",
          "text": [
            "[Parallel(n_jobs=-1)]: Done  10 tasks      | elapsed:    5.0s\n",
            "[Parallel(n_jobs=-1)]: Done  33 tasks      | elapsed:   15.3s\n",
            "[Parallel(n_jobs=-1)]: Done  64 tasks      | elapsed:   27.3s\n",
            "[Parallel(n_jobs=-1)]: Done 100 out of 100 | elapsed:   42.8s finished\n",
            "[Parallel(n_jobs=-1)]: Using backend LokyBackend with 4 concurrent workers.\n"
          ]
        },
        {
          "name": "stdout",
          "output_type": "stream",
          "text": [
            "Tempo de Execução: 42.91 segundos\n",
            "\n",
            "Ajustando o modelo AdaBoost\n"
          ]
        },
        {
          "name": "stderr",
          "output_type": "stream",
          "text": [
            "[Parallel(n_jobs=-1)]: Done  10 tasks      | elapsed:    2.0s\n",
            "[Parallel(n_jobs=-1)]: Done  33 tasks      | elapsed:    6.0s\n",
            "[Parallel(n_jobs=-1)]: Done  64 tasks      | elapsed:   11.0s\n",
            "[Parallel(n_jobs=-1)]: Done 100 out of 100 | elapsed:   17.0s finished\n",
            "[Parallel(n_jobs=-1)]: Using backend LokyBackend with 4 concurrent workers.\n"
          ]
        },
        {
          "name": "stdout",
          "output_type": "stream",
          "text": [
            "Tempo de Execução: 17.08 segundos\n",
            "\n",
            "Ajustando o modelo Extra Árvores\n"
          ]
        },
        {
          "name": "stderr",
          "output_type": "stream",
          "text": [
            "[Parallel(n_jobs=-1)]: Done  10 tasks      | elapsed:    5.1s\n",
            "[Parallel(n_jobs=-1)]: Done  33 tasks      | elapsed:   15.3s\n",
            "[Parallel(n_jobs=-1)]: Done  64 tasks      | elapsed:   27.5s\n",
            "[Parallel(n_jobs=-1)]: Done 100 out of 100 | elapsed:   43.1s finished\n",
            "[Parallel(n_jobs=-1)]: Using backend LokyBackend with 4 concurrent workers.\n"
          ]
        },
        {
          "name": "stdout",
          "output_type": "stream",
          "text": [
            "Tempo de Execução: 43.23 segundos\n",
            "\n",
            "Ajustando o modelo Classificador Passivo Agressivo\n"
          ]
        },
        {
          "name": "stderr",
          "output_type": "stream",
          "text": [
            "[Parallel(n_jobs=-1)]: Done  12 tasks      | elapsed:    0.2s\n",
            "[Parallel(n_jobs=-1)]: Done  58 tasks      | elapsed:    0.9s\n",
            "[Parallel(n_jobs=-1)]: Done 100 out of 100 | elapsed:    1.6s finished\n",
            "[Parallel(n_jobs=-1)]: Using backend LokyBackend with 4 concurrent workers.\n"
          ]
        },
        {
          "name": "stdout",
          "output_type": "stream",
          "text": [
            "Tempo de Execução: 1.67 segundos\n",
            "\n",
            "Ajustando o modelo Gradient Boosting\n"
          ]
        },
        {
          "name": "stderr",
          "output_type": "stream",
          "text": [
            "[Parallel(n_jobs=-1)]: Done  10 tasks      | elapsed:    4.5s\n",
            "[Parallel(n_jobs=-1)]: Done  33 tasks      | elapsed:   13.6s\n",
            "[Parallel(n_jobs=-1)]: Done  64 tasks      | elapsed:   24.3s\n",
            "[Parallel(n_jobs=-1)]: Done 100 out of 100 | elapsed:   37.9s finished\n",
            "[Parallel(n_jobs=-1)]: Using backend LokyBackend with 4 concurrent workers.\n"
          ]
        },
        {
          "name": "stdout",
          "output_type": "stream",
          "text": [
            "Tempo de Execução: 38.03 segundos\n",
            "\n",
            "Ajustando o modelo Gaussian Naive Bayes\n"
          ]
        },
        {
          "name": "stderr",
          "output_type": "stream",
          "text": [
            "[Parallel(n_jobs=-1)]: Done  12 tasks      | elapsed:    0.2s\n",
            "[Parallel(n_jobs=-1)]: Done  89 tasks      | elapsed:    1.1s\n",
            "[Parallel(n_jobs=-1)]: Done 100 out of 100 | elapsed:    1.2s finished\n",
            "[Parallel(n_jobs=-1)]: Using backend LokyBackend with 4 concurrent workers.\n"
          ]
        },
        {
          "name": "stdout",
          "output_type": "stream",
          "text": [
            "Tempo de Execução: 1.34 segundos\n",
            "\n",
            "Ajustando o modelo Support Vector Machine (Linear)\n"
          ]
        },
        {
          "name": "stderr",
          "output_type": "stream",
          "text": [
            "[Parallel(n_jobs=-1)]: Done  10 tasks      | elapsed:  1.4min\n",
            "[Parallel(n_jobs=-1)]: Done  33 tasks      | elapsed:  4.0min\n",
            "[Parallel(n_jobs=-1)]: Done  64 tasks      | elapsed:  7.1min\n",
            "[Parallel(n_jobs=-1)]: Done 100 out of 100 | elapsed: 11.6min finished\n",
            "[Parallel(n_jobs=-1)]: Using backend LokyBackend with 4 concurrent workers.\n"
          ]
        },
        {
          "name": "stdout",
          "output_type": "stream",
          "text": [
            "Tempo de Execução: 697.7 segundos\n",
            "\n",
            "Ajustando o modelo Support Vector Machine (RBF)\n"
          ]
        },
        {
          "name": "stderr",
          "output_type": "stream",
          "text": [
            "[Parallel(n_jobs=-1)]: Done  10 tasks      | elapsed:   10.2s\n",
            "[Parallel(n_jobs=-1)]: Done  33 tasks      | elapsed:   30.5s\n",
            "[Parallel(n_jobs=-1)]: Done  64 tasks      | elapsed:   55.1s\n",
            "[Parallel(n_jobs=-1)]: Done 100 out of 100 | elapsed:  1.4min finished\n",
            "[Parallel(n_jobs=-1)]: Using backend LokyBackend with 4 concurrent workers.\n"
          ]
        },
        {
          "name": "stdout",
          "output_type": "stream",
          "text": [
            "Tempo de Execução: 85.86 segundos\n",
            "\n",
            "Ajustando o modelo Support Vector Machine (Poli.G3)\n"
          ]
        },
        {
          "name": "stderr",
          "output_type": "stream",
          "text": [
            "[Parallel(n_jobs=-1)]: Done  10 tasks      | elapsed:   10.2s\n",
            "[Parallel(n_jobs=-1)]: Done  33 tasks      | elapsed:   29.5s\n",
            "[Parallel(n_jobs=-1)]: Done  64 tasks      | elapsed:   54.8s\n",
            "[Parallel(n_jobs=-1)]: Done 100 out of 100 | elapsed:  1.4min finished\n",
            "[Parallel(n_jobs=-1)]: Using backend LokyBackend with 4 concurrent workers.\n"
          ]
        },
        {
          "name": "stdout",
          "output_type": "stream",
          "text": [
            "Tempo de Execução: 84.97 segundos\n",
            "\n",
            "Ajustando o modelo Support Vector Machine (Sigmoid)\n"
          ]
        },
        {
          "name": "stderr",
          "output_type": "stream",
          "text": [
            "[Parallel(n_jobs=-1)]: Done  10 tasks      | elapsed:    6.5s\n",
            "[Parallel(n_jobs=-1)]: Done  33 tasks      | elapsed:   19.4s\n",
            "[Parallel(n_jobs=-1)]: Done  64 tasks      | elapsed:   34.6s\n",
            "[Parallel(n_jobs=-1)]: Done 100 out of 100 | elapsed:   53.9s finished\n",
            "[Parallel(n_jobs=-1)]: Using backend LokyBackend with 4 concurrent workers.\n"
          ]
        },
        {
          "name": "stdout",
          "output_type": "stream",
          "text": [
            "Tempo de Execução: 54.02 segundos\n",
            "\n",
            "Ajustando o modelo Rede Neural Perceptron\n"
          ]
        },
        {
          "name": "stderr",
          "output_type": "stream",
          "text": [
            "[Parallel(n_jobs=-1)]: Done  12 tasks      | elapsed:    0.2s\n",
            "[Parallel(n_jobs=-1)]: Done  58 tasks      | elapsed:    0.9s\n",
            "[Parallel(n_jobs=-1)]: Done 100 out of 100 | elapsed:    1.4s finished\n",
            "[Parallel(n_jobs=-1)]: Using backend LokyBackend with 4 concurrent workers.\n"
          ]
        },
        {
          "name": "stdout",
          "output_type": "stream",
          "text": [
            "Tempo de Execução: 1.54 segundos\n",
            "\n",
            "Ajustando o modelo Rede Neural MLP (10)\n"
          ]
        },
        {
          "name": "stderr",
          "output_type": "stream",
          "text": [
            "[Parallel(n_jobs=-1)]: Done  10 tasks      | elapsed:   18.1s\n",
            "[Parallel(n_jobs=-1)]: Done  33 tasks      | elapsed:  1.0min\n",
            "[Parallel(n_jobs=-1)]: Done  64 tasks      | elapsed:  1.9min\n",
            "[Parallel(n_jobs=-1)]: Done 100 out of 100 | elapsed:  3.0min finished\n",
            "[Parallel(n_jobs=-1)]: Using backend LokyBackend with 4 concurrent workers.\n"
          ]
        },
        {
          "name": "stdout",
          "output_type": "stream",
          "text": [
            "Tempo de Execução: 180.63 segundos\n",
            "\n",
            "Ajustando o modelo Rede Neural MLP (10,10)\n"
          ]
        },
        {
          "name": "stderr",
          "output_type": "stream",
          "text": [
            "[Parallel(n_jobs=-1)]: Done  10 tasks      | elapsed:   37.7s\n",
            "[Parallel(n_jobs=-1)]: Done  33 tasks      | elapsed:  1.9min\n",
            "[Parallel(n_jobs=-1)]: Done  64 tasks      | elapsed:  3.4min\n",
            "[Parallel(n_jobs=-1)]: Done 100 out of 100 | elapsed:  5.1min finished\n",
            "[Parallel(n_jobs=-1)]: Using backend LokyBackend with 4 concurrent workers.\n"
          ]
        },
        {
          "name": "stdout",
          "output_type": "stream",
          "text": [
            "Tempo de Execução: 307.4 segundos\n",
            "\n",
            "Ajustando o modelo Rede Neural MLP (100)\n"
          ]
        },
        {
          "name": "stderr",
          "output_type": "stream",
          "text": [
            "[Parallel(n_jobs=-1)]: Done  10 tasks      | elapsed:  1.4min\n",
            "[Parallel(n_jobs=-1)]: Done  33 tasks      | elapsed:  3.8min\n",
            "[Parallel(n_jobs=-1)]: Done  64 tasks      | elapsed:  7.3min\n"
          ]
        },
        {
          "name": "stdout",
          "output_type": "stream",
          "text": [
            "Tempo de Execução: 691.1 segundos\n",
            "\n",
            "Tempo de Total Execução: 2394.3 segundos\n",
            "\n"
          ]
        },
        {
          "name": "stderr",
          "output_type": "stream",
          "text": [
            "[Parallel(n_jobs=-1)]: Done 100 out of 100 | elapsed: 11.5min finished\n"
          ]
        }
      ],
      "source": [
        "validacao = RepeatedStratifiedKFold(n_splits = 10, n_repeats = 10)\n",
        "resultados = pd.DataFrame()\n",
        "\n",
        "i = 1\n",
        "t0 = time()\n",
        "print(t0)\n",
        "\n",
        "for i, modelo in enumerate(classifiers):\n",
        "    print('Ajustando o modelo', nome[i])\n",
        "    t = time()\n",
        "    mol_testes = cross_validate(modelo, XTreino, YTreino, cv = validacao, \n",
        "                                scoring = ['accuracy', 'roc_auc','recall', 'f1', 'precision'],\n",
        "                                verbose = 8, n_jobs = -1)\n",
        "    print('Tempo de Execução:', round(time() - t, 2), 'segundos\\n')\n",
        "    acc = mol_testes['test_accuracy'].mean()\n",
        "    auc = mol_testes['test_roc_auc'].mean()\n",
        "    f1s = mol_testes['test_f1'].mean()\n",
        "    pre = mol_testes['test_precision'].mean()\n",
        "    rec = mol_testes['test_recall'].mean()\n",
        "\n",
        "\n",
        "    dic = {'F1-Score': [f1s], 'Precisão': [pre], 'Recall': [rec], 'Acurácia': [acc], 'Área ROC': [auc]}\n",
        "    aux = pd.DataFrame(dic, index = [nome[i]])\n",
        "    resultados = pd.concat([resultados, aux])\n",
        "\n",
        "print('Tempo de Total Execução:', round(time() - t0, 2), 'segundos\\n')"
      ]
    },
    {
      "cell_type": "code",
      "execution_count": null,
      "metadata": {
        "colab": {
          "base_uri": "https://localhost:8080/",
          "height": 802
        },
        "id": "WVBJWbGen0LS",
        "outputId": "e9897cfb-22c5-4999-98e3-c4e3a09ac312"
      },
      "outputs": [
        {
          "data": {
            "text/html": [
              "<div>\n",
              "<style scoped>\n",
              "    .dataframe tbody tr th:only-of-type {\n",
              "        vertical-align: middle;\n",
              "    }\n",
              "\n",
              "    .dataframe tbody tr th {\n",
              "        vertical-align: top;\n",
              "    }\n",
              "\n",
              "    .dataframe thead th {\n",
              "        text-align: right;\n",
              "    }\n",
              "</style>\n",
              "<table border=\"1\" class=\"dataframe\">\n",
              "  <thead>\n",
              "    <tr style=\"text-align: right;\">\n",
              "      <th></th>\n",
              "      <th>F1-Score</th>\n",
              "      <th>Precisão</th>\n",
              "      <th>Recall</th>\n",
              "      <th>Acurácia</th>\n",
              "      <th>Área ROC</th>\n",
              "    </tr>\n",
              "  </thead>\n",
              "  <tbody>\n",
              "    <tr>\n",
              "      <th>Gradient Boosting</th>\n",
              "      <td>0.684579</td>\n",
              "      <td>0.720020</td>\n",
              "      <td>0.653151</td>\n",
              "      <td>0.694871</td>\n",
              "      <td>0.762104</td>\n",
              "    </tr>\n",
              "    <tr>\n",
              "      <th>Floresta Aleatória</th>\n",
              "      <td>0.677525</td>\n",
              "      <td>0.706272</td>\n",
              "      <td>0.651511</td>\n",
              "      <td>0.685401</td>\n",
              "      <td>0.746850</td>\n",
              "    </tr>\n",
              "    <tr>\n",
              "      <th>Support Vector Machine (Linear)</th>\n",
              "      <td>0.674334</td>\n",
              "      <td>0.596363</td>\n",
              "      <td>0.776929</td>\n",
              "      <td>0.619105</td>\n",
              "      <td>0.696318</td>\n",
              "    </tr>\n",
              "    <tr>\n",
              "      <th>Support Vector Machine (RBF)</th>\n",
              "      <td>0.672735</td>\n",
              "      <td>0.641597</td>\n",
              "      <td>0.707657</td>\n",
              "      <td>0.650686</td>\n",
              "      <td>0.713110</td>\n",
              "    </tr>\n",
              "    <tr>\n",
              "      <th>Support Vector Machine (Poli.G3)</th>\n",
              "      <td>0.668078</td>\n",
              "      <td>0.611794</td>\n",
              "      <td>0.736519</td>\n",
              "      <td>0.628644</td>\n",
              "      <td>0.691066</td>\n",
              "    </tr>\n",
              "    <tr>\n",
              "      <th>AdaBoost</th>\n",
              "      <td>0.667722</td>\n",
              "      <td>0.690564</td>\n",
              "      <td>0.646808</td>\n",
              "      <td>0.673563</td>\n",
              "      <td>0.738187</td>\n",
              "    </tr>\n",
              "    <tr>\n",
              "      <th>Análise Discriminante Linear</th>\n",
              "      <td>0.665493</td>\n",
              "      <td>0.643893</td>\n",
              "      <td>0.689162</td>\n",
              "      <td>0.648562</td>\n",
              "      <td>0.701918</td>\n",
              "    </tr>\n",
              "    <tr>\n",
              "      <th>Extra Árvores</th>\n",
              "      <td>0.664643</td>\n",
              "      <td>0.685084</td>\n",
              "      <td>0.645885</td>\n",
              "      <td>0.669416</td>\n",
              "      <td>0.723035</td>\n",
              "    </tr>\n",
              "    <tr>\n",
              "      <th>Bagging de Regressão Logística</th>\n",
              "      <td>0.663342</td>\n",
              "      <td>0.646178</td>\n",
              "      <td>0.681952</td>\n",
              "      <td>0.648957</td>\n",
              "      <td>0.701004</td>\n",
              "    </tr>\n",
              "    <tr>\n",
              "      <th>Regressão Logística</th>\n",
              "      <td>0.662912</td>\n",
              "      <td>0.646794</td>\n",
              "      <td>0.680534</td>\n",
              "      <td>0.648957</td>\n",
              "      <td>0.701498</td>\n",
              "    </tr>\n",
              "    <tr>\n",
              "      <th>Rede Neural MLP (10)</th>\n",
              "      <td>0.656574</td>\n",
              "      <td>0.664598</td>\n",
              "      <td>0.650160</td>\n",
              "      <td>0.655505</td>\n",
              "      <td>0.714576</td>\n",
              "    </tr>\n",
              "    <tr>\n",
              "      <th>Rede Neural MLP (10,10)</th>\n",
              "      <td>0.649371</td>\n",
              "      <td>0.676192</td>\n",
              "      <td>0.626799</td>\n",
              "      <td>0.657493</td>\n",
              "      <td>0.717795</td>\n",
              "    </tr>\n",
              "    <tr>\n",
              "      <th>Rede Neural MLP (100)</th>\n",
              "      <td>0.648119</td>\n",
              "      <td>0.679985</td>\n",
              "      <td>0.622403</td>\n",
              "      <td>0.658247</td>\n",
              "      <td>0.713016</td>\n",
              "    </tr>\n",
              "    <tr>\n",
              "      <th>Bagging de Árvores</th>\n",
              "      <td>0.633402</td>\n",
              "      <td>0.692016</td>\n",
              "      <td>0.584562</td>\n",
              "      <td>0.656939</td>\n",
              "      <td>0.708572</td>\n",
              "    </tr>\n",
              "    <tr>\n",
              "      <th>5-Vizinhos Mais Próximos</th>\n",
              "      <td>0.630322</td>\n",
              "      <td>0.670541</td>\n",
              "      <td>0.594954</td>\n",
              "      <td>0.645985</td>\n",
              "      <td>0.693810</td>\n",
              "    </tr>\n",
              "    <tr>\n",
              "      <th>25-Vizinhos Mais Próximos</th>\n",
              "      <td>0.627924</td>\n",
              "      <td>0.708896</td>\n",
              "      <td>0.564060</td>\n",
              "      <td>0.661121</td>\n",
              "      <td>0.719320</td>\n",
              "    </tr>\n",
              "    <tr>\n",
              "      <th>45-Vizinhos Mais Próximos</th>\n",
              "      <td>0.614652</td>\n",
              "      <td>0.712847</td>\n",
              "      <td>0.540734</td>\n",
              "      <td>0.656173</td>\n",
              "      <td>0.717794</td>\n",
              "    </tr>\n",
              "    <tr>\n",
              "      <th>Árvore de Decisão</th>\n",
              "      <td>0.613429</td>\n",
              "      <td>0.613202</td>\n",
              "      <td>0.614189</td>\n",
              "      <td>0.607479</td>\n",
              "      <td>0.607377</td>\n",
              "    </tr>\n",
              "    <tr>\n",
              "      <th>65-Vizinhos Mais Próximos</th>\n",
              "      <td>0.607411</td>\n",
              "      <td>0.715630</td>\n",
              "      <td>0.528243</td>\n",
              "      <td>0.653852</td>\n",
              "      <td>0.713674</td>\n",
              "    </tr>\n",
              "    <tr>\n",
              "      <th>Análise Discriminante Quadrática</th>\n",
              "      <td>0.527445</td>\n",
              "      <td>0.675636</td>\n",
              "      <td>0.448097</td>\n",
              "      <td>0.606220</td>\n",
              "      <td>0.669900</td>\n",
              "    </tr>\n",
              "    <tr>\n",
              "      <th>Support Vector Machine (Sigmoid)</th>\n",
              "      <td>0.512881</td>\n",
              "      <td>0.514864</td>\n",
              "      <td>0.511416</td>\n",
              "      <td>0.507464</td>\n",
              "      <td>0.515949</td>\n",
              "    </tr>\n",
              "    <tr>\n",
              "      <th>Classificador Passivo Agressivo</th>\n",
              "      <td>0.505773</td>\n",
              "      <td>0.629260</td>\n",
              "      <td>0.580987</td>\n",
              "      <td>0.552355</td>\n",
              "      <td>0.619724</td>\n",
              "    </tr>\n",
              "    <tr>\n",
              "      <th>Gaussian Naive Bayes</th>\n",
              "      <td>0.488612</td>\n",
              "      <td>0.673968</td>\n",
              "      <td>0.384462</td>\n",
              "      <td>0.593340</td>\n",
              "      <td>0.674244</td>\n",
              "    </tr>\n",
              "    <tr>\n",
              "      <th>Rede Neural Perceptron</th>\n",
              "      <td>0.466969</td>\n",
              "      <td>0.671598</td>\n",
              "      <td>0.509502</td>\n",
              "      <td>0.559463</td>\n",
              "      <td>0.633571</td>\n",
              "    </tr>\n",
              "  </tbody>\n",
              "</table>\n",
              "</div>"
            ],
            "text/plain": [
              "                                  F1-Score  Precisão    Recall  Acurácia  \\\n",
              "Gradient Boosting                 0.684579  0.720020  0.653151  0.694871   \n",
              "Floresta Aleatória                0.677525  0.706272  0.651511  0.685401   \n",
              "Support Vector Machine (Linear)   0.674334  0.596363  0.776929  0.619105   \n",
              "Support Vector Machine (RBF)      0.672735  0.641597  0.707657  0.650686   \n",
              "Support Vector Machine (Poli.G3)  0.668078  0.611794  0.736519  0.628644   \n",
              "AdaBoost                          0.667722  0.690564  0.646808  0.673563   \n",
              "Análise Discriminante Linear      0.665493  0.643893  0.689162  0.648562   \n",
              "Extra Árvores                     0.664643  0.685084  0.645885  0.669416   \n",
              "Bagging de Regressão Logística    0.663342  0.646178  0.681952  0.648957   \n",
              "Regressão Logística               0.662912  0.646794  0.680534  0.648957   \n",
              "Rede Neural MLP (10)              0.656574  0.664598  0.650160  0.655505   \n",
              "Rede Neural MLP (10,10)           0.649371  0.676192  0.626799  0.657493   \n",
              "Rede Neural MLP (100)             0.648119  0.679985  0.622403  0.658247   \n",
              "Bagging de Árvores                0.633402  0.692016  0.584562  0.656939   \n",
              "5-Vizinhos Mais Próximos          0.630322  0.670541  0.594954  0.645985   \n",
              "25-Vizinhos Mais Próximos         0.627924  0.708896  0.564060  0.661121   \n",
              "45-Vizinhos Mais Próximos         0.614652  0.712847  0.540734  0.656173   \n",
              "Árvore de Decisão                 0.613429  0.613202  0.614189  0.607479   \n",
              "65-Vizinhos Mais Próximos         0.607411  0.715630  0.528243  0.653852   \n",
              "Análise Discriminante Quadrática  0.527445  0.675636  0.448097  0.606220   \n",
              "Support Vector Machine (Sigmoid)  0.512881  0.514864  0.511416  0.507464   \n",
              "Classificador Passivo Agressivo   0.505773  0.629260  0.580987  0.552355   \n",
              "Gaussian Naive Bayes              0.488612  0.673968  0.384462  0.593340   \n",
              "Rede Neural Perceptron            0.466969  0.671598  0.509502  0.559463   \n",
              "\n",
              "                                  Área ROC  \n",
              "Gradient Boosting                 0.762104  \n",
              "Floresta Aleatória                0.746850  \n",
              "Support Vector Machine (Linear)   0.696318  \n",
              "Support Vector Machine (RBF)      0.713110  \n",
              "Support Vector Machine (Poli.G3)  0.691066  \n",
              "AdaBoost                          0.738187  \n",
              "Análise Discriminante Linear      0.701918  \n",
              "Extra Árvores                     0.723035  \n",
              "Bagging de Regressão Logística    0.701004  \n",
              "Regressão Logística               0.701498  \n",
              "Rede Neural MLP (10)              0.714576  \n",
              "Rede Neural MLP (10,10)           0.717795  \n",
              "Rede Neural MLP (100)             0.713016  \n",
              "Bagging de Árvores                0.708572  \n",
              "5-Vizinhos Mais Próximos          0.693810  \n",
              "25-Vizinhos Mais Próximos         0.719320  \n",
              "45-Vizinhos Mais Próximos         0.717794  \n",
              "Árvore de Decisão                 0.607377  \n",
              "65-Vizinhos Mais Próximos         0.713674  \n",
              "Análise Discriminante Quadrática  0.669900  \n",
              "Support Vector Machine (Sigmoid)  0.515949  \n",
              "Classificador Passivo Agressivo   0.619724  \n",
              "Gaussian Naive Bayes              0.674244  \n",
              "Rede Neural Perceptron            0.633571  "
            ]
          },
          "execution_count": 136,
          "metadata": {},
          "output_type": "execute_result"
        }
      ],
      "source": [
        "resultados = resultados.sort_values('F1-Score', ascending=False)\n",
        "resultados.head(40)"
      ]
    },
    {
      "cell_type": "code",
      "execution_count": null,
      "metadata": {
        "colab": {
          "base_uri": "https://localhost:8080/",
          "height": 825
        },
        "id": "sTVAKyltoRnX",
        "outputId": "b265c939-b79b-4bee-fc76-460783ddece7"
      },
      "outputs": [
        {
          "data": {
            "image/png": "[encoded data removed]",
            "text/plain": [
              "<Figure size 2880x1440 with 3 Axes>"
            ]
          },
          "metadata": {},
          "output_type": "display_data"
        }
      ],
      "source": [
        "#Gráficos relevantes\n",
        "sns.set_color_codes(\"muted\")\n",
        "bgcolor = '#d9e7ff'\n",
        "ticagem = [.1, .2, .3, .4, 0.5, .6,.7,.8,.9]\n",
        "figura = plt.figure(figsize=(40,20)) \n",
        "figura.subplots_adjust(left=0.2, bottom=0.1, right=0.9, top=0.9, wspace=0.02, hspace=1)\n",
        "\n",
        "plt.subplot(1, 3, 1)\n",
        "plt.title('F1-Score')\n",
        "acc = sns.barplot(x = resultados.iloc[:,0], y = resultados.index.values, color='b')\n",
        "acc.axes.set_xlim([0, 1])\n",
        "acc.xaxis.set_ticks(ticagem)\n",
        "acc.set_facecolor(bgcolor)\n",
        "plt.xlabel('')\n",
        "\n",
        "plt.subplot(1, 3, 2)\n",
        "plt.title('Precisão')\n",
        "auc = sns.barplot(x = resultados.iloc[:,1], y = resultados.index.values, color='r')\n",
        "auc.axes.get_yaxis().set_visible(False)\n",
        "auc.axes.set_xlim([0, 1])\n",
        "auc.xaxis.set_ticks(ticagem)\n",
        "auc.set_facecolor(bgcolor)\n",
        "plt.xlabel('')\n",
        "plt.ylabel('')\n",
        "\n",
        "plt.subplot(1, 3, 3)\n",
        "plt.title('Recall')\n",
        "f1 = sns.barplot(x = resultados.iloc[:,2], y = resultados.index.values, color='g')\n",
        "f1.axes.set_xlim([0, 1])\n",
        "f1.xaxis.set_ticks(ticagem)\n",
        "f1.axes.get_yaxis().set_visible(False)\n",
        "f1.set_facecolor(bgcolor)\n",
        "plt.xlabel('')\n",
        "plt.ylabel('') \n",
        "\n",
        "plt.show()\n",
        "figura.savefig('medidas.pdf')"
      ]
    },
    {
      "cell_type": "markdown",
      "metadata": {
        "id": "6JjN0RGovQI3"
      },
      "source": [
        "#Teste de ALgoritimos Basicos"
      ]
    },
    {
      "cell_type": "code",
      "execution_count": null,
      "metadata": {
        "colab": {
          "base_uri": "https://localhost:8080/"
        },
        "id": "FW5K5LrKz0PO",
        "outputId": "b9118f09-a466-4e79-a5a0-03798230cdf1"
      },
      "outputs": [
        {
          "name": "stderr",
          "output_type": "stream",
          "text": [
            "[Parallel(n_jobs=-1)]: Using backend LokyBackend with 4 concurrent workers.\n",
            "[Parallel(n_jobs=-1)]: Done   5 tasks      | elapsed:   50.2s\n",
            "[Parallel(n_jobs=-1)]: Done  10 tasks      | elapsed:  1.3min\n"
          ]
        },
        {
          "ename": "KeyboardInterrupt",
          "evalue": "",
          "output_type": "error",
          "traceback": [
            "\u001b[1;31m---------------------------------------------------------------------------\u001b[0m",
            "\u001b[1;31mKeyboardInterrupt\u001b[0m                         Traceback (most recent call last)",
            "\u001b[1;32m<ipython-input-81-e97f2e4a1676>\u001b[0m in \u001b[0;36m<module>\u001b[1;34m\u001b[0m\n\u001b[0;32m      2\u001b[0m \u001b[0mvalidacao\u001b[0m \u001b[1;33m=\u001b[0m \u001b[0mRepeatedStratifiedKFold\u001b[0m\u001b[1;33m(\u001b[0m\u001b[0mn_splits\u001b[0m \u001b[1;33m=\u001b[0m \u001b[1;36m10\u001b[0m\u001b[1;33m,\u001b[0m \u001b[0mn_repeats\u001b[0m \u001b[1;33m=\u001b[0m \u001b[1;36m10\u001b[0m\u001b[1;33m)\u001b[0m\u001b[1;33m\u001b[0m\u001b[1;33m\u001b[0m\u001b[0m\n\u001b[0;32m      3\u001b[0m \u001b[1;33m\u001b[0m\u001b[0m\n\u001b[1;32m----> 4\u001b[1;33m \u001b[0mmol_SVC\u001b[0m \u001b[1;33m=\u001b[0m \u001b[0mcross_validate\u001b[0m\u001b[1;33m(\u001b[0m\u001b[0mmodelo_SVC\u001b[0m\u001b[1;33m,\u001b[0m \u001b[0mXTreino\u001b[0m\u001b[1;33m,\u001b[0m \u001b[0mYTreino\u001b[0m\u001b[1;33m,\u001b[0m \u001b[0mcv\u001b[0m \u001b[1;33m=\u001b[0m \u001b[0mvalidacao\u001b[0m\u001b[1;33m,\u001b[0m \u001b[0mscoring\u001b[0m \u001b[1;33m=\u001b[0m \u001b[1;33m[\u001b[0m\u001b[1;34m'accuracy'\u001b[0m\u001b[1;33m,\u001b[0m \u001b[1;34m'recall'\u001b[0m\u001b[1;33m,\u001b[0m \u001b[1;34m'f1'\u001b[0m\u001b[1;33m,\u001b[0m \u001b[1;34m'precision'\u001b[0m\u001b[1;33m]\u001b[0m\u001b[1;33m,\u001b[0m\u001b[0mverbose\u001b[0m \u001b[1;33m=\u001b[0m \u001b[1;36m10\u001b[0m\u001b[1;33m,\u001b[0m \u001b[0mn_jobs\u001b[0m \u001b[1;33m=\u001b[0m \u001b[1;33m-\u001b[0m\u001b[1;36m1\u001b[0m\u001b[1;33m)\u001b[0m\u001b[1;33m\u001b[0m\u001b[1;33m\u001b[0m\u001b[0m\n\u001b[0m\u001b[0;32m      5\u001b[0m \u001b[0mprint\u001b[0m\u001b[1;33m(\u001b[0m\u001b[1;34m'Tempo de Total Execução:'\u001b[0m\u001b[1;33m,\u001b[0m \u001b[0mround\u001b[0m\u001b[1;33m(\u001b[0m\u001b[0mtime\u001b[0m\u001b[1;33m(\u001b[0m\u001b[1;33m)\u001b[0m \u001b[1;33m-\u001b[0m \u001b[0mt\u001b[0m\u001b[1;33m,\u001b[0m \u001b[1;36m2\u001b[0m\u001b[1;33m)\u001b[0m\u001b[1;33m,\u001b[0m \u001b[1;34m'segundos\\n'\u001b[0m\u001b[1;33m)\u001b[0m\u001b[1;33m\u001b[0m\u001b[1;33m\u001b[0m\u001b[0m\n\u001b[0;32m      6\u001b[0m \u001b[1;33m\u001b[0m\u001b[0m\n",
            "\u001b[1;32m~\\anaconda3\\lib\\site-packages\\sklearn\\utils\\validation.py\u001b[0m in \u001b[0;36minner_f\u001b[1;34m(*args, **kwargs)\u001b[0m\n\u001b[0;32m     70\u001b[0m                           FutureWarning)\n\u001b[0;32m     71\u001b[0m         \u001b[0mkwargs\u001b[0m\u001b[1;33m.\u001b[0m\u001b[0mupdate\u001b[0m\u001b[1;33m(\u001b[0m\u001b[1;33m{\u001b[0m\u001b[0mk\u001b[0m\u001b[1;33m:\u001b[0m \u001b[0marg\u001b[0m \u001b[1;32mfor\u001b[0m \u001b[0mk\u001b[0m\u001b[1;33m,\u001b[0m \u001b[0marg\u001b[0m \u001b[1;32min\u001b[0m \u001b[0mzip\u001b[0m\u001b[1;33m(\u001b[0m\u001b[0msig\u001b[0m\u001b[1;33m.\u001b[0m\u001b[0mparameters\u001b[0m\u001b[1;33m,\u001b[0m \u001b[0margs\u001b[0m\u001b[1;33m)\u001b[0m\u001b[1;33m}\u001b[0m\u001b[1;33m)\u001b[0m\u001b[1;33m\u001b[0m\u001b[1;33m\u001b[0m\u001b[0m\n\u001b[1;32m---> 72\u001b[1;33m         \u001b[1;32mreturn\u001b[0m \u001b[0mf\u001b[0m\u001b[1;33m(\u001b[0m\u001b[1;33m**\u001b[0m\u001b[0mkwargs\u001b[0m\u001b[1;33m)\u001b[0m\u001b[1;33m\u001b[0m\u001b[1;33m\u001b[0m\u001b[0m\n\u001b[0m\u001b[0;32m     73\u001b[0m     \u001b[1;32mreturn\u001b[0m \u001b[0minner_f\u001b[0m\u001b[1;33m\u001b[0m\u001b[1;33m\u001b[0m\u001b[0m\n\u001b[0;32m     74\u001b[0m \u001b[1;33m\u001b[0m\u001b[0m\n",
            "\u001b[1;32m~\\anaconda3\\lib\\site-packages\\sklearn\\model_selection\\_validation.py\u001b[0m in \u001b[0;36mcross_validate\u001b[1;34m(estimator, X, y, groups, scoring, cv, n_jobs, verbose, fit_params, pre_dispatch, return_train_score, return_estimator, error_score)\u001b[0m\n\u001b[0;32m    240\u001b[0m     parallel = Parallel(n_jobs=n_jobs, verbose=verbose,\n\u001b[0;32m    241\u001b[0m                         pre_dispatch=pre_dispatch)\n\u001b[1;32m--> 242\u001b[1;33m     scores = parallel(\n\u001b[0m\u001b[0;32m    243\u001b[0m         delayed(_fit_and_score)(\n\u001b[0;32m    244\u001b[0m             \u001b[0mclone\u001b[0m\u001b[1;33m(\u001b[0m\u001b[0mestimator\u001b[0m\u001b[1;33m)\u001b[0m\u001b[1;33m,\u001b[0m \u001b[0mX\u001b[0m\u001b[1;33m,\u001b[0m \u001b[0my\u001b[0m\u001b[1;33m,\u001b[0m \u001b[0mscorers\u001b[0m\u001b[1;33m,\u001b[0m \u001b[0mtrain\u001b[0m\u001b[1;33m,\u001b[0m \u001b[0mtest\u001b[0m\u001b[1;33m,\u001b[0m \u001b[0mverbose\u001b[0m\u001b[1;33m,\u001b[0m \u001b[1;32mNone\u001b[0m\u001b[1;33m,\u001b[0m\u001b[1;33m\u001b[0m\u001b[1;33m\u001b[0m\u001b[0m\n",
            "\u001b[1;32m~\\anaconda3\\lib\\site-packages\\joblib\\parallel.py\u001b[0m in \u001b[0;36m__call__\u001b[1;34m(self, iterable)\u001b[0m\n\u001b[0;32m   1059\u001b[0m \u001b[1;33m\u001b[0m\u001b[0m\n\u001b[0;32m   1060\u001b[0m             \u001b[1;32mwith\u001b[0m \u001b[0mself\u001b[0m\u001b[1;33m.\u001b[0m\u001b[0m_backend\u001b[0m\u001b[1;33m.\u001b[0m\u001b[0mretrieval_context\u001b[0m\u001b[1;33m(\u001b[0m\u001b[1;33m)\u001b[0m\u001b[1;33m:\u001b[0m\u001b[1;33m\u001b[0m\u001b[1;33m\u001b[0m\u001b[0m\n\u001b[1;32m-> 1061\u001b[1;33m                 \u001b[0mself\u001b[0m\u001b[1;33m.\u001b[0m\u001b[0mretrieve\u001b[0m\u001b[1;33m(\u001b[0m\u001b[1;33m)\u001b[0m\u001b[1;33m\u001b[0m\u001b[1;33m\u001b[0m\u001b[0m\n\u001b[0m\u001b[0;32m   1062\u001b[0m             \u001b[1;31m# Make sure that we get a last message telling us we are done\u001b[0m\u001b[1;33m\u001b[0m\u001b[1;33m\u001b[0m\u001b[1;33m\u001b[0m\u001b[0m\n\u001b[0;32m   1063\u001b[0m             \u001b[0melapsed_time\u001b[0m \u001b[1;33m=\u001b[0m \u001b[0mtime\u001b[0m\u001b[1;33m.\u001b[0m\u001b[0mtime\u001b[0m\u001b[1;33m(\u001b[0m\u001b[1;33m)\u001b[0m \u001b[1;33m-\u001b[0m \u001b[0mself\u001b[0m\u001b[1;33m.\u001b[0m\u001b[0m_start_time\u001b[0m\u001b[1;33m\u001b[0m\u001b[1;33m\u001b[0m\u001b[0m\n",
            "\u001b[1;32m~\\anaconda3\\lib\\site-packages\\joblib\\parallel.py\u001b[0m in \u001b[0;36mretrieve\u001b[1;34m(self)\u001b[0m\n\u001b[0;32m    938\u001b[0m             \u001b[1;32mtry\u001b[0m\u001b[1;33m:\u001b[0m\u001b[1;33m\u001b[0m\u001b[1;33m\u001b[0m\u001b[0m\n\u001b[0;32m    939\u001b[0m                 \u001b[1;32mif\u001b[0m \u001b[0mgetattr\u001b[0m\u001b[1;33m(\u001b[0m\u001b[0mself\u001b[0m\u001b[1;33m.\u001b[0m\u001b[0m_backend\u001b[0m\u001b[1;33m,\u001b[0m \u001b[1;34m'supports_timeout'\u001b[0m\u001b[1;33m,\u001b[0m \u001b[1;32mFalse\u001b[0m\u001b[1;33m)\u001b[0m\u001b[1;33m:\u001b[0m\u001b[1;33m\u001b[0m\u001b[1;33m\u001b[0m\u001b[0m\n\u001b[1;32m--> 940\u001b[1;33m                     \u001b[0mself\u001b[0m\u001b[1;33m.\u001b[0m\u001b[0m_output\u001b[0m\u001b[1;33m.\u001b[0m\u001b[0mextend\u001b[0m\u001b[1;33m(\u001b[0m\u001b[0mjob\u001b[0m\u001b[1;33m.\u001b[0m\u001b[0mget\u001b[0m\u001b[1;33m(\u001b[0m\u001b[0mtimeout\u001b[0m\u001b[1;33m=\u001b[0m\u001b[0mself\u001b[0m\u001b[1;33m.\u001b[0m\u001b[0mtimeout\u001b[0m\u001b[1;33m)\u001b[0m\u001b[1;33m)\u001b[0m\u001b[1;33m\u001b[0m\u001b[1;33m\u001b[0m\u001b[0m\n\u001b[0m\u001b[0;32m    941\u001b[0m                 \u001b[1;32melse\u001b[0m\u001b[1;33m:\u001b[0m\u001b[1;33m\u001b[0m\u001b[1;33m\u001b[0m\u001b[0m\n\u001b[0;32m    942\u001b[0m                     \u001b[0mself\u001b[0m\u001b[1;33m.\u001b[0m\u001b[0m_output\u001b[0m\u001b[1;33m.\u001b[0m\u001b[0mextend\u001b[0m\u001b[1;33m(\u001b[0m\u001b[0mjob\u001b[0m\u001b[1;33m.\u001b[0m\u001b[0mget\u001b[0m\u001b[1;33m(\u001b[0m\u001b[1;33m)\u001b[0m\u001b[1;33m)\u001b[0m\u001b[1;33m\u001b[0m\u001b[1;33m\u001b[0m\u001b[0m\n",
            "\u001b[1;32m~\\anaconda3\\lib\\site-packages\\joblib\\_parallel_backends.py\u001b[0m in \u001b[0;36mwrap_future_result\u001b[1;34m(future, timeout)\u001b[0m\n\u001b[0;32m    540\u001b[0m         AsyncResults.get from multiprocessing.\"\"\"\n\u001b[0;32m    541\u001b[0m         \u001b[1;32mtry\u001b[0m\u001b[1;33m:\u001b[0m\u001b[1;33m\u001b[0m\u001b[1;33m\u001b[0m\u001b[0m\n\u001b[1;32m--> 542\u001b[1;33m             \u001b[1;32mreturn\u001b[0m \u001b[0mfuture\u001b[0m\u001b[1;33m.\u001b[0m\u001b[0mresult\u001b[0m\u001b[1;33m(\u001b[0m\u001b[0mtimeout\u001b[0m\u001b[1;33m=\u001b[0m\u001b[0mtimeout\u001b[0m\u001b[1;33m)\u001b[0m\u001b[1;33m\u001b[0m\u001b[1;33m\u001b[0m\u001b[0m\n\u001b[0m\u001b[0;32m    543\u001b[0m         \u001b[1;32mexcept\u001b[0m \u001b[0mCfTimeoutError\u001b[0m \u001b[1;32mas\u001b[0m \u001b[0me\u001b[0m\u001b[1;33m:\u001b[0m\u001b[1;33m\u001b[0m\u001b[1;33m\u001b[0m\u001b[0m\n\u001b[0;32m    544\u001b[0m             \u001b[1;32mraise\u001b[0m \u001b[0mTimeoutError\u001b[0m \u001b[1;32mfrom\u001b[0m \u001b[0me\u001b[0m\u001b[1;33m\u001b[0m\u001b[1;33m\u001b[0m\u001b[0m\n",
            "\u001b[1;32m~\\anaconda3\\lib\\concurrent\\futures\\_base.py\u001b[0m in \u001b[0;36mresult\u001b[1;34m(self, timeout)\u001b[0m\n\u001b[0;32m    432\u001b[0m                 \u001b[1;32mreturn\u001b[0m \u001b[0mself\u001b[0m\u001b[1;33m.\u001b[0m\u001b[0m__get_result\u001b[0m\u001b[1;33m(\u001b[0m\u001b[1;33m)\u001b[0m\u001b[1;33m\u001b[0m\u001b[1;33m\u001b[0m\u001b[0m\n\u001b[0;32m    433\u001b[0m \u001b[1;33m\u001b[0m\u001b[0m\n\u001b[1;32m--> 434\u001b[1;33m             \u001b[0mself\u001b[0m\u001b[1;33m.\u001b[0m\u001b[0m_condition\u001b[0m\u001b[1;33m.\u001b[0m\u001b[0mwait\u001b[0m\u001b[1;33m(\u001b[0m\u001b[0mtimeout\u001b[0m\u001b[1;33m)\u001b[0m\u001b[1;33m\u001b[0m\u001b[1;33m\u001b[0m\u001b[0m\n\u001b[0m\u001b[0;32m    435\u001b[0m \u001b[1;33m\u001b[0m\u001b[0m\n\u001b[0;32m    436\u001b[0m             \u001b[1;32mif\u001b[0m \u001b[0mself\u001b[0m\u001b[1;33m.\u001b[0m\u001b[0m_state\u001b[0m \u001b[1;32min\u001b[0m \u001b[1;33m[\u001b[0m\u001b[0mCANCELLED\u001b[0m\u001b[1;33m,\u001b[0m \u001b[0mCANCELLED_AND_NOTIFIED\u001b[0m\u001b[1;33m]\u001b[0m\u001b[1;33m:\u001b[0m\u001b[1;33m\u001b[0m\u001b[1;33m\u001b[0m\u001b[0m\n",
            "\u001b[1;32m~\\anaconda3\\lib\\threading.py\u001b[0m in \u001b[0;36mwait\u001b[1;34m(self, timeout)\u001b[0m\n\u001b[0;32m    300\u001b[0m         \u001b[1;32mtry\u001b[0m\u001b[1;33m:\u001b[0m    \u001b[1;31m# restore state no matter what (e.g., KeyboardInterrupt)\u001b[0m\u001b[1;33m\u001b[0m\u001b[1;33m\u001b[0m\u001b[0m\n\u001b[0;32m    301\u001b[0m             \u001b[1;32mif\u001b[0m \u001b[0mtimeout\u001b[0m \u001b[1;32mis\u001b[0m \u001b[1;32mNone\u001b[0m\u001b[1;33m:\u001b[0m\u001b[1;33m\u001b[0m\u001b[1;33m\u001b[0m\u001b[0m\n\u001b[1;32m--> 302\u001b[1;33m                 \u001b[0mwaiter\u001b[0m\u001b[1;33m.\u001b[0m\u001b[0macquire\u001b[0m\u001b[1;33m(\u001b[0m\u001b[1;33m)\u001b[0m\u001b[1;33m\u001b[0m\u001b[1;33m\u001b[0m\u001b[0m\n\u001b[0m\u001b[0;32m    303\u001b[0m                 \u001b[0mgotit\u001b[0m \u001b[1;33m=\u001b[0m \u001b[1;32mTrue\u001b[0m\u001b[1;33m\u001b[0m\u001b[1;33m\u001b[0m\u001b[0m\n\u001b[0;32m    304\u001b[0m             \u001b[1;32melse\u001b[0m\u001b[1;33m:\u001b[0m\u001b[1;33m\u001b[0m\u001b[1;33m\u001b[0m\u001b[0m\n",
            "\u001b[1;31mKeyboardInterrupt\u001b[0m: "
          ]
        }
      ],
      "source": [
        "modelo_SVC = SVC(kernel = 'linear')\n",
        "validacao = RepeatedStratifiedKFold(n_splits = 10, n_repeats = 10)\n",
        "\n",
        "mol_SVC = cross_validate(modelo_SVC, XTreino, YTreino, cv = validacao, scoring = ['accuracy', 'recall', 'f1', 'precision'],verbose = 10, n_jobs = -1)\n",
        "print('Tempo de Total Execução:', round(time() - t, 2), 'segundos\\n')\n",
        "\n",
        "acc = mol_SVC['test_accuracy'].mean()\n",
        "pre = mol_SVC['test_precision'].mean()\n",
        "rec = mol_SVC['test_recall'].mean()\n",
        "f1s = mol_SVC['test_f1'].mean()\n",
        "\n",
        "print('F1: ',  f1s)\n",
        "print('Precisão: ',  pre)\n",
        "print('Recall', rec)\n",
        "print( 'Acurácia' ,acc)\n"
      ]
    },
    {
      "cell_type": "code",
      "execution_count": null,
      "metadata": {
        "id": "WZ6hJ5WL-hHH"
      },
      "outputs": [],
      "source": [
        "modelo_Grad = GradientBoostingClassifier()\n",
        "modelo_SVM_RBF = SVC(kernel = 'rbf')\n",
        "modelo_Randon = RandomForestClassifier()\n",
        "\n",
        "modelo_reg = LogisticRegression()\n",
        "modelo_KNN = KNeighborsClassifier(n_neighbors = 8)\n",
        "modelo_SVM = SVC(random_state = 0)\n",
        "modelo_MLP = MLPClassifier(hidden_layer_sizes = (8), \n",
        "                       activation = 'relu', \n",
        "                       learning_rate = 'constant', \n",
        "                       learning_rate_init = 0.01, \n",
        "                       max_iter = 500, \n",
        "                       early_stopping = True, \n",
        "                       n_iter_no_change = 50,)\n",
        "\n",
        "\n",
        "validacao = RepeatedStratifiedKFold(n_splits = 10, n_repeats = 10)"
      ]
    },
    {
      "cell_type": "code",
      "execution_count": null,
      "metadata": {
        "id": "uufchMsGF8XZ"
      },
      "outputs": [],
      "source": [
        "XTreino.head()"
      ]
    },
    {
      "cell_type": "markdown",
      "metadata": {
        "id": "kHEiXyTawX3O"
      },
      "source": [
        "Randon Forest Como Algoritimo Básico\n"
      ]
    },
    {
      "cell_type": "code",
      "execution_count": null,
      "metadata": {
        "colab": {
          "base_uri": "https://localhost:8080/"
        },
        "id": "xiD3lng79hKi",
        "outputId": "e472de0b-4aa3-461f-87ee-1543803092f5"
      },
      "outputs": [
        {
          "name": "stderr",
          "output_type": "stream",
          "text": [
            "[Parallel(n_jobs=1)]: Using backend SequentialBackend with 1 concurrent workers.\n"
          ]
        },
        {
          "name": "stdout",
          "output_type": "stream",
          "text": [
            "[CV]  ................................................................\n",
            "[CV]  , accuracy=0.703, f1=0.699, precision=0.720, recall=0.678, total=   0.9s\n",
            "[CV]  ................................................................\n"
          ]
        },
        {
          "name": "stderr",
          "output_type": "stream",
          "text": [
            "[Parallel(n_jobs=1)]: Done   1 out of   1 | elapsed:    0.9s remaining:    0.0s\n"
          ]
        },
        {
          "name": "stdout",
          "output_type": "stream",
          "text": [
            "[CV]  , accuracy=0.656, f1=0.641, precision=0.681, recall=0.605, total=   0.9s\n",
            "[CV]  ................................................................\n"
          ]
        },
        {
          "name": "stderr",
          "output_type": "stream",
          "text": [
            "[Parallel(n_jobs=1)]: Done   2 out of   2 | elapsed:    1.8s remaining:    0.0s\n"
          ]
        },
        {
          "name": "stdout",
          "output_type": "stream",
          "text": [
            "[CV]  , accuracy=0.685, f1=0.670, precision=0.715, recall=0.630, total=   0.9s\n",
            "[CV]  ................................................................\n",
            "[CV]  , accuracy=0.670, f1=0.656, precision=0.697, recall=0.621, total=   0.9s\n",
            "[CV]  ................................................................\n",
            "[CV]  , accuracy=0.685, f1=0.685, precision=0.695, recall=0.675, total=   0.8s\n",
            "[CV]  ................................................................\n",
            "[CV]  , accuracy=0.688, f1=0.682, precision=0.707, recall=0.659, total=   0.9s\n",
            "[CV]  ................................................................\n",
            "[CV]  , accuracy=0.701, f1=0.693, precision=0.724, recall=0.666, total=   0.8s\n",
            "[CV]  ................................................................\n",
            "[CV]  , accuracy=0.668, f1=0.657, precision=0.693, recall=0.624, total=   0.8s\n",
            "[CV]  ................................................................\n",
            "[CV]  , accuracy=0.708, f1=0.704, precision=0.722, recall=0.687, total=   0.8s\n",
            "[CV]  ................................................................\n",
            "[CV]  , accuracy=0.668, f1=0.649, precision=0.699, recall=0.606, total=   0.8s\n",
            "[CV]  ................................................................\n",
            "[CV]  , accuracy=0.684, f1=0.668, precision=0.714, recall=0.627, total=   0.8s\n",
            "[CV]  ................................................................\n",
            "[CV]  , accuracy=0.708, f1=0.705, precision=0.723, recall=0.688, total=   0.8s\n",
            "[CV]  ................................................................\n",
            "[CV]  , accuracy=0.666, f1=0.661, precision=0.680, recall=0.643, total=   0.8s\n",
            "[CV]  ................................................................\n",
            "[CV]  , accuracy=0.688, f1=0.684, precision=0.704, recall=0.666, total=   0.8s\n",
            "[CV]  ................................................................\n",
            "[CV]  , accuracy=0.670, f1=0.659, precision=0.694, recall=0.627, total=   0.8s\n",
            "[CV]  ................................................................\n",
            "[CV]  , accuracy=0.678, f1=0.681, precision=0.686, recall=0.675, total=   0.8s\n",
            "[CV]  ................................................................\n",
            "[CV]  , accuracy=0.655, f1=0.641, precision=0.681, recall=0.605, total=   0.8s\n",
            "[CV]  ................................................................\n",
            "[CV]  , accuracy=0.719, f1=0.714, precision=0.739, recall=0.691, total=   0.8s\n",
            "[CV]  ................................................................\n",
            "[CV]  , accuracy=0.660, f1=0.650, precision=0.680, recall=0.623, total=   0.8s\n",
            "[CV]  ................................................................\n",
            "[CV]  , accuracy=0.680, f1=0.670, precision=0.701, recall=0.642, total=   0.8s\n",
            "[CV]  ................................................................\n",
            "[CV]  , accuracy=0.675, f1=0.668, precision=0.694, recall=0.643, total=   0.8s\n",
            "[CV]  ................................................................\n",
            "[CV]  , accuracy=0.679, f1=0.685, precision=0.682, recall=0.688, total=   0.8s\n",
            "[CV]  ................................................................\n",
            "[CV]  , accuracy=0.684, f1=0.666, precision=0.717, recall=0.621, total=   0.8s\n",
            "[CV]  ................................................................\n",
            "[CV]  , accuracy=0.713, f1=0.711, precision=0.727, recall=0.695, total=   0.9s\n",
            "[CV]  ................................................................\n",
            "[CV]  , accuracy=0.696, f1=0.684, precision=0.726, recall=0.646, total=   0.9s\n",
            "[CV]  ................................................................\n",
            "[CV]  , accuracy=0.686, f1=0.677, precision=0.710, recall=0.646, total=   0.8s\n",
            "[CV]  ................................................................\n",
            "[CV]  , accuracy=0.667, f1=0.668, precision=0.677, recall=0.659, total=   0.9s\n",
            "[CV]  ................................................................\n",
            "[CV]  , accuracy=0.716, f1=0.699, precision=0.757, recall=0.650, total=   0.8s\n",
            "[CV]  ................................................................\n",
            "[CV]  , accuracy=0.665, f1=0.662, precision=0.677, recall=0.648, total=   0.8s\n",
            "[CV]  ................................................................\n",
            "[CV]  , accuracy=0.680, f1=0.661, precision=0.713, recall=0.616, total=   0.8s\n",
            "[CV]  ................................................................\n",
            "[CV]  , accuracy=0.692, f1=0.686, precision=0.710, recall=0.662, total=   0.9s\n",
            "[CV]  ................................................................\n",
            "[CV]  , accuracy=0.685, f1=0.680, precision=0.702, recall=0.659, total=   0.8s\n",
            "[CV]  ................................................................\n",
            "[CV]  , accuracy=0.675, f1=0.662, precision=0.701, recall=0.627, total=   0.8s\n",
            "[CV]  ................................................................\n",
            "[CV]  , accuracy=0.664, f1=0.662, precision=0.676, recall=0.650, total=   0.8s\n",
            "[CV]  ................................................................\n",
            "[CV]  , accuracy=0.721, f1=0.719, precision=0.735, recall=0.704, total=   0.8s\n",
            "[CV]  ................................................................\n",
            "[CV]  , accuracy=0.696, f1=0.691, precision=0.715, recall=0.669, total=   0.9s\n",
            "[CV]  ................................................................\n",
            "[CV]  , accuracy=0.673, f1=0.673, precision=0.684, recall=0.662, total=   0.9s\n",
            "[CV]  ................................................................\n",
            "[CV]  , accuracy=0.685, f1=0.668, precision=0.719, recall=0.624, total=   0.8s\n",
            "[CV]  ................................................................\n",
            "[CV]  , accuracy=0.688, f1=0.680, precision=0.707, recall=0.655, total=   0.8s\n",
            "[CV]  ................................................................\n",
            "[CV]  , accuracy=0.686, f1=0.671, precision=0.715, recall=0.632, total=   0.8s\n",
            "[CV]  ................................................................\n",
            "[CV]  , accuracy=0.697, f1=0.696, precision=0.708, recall=0.685, total=   0.8s\n",
            "[CV]  ................................................................\n",
            "[CV]  , accuracy=0.664, f1=0.651, precision=0.688, recall=0.617, total=   0.8s\n",
            "[CV]  ................................................................\n",
            "[CV]  , accuracy=0.679, f1=0.661, precision=0.711, recall=0.617, total=   0.8s\n",
            "[CV]  ................................................................\n",
            "[CV]  , accuracy=0.670, f1=0.672, precision=0.679, recall=0.666, total=   0.8s\n",
            "[CV]  ................................................................\n",
            "[CV]  , accuracy=0.716, f1=0.708, precision=0.740, recall=0.678, total=   0.8s\n",
            "[CV]  ................................................................\n",
            "[CV]  , accuracy=0.683, f1=0.671, precision=0.710, recall=0.637, total=   0.8s\n",
            "[CV]  ................................................................\n",
            "[CV]  , accuracy=0.690, f1=0.677, precision=0.718, recall=0.640, total=   0.8s\n",
            "[CV]  ................................................................\n",
            "[CV]  , accuracy=0.690, f1=0.695, precision=0.695, recall=0.695, total=   0.8s\n",
            "[CV]  ................................................................\n",
            "[CV]  , accuracy=0.676, f1=0.662, precision=0.703, recall=0.626, total=   0.9s\n",
            "[CV]  ................................................................\n",
            "[CV]  , accuracy=0.688, f1=0.681, precision=0.706, recall=0.658, total=   0.8s\n",
            "[CV]  ................................................................\n",
            "[CV]  , accuracy=0.695, f1=0.691, precision=0.711, recall=0.672, total=   0.8s\n",
            "[CV]  ................................................................\n",
            "[CV]  , accuracy=0.687, f1=0.690, precision=0.693, recall=0.688, total=   0.8s\n",
            "[CV]  ................................................................\n",
            "[CV]  , accuracy=0.674, f1=0.669, precision=0.689, recall=0.650, total=   0.8s\n",
            "[CV]  ................................................................\n",
            "[CV]  , accuracy=0.677, f1=0.669, precision=0.697, recall=0.643, total=   0.8s\n",
            "[CV]  ................................................................\n",
            "[CV]  , accuracy=0.704, f1=0.697, precision=0.727, recall=0.669, total=   0.8s\n",
            "[CV]  ................................................................\n",
            "[CV]  , accuracy=0.675, f1=0.670, precision=0.692, recall=0.650, total=   0.8s\n",
            "[CV]  ................................................................\n",
            "[CV]  , accuracy=0.662, f1=0.662, precision=0.672, recall=0.653, total=   0.8s\n",
            "[CV]  ................................................................\n",
            "[CV]  , accuracy=0.683, f1=0.679, precision=0.700, recall=0.659, total=   0.8s\n",
            "[CV]  ................................................................\n",
            "[CV]  , accuracy=0.716, f1=0.702, precision=0.748, recall=0.661, total=   0.8s\n",
            "[CV]  ................................................................\n",
            "[CV]  , accuracy=0.675, f1=0.659, precision=0.703, recall=0.619, total=   0.8s\n",
            "[CV]  ................................................................\n",
            "[CV]  , accuracy=0.659, f1=0.655, precision=0.673, recall=0.637, total=   0.9s\n",
            "[CV]  ................................................................\n",
            "[CV]  , accuracy=0.679, f1=0.674, precision=0.694, recall=0.656, total=   0.8s\n",
            "[CV]  ................................................................\n",
            "[CV]  , accuracy=0.698, f1=0.699, precision=0.707, recall=0.691, total=   0.8s\n",
            "[CV]  ................................................................\n",
            "[CV]  , accuracy=0.682, f1=0.662, precision=0.718, recall=0.614, total=   0.8s\n",
            "[CV]  ................................................................\n",
            "[CV]  , accuracy=0.673, f1=0.666, precision=0.693, recall=0.640, total=   0.8s\n",
            "[CV]  ................................................................\n",
            "[CV]  , accuracy=0.706, f1=0.701, precision=0.725, recall=0.678, total=   0.8s\n",
            "[CV]  ................................................................\n",
            "[CV]  , accuracy=0.685, f1=0.675, precision=0.709, recall=0.643, total=   0.9s\n",
            "[CV]  ................................................................\n",
            "[CV]  , accuracy=0.712, f1=0.710, precision=0.729, recall=0.691, total=   0.9s\n",
            "[CV]  ................................................................\n",
            "[CV]  , accuracy=0.708, f1=0.708, precision=0.716, recall=0.700, total=   0.8s\n",
            "[CV]  ................................................................\n",
            "[CV]  , accuracy=0.683, f1=0.670, precision=0.709, recall=0.635, total=   0.9s\n",
            "[CV]  ................................................................\n",
            "[CV]  , accuracy=0.675, f1=0.667, precision=0.696, recall=0.640, total=   0.8s\n",
            "[CV]  ................................................................\n",
            "[CV]  , accuracy=0.685, f1=0.673, precision=0.711, recall=0.640, total=   0.8s\n",
            "[CV]  ................................................................\n",
            "[CV]  , accuracy=0.656, f1=0.639, precision=0.682, recall=0.601, total=   0.8s\n",
            "[CV]  ................................................................\n",
            "[CV]  , accuracy=0.703, f1=0.688, precision=0.736, recall=0.646, total=   0.9s\n",
            "[CV]  ................................................................\n",
            "[CV]  , accuracy=0.691, f1=0.687, precision=0.709, recall=0.666, total=   0.8s\n",
            "[CV]  ................................................................\n",
            "[CV]  , accuracy=0.685, f1=0.671, precision=0.714, recall=0.633, total=   0.8s\n",
            "[CV]  ................................................................\n",
            "[CV]  , accuracy=0.688, f1=0.676, precision=0.716, recall=0.640, total=   0.8s\n",
            "[CV]  ................................................................\n",
            "[CV]  , accuracy=0.694, f1=0.691, precision=0.711, recall=0.672, total=   0.8s\n",
            "[CV]  ................................................................\n",
            "[CV]  , accuracy=0.690, f1=0.690, precision=0.699, recall=0.681, total=   0.8s\n",
            "[CV]  ................................................................\n",
            "[CV]  , accuracy=0.686, f1=0.687, precision=0.694, recall=0.681, total=   0.8s\n",
            "[CV]  ................................................................\n",
            "[CV]  , accuracy=0.674, f1=0.660, precision=0.700, recall=0.624, total=   0.8s\n",
            "[CV]  ................................................................\n",
            "[CV]  , accuracy=0.672, f1=0.669, precision=0.686, recall=0.653, total=   0.8s\n",
            "[CV]  ................................................................\n",
            "[CV]  , accuracy=0.684, f1=0.669, precision=0.713, recall=0.630, total=   0.8s\n",
            "[CV]  ................................................................\n",
            "[CV]  , accuracy=0.698, f1=0.702, precision=0.703, recall=0.701, total=   0.8s\n",
            "[CV]  ................................................................\n",
            "[CV]  , accuracy=0.683, f1=0.677, precision=0.702, recall=0.653, total=   0.9s\n",
            "[CV]  ................................................................\n",
            "[CV]  , accuracy=0.729, f1=0.719, precision=0.760, recall=0.682, total=   0.8s\n",
            "[CV]  ................................................................\n",
            "[CV]  , accuracy=0.662, f1=0.656, precision=0.679, recall=0.633, total=   0.8s\n",
            "[CV]  ................................................................\n",
            "[CV]  , accuracy=0.721, f1=0.716, precision=0.740, recall=0.695, total=   0.8s\n",
            "[CV]  ................................................................\n",
            "[CV]  , accuracy=0.696, f1=0.687, precision=0.718, recall=0.658, total=   0.8s\n",
            "[CV]  ................................................................\n",
            "[CV]  , accuracy=0.665, f1=0.657, precision=0.683, recall=0.632, total=   0.8s\n",
            "[CV]  ................................................................\n",
            "[CV]  , accuracy=0.657, f1=0.648, precision=0.677, recall=0.621, total=   0.8s\n",
            "[CV]  ................................................................\n",
            "[CV]  , accuracy=0.654, f1=0.633, precision=0.685, recall=0.588, total=   0.8s\n",
            "[CV]  ................................................................\n",
            "[CV]  , accuracy=0.716, f1=0.699, precision=0.757, recall=0.650, total=   0.9s\n",
            "[CV]  ................................................................\n",
            "[CV]  , accuracy=0.721, f1=0.719, precision=0.735, recall=0.704, total=   0.8s\n",
            "[CV]  ................................................................\n",
            "[CV]  , accuracy=0.701, f1=0.685, precision=0.737, recall=0.640, total=   0.9s\n",
            "[CV]  ................................................................\n",
            "[CV]  , accuracy=0.681, f1=0.687, precision=0.686, recall=0.688, total=   0.9s\n",
            "[CV]  ................................................................\n",
            "[CV]  , accuracy=0.665, f1=0.660, precision=0.682, recall=0.640, total=   0.9s\n",
            "[CV]  ................................................................\n",
            "[CV]  , accuracy=0.685, f1=0.671, precision=0.714, recall=0.633, total=   0.9s\n",
            "[CV]  ................................................................\n",
            "[CV]  , accuracy=0.719, f1=0.720, precision=0.727, recall=0.713, total=   0.8s\n",
            "[CV]  ................................................................\n",
            "[CV]  , accuracy=0.696, f1=0.694, precision=0.708, recall=0.681, total=   0.8s\n",
            "Tempo de Total Execução: 83.62 segundos\n",
            "\n",
            "F1:  0.678167719421038\n",
            "Precisão:  0.7062187073654203\n",
            "Recall 0.6527991909552953\n",
            "Acurácia 0.6857960421797865\n"
          ]
        },
        {
          "name": "stderr",
          "output_type": "stream",
          "text": [
            "[Parallel(n_jobs=1)]: Done 100 out of 100 | elapsed:  1.4min finished\n"
          ]
        }
      ],
      "source": [
        "\n",
        "t = time()\n",
        "mol_randon = cross_validate(modelo_Randon, XTreino, YTreino, cv = validacao, scoring = ['accuracy', 'recall', 'f1', 'precision'],verbose = 3, n_jobs = -1)\n",
        "print('Tempo de Total Execução:', round(time() - t, 2), 'segundos\\n')\n",
        "\n",
        "acc = mol_randon['test_accuracy'].mean()\n",
        "pre = mol_randon['test_precision'].mean()\n",
        "rec = mol_randon['test_recall'].mean()\n",
        "f1s = mol_randon['test_f1'].mean()\n",
        "\n",
        "print('F1: ',  f1s)\n",
        "print('Precisão: ',  pre)\n",
        "print('Recall', rec)\n",
        "print( 'Acurácia' ,acc)\n",
        "\n"
      ]
    },
    {
      "cell_type": "code",
      "execution_count": null,
      "metadata": {
        "id": "qNuneNW340jl"
      },
      "outputs": [],
      "source": [
        "#Mudança feita?\n",
        "j = 'Randon Forest -100'\n",
        "\n",
        "dic3 = {'Acurácia': [acc], 'Precisão' : [pre],  'Recall': [rec], 'F1-Score': [f1s]}\n",
        "aux3 = pd.DataFrame(dic3, index = [j])\n",
        "resultados3 = pd.concat([resultados3, aux3])"
      ]
    },
    {
      "cell_type": "code",
      "execution_count": null,
      "metadata": {
        "colab": {
          "base_uri": "https://localhost:8080/",
          "height": 175
        },
        "id": "vjbUdKDG5fuS",
        "outputId": "5da9e16a-25a5-4334-c8e1-b8531f55b275"
      },
      "outputs": [
        {
          "data": {
            "text/html": [
              "<div>\n",
              "<style scoped>\n",
              "    .dataframe tbody tr th:only-of-type {\n",
              "        vertical-align: middle;\n",
              "    }\n",
              "\n",
              "    .dataframe tbody tr th {\n",
              "        vertical-align: top;\n",
              "    }\n",
              "\n",
              "    .dataframe thead th {\n",
              "        text-align: right;\n",
              "    }\n",
              "</style>\n",
              "<table border=\"1\" class=\"dataframe\">\n",
              "  <thead>\n",
              "    <tr style=\"text-align: right;\">\n",
              "      <th></th>\n",
              "      <th>Acurácia</th>\n",
              "      <th>Precisão</th>\n",
              "      <th>Recall</th>\n",
              "      <th>F1-Score</th>\n",
              "    </tr>\n",
              "  </thead>\n",
              "  <tbody>\n",
              "    <tr>\n",
              "      <th>Randon Forest -100</th>\n",
              "      <td>0.685796</td>\n",
              "      <td>0.706219</td>\n",
              "      <td>0.652799</td>\n",
              "      <td>0.678168</td>\n",
              "    </tr>\n",
              "    <tr>\n",
              "      <th>Randon Forest 2</th>\n",
              "      <td>0.683947</td>\n",
              "      <td>0.704198</td>\n",
              "      <td>0.651163</td>\n",
              "      <td>0.676293</td>\n",
              "    </tr>\n",
              "    <tr>\n",
              "      <th>Randon Forest</th>\n",
              "      <td>0.683247</td>\n",
              "      <td>0.704462</td>\n",
              "      <td>0.648392</td>\n",
              "      <td>0.674905</td>\n",
              "    </tr>\n",
              "    <tr>\n",
              "      <th>Regressão age</th>\n",
              "      <td>0.648709</td>\n",
              "      <td>0.644397</td>\n",
              "      <td>0.687195</td>\n",
              "      <td>0.664930</td>\n",
              "    </tr>\n",
              "  </tbody>\n",
              "</table>\n",
              "</div>"
            ],
            "text/plain": [
              "                    Acurácia  Precisão    Recall  F1-Score\n",
              "Randon Forest -100  0.685796  0.706219  0.652799  0.678168\n",
              "Randon Forest 2     0.683947  0.704198  0.651163  0.676293\n",
              "Randon Forest       0.683247  0.704462  0.648392  0.674905\n",
              "Regressão age       0.648709  0.644397  0.687195  0.664930"
            ]
          },
          "execution_count": 260,
          "metadata": {
            "tags": []
          },
          "output_type": "execute_result"
        }
      ],
      "source": [
        "resultados3.sort_values('F1-Score', ascending=False)"
      ]
    },
    {
      "cell_type": "markdown",
      "metadata": {
        "id": "Swo4C_oe8svS"
      },
      "source": [
        "Regressão Básica\n"
      ]
    },
    {
      "cell_type": "code",
      "execution_count": null,
      "metadata": {
        "colab": {
          "base_uri": "https://localhost:8080/"
        },
        "id": "_0-iiVcK9DGC",
        "outputId": "8ed6125f-ddee-48e0-add2-031ef4ed773c"
      },
      "outputs": [
        {
          "name": "stderr",
          "output_type": "stream",
          "text": [
            "[Parallel(n_jobs=1)]: Using backend SequentialBackend with 1 concurrent workers.\n",
            "/usr/local/lib/python3.7/dist-packages/sklearn/linear_model/_logistic.py:940: ConvergenceWarning:\n",
            "\n",
            "lbfgs failed to converge (status=1):\n",
            "STOP: TOTAL NO. of ITERATIONS REACHED LIMIT.\n",
            "\n",
            "Increase the number of iterations (max_iter) or scale the data as shown in:\n",
            "    https://scikit-learn.org/stable/modules/preprocessing.html\n",
            "Please also refer to the documentation for alternative solver options:\n",
            "    https://scikit-learn.org/stable/modules/linear_model.html#logistic-regression\n",
            "\n",
            "[Parallel(n_jobs=1)]: Done   1 out of   1 | elapsed:    0.2s remaining:    0.0s\n"
          ]
        },
        {
          "name": "stdout",
          "output_type": "stream",
          "text": [
            "[CV]  ................................................................\n",
            "[CV]  , accuracy=0.653, f1=0.670, precision=0.647, recall=0.695, total=   0.2s\n",
            "[CV]  ................................................................\n"
          ]
        },
        {
          "name": "stderr",
          "output_type": "stream",
          "text": [
            "/usr/local/lib/python3.7/dist-packages/sklearn/linear_model/_logistic.py:940: ConvergenceWarning:\n",
            "\n",
            "lbfgs failed to converge (status=1):\n",
            "STOP: TOTAL NO. of ITERATIONS REACHED LIMIT.\n",
            "\n",
            "Increase the number of iterations (max_iter) or scale the data as shown in:\n",
            "    https://scikit-learn.org/stable/modules/preprocessing.html\n",
            "Please also refer to the documentation for alternative solver options:\n",
            "    https://scikit-learn.org/stable/modules/linear_model.html#logistic-regression\n",
            "\n",
            "[Parallel(n_jobs=1)]: Done   2 out of   2 | elapsed:    0.4s remaining:    0.0s\n",
            "/usr/local/lib/python3.7/dist-packages/sklearn/linear_model/_logistic.py:940: ConvergenceWarning:\n",
            "\n",
            "lbfgs failed to converge (status=1):\n",
            "STOP: TOTAL NO. of ITERATIONS REACHED LIMIT.\n",
            "\n",
            "Increase the number of iterations (max_iter) or scale the data as shown in:\n",
            "    https://scikit-learn.org/stable/modules/preprocessing.html\n",
            "Please also refer to the documentation for alternative solver options:\n",
            "    https://scikit-learn.org/stable/modules/linear_model.html#logistic-regression\n",
            "\n"
          ]
        },
        {
          "name": "stdout",
          "output_type": "stream",
          "text": [
            "[CV]  , accuracy=0.636, f1=0.662, precision=0.626, recall=0.701, total=   0.2s\n",
            "[CV]  ................................................................\n",
            "[CV]  , accuracy=0.666, f1=0.683, precision=0.658, recall=0.711, total=   0.2s\n",
            "[CV]  ................................................................\n"
          ]
        },
        {
          "name": "stderr",
          "output_type": "stream",
          "text": [
            "/usr/local/lib/python3.7/dist-packages/sklearn/linear_model/_logistic.py:940: ConvergenceWarning:\n",
            "\n",
            "lbfgs failed to converge (status=1):\n",
            "STOP: TOTAL NO. of ITERATIONS REACHED LIMIT.\n",
            "\n",
            "Increase the number of iterations (max_iter) or scale the data as shown in:\n",
            "    https://scikit-learn.org/stable/modules/preprocessing.html\n",
            "Please also refer to the documentation for alternative solver options:\n",
            "    https://scikit-learn.org/stable/modules/linear_model.html#logistic-regression\n",
            "\n",
            "/usr/local/lib/python3.7/dist-packages/sklearn/linear_model/_logistic.py:940: ConvergenceWarning:\n",
            "\n",
            "lbfgs failed to converge (status=1):\n",
            "STOP: TOTAL NO. of ITERATIONS REACHED LIMIT.\n",
            "\n",
            "Increase the number of iterations (max_iter) or scale the data as shown in:\n",
            "    https://scikit-learn.org/stable/modules/preprocessing.html\n",
            "Please also refer to the documentation for alternative solver options:\n",
            "    https://scikit-learn.org/stable/modules/linear_model.html#logistic-regression\n",
            "\n"
          ]
        },
        {
          "name": "stdout",
          "output_type": "stream",
          "text": [
            "[CV]  , accuracy=0.644, f1=0.667, precision=0.636, recall=0.701, total=   0.2s\n",
            "[CV]  ................................................................\n",
            "[CV]  , accuracy=0.619, f1=0.630, precision=0.623, recall=0.637, total=   0.2s\n",
            "[CV]  ................................................................\n"
          ]
        },
        {
          "name": "stderr",
          "output_type": "stream",
          "text": [
            "/usr/local/lib/python3.7/dist-packages/sklearn/linear_model/_logistic.py:940: ConvergenceWarning:\n",
            "\n",
            "lbfgs failed to converge (status=1):\n",
            "STOP: TOTAL NO. of ITERATIONS REACHED LIMIT.\n",
            "\n",
            "Increase the number of iterations (max_iter) or scale the data as shown in:\n",
            "    https://scikit-learn.org/stable/modules/preprocessing.html\n",
            "Please also refer to the documentation for alternative solver options:\n",
            "    https://scikit-learn.org/stable/modules/linear_model.html#logistic-regression\n",
            "\n",
            "/usr/local/lib/python3.7/dist-packages/sklearn/linear_model/_logistic.py:940: ConvergenceWarning:\n",
            "\n",
            "lbfgs failed to converge (status=1):\n",
            "STOP: TOTAL NO. of ITERATIONS REACHED LIMIT.\n",
            "\n",
            "Increase the number of iterations (max_iter) or scale the data as shown in:\n",
            "    https://scikit-learn.org/stable/modules/preprocessing.html\n",
            "Please also refer to the documentation for alternative solver options:\n",
            "    https://scikit-learn.org/stable/modules/linear_model.html#logistic-regression\n",
            "\n"
          ]
        },
        {
          "name": "stdout",
          "output_type": "stream",
          "text": [
            "[CV]  , accuracy=0.645, f1=0.656, precision=0.647, recall=0.666, total=   0.2s\n",
            "[CV]  ................................................................\n",
            "[CV]  , accuracy=0.658, f1=0.680, precision=0.649, recall=0.714, total=   0.2s\n",
            "[CV]  ................................................................\n"
          ]
        },
        {
          "name": "stderr",
          "output_type": "stream",
          "text": [
            "/usr/local/lib/python3.7/dist-packages/sklearn/linear_model/_logistic.py:940: ConvergenceWarning:\n",
            "\n",
            "lbfgs failed to converge (status=1):\n",
            "STOP: TOTAL NO. of ITERATIONS REACHED LIMIT.\n",
            "\n",
            "Increase the number of iterations (max_iter) or scale the data as shown in:\n",
            "    https://scikit-learn.org/stable/modules/preprocessing.html\n",
            "Please also refer to the documentation for alternative solver options:\n",
            "    https://scikit-learn.org/stable/modules/linear_model.html#logistic-regression\n",
            "\n",
            "/usr/local/lib/python3.7/dist-packages/sklearn/linear_model/_logistic.py:940: ConvergenceWarning:\n",
            "\n",
            "lbfgs failed to converge (status=1):\n",
            "STOP: TOTAL NO. of ITERATIONS REACHED LIMIT.\n",
            "\n",
            "Increase the number of iterations (max_iter) or scale the data as shown in:\n",
            "    https://scikit-learn.org/stable/modules/preprocessing.html\n",
            "Please also refer to the documentation for alternative solver options:\n",
            "    https://scikit-learn.org/stable/modules/linear_model.html#logistic-regression\n",
            "\n"
          ]
        },
        {
          "name": "stdout",
          "output_type": "stream",
          "text": [
            "[CV]  , accuracy=0.663, f1=0.678, precision=0.660, recall=0.698, total=   0.2s\n",
            "[CV]  ................................................................\n",
            "[CV]  , accuracy=0.644, f1=0.653, precision=0.645, recall=0.661, total=   0.2s\n",
            "[CV]  ................................................................\n",
            "[CV]  , accuracy=0.649, f1=0.666, precision=0.643, recall=0.690, total=   0.2s\n",
            "[CV]  ................................................................\n"
          ]
        },
        {
          "name": "stderr",
          "output_type": "stream",
          "text": [
            "/usr/local/lib/python3.7/dist-packages/sklearn/linear_model/_logistic.py:940: ConvergenceWarning:\n",
            "\n",
            "lbfgs failed to converge (status=1):\n",
            "STOP: TOTAL NO. of ITERATIONS REACHED LIMIT.\n",
            "\n",
            "Increase the number of iterations (max_iter) or scale the data as shown in:\n",
            "    https://scikit-learn.org/stable/modules/preprocessing.html\n",
            "Please also refer to the documentation for alternative solver options:\n",
            "    https://scikit-learn.org/stable/modules/linear_model.html#logistic-regression\n",
            "\n",
            "/usr/local/lib/python3.7/dist-packages/sklearn/linear_model/_logistic.py:940: ConvergenceWarning:\n",
            "\n",
            "lbfgs failed to converge (status=1):\n",
            "STOP: TOTAL NO. of ITERATIONS REACHED LIMIT.\n",
            "\n",
            "Increase the number of iterations (max_iter) or scale the data as shown in:\n",
            "    https://scikit-learn.org/stable/modules/preprocessing.html\n",
            "Please also refer to the documentation for alternative solver options:\n",
            "    https://scikit-learn.org/stable/modules/linear_model.html#logistic-regression\n",
            "\n"
          ]
        },
        {
          "name": "stdout",
          "output_type": "stream",
          "text": [
            "[CV]  , accuracy=0.617, f1=0.630, precision=0.617, recall=0.643, total=   0.2s\n",
            "[CV]  ................................................................\n",
            "[CV]  , accuracy=0.664, f1=0.675, precision=0.663, recall=0.688, total=   0.2s\n",
            "[CV]  ................................................................\n"
          ]
        },
        {
          "name": "stderr",
          "output_type": "stream",
          "text": [
            "/usr/local/lib/python3.7/dist-packages/sklearn/linear_model/_logistic.py:940: ConvergenceWarning:\n",
            "\n",
            "lbfgs failed to converge (status=1):\n",
            "STOP: TOTAL NO. of ITERATIONS REACHED LIMIT.\n",
            "\n",
            "Increase the number of iterations (max_iter) or scale the data as shown in:\n",
            "    https://scikit-learn.org/stable/modules/preprocessing.html\n",
            "Please also refer to the documentation for alternative solver options:\n",
            "    https://scikit-learn.org/stable/modules/linear_model.html#logistic-regression\n",
            "\n",
            "/usr/local/lib/python3.7/dist-packages/sklearn/linear_model/_logistic.py:940: ConvergenceWarning:\n",
            "\n",
            "lbfgs failed to converge (status=1):\n",
            "STOP: TOTAL NO. of ITERATIONS REACHED LIMIT.\n",
            "\n",
            "Increase the number of iterations (max_iter) or scale the data as shown in:\n",
            "    https://scikit-learn.org/stable/modules/preprocessing.html\n",
            "Please also refer to the documentation for alternative solver options:\n",
            "    https://scikit-learn.org/stable/modules/linear_model.html#logistic-regression\n",
            "\n"
          ]
        },
        {
          "name": "stdout",
          "output_type": "stream",
          "text": [
            "[CV]  , accuracy=0.639, f1=0.658, precision=0.634, recall=0.685, total=   0.2s\n",
            "[CV]  ................................................................\n",
            "[CV]  , accuracy=0.675, f1=0.694, precision=0.665, recall=0.727, total=   0.2s\n",
            "[CV]  ................................................................\n"
          ]
        },
        {
          "name": "stderr",
          "output_type": "stream",
          "text": [
            "/usr/local/lib/python3.7/dist-packages/sklearn/linear_model/_logistic.py:940: ConvergenceWarning:\n",
            "\n",
            "lbfgs failed to converge (status=1):\n",
            "STOP: TOTAL NO. of ITERATIONS REACHED LIMIT.\n",
            "\n",
            "Increase the number of iterations (max_iter) or scale the data as shown in:\n",
            "    https://scikit-learn.org/stable/modules/preprocessing.html\n",
            "Please also refer to the documentation for alternative solver options:\n",
            "    https://scikit-learn.org/stable/modules/linear_model.html#logistic-regression\n",
            "\n",
            "/usr/local/lib/python3.7/dist-packages/sklearn/linear_model/_logistic.py:940: ConvergenceWarning:\n",
            "\n",
            "lbfgs failed to converge (status=1):\n",
            "STOP: TOTAL NO. of ITERATIONS REACHED LIMIT.\n",
            "\n",
            "Increase the number of iterations (max_iter) or scale the data as shown in:\n",
            "    https://scikit-learn.org/stable/modules/preprocessing.html\n",
            "Please also refer to the documentation for alternative solver options:\n",
            "    https://scikit-learn.org/stable/modules/linear_model.html#logistic-regression\n",
            "\n"
          ]
        },
        {
          "name": "stdout",
          "output_type": "stream",
          "text": [
            "[CV]  , accuracy=0.626, f1=0.641, precision=0.626, recall=0.656, total=   0.2s\n",
            "[CV]  ................................................................\n",
            "[CV]  , accuracy=0.658, f1=0.670, precision=0.658, recall=0.682, total=   0.2s\n",
            "[CV]  ................................................................\n"
          ]
        },
        {
          "name": "stderr",
          "output_type": "stream",
          "text": [
            "/usr/local/lib/python3.7/dist-packages/sklearn/linear_model/_logistic.py:940: ConvergenceWarning:\n",
            "\n",
            "lbfgs failed to converge (status=1):\n",
            "STOP: TOTAL NO. of ITERATIONS REACHED LIMIT.\n",
            "\n",
            "Increase the number of iterations (max_iter) or scale the data as shown in:\n",
            "    https://scikit-learn.org/stable/modules/preprocessing.html\n",
            "Please also refer to the documentation for alternative solver options:\n",
            "    https://scikit-learn.org/stable/modules/linear_model.html#logistic-regression\n",
            "\n",
            "/usr/local/lib/python3.7/dist-packages/sklearn/linear_model/_logistic.py:940: ConvergenceWarning:\n",
            "\n",
            "lbfgs failed to converge (status=1):\n",
            "STOP: TOTAL NO. of ITERATIONS REACHED LIMIT.\n",
            "\n",
            "Increase the number of iterations (max_iter) or scale the data as shown in:\n",
            "    https://scikit-learn.org/stable/modules/preprocessing.html\n",
            "Please also refer to the documentation for alternative solver options:\n",
            "    https://scikit-learn.org/stable/modules/linear_model.html#logistic-regression\n",
            "\n"
          ]
        },
        {
          "name": "stdout",
          "output_type": "stream",
          "text": [
            "[CV]  , accuracy=0.654, f1=0.673, precision=0.647, recall=0.701, total=   0.2s\n",
            "[CV]  ................................................................\n",
            "[CV]  , accuracy=0.654, f1=0.669, precision=0.650, recall=0.688, total=   0.2s\n",
            "[CV]  ................................................................\n"
          ]
        },
        {
          "name": "stderr",
          "output_type": "stream",
          "text": [
            "/usr/local/lib/python3.7/dist-packages/sklearn/linear_model/_logistic.py:940: ConvergenceWarning:\n",
            "\n",
            "lbfgs failed to converge (status=1):\n",
            "STOP: TOTAL NO. of ITERATIONS REACHED LIMIT.\n",
            "\n",
            "Increase the number of iterations (max_iter) or scale the data as shown in:\n",
            "    https://scikit-learn.org/stable/modules/preprocessing.html\n",
            "Please also refer to the documentation for alternative solver options:\n",
            "    https://scikit-learn.org/stable/modules/linear_model.html#logistic-regression\n",
            "\n",
            "/usr/local/lib/python3.7/dist-packages/sklearn/linear_model/_logistic.py:940: ConvergenceWarning:\n",
            "\n",
            "lbfgs failed to converge (status=1):\n",
            "STOP: TOTAL NO. of ITERATIONS REACHED LIMIT.\n",
            "\n",
            "Increase the number of iterations (max_iter) or scale the data as shown in:\n",
            "    https://scikit-learn.org/stable/modules/preprocessing.html\n",
            "Please also refer to the documentation for alternative solver options:\n",
            "    https://scikit-learn.org/stable/modules/linear_model.html#logistic-regression\n",
            "\n"
          ]
        },
        {
          "name": "stdout",
          "output_type": "stream",
          "text": [
            "[CV]  , accuracy=0.616, f1=0.638, precision=0.611, recall=0.668, total=   0.2s\n",
            "[CV]  ................................................................\n",
            "[CV]  , accuracy=0.676, f1=0.696, precision=0.664, recall=0.732, total=   0.2s\n",
            "[CV]  ................................................................\n"
          ]
        },
        {
          "name": "stderr",
          "output_type": "stream",
          "text": [
            "/usr/local/lib/python3.7/dist-packages/sklearn/linear_model/_logistic.py:940: ConvergenceWarning:\n",
            "\n",
            "lbfgs failed to converge (status=1):\n",
            "STOP: TOTAL NO. of ITERATIONS REACHED LIMIT.\n",
            "\n",
            "Increase the number of iterations (max_iter) or scale the data as shown in:\n",
            "    https://scikit-learn.org/stable/modules/preprocessing.html\n",
            "Please also refer to the documentation for alternative solver options:\n",
            "    https://scikit-learn.org/stable/modules/linear_model.html#logistic-regression\n",
            "\n",
            "/usr/local/lib/python3.7/dist-packages/sklearn/linear_model/_logistic.py:940: ConvergenceWarning:\n",
            "\n",
            "lbfgs failed to converge (status=1):\n",
            "STOP: TOTAL NO. of ITERATIONS REACHED LIMIT.\n",
            "\n",
            "Increase the number of iterations (max_iter) or scale the data as shown in:\n",
            "    https://scikit-learn.org/stable/modules/preprocessing.html\n",
            "Please also refer to the documentation for alternative solver options:\n",
            "    https://scikit-learn.org/stable/modules/linear_model.html#logistic-regression\n",
            "\n"
          ]
        },
        {
          "name": "stdout",
          "output_type": "stream",
          "text": [
            "[CV]  , accuracy=0.667, f1=0.679, precision=0.665, recall=0.695, total=   0.2s\n",
            "[CV]  ................................................................\n",
            "[CV]  , accuracy=0.651, f1=0.673, precision=0.641, recall=0.707, total=   0.2s\n",
            "[CV]  ................................................................\n"
          ]
        },
        {
          "name": "stderr",
          "output_type": "stream",
          "text": [
            "/usr/local/lib/python3.7/dist-packages/sklearn/linear_model/_logistic.py:940: ConvergenceWarning:\n",
            "\n",
            "lbfgs failed to converge (status=1):\n",
            "STOP: TOTAL NO. of ITERATIONS REACHED LIMIT.\n",
            "\n",
            "Increase the number of iterations (max_iter) or scale the data as shown in:\n",
            "    https://scikit-learn.org/stable/modules/preprocessing.html\n",
            "Please also refer to the documentation for alternative solver options:\n",
            "    https://scikit-learn.org/stable/modules/linear_model.html#logistic-regression\n",
            "\n",
            "/usr/local/lib/python3.7/dist-packages/sklearn/linear_model/_logistic.py:940: ConvergenceWarning:\n",
            "\n",
            "lbfgs failed to converge (status=1):\n",
            "STOP: TOTAL NO. of ITERATIONS REACHED LIMIT.\n",
            "\n",
            "Increase the number of iterations (max_iter) or scale the data as shown in:\n",
            "    https://scikit-learn.org/stable/modules/preprocessing.html\n",
            "Please also refer to the documentation for alternative solver options:\n",
            "    https://scikit-learn.org/stable/modules/linear_model.html#logistic-regression\n",
            "\n",
            "/usr/local/lib/python3.7/dist-packages/sklearn/linear_model/_logistic.py:940: ConvergenceWarning:\n",
            "\n",
            "lbfgs failed to converge (status=1):\n",
            "STOP: TOTAL NO. of ITERATIONS REACHED LIMIT.\n",
            "\n",
            "Increase the number of iterations (max_iter) or scale the data as shown in:\n",
            "    https://scikit-learn.org/stable/modules/preprocessing.html\n",
            "Please also refer to the documentation for alternative solver options:\n",
            "    https://scikit-learn.org/stable/modules/linear_model.html#logistic-regression\n",
            "\n"
          ]
        },
        {
          "name": "stdout",
          "output_type": "stream",
          "text": [
            "[CV]  , accuracy=0.685, f1=0.701, precision=0.677, recall=0.727, total=   0.2s\n",
            "[CV]  ................................................................\n",
            "[CV]  , accuracy=0.646, f1=0.655, precision=0.648, recall=0.662, total=   0.2s\n",
            "[CV]  ................................................................\n"
          ]
        },
        {
          "name": "stderr",
          "output_type": "stream",
          "text": [
            "/usr/local/lib/python3.7/dist-packages/sklearn/linear_model/_logistic.py:940: ConvergenceWarning:\n",
            "\n",
            "lbfgs failed to converge (status=1):\n",
            "STOP: TOTAL NO. of ITERATIONS REACHED LIMIT.\n",
            "\n",
            "Increase the number of iterations (max_iter) or scale the data as shown in:\n",
            "    https://scikit-learn.org/stable/modules/preprocessing.html\n",
            "Please also refer to the documentation for alternative solver options:\n",
            "    https://scikit-learn.org/stable/modules/linear_model.html#logistic-regression\n",
            "\n",
            "/usr/local/lib/python3.7/dist-packages/sklearn/linear_model/_logistic.py:940: ConvergenceWarning:\n",
            "\n",
            "lbfgs failed to converge (status=1):\n",
            "STOP: TOTAL NO. of ITERATIONS REACHED LIMIT.\n",
            "\n",
            "Increase the number of iterations (max_iter) or scale the data as shown in:\n",
            "    https://scikit-learn.org/stable/modules/preprocessing.html\n",
            "Please also refer to the documentation for alternative solver options:\n",
            "    https://scikit-learn.org/stable/modules/linear_model.html#logistic-regression\n",
            "\n"
          ]
        },
        {
          "name": "stdout",
          "output_type": "stream",
          "text": [
            "[CV]  , accuracy=0.629, f1=0.650, precision=0.624, recall=0.678, total=   0.2s\n",
            "[CV]  ................................................................\n",
            "[CV]  , accuracy=0.647, f1=0.670, precision=0.638, recall=0.704, total=   0.2s\n",
            "[CV]  ................................................................\n"
          ]
        },
        {
          "name": "stderr",
          "output_type": "stream",
          "text": [
            "/usr/local/lib/python3.7/dist-packages/sklearn/linear_model/_logistic.py:940: ConvergenceWarning:\n",
            "\n",
            "lbfgs failed to converge (status=1):\n",
            "STOP: TOTAL NO. of ITERATIONS REACHED LIMIT.\n",
            "\n",
            "Increase the number of iterations (max_iter) or scale the data as shown in:\n",
            "    https://scikit-learn.org/stable/modules/preprocessing.html\n",
            "Please also refer to the documentation for alternative solver options:\n",
            "    https://scikit-learn.org/stable/modules/linear_model.html#logistic-regression\n",
            "\n",
            "/usr/local/lib/python3.7/dist-packages/sklearn/linear_model/_logistic.py:940: ConvergenceWarning:\n",
            "\n",
            "lbfgs failed to converge (status=1):\n",
            "STOP: TOTAL NO. of ITERATIONS REACHED LIMIT.\n",
            "\n",
            "Increase the number of iterations (max_iter) or scale the data as shown in:\n",
            "    https://scikit-learn.org/stable/modules/preprocessing.html\n",
            "Please also refer to the documentation for alternative solver options:\n",
            "    https://scikit-learn.org/stable/modules/linear_model.html#logistic-regression\n",
            "\n"
          ]
        },
        {
          "name": "stdout",
          "output_type": "stream",
          "text": [
            "[CV]  , accuracy=0.660, f1=0.673, precision=0.658, recall=0.688, total=   0.2s\n",
            "[CV]  ................................................................\n",
            "[CV]  , accuracy=0.616, f1=0.632, precision=0.616, recall=0.650, total=   0.2s\n",
            "[CV]  ................................................................\n"
          ]
        },
        {
          "name": "stderr",
          "output_type": "stream",
          "text": [
            "/usr/local/lib/python3.7/dist-packages/sklearn/linear_model/_logistic.py:940: ConvergenceWarning:\n",
            "\n",
            "lbfgs failed to converge (status=1):\n",
            "STOP: TOTAL NO. of ITERATIONS REACHED LIMIT.\n",
            "\n",
            "Increase the number of iterations (max_iter) or scale the data as shown in:\n",
            "    https://scikit-learn.org/stable/modules/preprocessing.html\n",
            "Please also refer to the documentation for alternative solver options:\n",
            "    https://scikit-learn.org/stable/modules/linear_model.html#logistic-regression\n",
            "\n",
            "/usr/local/lib/python3.7/dist-packages/sklearn/linear_model/_logistic.py:940: ConvergenceWarning:\n",
            "\n",
            "lbfgs failed to converge (status=1):\n",
            "STOP: TOTAL NO. of ITERATIONS REACHED LIMIT.\n",
            "\n",
            "Increase the number of iterations (max_iter) or scale the data as shown in:\n",
            "    https://scikit-learn.org/stable/modules/preprocessing.html\n",
            "Please also refer to the documentation for alternative solver options:\n",
            "    https://scikit-learn.org/stable/modules/linear_model.html#logistic-regression\n",
            "\n"
          ]
        },
        {
          "name": "stdout",
          "output_type": "stream",
          "text": [
            "[CV]  , accuracy=0.660, f1=0.683, precision=0.647, recall=0.723, total=   0.2s\n",
            "[CV]  ................................................................\n",
            "[CV]  , accuracy=0.647, f1=0.656, precision=0.648, recall=0.665, total=   0.2s\n",
            "[CV]  ................................................................\n"
          ]
        },
        {
          "name": "stderr",
          "output_type": "stream",
          "text": [
            "/usr/local/lib/python3.7/dist-packages/sklearn/linear_model/_logistic.py:940: ConvergenceWarning:\n",
            "\n",
            "lbfgs failed to converge (status=1):\n",
            "STOP: TOTAL NO. of ITERATIONS REACHED LIMIT.\n",
            "\n",
            "Increase the number of iterations (max_iter) or scale the data as shown in:\n",
            "    https://scikit-learn.org/stable/modules/preprocessing.html\n",
            "Please also refer to the documentation for alternative solver options:\n",
            "    https://scikit-learn.org/stable/modules/linear_model.html#logistic-regression\n",
            "\n",
            "/usr/local/lib/python3.7/dist-packages/sklearn/linear_model/_logistic.py:940: ConvergenceWarning:\n",
            "\n",
            "lbfgs failed to converge (status=1):\n",
            "STOP: TOTAL NO. of ITERATIONS REACHED LIMIT.\n",
            "\n",
            "Increase the number of iterations (max_iter) or scale the data as shown in:\n",
            "    https://scikit-learn.org/stable/modules/preprocessing.html\n",
            "Please also refer to the documentation for alternative solver options:\n",
            "    https://scikit-learn.org/stable/modules/linear_model.html#logistic-regression\n",
            "\n"
          ]
        },
        {
          "name": "stdout",
          "output_type": "stream",
          "text": [
            "[CV]  , accuracy=0.638, f1=0.648, precision=0.639, recall=0.656, total=   0.2s\n",
            "[CV]  ................................................................\n",
            "[CV]  , accuracy=0.654, f1=0.678, precision=0.643, recall=0.717, total=   0.2s\n",
            "[CV]  ................................................................\n"
          ]
        },
        {
          "name": "stderr",
          "output_type": "stream",
          "text": [
            "/usr/local/lib/python3.7/dist-packages/sklearn/linear_model/_logistic.py:940: ConvergenceWarning:\n",
            "\n",
            "lbfgs failed to converge (status=1):\n",
            "STOP: TOTAL NO. of ITERATIONS REACHED LIMIT.\n",
            "\n",
            "Increase the number of iterations (max_iter) or scale the data as shown in:\n",
            "    https://scikit-learn.org/stable/modules/preprocessing.html\n",
            "Please also refer to the documentation for alternative solver options:\n",
            "    https://scikit-learn.org/stable/modules/linear_model.html#logistic-regression\n",
            "\n",
            "/usr/local/lib/python3.7/dist-packages/sklearn/linear_model/_logistic.py:940: ConvergenceWarning:\n",
            "\n",
            "lbfgs failed to converge (status=1):\n",
            "STOP: TOTAL NO. of ITERATIONS REACHED LIMIT.\n",
            "\n",
            "Increase the number of iterations (max_iter) or scale the data as shown in:\n",
            "    https://scikit-learn.org/stable/modules/preprocessing.html\n",
            "Please also refer to the documentation for alternative solver options:\n",
            "    https://scikit-learn.org/stable/modules/linear_model.html#logistic-regression\n",
            "\n"
          ]
        },
        {
          "name": "stdout",
          "output_type": "stream",
          "text": [
            "[CV]  , accuracy=0.670, f1=0.680, precision=0.670, recall=0.691, total=   0.2s\n",
            "[CV]  ................................................................\n",
            "[CV]  , accuracy=0.670, f1=0.684, precision=0.666, recall=0.704, total=   0.2s\n",
            "[CV]  ................................................................\n"
          ]
        },
        {
          "name": "stderr",
          "output_type": "stream",
          "text": [
            "/usr/local/lib/python3.7/dist-packages/sklearn/linear_model/_logistic.py:940: ConvergenceWarning:\n",
            "\n",
            "lbfgs failed to converge (status=1):\n",
            "STOP: TOTAL NO. of ITERATIONS REACHED LIMIT.\n",
            "\n",
            "Increase the number of iterations (max_iter) or scale the data as shown in:\n",
            "    https://scikit-learn.org/stable/modules/preprocessing.html\n",
            "Please also refer to the documentation for alternative solver options:\n",
            "    https://scikit-learn.org/stable/modules/linear_model.html#logistic-regression\n",
            "\n",
            "/usr/local/lib/python3.7/dist-packages/sklearn/linear_model/_logistic.py:940: ConvergenceWarning:\n",
            "\n",
            "lbfgs failed to converge (status=1):\n",
            "STOP: TOTAL NO. of ITERATIONS REACHED LIMIT.\n",
            "\n",
            "Increase the number of iterations (max_iter) or scale the data as shown in:\n",
            "    https://scikit-learn.org/stable/modules/preprocessing.html\n",
            "Please also refer to the documentation for alternative solver options:\n",
            "    https://scikit-learn.org/stable/modules/linear_model.html#logistic-regression\n",
            "\n"
          ]
        },
        {
          "name": "stdout",
          "output_type": "stream",
          "text": [
            "[CV]  , accuracy=0.654, f1=0.675, precision=0.645, recall=0.707, total=   0.2s\n",
            "[CV]  ................................................................\n",
            "[CV]  , accuracy=0.637, f1=0.666, precision=0.626, recall=0.711, total=   0.2s\n",
            "[CV]  ................................................................\n"
          ]
        },
        {
          "name": "stderr",
          "output_type": "stream",
          "text": [
            "/usr/local/lib/python3.7/dist-packages/sklearn/linear_model/_logistic.py:940: ConvergenceWarning:\n",
            "\n",
            "lbfgs failed to converge (status=1):\n",
            "STOP: TOTAL NO. of ITERATIONS REACHED LIMIT.\n",
            "\n",
            "Increase the number of iterations (max_iter) or scale the data as shown in:\n",
            "    https://scikit-learn.org/stable/modules/preprocessing.html\n",
            "Please also refer to the documentation for alternative solver options:\n",
            "    https://scikit-learn.org/stable/modules/linear_model.html#logistic-regression\n",
            "\n",
            "/usr/local/lib/python3.7/dist-packages/sklearn/linear_model/_logistic.py:940: ConvergenceWarning:\n",
            "\n",
            "lbfgs failed to converge (status=1):\n",
            "STOP: TOTAL NO. of ITERATIONS REACHED LIMIT.\n",
            "\n",
            "Increase the number of iterations (max_iter) or scale the data as shown in:\n",
            "    https://scikit-learn.org/stable/modules/preprocessing.html\n",
            "Please also refer to the documentation for alternative solver options:\n",
            "    https://scikit-learn.org/stable/modules/linear_model.html#logistic-regression\n",
            "\n"
          ]
        },
        {
          "name": "stdout",
          "output_type": "stream",
          "text": [
            "[CV]  , accuracy=0.639, f1=0.656, precision=0.636, recall=0.678, total=   0.2s\n",
            "[CV]  ................................................................\n",
            "[CV]  , accuracy=0.641, f1=0.656, precision=0.638, recall=0.675, total=   0.2s\n",
            "[CV]  ................................................................\n"
          ]
        },
        {
          "name": "stderr",
          "output_type": "stream",
          "text": [
            "/usr/local/lib/python3.7/dist-packages/sklearn/linear_model/_logistic.py:940: ConvergenceWarning:\n",
            "\n",
            "lbfgs failed to converge (status=1):\n",
            "STOP: TOTAL NO. of ITERATIONS REACHED LIMIT.\n",
            "\n",
            "Increase the number of iterations (max_iter) or scale the data as shown in:\n",
            "    https://scikit-learn.org/stable/modules/preprocessing.html\n",
            "Please also refer to the documentation for alternative solver options:\n",
            "    https://scikit-learn.org/stable/modules/linear_model.html#logistic-regression\n",
            "\n",
            "/usr/local/lib/python3.7/dist-packages/sklearn/linear_model/_logistic.py:940: ConvergenceWarning:\n",
            "\n",
            "lbfgs failed to converge (status=1):\n",
            "STOP: TOTAL NO. of ITERATIONS REACHED LIMIT.\n",
            "\n",
            "Increase the number of iterations (max_iter) or scale the data as shown in:\n",
            "    https://scikit-learn.org/stable/modules/preprocessing.html\n",
            "Please also refer to the documentation for alternative solver options:\n",
            "    https://scikit-learn.org/stable/modules/linear_model.html#logistic-regression\n",
            "\n"
          ]
        },
        {
          "name": "stdout",
          "output_type": "stream",
          "text": [
            "[CV]  , accuracy=0.613, f1=0.628, precision=0.612, recall=0.645, total=   0.2s\n",
            "[CV]  ................................................................\n",
            "[CV]  , accuracy=0.658, f1=0.670, precision=0.656, recall=0.684, total=   0.2s\n",
            "[CV]  ................................................................\n"
          ]
        },
        {
          "name": "stderr",
          "output_type": "stream",
          "text": [
            "/usr/local/lib/python3.7/dist-packages/sklearn/linear_model/_logistic.py:940: ConvergenceWarning:\n",
            "\n",
            "lbfgs failed to converge (status=1):\n",
            "STOP: TOTAL NO. of ITERATIONS REACHED LIMIT.\n",
            "\n",
            "Increase the number of iterations (max_iter) or scale the data as shown in:\n",
            "    https://scikit-learn.org/stable/modules/preprocessing.html\n",
            "Please also refer to the documentation for alternative solver options:\n",
            "    https://scikit-learn.org/stable/modules/linear_model.html#logistic-regression\n",
            "\n",
            "/usr/local/lib/python3.7/dist-packages/sklearn/linear_model/_logistic.py:940: ConvergenceWarning:\n",
            "\n",
            "lbfgs failed to converge (status=1):\n",
            "STOP: TOTAL NO. of ITERATIONS REACHED LIMIT.\n",
            "\n",
            "Increase the number of iterations (max_iter) or scale the data as shown in:\n",
            "    https://scikit-learn.org/stable/modules/preprocessing.html\n",
            "Please also refer to the documentation for alternative solver options:\n",
            "    https://scikit-learn.org/stable/modules/linear_model.html#logistic-regression\n",
            "\n"
          ]
        },
        {
          "name": "stdout",
          "output_type": "stream",
          "text": [
            "[CV]  , accuracy=0.654, f1=0.665, precision=0.654, recall=0.675, total=   0.2s\n",
            "[CV]  ................................................................\n",
            "[CV]  , accuracy=0.639, f1=0.657, precision=0.635, recall=0.682, total=   0.2s\n",
            "[CV]  ................................................................\n"
          ]
        },
        {
          "name": "stderr",
          "output_type": "stream",
          "text": [
            "/usr/local/lib/python3.7/dist-packages/sklearn/linear_model/_logistic.py:940: ConvergenceWarning:\n",
            "\n",
            "lbfgs failed to converge (status=1):\n",
            "STOP: TOTAL NO. of ITERATIONS REACHED LIMIT.\n",
            "\n",
            "Increase the number of iterations (max_iter) or scale the data as shown in:\n",
            "    https://scikit-learn.org/stable/modules/preprocessing.html\n",
            "Please also refer to the documentation for alternative solver options:\n",
            "    https://scikit-learn.org/stable/modules/linear_model.html#logistic-regression\n",
            "\n",
            "/usr/local/lib/python3.7/dist-packages/sklearn/linear_model/_logistic.py:940: ConvergenceWarning:\n",
            "\n",
            "lbfgs failed to converge (status=1):\n",
            "STOP: TOTAL NO. of ITERATIONS REACHED LIMIT.\n",
            "\n",
            "Increase the number of iterations (max_iter) or scale the data as shown in:\n",
            "    https://scikit-learn.org/stable/modules/preprocessing.html\n",
            "Please also refer to the documentation for alternative solver options:\n",
            "    https://scikit-learn.org/stable/modules/linear_model.html#logistic-regression\n",
            "\n"
          ]
        },
        {
          "name": "stdout",
          "output_type": "stream",
          "text": [
            "[CV]  , accuracy=0.617, f1=0.635, precision=0.614, recall=0.656, total=   0.2s\n",
            "[CV]  ................................................................\n",
            "[CV]  , accuracy=0.653, f1=0.672, precision=0.645, recall=0.701, total=   0.2s\n",
            "[CV]  ................................................................\n"
          ]
        },
        {
          "name": "stderr",
          "output_type": "stream",
          "text": [
            "/usr/local/lib/python3.7/dist-packages/sklearn/linear_model/_logistic.py:940: ConvergenceWarning:\n",
            "\n",
            "lbfgs failed to converge (status=1):\n",
            "STOP: TOTAL NO. of ITERATIONS REACHED LIMIT.\n",
            "\n",
            "Increase the number of iterations (max_iter) or scale the data as shown in:\n",
            "    https://scikit-learn.org/stable/modules/preprocessing.html\n",
            "Please also refer to the documentation for alternative solver options:\n",
            "    https://scikit-learn.org/stable/modules/linear_model.html#logistic-regression\n",
            "\n",
            "/usr/local/lib/python3.7/dist-packages/sklearn/linear_model/_logistic.py:940: ConvergenceWarning:\n",
            "\n",
            "lbfgs failed to converge (status=1):\n",
            "STOP: TOTAL NO. of ITERATIONS REACHED LIMIT.\n",
            "\n",
            "Increase the number of iterations (max_iter) or scale the data as shown in:\n",
            "    https://scikit-learn.org/stable/modules/preprocessing.html\n",
            "Please also refer to the documentation for alternative solver options:\n",
            "    https://scikit-learn.org/stable/modules/linear_model.html#logistic-regression\n",
            "\n"
          ]
        },
        {
          "name": "stdout",
          "output_type": "stream",
          "text": [
            "[CV]  , accuracy=0.670, f1=0.685, precision=0.665, recall=0.707, total=   0.2s\n",
            "[CV]  ................................................................\n",
            "[CV]  , accuracy=0.624, f1=0.623, precision=0.635, recall=0.611, total=   0.2s\n",
            "[CV]  ................................................................\n",
            "[CV]  , accuracy=0.654, f1=0.677, precision=0.643, recall=0.714, total=   0.2s\n",
            "[CV]  ................................................................\n",
            "[CV]  , accuracy=0.662, f1=0.682, precision=0.653, recall=0.714, total=   0.2s\n",
            "[CV]  ................................................................\n"
          ]
        },
        {
          "name": "stderr",
          "output_type": "stream",
          "text": [
            "/usr/local/lib/python3.7/dist-packages/sklearn/linear_model/_logistic.py:940: ConvergenceWarning:\n",
            "\n",
            "lbfgs failed to converge (status=1):\n",
            "STOP: TOTAL NO. of ITERATIONS REACHED LIMIT.\n",
            "\n",
            "Increase the number of iterations (max_iter) or scale the data as shown in:\n",
            "    https://scikit-learn.org/stable/modules/preprocessing.html\n",
            "Please also refer to the documentation for alternative solver options:\n",
            "    https://scikit-learn.org/stable/modules/linear_model.html#logistic-regression\n",
            "\n",
            "/usr/local/lib/python3.7/dist-packages/sklearn/linear_model/_logistic.py:940: ConvergenceWarning:\n",
            "\n",
            "lbfgs failed to converge (status=1):\n",
            "STOP: TOTAL NO. of ITERATIONS REACHED LIMIT.\n",
            "\n",
            "Increase the number of iterations (max_iter) or scale the data as shown in:\n",
            "    https://scikit-learn.org/stable/modules/preprocessing.html\n",
            "Please also refer to the documentation for alternative solver options:\n",
            "    https://scikit-learn.org/stable/modules/linear_model.html#logistic-regression\n",
            "\n"
          ]
        },
        {
          "name": "stdout",
          "output_type": "stream",
          "text": [
            "[CV]  , accuracy=0.652, f1=0.673, precision=0.642, recall=0.706, total=   0.2s\n",
            "[CV]  ................................................................\n",
            "[CV]  , accuracy=0.642, f1=0.668, precision=0.630, recall=0.710, total=   0.2s\n",
            "[CV]  ................................................................\n"
          ]
        },
        {
          "name": "stderr",
          "output_type": "stream",
          "text": [
            "/usr/local/lib/python3.7/dist-packages/sklearn/linear_model/_logistic.py:940: ConvergenceWarning:\n",
            "\n",
            "lbfgs failed to converge (status=1):\n",
            "STOP: TOTAL NO. of ITERATIONS REACHED LIMIT.\n",
            "\n",
            "Increase the number of iterations (max_iter) or scale the data as shown in:\n",
            "    https://scikit-learn.org/stable/modules/preprocessing.html\n",
            "Please also refer to the documentation for alternative solver options:\n",
            "    https://scikit-learn.org/stable/modules/linear_model.html#logistic-regression\n",
            "\n",
            "/usr/local/lib/python3.7/dist-packages/sklearn/linear_model/_logistic.py:940: ConvergenceWarning:\n",
            "\n",
            "lbfgs failed to converge (status=1):\n",
            "STOP: TOTAL NO. of ITERATIONS REACHED LIMIT.\n",
            "\n",
            "Increase the number of iterations (max_iter) or scale the data as shown in:\n",
            "    https://scikit-learn.org/stable/modules/preprocessing.html\n",
            "Please also refer to the documentation for alternative solver options:\n",
            "    https://scikit-learn.org/stable/modules/linear_model.html#logistic-regression\n",
            "\n"
          ]
        },
        {
          "name": "stdout",
          "output_type": "stream",
          "text": [
            "[CV]  , accuracy=0.635, f1=0.650, precision=0.632, recall=0.669, total=   0.2s\n",
            "[CV]  ................................................................\n",
            "[CV]  , accuracy=0.684, f1=0.700, precision=0.675, recall=0.727, total=   0.2s\n",
            "[CV]  ................................................................\n"
          ]
        },
        {
          "name": "stderr",
          "output_type": "stream",
          "text": [
            "/usr/local/lib/python3.7/dist-packages/sklearn/linear_model/_logistic.py:940: ConvergenceWarning:\n",
            "\n",
            "lbfgs failed to converge (status=1):\n",
            "STOP: TOTAL NO. of ITERATIONS REACHED LIMIT.\n",
            "\n",
            "Increase the number of iterations (max_iter) or scale the data as shown in:\n",
            "    https://scikit-learn.org/stable/modules/preprocessing.html\n",
            "Please also refer to the documentation for alternative solver options:\n",
            "    https://scikit-learn.org/stable/modules/linear_model.html#logistic-regression\n",
            "\n",
            "/usr/local/lib/python3.7/dist-packages/sklearn/linear_model/_logistic.py:940: ConvergenceWarning:\n",
            "\n",
            "lbfgs failed to converge (status=1):\n",
            "STOP: TOTAL NO. of ITERATIONS REACHED LIMIT.\n",
            "\n",
            "Increase the number of iterations (max_iter) or scale the data as shown in:\n",
            "    https://scikit-learn.org/stable/modules/preprocessing.html\n",
            "Please also refer to the documentation for alternative solver options:\n",
            "    https://scikit-learn.org/stable/modules/linear_model.html#logistic-regression\n",
            "\n"
          ]
        },
        {
          "name": "stdout",
          "output_type": "stream",
          "text": [
            "[CV]  , accuracy=0.657, f1=0.665, precision=0.660, recall=0.669, total=   0.2s\n",
            "[CV]  ................................................................\n",
            "[CV]  , accuracy=0.610, f1=0.634, precision=0.605, recall=0.666, total=   0.2s\n",
            "[CV]  ................................................................\n"
          ]
        },
        {
          "name": "stderr",
          "output_type": "stream",
          "text": [
            "/usr/local/lib/python3.7/dist-packages/sklearn/linear_model/_logistic.py:940: ConvergenceWarning:\n",
            "\n",
            "lbfgs failed to converge (status=1):\n",
            "STOP: TOTAL NO. of ITERATIONS REACHED LIMIT.\n",
            "\n",
            "Increase the number of iterations (max_iter) or scale the data as shown in:\n",
            "    https://scikit-learn.org/stable/modules/preprocessing.html\n",
            "Please also refer to the documentation for alternative solver options:\n",
            "    https://scikit-learn.org/stable/modules/linear_model.html#logistic-regression\n",
            "\n",
            "/usr/local/lib/python3.7/dist-packages/sklearn/linear_model/_logistic.py:940: ConvergenceWarning:\n",
            "\n",
            "lbfgs failed to converge (status=1):\n",
            "STOP: TOTAL NO. of ITERATIONS REACHED LIMIT.\n",
            "\n",
            "Increase the number of iterations (max_iter) or scale the data as shown in:\n",
            "    https://scikit-learn.org/stable/modules/preprocessing.html\n",
            "Please also refer to the documentation for alternative solver options:\n",
            "    https://scikit-learn.org/stable/modules/linear_model.html#logistic-regression\n",
            "\n"
          ]
        },
        {
          "name": "stdout",
          "output_type": "stream",
          "text": [
            "[CV]  , accuracy=0.663, f1=0.680, precision=0.658, recall=0.704, total=   0.2s\n",
            "[CV]  ................................................................\n",
            "[CV]  , accuracy=0.665, f1=0.678, precision=0.663, recall=0.695, total=   0.2s\n",
            "[CV]  ................................................................\n"
          ]
        },
        {
          "name": "stderr",
          "output_type": "stream",
          "text": [
            "/usr/local/lib/python3.7/dist-packages/sklearn/linear_model/_logistic.py:940: ConvergenceWarning:\n",
            "\n",
            "lbfgs failed to converge (status=1):\n",
            "STOP: TOTAL NO. of ITERATIONS REACHED LIMIT.\n",
            "\n",
            "Increase the number of iterations (max_iter) or scale the data as shown in:\n",
            "    https://scikit-learn.org/stable/modules/preprocessing.html\n",
            "Please also refer to the documentation for alternative solver options:\n",
            "    https://scikit-learn.org/stable/modules/linear_model.html#logistic-regression\n",
            "\n",
            "/usr/local/lib/python3.7/dist-packages/sklearn/linear_model/_logistic.py:940: ConvergenceWarning:\n",
            "\n",
            "lbfgs failed to converge (status=1):\n",
            "STOP: TOTAL NO. of ITERATIONS REACHED LIMIT.\n",
            "\n",
            "Increase the number of iterations (max_iter) or scale the data as shown in:\n",
            "    https://scikit-learn.org/stable/modules/preprocessing.html\n",
            "Please also refer to the documentation for alternative solver options:\n",
            "    https://scikit-learn.org/stable/modules/linear_model.html#logistic-regression\n",
            "\n"
          ]
        },
        {
          "name": "stdout",
          "output_type": "stream",
          "text": [
            "[CV]  , accuracy=0.627, f1=0.643, precision=0.627, recall=0.659, total=   0.2s\n",
            "[CV]  ................................................................\n",
            "[CV]  , accuracy=0.672, f1=0.682, precision=0.671, recall=0.695, total=   0.2s\n",
            "[CV]  ................................................................\n"
          ]
        },
        {
          "name": "stderr",
          "output_type": "stream",
          "text": [
            "/usr/local/lib/python3.7/dist-packages/sklearn/linear_model/_logistic.py:940: ConvergenceWarning:\n",
            "\n",
            "lbfgs failed to converge (status=1):\n",
            "STOP: TOTAL NO. of ITERATIONS REACHED LIMIT.\n",
            "\n",
            "Increase the number of iterations (max_iter) or scale the data as shown in:\n",
            "    https://scikit-learn.org/stable/modules/preprocessing.html\n",
            "Please also refer to the documentation for alternative solver options:\n",
            "    https://scikit-learn.org/stable/modules/linear_model.html#logistic-regression\n",
            "\n",
            "/usr/local/lib/python3.7/dist-packages/sklearn/linear_model/_logistic.py:940: ConvergenceWarning:\n",
            "\n",
            "lbfgs failed to converge (status=1):\n",
            "STOP: TOTAL NO. of ITERATIONS REACHED LIMIT.\n",
            "\n",
            "Increase the number of iterations (max_iter) or scale the data as shown in:\n",
            "    https://scikit-learn.org/stable/modules/preprocessing.html\n",
            "Please also refer to the documentation for alternative solver options:\n",
            "    https://scikit-learn.org/stable/modules/linear_model.html#logistic-regression\n",
            "\n"
          ]
        },
        {
          "name": "stdout",
          "output_type": "stream",
          "text": [
            "[CV]  , accuracy=0.627, f1=0.648, precision=0.621, recall=0.677, total=   0.2s\n",
            "[CV]  ................................................................\n",
            "[CV]  , accuracy=0.645, f1=0.667, precision=0.636, recall=0.700, total=   0.2s\n",
            "[CV]  ................................................................\n"
          ]
        },
        {
          "name": "stderr",
          "output_type": "stream",
          "text": [
            "/usr/local/lib/python3.7/dist-packages/sklearn/linear_model/_logistic.py:940: ConvergenceWarning:\n",
            "\n",
            "lbfgs failed to converge (status=1):\n",
            "STOP: TOTAL NO. of ITERATIONS REACHED LIMIT.\n",
            "\n",
            "Increase the number of iterations (max_iter) or scale the data as shown in:\n",
            "    https://scikit-learn.org/stable/modules/preprocessing.html\n",
            "Please also refer to the documentation for alternative solver options:\n",
            "    https://scikit-learn.org/stable/modules/linear_model.html#logistic-regression\n",
            "\n",
            "/usr/local/lib/python3.7/dist-packages/sklearn/linear_model/_logistic.py:940: ConvergenceWarning:\n",
            "\n",
            "lbfgs failed to converge (status=1):\n",
            "STOP: TOTAL NO. of ITERATIONS REACHED LIMIT.\n",
            "\n",
            "Increase the number of iterations (max_iter) or scale the data as shown in:\n",
            "    https://scikit-learn.org/stable/modules/preprocessing.html\n",
            "Please also refer to the documentation for alternative solver options:\n",
            "    https://scikit-learn.org/stable/modules/linear_model.html#logistic-regression\n",
            "\n",
            "/usr/local/lib/python3.7/dist-packages/sklearn/linear_model/_logistic.py:940: ConvergenceWarning:\n",
            "\n",
            "lbfgs failed to converge (status=1):\n",
            "STOP: TOTAL NO. of ITERATIONS REACHED LIMIT.\n",
            "\n",
            "Increase the number of iterations (max_iter) or scale the data as shown in:\n",
            "    https://scikit-learn.org/stable/modules/preprocessing.html\n",
            "Please also refer to the documentation for alternative solver options:\n",
            "    https://scikit-learn.org/stable/modules/linear_model.html#logistic-regression\n",
            "\n"
          ]
        },
        {
          "name": "stdout",
          "output_type": "stream",
          "text": [
            "[CV]  , accuracy=0.680, f1=0.696, precision=0.673, recall=0.720, total=   0.2s\n",
            "[CV]  ................................................................\n",
            "[CV]  , accuracy=0.610, f1=0.621, precision=0.613, recall=0.630, total=   0.2s\n",
            "[CV]  ................................................................\n"
          ]
        },
        {
          "name": "stderr",
          "output_type": "stream",
          "text": [
            "/usr/local/lib/python3.7/dist-packages/sklearn/linear_model/_logistic.py:940: ConvergenceWarning:\n",
            "\n",
            "lbfgs failed to converge (status=1):\n",
            "STOP: TOTAL NO. of ITERATIONS REACHED LIMIT.\n",
            "\n",
            "Increase the number of iterations (max_iter) or scale the data as shown in:\n",
            "    https://scikit-learn.org/stable/modules/preprocessing.html\n",
            "Please also refer to the documentation for alternative solver options:\n",
            "    https://scikit-learn.org/stable/modules/linear_model.html#logistic-regression\n",
            "\n",
            "/usr/local/lib/python3.7/dist-packages/sklearn/linear_model/_logistic.py:940: ConvergenceWarning:\n",
            "\n",
            "lbfgs failed to converge (status=1):\n",
            "STOP: TOTAL NO. of ITERATIONS REACHED LIMIT.\n",
            "\n",
            "Increase the number of iterations (max_iter) or scale the data as shown in:\n",
            "    https://scikit-learn.org/stable/modules/preprocessing.html\n",
            "Please also refer to the documentation for alternative solver options:\n",
            "    https://scikit-learn.org/stable/modules/linear_model.html#logistic-regression\n",
            "\n"
          ]
        },
        {
          "name": "stdout",
          "output_type": "stream",
          "text": [
            "[CV]  , accuracy=0.635, f1=0.648, precision=0.634, recall=0.662, total=   0.2s\n",
            "[CV]  ................................................................\n",
            "[CV]  , accuracy=0.628, f1=0.660, precision=0.616, recall=0.711, total=   0.2s\n",
            "[CV]  ................................................................\n"
          ]
        },
        {
          "name": "stderr",
          "output_type": "stream",
          "text": [
            "/usr/local/lib/python3.7/dist-packages/sklearn/linear_model/_logistic.py:940: ConvergenceWarning:\n",
            "\n",
            "lbfgs failed to converge (status=1):\n",
            "STOP: TOTAL NO. of ITERATIONS REACHED LIMIT.\n",
            "\n",
            "Increase the number of iterations (max_iter) or scale the data as shown in:\n",
            "    https://scikit-learn.org/stable/modules/preprocessing.html\n",
            "Please also refer to the documentation for alternative solver options:\n",
            "    https://scikit-learn.org/stable/modules/linear_model.html#logistic-regression\n",
            "\n",
            "/usr/local/lib/python3.7/dist-packages/sklearn/linear_model/_logistic.py:940: ConvergenceWarning:\n",
            "\n",
            "lbfgs failed to converge (status=1):\n",
            "STOP: TOTAL NO. of ITERATIONS REACHED LIMIT.\n",
            "\n",
            "Increase the number of iterations (max_iter) or scale the data as shown in:\n",
            "    https://scikit-learn.org/stable/modules/preprocessing.html\n",
            "Please also refer to the documentation for alternative solver options:\n",
            "    https://scikit-learn.org/stable/modules/linear_model.html#logistic-regression\n",
            "\n"
          ]
        },
        {
          "name": "stdout",
          "output_type": "stream",
          "text": [
            "[CV]  , accuracy=0.627, f1=0.642, precision=0.628, recall=0.656, total=   0.2s\n",
            "[CV]  ................................................................\n",
            "[CV]  , accuracy=0.672, f1=0.681, precision=0.672, recall=0.691, total=   0.2s\n",
            "[CV]  ................................................................\n"
          ]
        },
        {
          "name": "stderr",
          "output_type": "stream",
          "text": [
            "/usr/local/lib/python3.7/dist-packages/sklearn/linear_model/_logistic.py:940: ConvergenceWarning:\n",
            "\n",
            "lbfgs failed to converge (status=1):\n",
            "STOP: TOTAL NO. of ITERATIONS REACHED LIMIT.\n",
            "\n",
            "Increase the number of iterations (max_iter) or scale the data as shown in:\n",
            "    https://scikit-learn.org/stable/modules/preprocessing.html\n",
            "Please also refer to the documentation for alternative solver options:\n",
            "    https://scikit-learn.org/stable/modules/linear_model.html#logistic-regression\n",
            "\n",
            "/usr/local/lib/python3.7/dist-packages/sklearn/linear_model/_logistic.py:940: ConvergenceWarning:\n",
            "\n",
            "lbfgs failed to converge (status=1):\n",
            "STOP: TOTAL NO. of ITERATIONS REACHED LIMIT.\n",
            "\n",
            "Increase the number of iterations (max_iter) or scale the data as shown in:\n",
            "    https://scikit-learn.org/stable/modules/preprocessing.html\n",
            "Please also refer to the documentation for alternative solver options:\n",
            "    https://scikit-learn.org/stable/modules/linear_model.html#logistic-regression\n",
            "\n"
          ]
        },
        {
          "name": "stdout",
          "output_type": "stream",
          "text": [
            "[CV]  , accuracy=0.650, f1=0.657, precision=0.655, recall=0.659, total=   0.2s\n",
            "[CV]  ................................................................\n",
            "[CV]  , accuracy=0.665, f1=0.682, precision=0.659, recall=0.707, total=   0.2s\n",
            "[CV]  ................................................................\n"
          ]
        },
        {
          "name": "stderr",
          "output_type": "stream",
          "text": [
            "/usr/local/lib/python3.7/dist-packages/sklearn/linear_model/_logistic.py:940: ConvergenceWarning:\n",
            "\n",
            "lbfgs failed to converge (status=1):\n",
            "STOP: TOTAL NO. of ITERATIONS REACHED LIMIT.\n",
            "\n",
            "Increase the number of iterations (max_iter) or scale the data as shown in:\n",
            "    https://scikit-learn.org/stable/modules/preprocessing.html\n",
            "Please also refer to the documentation for alternative solver options:\n",
            "    https://scikit-learn.org/stable/modules/linear_model.html#logistic-regression\n",
            "\n",
            "/usr/local/lib/python3.7/dist-packages/sklearn/linear_model/_logistic.py:940: ConvergenceWarning:\n",
            "\n",
            "lbfgs failed to converge (status=1):\n",
            "STOP: TOTAL NO. of ITERATIONS REACHED LIMIT.\n",
            "\n",
            "Increase the number of iterations (max_iter) or scale the data as shown in:\n",
            "    https://scikit-learn.org/stable/modules/preprocessing.html\n",
            "Please also refer to the documentation for alternative solver options:\n",
            "    https://scikit-learn.org/stable/modules/linear_model.html#logistic-regression\n",
            "\n"
          ]
        },
        {
          "name": "stdout",
          "output_type": "stream",
          "text": [
            "[CV]  , accuracy=0.663, f1=0.677, precision=0.659, recall=0.697, total=   0.2s\n",
            "[CV]  ................................................................\n",
            "[CV]  , accuracy=0.673, f1=0.698, precision=0.656, recall=0.745, total=   0.2s\n",
            "[CV]  ................................................................\n"
          ]
        },
        {
          "name": "stderr",
          "output_type": "stream",
          "text": [
            "/usr/local/lib/python3.7/dist-packages/sklearn/linear_model/_logistic.py:940: ConvergenceWarning:\n",
            "\n",
            "lbfgs failed to converge (status=1):\n",
            "STOP: TOTAL NO. of ITERATIONS REACHED LIMIT.\n",
            "\n",
            "Increase the number of iterations (max_iter) or scale the data as shown in:\n",
            "    https://scikit-learn.org/stable/modules/preprocessing.html\n",
            "Please also refer to the documentation for alternative solver options:\n",
            "    https://scikit-learn.org/stable/modules/linear_model.html#logistic-regression\n",
            "\n",
            "/usr/local/lib/python3.7/dist-packages/sklearn/linear_model/_logistic.py:940: ConvergenceWarning:\n",
            "\n",
            "lbfgs failed to converge (status=1):\n",
            "STOP: TOTAL NO. of ITERATIONS REACHED LIMIT.\n",
            "\n",
            "Increase the number of iterations (max_iter) or scale the data as shown in:\n",
            "    https://scikit-learn.org/stable/modules/preprocessing.html\n",
            "Please also refer to the documentation for alternative solver options:\n",
            "    https://scikit-learn.org/stable/modules/linear_model.html#logistic-regression\n",
            "\n"
          ]
        },
        {
          "name": "stdout",
          "output_type": "stream",
          "text": [
            "[CV]  , accuracy=0.643, f1=0.659, precision=0.639, recall=0.682, total=   0.2s\n",
            "[CV]  ................................................................\n",
            "[CV]  , accuracy=0.626, f1=0.638, precision=0.627, recall=0.650, total=   0.2s\n",
            "[CV]  ................................................................\n"
          ]
        },
        {
          "name": "stderr",
          "output_type": "stream",
          "text": [
            "/usr/local/lib/python3.7/dist-packages/sklearn/linear_model/_logistic.py:940: ConvergenceWarning:\n",
            "\n",
            "lbfgs failed to converge (status=1):\n",
            "STOP: TOTAL NO. of ITERATIONS REACHED LIMIT.\n",
            "\n",
            "Increase the number of iterations (max_iter) or scale the data as shown in:\n",
            "    https://scikit-learn.org/stable/modules/preprocessing.html\n",
            "Please also refer to the documentation for alternative solver options:\n",
            "    https://scikit-learn.org/stable/modules/linear_model.html#logistic-regression\n",
            "\n",
            "/usr/local/lib/python3.7/dist-packages/sklearn/linear_model/_logistic.py:940: ConvergenceWarning:\n",
            "\n",
            "lbfgs failed to converge (status=1):\n",
            "STOP: TOTAL NO. of ITERATIONS REACHED LIMIT.\n",
            "\n",
            "Increase the number of iterations (max_iter) or scale the data as shown in:\n",
            "    https://scikit-learn.org/stable/modules/preprocessing.html\n",
            "Please also refer to the documentation for alternative solver options:\n",
            "    https://scikit-learn.org/stable/modules/linear_model.html#logistic-regression\n",
            "\n"
          ]
        },
        {
          "name": "stdout",
          "output_type": "stream",
          "text": [
            "[CV]  , accuracy=0.630, f1=0.650, precision=0.624, recall=0.678, total=   0.2s\n",
            "[CV]  ................................................................\n",
            "[CV]  , accuracy=0.682, f1=0.695, precision=0.677, recall=0.714, total=   0.2s\n",
            "[CV]  ................................................................\n"
          ]
        },
        {
          "name": "stderr",
          "output_type": "stream",
          "text": [
            "/usr/local/lib/python3.7/dist-packages/sklearn/linear_model/_logistic.py:940: ConvergenceWarning:\n",
            "\n",
            "lbfgs failed to converge (status=1):\n",
            "STOP: TOTAL NO. of ITERATIONS REACHED LIMIT.\n",
            "\n",
            "Increase the number of iterations (max_iter) or scale the data as shown in:\n",
            "    https://scikit-learn.org/stable/modules/preprocessing.html\n",
            "Please also refer to the documentation for alternative solver options:\n",
            "    https://scikit-learn.org/stable/modules/linear_model.html#logistic-regression\n",
            "\n",
            "/usr/local/lib/python3.7/dist-packages/sklearn/linear_model/_logistic.py:940: ConvergenceWarning:\n",
            "\n",
            "lbfgs failed to converge (status=1):\n",
            "STOP: TOTAL NO. of ITERATIONS REACHED LIMIT.\n",
            "\n",
            "Increase the number of iterations (max_iter) or scale the data as shown in:\n",
            "    https://scikit-learn.org/stable/modules/preprocessing.html\n",
            "Please also refer to the documentation for alternative solver options:\n",
            "    https://scikit-learn.org/stable/modules/linear_model.html#logistic-regression\n",
            "\n"
          ]
        },
        {
          "name": "stdout",
          "output_type": "stream",
          "text": [
            "[CV]  , accuracy=0.660, f1=0.680, precision=0.652, recall=0.711, total=   0.2s\n",
            "[CV]  ................................................................\n",
            "[CV]  , accuracy=0.626, f1=0.638, precision=0.627, recall=0.650, total=   0.2s\n",
            "[CV]  ................................................................\n"
          ]
        },
        {
          "name": "stderr",
          "output_type": "stream",
          "text": [
            "/usr/local/lib/python3.7/dist-packages/sklearn/linear_model/_logistic.py:940: ConvergenceWarning:\n",
            "\n",
            "lbfgs failed to converge (status=1):\n",
            "STOP: TOTAL NO. of ITERATIONS REACHED LIMIT.\n",
            "\n",
            "Increase the number of iterations (max_iter) or scale the data as shown in:\n",
            "    https://scikit-learn.org/stable/modules/preprocessing.html\n",
            "Please also refer to the documentation for alternative solver options:\n",
            "    https://scikit-learn.org/stable/modules/linear_model.html#logistic-regression\n",
            "\n",
            "/usr/local/lib/python3.7/dist-packages/sklearn/linear_model/_logistic.py:940: ConvergenceWarning:\n",
            "\n",
            "lbfgs failed to converge (status=1):\n",
            "STOP: TOTAL NO. of ITERATIONS REACHED LIMIT.\n",
            "\n",
            "Increase the number of iterations (max_iter) or scale the data as shown in:\n",
            "    https://scikit-learn.org/stable/modules/preprocessing.html\n",
            "Please also refer to the documentation for alternative solver options:\n",
            "    https://scikit-learn.org/stable/modules/linear_model.html#logistic-regression\n",
            "\n"
          ]
        },
        {
          "name": "stdout",
          "output_type": "stream",
          "text": [
            "[CV]  , accuracy=0.678, f1=0.688, precision=0.678, recall=0.698, total=   0.2s\n",
            "[CV]  ................................................................\n",
            "[CV]  , accuracy=0.644, f1=0.659, precision=0.641, recall=0.678, total=   0.2s\n",
            "[CV]  ................................................................\n"
          ]
        },
        {
          "name": "stderr",
          "output_type": "stream",
          "text": [
            "/usr/local/lib/python3.7/dist-packages/sklearn/linear_model/_logistic.py:940: ConvergenceWarning:\n",
            "\n",
            "lbfgs failed to converge (status=1):\n",
            "STOP: TOTAL NO. of ITERATIONS REACHED LIMIT.\n",
            "\n",
            "Increase the number of iterations (max_iter) or scale the data as shown in:\n",
            "    https://scikit-learn.org/stable/modules/preprocessing.html\n",
            "Please also refer to the documentation for alternative solver options:\n",
            "    https://scikit-learn.org/stable/modules/linear_model.html#logistic-regression\n",
            "\n",
            "/usr/local/lib/python3.7/dist-packages/sklearn/linear_model/_logistic.py:940: ConvergenceWarning:\n",
            "\n",
            "lbfgs failed to converge (status=1):\n",
            "STOP: TOTAL NO. of ITERATIONS REACHED LIMIT.\n",
            "\n",
            "Increase the number of iterations (max_iter) or scale the data as shown in:\n",
            "    https://scikit-learn.org/stable/modules/preprocessing.html\n",
            "Please also refer to the documentation for alternative solver options:\n",
            "    https://scikit-learn.org/stable/modules/linear_model.html#logistic-regression\n",
            "\n"
          ]
        },
        {
          "name": "stdout",
          "output_type": "stream",
          "text": [
            "[CV]  , accuracy=0.654, f1=0.669, precision=0.648, recall=0.690, total=   0.2s\n",
            "[CV]  ................................................................\n",
            "[CV]  , accuracy=0.650, f1=0.673, precision=0.640, recall=0.710, total=   0.2s\n",
            "[CV]  ................................................................\n",
            "[CV]  , accuracy=0.653, f1=0.662, precision=0.653, recall=0.672, total=   0.2s\n",
            "[CV]  ................................................................\n"
          ]
        },
        {
          "name": "stderr",
          "output_type": "stream",
          "text": [
            "/usr/local/lib/python3.7/dist-packages/sklearn/linear_model/_logistic.py:940: ConvergenceWarning:\n",
            "\n",
            "lbfgs failed to converge (status=1):\n",
            "STOP: TOTAL NO. of ITERATIONS REACHED LIMIT.\n",
            "\n",
            "Increase the number of iterations (max_iter) or scale the data as shown in:\n",
            "    https://scikit-learn.org/stable/modules/preprocessing.html\n",
            "Please also refer to the documentation for alternative solver options:\n",
            "    https://scikit-learn.org/stable/modules/linear_model.html#logistic-regression\n",
            "\n",
            "/usr/local/lib/python3.7/dist-packages/sklearn/linear_model/_logistic.py:940: ConvergenceWarning:\n",
            "\n",
            "lbfgs failed to converge (status=1):\n",
            "STOP: TOTAL NO. of ITERATIONS REACHED LIMIT.\n",
            "\n",
            "Increase the number of iterations (max_iter) or scale the data as shown in:\n",
            "    https://scikit-learn.org/stable/modules/preprocessing.html\n",
            "Please also refer to the documentation for alternative solver options:\n",
            "    https://scikit-learn.org/stable/modules/linear_model.html#logistic-regression\n",
            "\n"
          ]
        },
        {
          "name": "stdout",
          "output_type": "stream",
          "text": [
            "[CV]  , accuracy=0.628, f1=0.647, precision=0.624, recall=0.672, total=   0.2s\n",
            "[CV]  ................................................................\n",
            "[CV]  , accuracy=0.639, f1=0.651, precision=0.640, recall=0.662, total=   0.2s\n",
            "[CV]  ................................................................\n"
          ]
        },
        {
          "name": "stderr",
          "output_type": "stream",
          "text": [
            "/usr/local/lib/python3.7/dist-packages/sklearn/linear_model/_logistic.py:940: ConvergenceWarning:\n",
            "\n",
            "lbfgs failed to converge (status=1):\n",
            "STOP: TOTAL NO. of ITERATIONS REACHED LIMIT.\n",
            "\n",
            "Increase the number of iterations (max_iter) or scale the data as shown in:\n",
            "    https://scikit-learn.org/stable/modules/preprocessing.html\n",
            "Please also refer to the documentation for alternative solver options:\n",
            "    https://scikit-learn.org/stable/modules/linear_model.html#logistic-regression\n",
            "\n",
            "/usr/local/lib/python3.7/dist-packages/sklearn/linear_model/_logistic.py:940: ConvergenceWarning:\n",
            "\n",
            "lbfgs failed to converge (status=1):\n",
            "STOP: TOTAL NO. of ITERATIONS REACHED LIMIT.\n",
            "\n",
            "Increase the number of iterations (max_iter) or scale the data as shown in:\n",
            "    https://scikit-learn.org/stable/modules/preprocessing.html\n",
            "Please also refer to the documentation for alternative solver options:\n",
            "    https://scikit-learn.org/stable/modules/linear_model.html#logistic-regression\n",
            "\n"
          ]
        },
        {
          "name": "stdout",
          "output_type": "stream",
          "text": [
            "[CV]  , accuracy=0.661, f1=0.677, precision=0.655, recall=0.701, total=   0.2s\n",
            "[CV]  ................................................................\n",
            "[CV]  , accuracy=0.662, f1=0.692, precision=0.644, recall=0.749, total=   0.2s\n",
            "[CV]  ................................................................\n"
          ]
        },
        {
          "name": "stderr",
          "output_type": "stream",
          "text": [
            "/usr/local/lib/python3.7/dist-packages/sklearn/linear_model/_logistic.py:940: ConvergenceWarning:\n",
            "\n",
            "lbfgs failed to converge (status=1):\n",
            "STOP: TOTAL NO. of ITERATIONS REACHED LIMIT.\n",
            "\n",
            "Increase the number of iterations (max_iter) or scale the data as shown in:\n",
            "    https://scikit-learn.org/stable/modules/preprocessing.html\n",
            "Please also refer to the documentation for alternative solver options:\n",
            "    https://scikit-learn.org/stable/modules/linear_model.html#logistic-regression\n",
            "\n",
            "/usr/local/lib/python3.7/dist-packages/sklearn/linear_model/_logistic.py:940: ConvergenceWarning:\n",
            "\n",
            "lbfgs failed to converge (status=1):\n",
            "STOP: TOTAL NO. of ITERATIONS REACHED LIMIT.\n",
            "\n",
            "Increase the number of iterations (max_iter) or scale the data as shown in:\n",
            "    https://scikit-learn.org/stable/modules/preprocessing.html\n",
            "Please also refer to the documentation for alternative solver options:\n",
            "    https://scikit-learn.org/stable/modules/linear_model.html#logistic-regression\n",
            "\n"
          ]
        },
        {
          "name": "stdout",
          "output_type": "stream",
          "text": [
            "[CV]  , accuracy=0.673, f1=0.691, precision=0.665, recall=0.720, total=   0.2s\n",
            "[CV]  ................................................................\n",
            "[CV]  , accuracy=0.649, f1=0.665, precision=0.645, recall=0.685, total=   0.2s\n",
            "[CV]  ................................................................\n"
          ]
        },
        {
          "name": "stderr",
          "output_type": "stream",
          "text": [
            "/usr/local/lib/python3.7/dist-packages/sklearn/linear_model/_logistic.py:940: ConvergenceWarning:\n",
            "\n",
            "lbfgs failed to converge (status=1):\n",
            "STOP: TOTAL NO. of ITERATIONS REACHED LIMIT.\n",
            "\n",
            "Increase the number of iterations (max_iter) or scale the data as shown in:\n",
            "    https://scikit-learn.org/stable/modules/preprocessing.html\n",
            "Please also refer to the documentation for alternative solver options:\n",
            "    https://scikit-learn.org/stable/modules/linear_model.html#logistic-regression\n",
            "\n",
            "/usr/local/lib/python3.7/dist-packages/sklearn/linear_model/_logistic.py:940: ConvergenceWarning:\n",
            "\n",
            "lbfgs failed to converge (status=1):\n",
            "STOP: TOTAL NO. of ITERATIONS REACHED LIMIT.\n",
            "\n",
            "Increase the number of iterations (max_iter) or scale the data as shown in:\n",
            "    https://scikit-learn.org/stable/modules/preprocessing.html\n",
            "Please also refer to the documentation for alternative solver options:\n",
            "    https://scikit-learn.org/stable/modules/linear_model.html#logistic-regression\n",
            "\n"
          ]
        },
        {
          "name": "stdout",
          "output_type": "stream",
          "text": [
            "[CV]  , accuracy=0.647, f1=0.672, precision=0.637, recall=0.711, total=   0.2s\n",
            "[CV]  ................................................................\n",
            "[CV]  , accuracy=0.658, f1=0.670, precision=0.656, recall=0.684, total=   0.2s\n",
            "[CV]  ................................................................\n"
          ]
        },
        {
          "name": "stderr",
          "output_type": "stream",
          "text": [
            "/usr/local/lib/python3.7/dist-packages/sklearn/linear_model/_logistic.py:940: ConvergenceWarning:\n",
            "\n",
            "lbfgs failed to converge (status=1):\n",
            "STOP: TOTAL NO. of ITERATIONS REACHED LIMIT.\n",
            "\n",
            "Increase the number of iterations (max_iter) or scale the data as shown in:\n",
            "    https://scikit-learn.org/stable/modules/preprocessing.html\n",
            "Please also refer to the documentation for alternative solver options:\n",
            "    https://scikit-learn.org/stable/modules/linear_model.html#logistic-regression\n",
            "\n",
            "/usr/local/lib/python3.7/dist-packages/sklearn/linear_model/_logistic.py:940: ConvergenceWarning:\n",
            "\n",
            "lbfgs failed to converge (status=1):\n",
            "STOP: TOTAL NO. of ITERATIONS REACHED LIMIT.\n",
            "\n",
            "Increase the number of iterations (max_iter) or scale the data as shown in:\n",
            "    https://scikit-learn.org/stable/modules/preprocessing.html\n",
            "Please also refer to the documentation for alternative solver options:\n",
            "    https://scikit-learn.org/stable/modules/linear_model.html#logistic-regression\n",
            "\n"
          ]
        },
        {
          "name": "stdout",
          "output_type": "stream",
          "text": [
            "[CV]  , accuracy=0.629, f1=0.632, precision=0.635, recall=0.629, total=   0.2s\n",
            "[CV]  ................................................................\n",
            "[CV]  , accuracy=0.659, f1=0.684, precision=0.646, recall=0.727, total=   0.2s\n",
            "[CV]  ................................................................\n"
          ]
        },
        {
          "name": "stderr",
          "output_type": "stream",
          "text": [
            "/usr/local/lib/python3.7/dist-packages/sklearn/linear_model/_logistic.py:940: ConvergenceWarning:\n",
            "\n",
            "lbfgs failed to converge (status=1):\n",
            "STOP: TOTAL NO. of ITERATIONS REACHED LIMIT.\n",
            "\n",
            "Increase the number of iterations (max_iter) or scale the data as shown in:\n",
            "    https://scikit-learn.org/stable/modules/preprocessing.html\n",
            "Please also refer to the documentation for alternative solver options:\n",
            "    https://scikit-learn.org/stable/modules/linear_model.html#logistic-regression\n",
            "\n",
            "/usr/local/lib/python3.7/dist-packages/sklearn/linear_model/_logistic.py:940: ConvergenceWarning:\n",
            "\n",
            "lbfgs failed to converge (status=1):\n",
            "STOP: TOTAL NO. of ITERATIONS REACHED LIMIT.\n",
            "\n",
            "Increase the number of iterations (max_iter) or scale the data as shown in:\n",
            "    https://scikit-learn.org/stable/modules/preprocessing.html\n",
            "Please also refer to the documentation for alternative solver options:\n",
            "    https://scikit-learn.org/stable/modules/linear_model.html#logistic-regression\n",
            "\n"
          ]
        },
        {
          "name": "stdout",
          "output_type": "stream",
          "text": [
            "[CV]  , accuracy=0.690, f1=0.703, precision=0.684, recall=0.723, total=   0.2s\n",
            "[CV]  ................................................................\n",
            "[CV]  , accuracy=0.667, f1=0.674, precision=0.670, recall=0.678, total=   0.2s\n",
            "[CV]  ................................................................\n"
          ]
        },
        {
          "name": "stderr",
          "output_type": "stream",
          "text": [
            "/usr/local/lib/python3.7/dist-packages/sklearn/linear_model/_logistic.py:940: ConvergenceWarning:\n",
            "\n",
            "lbfgs failed to converge (status=1):\n",
            "STOP: TOTAL NO. of ITERATIONS REACHED LIMIT.\n",
            "\n",
            "Increase the number of iterations (max_iter) or scale the data as shown in:\n",
            "    https://scikit-learn.org/stable/modules/preprocessing.html\n",
            "Please also refer to the documentation for alternative solver options:\n",
            "    https://scikit-learn.org/stable/modules/linear_model.html#logistic-regression\n",
            "\n",
            "/usr/local/lib/python3.7/dist-packages/sklearn/linear_model/_logistic.py:940: ConvergenceWarning:\n",
            "\n",
            "lbfgs failed to converge (status=1):\n",
            "STOP: TOTAL NO. of ITERATIONS REACHED LIMIT.\n",
            "\n",
            "Increase the number of iterations (max_iter) or scale the data as shown in:\n",
            "    https://scikit-learn.org/stable/modules/preprocessing.html\n",
            "Please also refer to the documentation for alternative solver options:\n",
            "    https://scikit-learn.org/stable/modules/linear_model.html#logistic-regression\n",
            "\n"
          ]
        },
        {
          "name": "stdout",
          "output_type": "stream",
          "text": [
            "[CV]  , accuracy=0.653, f1=0.672, precision=0.645, recall=0.701, total=   0.2s\n",
            "[CV]  ................................................................\n",
            "[CV]  , accuracy=0.624, f1=0.644, precision=0.621, recall=0.669, total=   0.2s\n",
            "[CV]  ................................................................\n"
          ]
        },
        {
          "name": "stderr",
          "output_type": "stream",
          "text": [
            "/usr/local/lib/python3.7/dist-packages/sklearn/linear_model/_logistic.py:940: ConvergenceWarning:\n",
            "\n",
            "lbfgs failed to converge (status=1):\n",
            "STOP: TOTAL NO. of ITERATIONS REACHED LIMIT.\n",
            "\n",
            "Increase the number of iterations (max_iter) or scale the data as shown in:\n",
            "    https://scikit-learn.org/stable/modules/preprocessing.html\n",
            "Please also refer to the documentation for alternative solver options:\n",
            "    https://scikit-learn.org/stable/modules/linear_model.html#logistic-regression\n",
            "\n",
            "/usr/local/lib/python3.7/dist-packages/sklearn/linear_model/_logistic.py:940: ConvergenceWarning:\n",
            "\n",
            "lbfgs failed to converge (status=1):\n",
            "STOP: TOTAL NO. of ITERATIONS REACHED LIMIT.\n",
            "\n",
            "Increase the number of iterations (max_iter) or scale the data as shown in:\n",
            "    https://scikit-learn.org/stable/modules/preprocessing.html\n",
            "Please also refer to the documentation for alternative solver options:\n",
            "    https://scikit-learn.org/stable/modules/linear_model.html#logistic-regression\n",
            "\n"
          ]
        },
        {
          "name": "stdout",
          "output_type": "stream",
          "text": [
            "[CV]  , accuracy=0.609, f1=0.625, precision=0.610, recall=0.640, total=   0.2s\n",
            "[CV]  ................................................................\n",
            "[CV]  , accuracy=0.686, f1=0.698, precision=0.683, recall=0.714, total=   0.2s\n",
            "[CV]  ................................................................\n"
          ]
        },
        {
          "name": "stderr",
          "output_type": "stream",
          "text": [
            "/usr/local/lib/python3.7/dist-packages/sklearn/linear_model/_logistic.py:940: ConvergenceWarning:\n",
            "\n",
            "lbfgs failed to converge (status=1):\n",
            "STOP: TOTAL NO. of ITERATIONS REACHED LIMIT.\n",
            "\n",
            "Increase the number of iterations (max_iter) or scale the data as shown in:\n",
            "    https://scikit-learn.org/stable/modules/preprocessing.html\n",
            "Please also refer to the documentation for alternative solver options:\n",
            "    https://scikit-learn.org/stable/modules/linear_model.html#logistic-regression\n",
            "\n",
            "/usr/local/lib/python3.7/dist-packages/sklearn/linear_model/_logistic.py:940: ConvergenceWarning:\n",
            "\n",
            "lbfgs failed to converge (status=1):\n",
            "STOP: TOTAL NO. of ITERATIONS REACHED LIMIT.\n",
            "\n",
            "Increase the number of iterations (max_iter) or scale the data as shown in:\n",
            "    https://scikit-learn.org/stable/modules/preprocessing.html\n",
            "Please also refer to the documentation for alternative solver options:\n",
            "    https://scikit-learn.org/stable/modules/linear_model.html#logistic-regression\n",
            "\n"
          ]
        },
        {
          "name": "stdout",
          "output_type": "stream",
          "text": [
            "[CV]  , accuracy=0.623, f1=0.637, precision=0.623, recall=0.653, total=   0.2s\n",
            "[CV]  ................................................................\n",
            "[CV]  , accuracy=0.619, f1=0.632, precision=0.619, recall=0.645, total=   0.2s\n",
            "[CV]  ................................................................\n",
            "[CV]  , accuracy=0.652, f1=0.671, precision=0.644, recall=0.700, total=   0.2s\n"
          ]
        },
        {
          "name": "stderr",
          "output_type": "stream",
          "text": [
            "/usr/local/lib/python3.7/dist-packages/sklearn/linear_model/_logistic.py:940: ConvergenceWarning:\n",
            "\n",
            "lbfgs failed to converge (status=1):\n",
            "STOP: TOTAL NO. of ITERATIONS REACHED LIMIT.\n",
            "\n",
            "Increase the number of iterations (max_iter) or scale the data as shown in:\n",
            "    https://scikit-learn.org/stable/modules/preprocessing.html\n",
            "Please also refer to the documentation for alternative solver options:\n",
            "    https://scikit-learn.org/stable/modules/linear_model.html#logistic-regression\n",
            "\n",
            "/usr/local/lib/python3.7/dist-packages/sklearn/linear_model/_logistic.py:940: ConvergenceWarning:\n",
            "\n",
            "lbfgs failed to converge (status=1):\n",
            "STOP: TOTAL NO. of ITERATIONS REACHED LIMIT.\n",
            "\n",
            "Increase the number of iterations (max_iter) or scale the data as shown in:\n",
            "    https://scikit-learn.org/stable/modules/preprocessing.html\n",
            "Please also refer to the documentation for alternative solver options:\n",
            "    https://scikit-learn.org/stable/modules/linear_model.html#logistic-regression\n",
            "\n",
            "[Parallel(n_jobs=1)]: Done 100 out of 100 | elapsed:   18.3s finished\n"
          ]
        }
      ],
      "source": [
        "mol_reg = cross_validate(modelo_reg, XTreino, YTreino, cv = validacao, scoring = ['accuracy', 'recall', 'f1', 'precision'],verbose = 3, n_jobs = -1)\n",
        "\n",
        "acc = mol_reg['test_accuracy'].mean()\n",
        "pre = mol_reg['test_precision'].mean()\n",
        "rec = mol_reg['test_recall'].mean()\n",
        "f1s = mol_reg['test_f1'].mean()\n",
        "\n",
        "j = 'Regressão age'\n",
        "\n",
        "dic3 = {'Acurácia': [acc], 'Precisão' : [pre],  'Recall': [rec], 'F1-Score': [f1s]}\n",
        "aux3 = pd.DataFrame(dic3, index = [j])\n",
        "resultados3 = pd.concat([resultados3, aux3])\n"
      ]
    },
    {
      "cell_type": "markdown",
      "metadata": {
        "id": "RJ9Gm7pR8vCw"
      },
      "source": [
        "KNN Básico"
      ]
    },
    {
      "cell_type": "code",
      "execution_count": null,
      "metadata": {
        "id": "88c44TPS99II"
      },
      "outputs": [],
      "source": [
        "mol_KNN = cross_validate(modelo_KNN, XTreino, YTreino, cv = validacao, scoring = ['accuracy', 'recall', 'f1', 'precision'],verbose = 3, n_jobs = -1)\n",
        "\n",
        "acc = mol_KNN['test_accuracy'].mean()\n",
        "pre = mol_KNN['test_precision'].mean()\n",
        "rec = mol_KNN['test_recall'].mean()\n",
        "f1s = mol_KNN['test_f1'].mean()\n",
        "\n",
        "j = 'KNN age'\n",
        "\n",
        "dic3 = {'Acurácia': [acc], 'Precisão' : [pre],  'Recall': [rec], 'F1-Score': [f1s]}\n",
        "aux3 = pd.DataFrame(dic3, index = [j])\n",
        "resultados3 = pd.concat([resultados3, aux3])"
      ]
    },
    {
      "cell_type": "markdown",
      "metadata": {
        "id": "7F9ZLkfA8zfb"
      },
      "source": [
        "SVM Básico"
      ]
    },
    {
      "cell_type": "code",
      "execution_count": null,
      "metadata": {
        "colab": {
          "base_uri": "https://localhost:8080/",
          "height": 490
        },
        "id": "OTq1zb0t-GK6",
        "outputId": "f4bff074-1e69-4cc1-a71a-202094b557f8"
      },
      "outputs": [
        {
          "name": "stderr",
          "output_type": "stream",
          "text": [
            "[Parallel(n_jobs=-1)]: Using backend LokyBackend with 4 concurrent workers.\n",
            "[Parallel(n_jobs=-1)]: Done   5 tasks      | elapsed:    9.7s\n",
            "[Parallel(n_jobs=-1)]: Done  10 tasks      | elapsed:   14.0s\n",
            "[Parallel(n_jobs=-1)]: Done  17 tasks      | elapsed:   22.4s\n",
            "[Parallel(n_jobs=-1)]: Done  24 tasks      | elapsed:   26.2s\n",
            "[Parallel(n_jobs=-1)]: Done  33 tasks      | elapsed:   37.4s\n",
            "[Parallel(n_jobs=-1)]: Done  42 tasks      | elapsed:   44.8s\n",
            "[Parallel(n_jobs=-1)]: Done  53 tasks      | elapsed:   56.2s\n",
            "[Parallel(n_jobs=-1)]: Done  64 tasks      | elapsed:  1.1min\n",
            "[Parallel(n_jobs=-1)]: Done  77 tasks      | elapsed:  1.3min\n",
            "[Parallel(n_jobs=-1)]: Done  90 tasks      | elapsed:  1.5min\n",
            "[Parallel(n_jobs=-1)]: Done 100 out of 100 | elapsed:  1.6min finished\n"
          ]
        },
        {
          "ename": "NameError",
          "evalue": "name 'resultados3' is not defined",
          "output_type": "error",
          "traceback": [
            "\u001b[1;31m---------------------------------------------------------------------------\u001b[0m",
            "\u001b[1;31mNameError\u001b[0m                                 Traceback (most recent call last)",
            "\u001b[1;32m<ipython-input-71-f3c816cbc856>\u001b[0m in \u001b[0;36m<module>\u001b[1;34m\u001b[0m\n\u001b[0;32m     10\u001b[0m \u001b[0mdic3\u001b[0m \u001b[1;33m=\u001b[0m \u001b[1;33m{\u001b[0m\u001b[1;34m'Acurácia'\u001b[0m\u001b[1;33m:\u001b[0m \u001b[1;33m[\u001b[0m\u001b[0macc\u001b[0m\u001b[1;33m]\u001b[0m\u001b[1;33m,\u001b[0m \u001b[1;34m'Precisão'\u001b[0m \u001b[1;33m:\u001b[0m \u001b[1;33m[\u001b[0m\u001b[0mpre\u001b[0m\u001b[1;33m]\u001b[0m\u001b[1;33m,\u001b[0m  \u001b[1;34m'Recall'\u001b[0m\u001b[1;33m:\u001b[0m \u001b[1;33m[\u001b[0m\u001b[0mrec\u001b[0m\u001b[1;33m]\u001b[0m\u001b[1;33m,\u001b[0m \u001b[1;34m'F1-Score'\u001b[0m\u001b[1;33m:\u001b[0m \u001b[1;33m[\u001b[0m\u001b[0mf1s\u001b[0m\u001b[1;33m]\u001b[0m\u001b[1;33m}\u001b[0m\u001b[1;33m\u001b[0m\u001b[1;33m\u001b[0m\u001b[0m\n\u001b[0;32m     11\u001b[0m \u001b[0maux3\u001b[0m \u001b[1;33m=\u001b[0m \u001b[0mpd\u001b[0m\u001b[1;33m.\u001b[0m\u001b[0mDataFrame\u001b[0m\u001b[1;33m(\u001b[0m\u001b[0mdic3\u001b[0m\u001b[1;33m,\u001b[0m \u001b[0mindex\u001b[0m \u001b[1;33m=\u001b[0m \u001b[1;33m[\u001b[0m\u001b[0mj\u001b[0m\u001b[1;33m]\u001b[0m\u001b[1;33m)\u001b[0m\u001b[1;33m\u001b[0m\u001b[1;33m\u001b[0m\u001b[0m\n\u001b[1;32m---> 12\u001b[1;33m \u001b[0mresultados3\u001b[0m \u001b[1;33m=\u001b[0m \u001b[0mpd\u001b[0m\u001b[1;33m.\u001b[0m\u001b[0mconcat\u001b[0m\u001b[1;33m(\u001b[0m\u001b[1;33m[\u001b[0m\u001b[0mresultados3\u001b[0m\u001b[1;33m,\u001b[0m \u001b[0maux3\u001b[0m\u001b[1;33m]\u001b[0m\u001b[1;33m)\u001b[0m\u001b[1;33m\u001b[0m\u001b[1;33m\u001b[0m\u001b[0m\n\u001b[0m",
            "\u001b[1;31mNameError\u001b[0m: name 'resultados3' is not defined"
          ]
        }
      ],
      "source": [
        "mol_SVM = cross_validate(modelo_SVM, XTreino, YTreino, cv = validacao, scoring = ['accuracy', 'recall', 'f1', 'precision'],verbose = 10, n_jobs = -1)\n",
        "\n",
        "acc = mol_SVM['test_accuracy'].mean()\n",
        "pre = mol_SVM['test_precision'].mean()\n",
        "rec = mol_SVM['test_recall'].mean()\n",
        "f1s = mol_SVM['test_f1'].mean()\n",
        "\n",
        "j = 'SVM RNADON'\n",
        "\n",
        "dic3 = {'Acurácia': [acc], 'Precisão' : [pre],  'Recall': [rec], 'F1-Score': [f1s]}\n",
        "aux3 = pd.DataFrame(dic3, index = [j])\n",
        "resultados3 = pd.concat([resultados3, aux3])"
      ]
    },
    {
      "cell_type": "markdown",
      "metadata": {
        "id": "qLG1z-iA8wnx"
      },
      "source": [
        "MLP Básico"
      ]
    },
    {
      "cell_type": "code",
      "execution_count": null,
      "metadata": {
        "id": "_rrEHMIz8pZ-"
      },
      "outputs": [],
      "source": [
        "mol_MLP = cross_validate(modelo_MLP, XTreino, YTreino, cv = validacao, scoring = ['accuracy', 'recall', 'f1', 'precision'],verbose = 3, n_jobs = -1)\n",
        "\n",
        "acc = mol_MLP['test_accuracy'].mean()\n",
        "pre = mol_MLP['test_precision'].mean()\n",
        "rec = mol_MLP['test_recall'].mean()\n",
        "f1s = mol_MLP['test_f1'].mean()\n",
        "\n",
        "j = 'modelo_MLP age' + str(modelo_MLP.hidden_layer_sizes)\n",
        "\n",
        "dic3 = {'Acurácia': [acc], 'Precisão' : [pre],  'Recall': [rec], 'F1-Score': [f1s]}\n",
        "aux3 = pd.DataFrame(dic3, index = [j])\n",
        "resultados3 = pd.concat([resultados3, aux3])\n",
        "\n",
        "print('\\nTempo de Total:', round(time() - t, 2), 'segundos\\n')"
      ]
    },
    {
      "cell_type": "code",
      "execution_count": null,
      "metadata": {
        "id": "hahZWvbi_BK5"
      },
      "outputs": [],
      "source": [
        "resultados3.sort_values('F1-Score', ascending=False)"
      ]
    },
    {
      "cell_type": "code",
      "execution_count": null,
      "metadata": {
        "id": "fl7b5XHN_AmW"
      },
      "outputs": [],
      "source": [
        ""
      ]
    },
    {
      "cell_type": "markdown",
      "metadata": {
        "id": "yPl6IuPnF1ZZ"
      },
      "source": [
        "#Grid \n",
        "\n",
        "RandonForest"
      ]
    },
    {
      "cell_type": "code",
      "execution_count": null,
      "metadata": {
        "colab": {
          "base_uri": "https://localhost:8080/",
          "height": 490
        },
        "id": "hpf72BJdvzZd",
        "outputId": "daab5974-ab5d-4e3c-9a18-df607ded3630"
      },
      "outputs": [
        {
          "name": "stdout",
          "output_type": "stream",
          "text": [
            "Fitting 20 folds for each of 18 candidates, totalling 360 fits\n"
          ]
        },
        {
          "name": "stderr",
          "output_type": "stream",
          "text": [
            "[Parallel(n_jobs=-1)]: Using backend LokyBackend with 4 concurrent workers.\n",
            "[Parallel(n_jobs=-1)]: Done   5 tasks      | elapsed:    3.6s\n",
            "[Parallel(n_jobs=-1)]: Done  42 tasks      | elapsed:   17.8s\n",
            "[Parallel(n_jobs=-1)]: Done 105 tasks      | elapsed:   43.4s\n",
            "[Parallel(n_jobs=-1)]: Done 192 tasks      | elapsed:  1.4min\n",
            "[Parallel(n_jobs=-1)]: Done 305 tasks      | elapsed:  2.3min\n",
            "[Parallel(n_jobs=-1)]: Done 360 out of 360 | elapsed:  2.6min finished\n"
          ]
        },
        {
          "name": "stdout",
          "output_type": "stream",
          "text": [
            "\\F1-Score: 0.6862\n",
            "Melhores parâmetros: {'max_features': 'auto', 'min_samples_split': 30}\n",
            "\n"
          ]
        }
      ],
      "source": [
        "profundidade = np.arange(2, 17, 2)\n",
        "parametros = {   \n",
        "                 #'max_depth' : profundidade, #profundidade da floresta\n",
        "                 #'n_estimators': [50, 150, 200], # Réplicas boostrap feitas\n",
        "                 #'max_samples' : [50, 150, 200],\n",
        "                 'min_samples_split': [2,5,10,16,20,30],\n",
        "                 'max_features': ['sqrt', 'auto', 'log2'], #minimo de amostras nas folhas\n",
        "                 #'bootstrap': [True, False] #se vai fazer boostrap dos dados\n",
        "                 }\n",
        "\n",
        "modelo = RandomForestClassifier()\n",
        "\n",
        "validacao = RepeatedStratifiedKFold(n_splits = 10, n_repeats = 2)\n",
        "\n",
        "grid_rf = GridSearchCV(modelo, param_grid = parametros,\n",
        "                                  scoring = 'f1', cv = validacao, \n",
        "                                  verbose = 6, n_jobs = -1)\n",
        "\n",
        "t0 = time()\n",
        "grid_rf.fit(XTreino, YTreino) \n",
        "\n",
        "\n",
        "melhor_rf = grid_rf.best_estimator_\n",
        "\n",
        "print('\\F1-Score: {:.4f}'.format(grid_rf.best_score_))\n",
        "#print('\\Precisão: {:.4f}'.format(grid_rf.best_score_))\n",
        "print('Melhores parâmetros: {}\\n'.format(grid_rf.best_params_))\n",
        "\n",
        "#print('Tempo de Total Execução:', round(time() - t0, 2), 'segundos\\n')\n"
      ]
    },
    {
      "cell_type": "code",
      "execution_count": null,
      "metadata": {
        "id": "ey7m2oxzwUzY",
        "outputId": "95c734a7-89b2-4868-f72e-42e6d4e0b641"
      },
      "outputs": [
        {
          "data": {
            "text/plain": [
              "array([0.67898146, 0.68452354, 0.68470809, 0.68367544, 0.68615966,\n",
              "       0.68434736, 0.67972654, 0.68426327, 0.68442569, 0.68498574,\n",
              "       0.68292644, 0.68620348, 0.67676171, 0.67971622, 0.68397399,\n",
              "       0.68412424, 0.68408282, 0.68351545])"
            ]
          },
          "execution_count": 65,
          "metadata": {},
          "output_type": "execute_result"
        }
      ],
      "source": [
        "#grid_rf.best_estimator_#traz o melhor parâmetro encontrado\n",
        "#grid_rf.cv_results_ #Traz todos os resultado alcançados\n",
        "grid_rf.cv_results_['mean_test_score']#traz as médias dos knn(1,3,5,7,...,49)"
      ]
    },
    {
      "cell_type": "code",
      "execution_count": null,
      "metadata": {
        "id": "54HlOb3QY8pI",
        "outputId": "81bc8caa-e0aa-4e08-e0ca-175217b21f6b"
      },
      "outputs": [
        {
          "data": {
            "text/plain": [
              "RandomForestClassifier(min_samples_split=30)"
            ]
          },
          "execution_count": 66,
          "metadata": {},
          "output_type": "execute_result"
        }
      ],
      "source": [
        "melhor_rf"
      ]
    },
    {
      "cell_type": "markdown",
      "metadata": {
        "id": "rbjh6MllFvPe"
      },
      "source": [
        "KNN Grid\n",
        "\n"
      ]
    },
    {
      "cell_type": "code",
      "execution_count": null,
      "metadata": {
        "id": "dSr1xRdH5X4s"
      },
      "outputs": [],
      "source": [
        ""
      ]
    },
    {
      "cell_type": "code",
      "execution_count": null,
      "metadata": {
        "colab": {
          "base_uri": "https://localhost:8080/",
          "height": 453
        },
        "id": "IibWjgPOpyjV",
        "outputId": "0ab97262-acb8-4521-ee5a-2aab5fd39f26"
      },
      "outputs": [
        {
          "name": "stdout",
          "output_type": "stream",
          "text": [
            "Fitting 100 folds for each of 51 candidates, totalling 5100 fits\n"
          ]
        },
        {
          "name": "stderr",
          "output_type": "stream",
          "text": [
            "[Parallel(n_jobs=-1)]: Using backend LokyBackend with 4 concurrent workers.\n",
            "[Parallel(n_jobs=-1)]: Done  33 tasks      | elapsed:    2.3s\n",
            "[Parallel(n_jobs=-1)]: Done 154 tasks      | elapsed:   10.5s\n",
            "[Parallel(n_jobs=-1)]: Done 357 tasks      | elapsed:   25.2s\n",
            "[Parallel(n_jobs=-1)]: Done 640 tasks      | elapsed:   46.5s\n",
            "[Parallel(n_jobs=-1)]: Done 1005 tasks      | elapsed:  1.2min\n",
            "[Parallel(n_jobs=-1)]: Done 1450 tasks      | elapsed:  1.8min\n",
            "[Parallel(n_jobs=-1)]: Done 1977 tasks      | elapsed:  2.6min\n",
            "[Parallel(n_jobs=-1)]: Done 2584 tasks      | elapsed:  3.4min\n",
            "[Parallel(n_jobs=-1)]: Done 3273 tasks      | elapsed:  4.4min\n",
            "[Parallel(n_jobs=-1)]: Done 4042 tasks      | elapsed:  5.5min\n",
            "[Parallel(n_jobs=-1)]: Done 4893 tasks      | elapsed:  6.8min\n"
          ]
        },
        {
          "name": "stdout",
          "output_type": "stream",
          "text": [
            "\\F1-Score: 0.6303\n",
            "Melhores parâmetros: {'n_neighbors': 7}\n",
            "\n"
          ]
        },
        {
          "name": "stderr",
          "output_type": "stream",
          "text": [
            "[Parallel(n_jobs=-1)]: Done 5100 out of 5100 | elapsed:  7.2min finished\n"
          ]
        }
      ],
      "source": [
        "KVizinhos = np.arange(1, 102, 2)\n",
        "parametros_KNN = {'n_neighbors' : KVizinhos}\n",
        "\n",
        "modeloKNN = KNeighborsClassifier()\n",
        "validacao = RepeatedStratifiedKFold(n_splits = 10, n_repeats = 10)\n",
        "\n",
        "grid_KNN = GridSearchCV(modeloKNN, param_grid = parametros_KNN,\n",
        "                                  scoring = 'f1', cv = validacao, \n",
        "                                  verbose = 2, n_jobs = -1)#n_jobs = usa VARIOS CLUSTERS\n",
        "\n",
        "grid_KNN.fit(XTreino, YTreino)\n",
        "melhor_KNN = grid_KNN.best_estimator_\n",
        "\n",
        "print('\\F1-Score: {:.4f}'.format(grid_KNN.best_score_))\n",
        "#print('\\Precisão: {:.4f}'.format(grid_KNN.best_score_))\n",
        "print('Melhores parâmetros: {}\\n'.format(grid_KNN.best_params_))"
      ]
    },
    {
      "cell_type": "code",
      "execution_count": null,
      "metadata": {
        "id": "0wQd2AoD_voD",
        "outputId": "a8d03743-62b3-460d-fcbe-aa014f41edd4"
      },
      "outputs": [
        {
          "data": {
            "text/plain": [
              "array([0.61911462, 0.62901664, 0.62961831, 0.63027338, 0.62747849,\n",
              "       0.6296221 , 0.62932923, 0.63010565, 0.62952017, 0.63018929,\n",
              "       0.6297786 , 0.62939922, 0.62997494, 0.62797837, 0.62444186,\n",
              "       0.62291056, 0.62217711, 0.62076674, 0.6187106 , 0.61768456,\n",
              "       0.61573248, 0.61507258, 0.61465487, 0.61361892, 0.61501181,\n",
              "       0.61474425, 0.61384168, 0.61305761, 0.61158666, 0.60971887,\n",
              "       0.60992234, 0.60809825, 0.60839004, 0.60779504, 0.60943817,\n",
              "       0.60975762, 0.60935215, 0.60733696, 0.60583563, 0.60612181,\n",
              "       0.60546405, 0.60455699, 0.60530893, 0.60504201, 0.60560679,\n",
              "       0.60539149, 0.60521297, 0.60456009, 0.6061104 , 0.60560223,\n",
              "       0.60540536])"
            ]
          },
          "execution_count": 142,
          "metadata": {},
          "output_type": "execute_result"
        }
      ],
      "source": [
        "#grid_KNN.best_estimator_#traz o melhor parâmetro encontrado\n",
        "#grid_KNN.cv_results_ #Traz todos os resultado alcançados\n",
        "grid_KNN.cv_results_['mean_test_score']#traz as médias dos knn(1,3,5,7,...,49)"
      ]
    },
    {
      "cell_type": "code",
      "execution_count": null,
      "metadata": {
        "id": "IH_vMjvl_60L",
        "outputId": "a27b5822-70d6-489d-ec7b-498f13a99ac2"
      },
      "outputs": [
        {
          "data": {
            "text/plain": [
              "KNeighborsClassifier(n_neighbors=7)"
            ]
          },
          "execution_count": 143,
          "metadata": {},
          "output_type": "execute_result"
        }
      ],
      "source": [
        "melhor_KNN"
      ]
    },
    {
      "cell_type": "code",
      "execution_count": null,
      "metadata": {
        "id": "G0gwSU5zgjOm",
        "outputId": "45375f2a-b4d0-4f04-a495-16a5cde13156"
      },
      "outputs": [
        {
          "data": {
            "image/png": "[encoded data removed]",
            "text/plain": [
              "<Figure size 432x288 with 1 Axes>"
            ]
          },
          "metadata": {},
          "output_type": "display_data"
        }
      ],
      "source": [
        "# gráfico de todos as F1 obtidas no GridSearch\n",
        "\n",
        "accs = grid_KNN.cv_results_['mean_test_score']\n",
        "melhor = grid_KNN.best_params_.get('n_neighbors')\n",
        "\n",
        "plt.plot(KVizinhos, accs)\n",
        "plt.axhline(max(accs), color = 'black', linestyle = 'dotted')\n",
        "plt.axvline(melhor, color = 'black', linestyle = 'dotted')\n",
        "plt.show()"
      ]
    },
    {
      "cell_type": "markdown",
      "metadata": {
        "id": "dDR0pPX5ziD_"
      },
      "source": [
        "Regressão Logistica"
      ]
    },
    {
      "cell_type": "code",
      "execution_count": null,
      "metadata": {
        "colab": {
          "base_uri": "https://localhost:8080/",
          "height": 453
        },
        "id": "At0JdUs-Afir",
        "outputId": "3169f273-c58e-4027-ed9a-4b26a7495653"
      },
      "outputs": [
        {
          "name": "stdout",
          "output_type": "stream",
          "text": [
            "Fitting 100 folds for each of 100 candidates, totalling 10000 fits\n"
          ]
        },
        {
          "name": "stderr",
          "output_type": "stream",
          "text": [
            "[Parallel(n_jobs=-1)]: Using backend LokyBackend with 4 concurrent workers.\n",
            "[Parallel(n_jobs=-1)]: Done 280 tasks      | elapsed:    2.7s\n",
            "[Parallel(n_jobs=-1)]: Done 1629 tasks      | elapsed:   23.5s\n",
            "[Parallel(n_jobs=-1)]: Done 2651 tasks      | elapsed:   49.7s\n",
            "[Parallel(n_jobs=-1)]: Done 3985 tasks      | elapsed:  1.7min\n",
            "[Parallel(n_jobs=-1)]: Done 5640 tasks      | elapsed:  2.6min\n",
            "[Parallel(n_jobs=-1)]: Done 7834 tasks      | elapsed:  3.9min\n",
            "[Parallel(n_jobs=-1)]: Done 10000 out of 10000 | elapsed:  5.2min finished\n"
          ]
        },
        {
          "name": "stdout",
          "output_type": "stream",
          "text": [
            "\\F1-Score: 0.6640\n",
            "Melhores parâmetros: {'C': 0.05963623316594643, 'penalty': 'l2'}\n",
            "\n"
          ]
        },
        {
          "name": "stderr",
          "output_type": "stream",
          "text": [
            "C:\\Users\\leand\\anaconda3\\lib\\site-packages\\sklearn\\linear_model\\_logistic.py:762: ConvergenceWarning: lbfgs failed to converge (status=1):\n",
            "STOP: TOTAL NO. of ITERATIONS REACHED LIMIT.\n",
            "\n",
            "Increase the number of iterations (max_iter) or scale the data as shown in:\n",
            "    https://scikit-learn.org/stable/modules/preprocessing.html\n",
            "Please also refer to the documentation for alternative solver options:\n",
            "    https://scikit-learn.org/stable/modules/linear_model.html#logistic-regression\n",
            "  n_iter_i = _check_optimize_result(\n"
          ]
        }
      ],
      "source": [
        "parametros_Reg = {'C': np.logspace(-4, 4, 50),\n",
        "             'penalty':['l1', 'l2']}\n",
        "\n",
        "modeloReg = LogisticRegression(random_state=0)\n",
        "validacao = RepeatedStratifiedKFold(n_splits = 10, n_repeats = 10)\n",
        "\n",
        "grid_Reg = GridSearchCV(modeloReg, param_grid = parametros_Reg,\n",
        "                                  scoring = 'f1', cv = validacao, \n",
        "                                  verbose = 1, n_jobs = -1)#n_jobs = usa VARIOS CLUSTERS\n",
        "\n",
        "grid_Reg.fit(XTreino, YTreino)\n",
        "melhor_Reg = grid_Reg.best_estimator_\n",
        "\n",
        "print('\\F1-Score: {:.4f}'.format(grid_Reg.best_score_))\n",
        "#print('\\Precisão: {:.4f}'.format(grid_Reg.best_score_))\n",
        "print('Melhores parâmetros: {}\\n'.format(grid_Reg.best_params_))"
      ]
    },
    {
      "cell_type": "code",
      "execution_count": null,
      "metadata": {
        "id": "5IGNa3ZSCzir",
        "outputId": "a204e57f-92c5-4402-d986-650adb95060c"
      },
      "outputs": [
        {
          "data": {
            "text/plain": [
              "array([       nan, 0.60643833,        nan, 0.60831554,        nan,\n",
              "       0.61092267,        nan, 0.61769904,        nan, 0.62601349,\n",
              "              nan, 0.63252447,        nan, 0.64157234,        nan,\n",
              "       0.6480171 ,        nan, 0.65413291,        nan, 0.65869747,\n",
              "              nan, 0.66060605,        nan, 0.66240682,        nan,\n",
              "       0.66382525,        nan, 0.66393627,        nan, 0.66347993,\n",
              "              nan, 0.66326201,        nan, 0.66399729,        nan,\n",
              "       0.66400082,        nan, 0.66368598,        nan, 0.66368528,\n",
              "              nan, 0.66365197,        nan, 0.66370055,        nan,\n",
              "       0.66332969,        nan, 0.66374787,        nan, 0.66323249,\n",
              "              nan, 0.66301225,        nan, 0.66291025,        nan,\n",
              "       0.66301532,        nan, 0.6629643 ,        nan, 0.66319767,\n",
              "              nan, 0.66306252,        nan, 0.66301156,        nan,\n",
              "       0.66320404,        nan, 0.66296734,        nan, 0.66290344,\n",
              "              nan, 0.66301833,        nan, 0.6628714 ,        nan,\n",
              "       0.66327643,        nan, 0.66333769,        nan, 0.66281131,\n",
              "              nan, 0.66297526,        nan, 0.66300032,        nan,\n",
              "       0.66344747,        nan, 0.66276707,        nan, 0.66268944,\n",
              "              nan, 0.66286615,        nan, 0.66302758,        nan,\n",
              "       0.66285048,        nan, 0.66328494,        nan, 0.66315435])"
            ]
          },
          "execution_count": 68,
          "metadata": {},
          "output_type": "execute_result"
        }
      ],
      "source": [
        "#grid_Reg.best_estimator_#traz o melhor parâmetro encontrado\n",
        "#grid_Reg.cv_results_ #Traz todos os resultado alcançados\n",
        "grid_Reg.cv_results_['mean_test_score']#traz as médias dos knn(1,3,5,7,...,49)"
      ]
    },
    {
      "cell_type": "code",
      "execution_count": null,
      "metadata": {
        "id": "CH3RLvORAQ8k",
        "outputId": "69f92f08-ebd0-4f65-e279-81d7320a1bf1"
      },
      "outputs": [
        {
          "data": {
            "text/plain": [
              "LogisticRegression(C=0.05963623316594643, random_state=0)"
            ]
          },
          "execution_count": 69,
          "metadata": {},
          "output_type": "execute_result"
        }
      ],
      "source": [
        "melhor_Reg"
      ]
    },
    {
      "cell_type": "markdown",
      "metadata": {
        "id": "-g5nPcSFltJb"
      },
      "source": [
        "Gradient"
      ]
    },
    {
      "cell_type": "code",
      "execution_count": null,
      "metadata": {
        "colab": {
          "base_uri": "https://localhost:8080/",
          "height": 674
        },
        "id": "s-iuR9FtlvLa",
        "outputId": "6999cfdf-0bf6-4f8a-f578-0aff2fc4bb53"
      },
      "outputs": [
        {
          "name": "stdout",
          "output_type": "stream",
          "text": [
            "Fitting 20 folds for each of 297 candidates, totalling 5940 fits\n"
          ]
        },
        {
          "name": "stderr",
          "output_type": "stream",
          "text": [
            "[Parallel(n_jobs=-1)]: Using backend LokyBackend with 4 concurrent workers.\n",
            "[Parallel(n_jobs=-1)]: Done   5 tasks      | elapsed:    5.1s\n",
            "[Parallel(n_jobs=-1)]: Done  10 tasks      | elapsed:    5.5s\n",
            "[Parallel(n_jobs=-1)]: Done  17 tasks      | elapsed:    6.1s\n",
            "[Parallel(n_jobs=-1)]: Done  24 tasks      | elapsed:    7.0s\n",
            "[Parallel(n_jobs=-1)]: Done  33 tasks      | elapsed:    8.3s\n",
            "[Parallel(n_jobs=-1)]: Done  42 tasks      | elapsed:    9.4s\n",
            "[Parallel(n_jobs=-1)]: Done  53 tasks      | elapsed:   11.7s\n",
            "[Parallel(n_jobs=-1)]: Done  64 tasks      | elapsed:   13.7s\n",
            "[Parallel(n_jobs=-1)]: Done  77 tasks      | elapsed:   16.7s\n",
            "[Parallel(n_jobs=-1)]: Done  90 tasks      | elapsed:   19.5s\n",
            "[Parallel(n_jobs=-1)]: Done 105 tasks      | elapsed:   24.0s\n",
            "[Parallel(n_jobs=-1)]: Done 120 tasks      | elapsed:   27.9s\n",
            "[Parallel(n_jobs=-1)]: Done 137 tasks      | elapsed:   33.8s\n",
            "[Parallel(n_jobs=-1)]: Done 154 tasks      | elapsed:   39.3s\n",
            "[Parallel(n_jobs=-1)]: Done 173 tasks      | elapsed:   46.9s\n",
            "[Parallel(n_jobs=-1)]: Done 192 tasks      | elapsed:   50.8s\n",
            "[Parallel(n_jobs=-1)]: Done 213 tasks      | elapsed:   55.4s\n",
            "[Parallel(n_jobs=-1)]: Done 234 tasks      | elapsed:  1.0min\n",
            "[Parallel(n_jobs=-1)]: Done 257 tasks      | elapsed:  1.2min\n",
            "[Parallel(n_jobs=-1)]: Done 280 tasks      | elapsed:  1.3min\n",
            "[Parallel(n_jobs=-1)]: Done 305 tasks      | elapsed:  1.6min\n",
            "[Parallel(n_jobs=-1)]: Done 330 tasks      | elapsed:  1.9min\n",
            "[Parallel(n_jobs=-1)]: Done 357 tasks      | elapsed:  2.3min\n",
            "[Parallel(n_jobs=-1)]: Done 384 tasks      | elapsed:  2.5min\n",
            "[Parallel(n_jobs=-1)]: Done 413 tasks      | elapsed:  2.7min\n",
            "[Parallel(n_jobs=-1)]: Done 442 tasks      | elapsed:  3.1min\n",
            "[Parallel(n_jobs=-1)]: Done 473 tasks      | elapsed:  3.6min\n",
            "[Parallel(n_jobs=-1)]: Done 504 tasks      | elapsed:  4.3min\n",
            "[Parallel(n_jobs=-1)]: Done 537 tasks      | elapsed:  5.1min\n",
            "[Parallel(n_jobs=-1)]: Done 570 tasks      | elapsed:  5.2min\n",
            "[Parallel(n_jobs=-1)]: Done 605 tasks      | elapsed:  5.3min\n",
            "[Parallel(n_jobs=-1)]: Done 640 tasks      | elapsed:  5.4min\n",
            "[Parallel(n_jobs=-1)]: Done 677 tasks      | elapsed:  5.6min\n",
            "[Parallel(n_jobs=-1)]: Done 714 tasks      | elapsed:  5.8min\n",
            "[Parallel(n_jobs=-1)]: Done 753 tasks      | elapsed:  6.0min\n",
            "[Parallel(n_jobs=-1)]: Done 792 tasks      | elapsed:  6.2min\n",
            "[Parallel(n_jobs=-1)]: Done 833 tasks      | elapsed:  6.5min\n",
            "[Parallel(n_jobs=-1)]: Done 874 tasks      | elapsed:  7.0min\n",
            "[Parallel(n_jobs=-1)]: Done 917 tasks      | elapsed:  7.4min\n",
            "[Parallel(n_jobs=-1)]: Done 960 tasks      | elapsed:  7.8min\n",
            "[Parallel(n_jobs=-1)]: Done 1005 tasks      | elapsed:  8.5min\n",
            "[Parallel(n_jobs=-1)]: Done 1050 tasks      | elapsed:  9.5min\n",
            "[Parallel(n_jobs=-1)]: Done 1097 tasks      | elapsed: 10.2min\n",
            "[Parallel(n_jobs=-1)]: Done 1144 tasks      | elapsed: 10.3min\n",
            "[Parallel(n_jobs=-1)]: Done 1193 tasks      | elapsed: 10.5min\n",
            "[Parallel(n_jobs=-1)]: Done 1242 tasks      | elapsed: 10.8min\n",
            "[Parallel(n_jobs=-1)]: Done 1293 tasks      | elapsed: 11.0min\n",
            "[Parallel(n_jobs=-1)]: Done 1344 tasks      | elapsed: 11.3min\n",
            "[Parallel(n_jobs=-1)]: Done 1397 tasks      | elapsed: 11.9min\n",
            "[Parallel(n_jobs=-1)]: Done 1450 tasks      | elapsed: 12.5min\n",
            "[Parallel(n_jobs=-1)]: Done 1505 tasks      | elapsed: 13.1min\n",
            "[Parallel(n_jobs=-1)]: Done 1560 tasks      | elapsed: 14.1min\n",
            "[Parallel(n_jobs=-1)]: Done 1617 tasks      | elapsed: 16.0min\n",
            "[Parallel(n_jobs=-1)]: Done 1674 tasks      | elapsed: 16.3min\n",
            "[Parallel(n_jobs=-1)]: Done 1733 tasks      | elapsed: 16.5min\n",
            "[Parallel(n_jobs=-1)]: Done 1792 tasks      | elapsed: 17.0min\n",
            "[Parallel(n_jobs=-1)]: Done 1853 tasks      | elapsed: 17.3min\n",
            "[Parallel(n_jobs=-1)]: Done 1914 tasks      | elapsed: 17.9min\n",
            "[Parallel(n_jobs=-1)]: Done 1977 tasks      | elapsed: 18.8min\n",
            "[Parallel(n_jobs=-1)]: Done 2040 tasks      | elapsed: 19.4min\n",
            "[Parallel(n_jobs=-1)]: Done 2105 tasks      | elapsed: 20.8min\n",
            "[Parallel(n_jobs=-1)]: Done 2170 tasks      | elapsed: 22.3min\n",
            "[Parallel(n_jobs=-1)]: Done 2237 tasks      | elapsed: 22.5min\n",
            "[Parallel(n_jobs=-1)]: Done 2304 tasks      | elapsed: 22.8min\n",
            "[Parallel(n_jobs=-1)]: Done 2373 tasks      | elapsed: 23.2min\n",
            "[Parallel(n_jobs=-1)]: Done 2442 tasks      | elapsed: 23.7min\n",
            "[Parallel(n_jobs=-1)]: Done 2513 tasks      | elapsed: 24.7min\n",
            "[Parallel(n_jobs=-1)]: Done 2584 tasks      | elapsed: 25.4min\n",
            "[Parallel(n_jobs=-1)]: Done 2657 tasks      | elapsed: 27.1min\n",
            "[Parallel(n_jobs=-1)]: Done 2730 tasks      | elapsed: 28.2min\n",
            "[Parallel(n_jobs=-1)]: Done 2805 tasks      | elapsed: 28.5min\n",
            "[Parallel(n_jobs=-1)]: Done 2880 tasks      | elapsed: 28.9min\n",
            "[Parallel(n_jobs=-1)]: Done 2957 tasks      | elapsed: 29.3min\n",
            "[Parallel(n_jobs=-1)]: Done 3034 tasks      | elapsed: 30.0min\n",
            "[Parallel(n_jobs=-1)]: Done 3113 tasks      | elapsed: 30.8min\n",
            "[Parallel(n_jobs=-1)]: Done 3192 tasks      | elapsed: 32.2min\n",
            "[Parallel(n_jobs=-1)]: Done 3273 tasks      | elapsed: 33.5min\n",
            "[Parallel(n_jobs=-1)]: Done 3354 tasks      | elapsed: 33.7min\n",
            "[Parallel(n_jobs=-1)]: Done 3437 tasks      | elapsed: 34.3min\n",
            "[Parallel(n_jobs=-1)]: Done 3520 tasks      | elapsed: 34.8min\n",
            "[Parallel(n_jobs=-1)]: Done 3605 tasks      | elapsed: 35.7min\n",
            "[Parallel(n_jobs=-1)]: Done 3690 tasks      | elapsed: 36.7min\n",
            "[Parallel(n_jobs=-1)]: Done 3777 tasks      | elapsed: 38.7min\n",
            "[Parallel(n_jobs=-1)]: Done 3864 tasks      | elapsed: 38.9min\n",
            "[Parallel(n_jobs=-1)]: Done 3953 tasks      | elapsed: 39.4min\n",
            "[Parallel(n_jobs=-1)]: Done 4042 tasks      | elapsed: 39.9min\n",
            "[Parallel(n_jobs=-1)]: Done 4133 tasks      | elapsed: 40.9min\n",
            "[Parallel(n_jobs=-1)]: Done 4224 tasks      | elapsed: 41.8min\n",
            "[Parallel(n_jobs=-1)]: Done 4317 tasks      | elapsed: 44.0min\n",
            "[Parallel(n_jobs=-1)]: Done 4410 tasks      | elapsed: 44.2min\n",
            "[Parallel(n_jobs=-1)]: Done 4505 tasks      | elapsed: 44.7min\n",
            "[Parallel(n_jobs=-1)]: Done 4600 tasks      | elapsed: 45.3min\n",
            "[Parallel(n_jobs=-1)]: Done 4697 tasks      | elapsed: 46.3min\n",
            "[Parallel(n_jobs=-1)]: Done 4794 tasks      | elapsed: 47.6min\n",
            "[Parallel(n_jobs=-1)]: Done 4893 tasks      | elapsed: 49.3min\n",
            "[Parallel(n_jobs=-1)]: Done 4992 tasks      | elapsed: 49.6min\n",
            "[Parallel(n_jobs=-1)]: Done 5093 tasks      | elapsed: 50.1min\n",
            "[Parallel(n_jobs=-1)]: Done 5194 tasks      | elapsed: 51.1min\n",
            "[Parallel(n_jobs=-1)]: Done 5297 tasks      | elapsed: 52.2min\n",
            "[Parallel(n_jobs=-1)]: Done 5400 tasks      | elapsed: 54.4min\n",
            "[Parallel(n_jobs=-1)]: Done 5505 tasks      | elapsed: 54.7min\n",
            "[Parallel(n_jobs=-1)]: Done 5610 tasks      | elapsed: 55.2min\n",
            "[Parallel(n_jobs=-1)]: Done 5717 tasks      | elapsed: 56.0min\n",
            "[Parallel(n_jobs=-1)]: Done 5824 tasks      | elapsed: 57.1min\n",
            "[Parallel(n_jobs=-1)]: Done 5933 tasks      | elapsed: 59.4min\n",
            "[Parallel(n_jobs=-1)]: Done 5940 out of 5940 | elapsed: 59.6min finished\n"
          ]
        },
        {
          "name": "stdout",
          "output_type": "stream",
          "text": [
            "\\F1-Score: 0.6956\n",
            "Melhores parâmetros: {'learning_rate': 0.01, 'max_depth': 3, 'n_estimators': 20}\n",
            "\n"
          ]
        }
      ],
      "source": [
        "\n",
        "parametros_Grad = { 'n_estimators' : np.arange(20,101,10), \n",
        "                    'learning_rate' : np.arange(0.01,0.32,0.03),\n",
        "                    'max_depth': np.arange(3,10,3)\n",
        "                 }\n",
        "\n",
        "modeloGrad = GradientBoostingClassifier()\n",
        "validacao = RepeatedStratifiedKFold(n_splits = 10, n_repeats = 2)\n",
        "\n",
        "grid_Grad = GridSearchCV(modeloGrad, param_grid = parametros_Grad,\n",
        "                                  scoring = 'f1', cv = validacao, \n",
        "                                  verbose = 10, n_jobs = -1)#n_jobs = usa VARIOS CLUSTERS\n",
        "\n",
        "grid_Grad.fit(XTreino, YTreino)\n",
        "melhor_Grad = grid_Grad.best_estimator_\n",
        "\n",
        "print('\\F1-Score: {:.4f}'.format(grid_Grad.best_score_))\n",
        "#print('\\Precisão: {:.4f}'.format(grid_MLP.best_score_))\n",
        "print('Melhores parâmetros: {}\\n'.format(grid_Grad.best_params_))\n"
      ]
    },
    {
      "cell_type": "code",
      "execution_count": null,
      "metadata": {
        "id": "yvhc4TKmn7wu",
        "outputId": "dd81fc8e-ea03-4a1b-ff37-388efb344e45"
      },
      "outputs": [
        {
          "data": {
            "text/plain": [
              "array([0.69562427, 0.69562427, 0.69287885, 0.67736126, 0.67072106,\n",
              "       0.68721864, 0.69045011, 0.69041853, 0.68795432, 0.67753093,\n",
              "       0.67248837, 0.6696074 , 0.66917902, 0.66774673, 0.66538719,\n",
              "       0.66548081, 0.66620015, 0.66717867, 0.6557053 , 0.65555283,\n",
              "       0.65616947, 0.65776597, 0.65614075, 0.65735266, 0.65813334,\n",
              "       0.65758534, 0.65827352, 0.68859885, 0.68063693, 0.6789408 ,\n",
              "       0.67890017, 0.67799131, 0.67781771, 0.67978312, 0.68128704,\n",
              "       0.68138856, 0.66591955, 0.67370383, 0.67602923, 0.67672916,\n",
              "       0.67742652, 0.6789115 , 0.68032592, 0.68016041, 0.68166428,\n",
              "       0.65675872, 0.66064984, 0.66420424, 0.66944371, 0.67300354,\n",
              "       0.6739702 , 0.68129634, 0.67536583, 0.68018573, 0.67823273,\n",
              "       0.67982128, 0.68031181, 0.68112177, 0.68283901, 0.68244591,\n",
              "       0.68220843, 0.68337423, 0.68307062, 0.6726861 , 0.67830594,\n",
              "       0.68461668, 0.6817144 , 0.68146247, 0.68313848, 0.6814943 ,\n",
              "       0.68235508, 0.6816957 , 0.65887673, 0.67031478, 0.67380089,\n",
              "       0.67460182, 0.676799  , 0.67517925, 0.67360931, 0.67700526,\n",
              "       0.67899165, 0.68029495, 0.6796206 , 0.68148073, 0.68368726,\n",
              "       0.68398972, 0.68390289, 0.68415002, 0.68335293, 0.68159433,\n",
              "       0.67911929, 0.68251754, 0.68210531, 0.68233447, 0.68083229,\n",
              "       0.6820015 , 0.67858283, 0.6798226 , 0.68046877, 0.66589465,\n",
              "       0.67330438, 0.67456463, 0.6780648 , 0.67529605, 0.6744285 ,\n",
              "       0.67457646, 0.67465873, 0.67737941, 0.67499622, 0.68183876,\n",
              "       0.68163933, 0.68199283, 0.68301447, 0.68361019, 0.68165641,\n",
              "       0.68070458, 0.6807027 , 0.6792832 , 0.67922268, 0.67894374,\n",
              "       0.67826941, 0.679036  , 0.68312123, 0.68162114, 0.68006232,\n",
              "       0.6776919 , 0.6724239 , 0.67085315, 0.67321227, 0.67436674,\n",
              "       0.67455062, 0.67403298, 0.67308048, 0.671337  , 0.67160799,\n",
              "       0.67781789, 0.68013476, 0.68183099, 0.68369192, 0.68323743,\n",
              "       0.681175  , 0.68125776, 0.68103242, 0.67986875, 0.67723452,\n",
              "       0.68032913, 0.68131683, 0.68028982, 0.68177931, 0.68243541,\n",
              "       0.68209984, 0.67723054, 0.6802962 , 0.67128477, 0.67360823,\n",
              "       0.67083406, 0.67328554, 0.67117088, 0.6732864 , 0.67557356,\n",
              "       0.6693509 , 0.66778652, 0.68156948, 0.68154507, 0.68513329,\n",
              "       0.68200725, 0.68179729, 0.68283863, 0.68082679, 0.67940763,\n",
              "       0.68213752, 0.67952155, 0.67885694, 0.67929051, 0.67686668,\n",
              "       0.6813403 , 0.67900745, 0.68016283, 0.67493454, 0.67569556,\n",
              "       0.67484266, 0.67504219, 0.67230968, 0.67433358, 0.67681598,\n",
              "       0.67336281, 0.6724392 , 0.67284202, 0.66915831, 0.67646738,\n",
              "       0.68233936, 0.68165151, 0.68122578, 0.6817728 , 0.68082637,\n",
              "       0.67931751, 0.67809487, 0.67944909, 0.67691948, 0.68049974,\n",
              "       0.6782286 , 0.67834401, 0.67970117, 0.68019569, 0.67735383,\n",
              "       0.67622608, 0.67789845, 0.66971271, 0.67513147, 0.67121238,\n",
              "       0.67123493, 0.66849038, 0.67449218, 0.66826922, 0.66677889,\n",
              "       0.67440707, 0.67973856, 0.68064181, 0.68240152, 0.67994043,\n",
              "       0.681736  , 0.68134574, 0.68149893, 0.68146722, 0.68382197,\n",
              "       0.67616644, 0.68280359, 0.68223641, 0.67820436, 0.67685256,\n",
              "       0.67529232, 0.6733385 , 0.67426624, 0.67265011, 0.67148497,\n",
              "       0.66861755, 0.67168083, 0.66605375, 0.67481243, 0.67064415,\n",
              "       0.66791256, 0.66564806, 0.66781577, 0.68000362, 0.68093142,\n",
              "       0.68017328, 0.67959232, 0.67844983, 0.67889526, 0.67972233,\n",
              "       0.68014992, 0.67958871, 0.67885951, 0.67904435, 0.67821571,\n",
              "       0.67821555, 0.67144409, 0.66806246, 0.67245262, 0.67196056,\n",
              "       0.66905733, 0.66613248, 0.66290011, 0.66919267, 0.67150907,\n",
              "       0.67294823, 0.67706171, 0.66811391, 0.67023738, 0.67537005,\n",
              "       0.68173401, 0.68022228, 0.68084603, 0.67943642, 0.68149928,\n",
              "       0.67859565, 0.68138554, 0.67872871, 0.68070146, 0.67620237,\n",
              "       0.67704401, 0.67696779, 0.67702877, 0.67250919, 0.67276154,\n",
              "       0.67339633, 0.66775123, 0.6707702 , 0.66833485, 0.66670503,\n",
              "       0.67091864, 0.66565406, 0.66540869, 0.66587751, 0.66878754,\n",
              "       0.66610946, 0.66860984])"
            ]
          },
          "execution_count": 153,
          "metadata": {},
          "output_type": "execute_result"
        }
      ],
      "source": [
        "#grid_MLP.best_estimator_#traz o melhor parâmetro encontrado\n",
        "#grid_MLP.cv_results_ #Traz todos os resultado alcançados\n",
        "grid_Grad.cv_results_['mean_test_score']#traz as médias dos knn(1,3,5,7,...,49)"
      ]
    },
    {
      "cell_type": "code",
      "execution_count": null,
      "metadata": {
        "id": "71IeX_bIn8As",
        "outputId": "f75290a3-3570-4f13-da3f-c905b7203941"
      },
      "outputs": [
        {
          "data": {
            "text/plain": [
              "GradientBoostingClassifier(learning_rate=0.01, n_estimators=20)"
            ]
          },
          "execution_count": 154,
          "metadata": {},
          "output_type": "execute_result"
        }
      ],
      "source": [
        "melhor_Grad"
      ]
    },
    {
      "cell_type": "markdown",
      "metadata": {
        "id": "pza1Mwfcecv_"
      },
      "source": [
        "SVC"
      ]
    },
    {
      "cell_type": "code",
      "execution_count": null,
      "metadata": {
        "colab": {
          "base_uri": "https://localhost:8080/",
          "height": 472
        },
        "id": "fWGuAhsseZbY",
        "outputId": "4b12a767-0007-4b09-c969-160c82764713"
      },
      "outputs": [
        {
          "name": "stdout",
          "output_type": "stream",
          "text": [
            "Fitting 20 folds for each of 12 candidates, totalling 240 fits\n"
          ]
        },
        {
          "name": "stderr",
          "output_type": "stream",
          "text": [
            "[Parallel(n_jobs=-1)]: Using backend LokyBackend with 4 concurrent workers.\n",
            "[Parallel(n_jobs=-1)]: Done   5 tasks      | elapsed:    7.7s\n",
            "[Parallel(n_jobs=-1)]: Done  10 tasks      | elapsed:   11.7s\n",
            "[Parallel(n_jobs=-1)]: Done  17 tasks      | elapsed:   19.4s\n",
            "[Parallel(n_jobs=-1)]: Done  24 tasks      | elapsed:   23.4s\n",
            "[Parallel(n_jobs=-1)]: Done  33 tasks      | elapsed:   34.3s\n",
            "[Parallel(n_jobs=-1)]: Done  42 tasks      | elapsed:   41.5s\n",
            "[Parallel(n_jobs=-1)]: Done  53 tasks      | elapsed:   52.3s\n",
            "[Parallel(n_jobs=-1)]: Done  64 tasks      | elapsed:   59.9s\n",
            "[Parallel(n_jobs=-1)]: Done  77 tasks      | elapsed:  1.2min\n",
            "[Parallel(n_jobs=-1)]: Done  90 tasks      | elapsed:  1.5min\n",
            "[Parallel(n_jobs=-1)]: Done 105 tasks      | elapsed:  1.8min\n",
            "[Parallel(n_jobs=-1)]: Done 120 tasks      | elapsed:  2.0min\n",
            "[Parallel(n_jobs=-1)]: Done 137 tasks      | elapsed:  2.2min\n",
            "[Parallel(n_jobs=-1)]: Done 154 tasks      | elapsed:  2.5min\n",
            "[Parallel(n_jobs=-1)]: Done 173 tasks      | elapsed:  2.9min\n",
            "[Parallel(n_jobs=-1)]: Done 192 tasks      | elapsed:  3.2min\n",
            "[Parallel(n_jobs=-1)]: Done 213 tasks      | elapsed:  3.6min\n",
            "[Parallel(n_jobs=-1)]: Done 240 out of 240 | elapsed:  4.0min finished\n"
          ]
        },
        {
          "name": "stdout",
          "output_type": "stream",
          "text": [
            "\\F1-Score: 0.6765\n",
            "Melhores parâmetros: {'C': 10, 'gamma': 0.001, 'kernel': 'rbf'}\n",
            "\n"
          ]
        }
      ],
      "source": [
        "param_grid = {'C': [0.1,1, 10], 'gamma': [1,0.1,0.01,0.001],'kernel': ['rbf']}\n",
        "\n",
        "                  \n",
        "modeloSVC = SVC()\n",
        "validacao = RepeatedStratifiedKFold(n_splits = 10, n_repeats = 2)\n",
        "\n",
        "grid_SVC = GridSearchCV(modeloSVC, param_grid = param_grid,\n",
        "                                  scoring = 'f1', cv = validacao, \n",
        "                                  verbose = 10, n_jobs = -1)#n_jobs = usa VARIOS CLUSTERS\n",
        "\n",
        "grid_SVC.fit(XTreino, YTreino)\n",
        "melhor_SVC = grid_SVC.best_estimator_\n",
        "\n",
        "print('\\F1-Score: {:.4f}'.format(grid_SVC.best_score_))\n",
        "#print('\\Precisão: {:.4f}'.format(grid_SVC.best_score_))\n",
        "print('Melhores parâmetros: {}\\n'.format(grid_SVC.best_params_))\n",
        " \n"
      ]
    },
    {
      "cell_type": "code",
      "execution_count": null,
      "metadata": {
        "id": "xvUZoLgXjisw",
        "outputId": "9818e683-e4bf-4c27-fdc7-6526ce45a064"
      },
      "outputs": [
        {
          "data": {
            "text/plain": [
              "array([0.6733101 , 0.67296166, 0.6444247 , 0.54939266, 0.6728288 ,\n",
              "       0.67592233, 0.66640211, 0.67383062, 0.66934921, 0.6487315 ,\n",
              "       0.6696405 , 0.67650659])"
            ]
          },
          "execution_count": 58,
          "metadata": {},
          "output_type": "execute_result"
        }
      ],
      "source": [
        "#grid_Bag.best_estimator_#traz o melhor parâmetro encontrado\n",
        "#grid_Bag.cv_results_ #Traz todos os resultado alcançados\n",
        "grid_SVC.cv_results_['mean_test_score']#traz as médias dos knn(1,3,5,7,...,49)"
      ]
    },
    {
      "cell_type": "code",
      "execution_count": null,
      "metadata": {
        "id": "VqDxzHIrbWnM",
        "outputId": "7d8be4db-94a6-42ef-a9ea-0c6ddea1f4ba"
      },
      "outputs": [
        {
          "data": {
            "text/plain": [
              "SVC(C=10, gamma=0.001)"
            ]
          },
          "execution_count": 59,
          "metadata": {},
          "output_type": "execute_result"
        }
      ],
      "source": [
        "melhor_SVC"
      ]
    },
    {
      "cell_type": "code",
      "execution_count": null,
      "metadata": {
        "id": "wS3hdNdvjjMj",
        "outputId": "96e226b4-03a3-4c6c-ccc2-0c185918d1a5"
      },
      "outputs": [
        {
          "name": "stdout",
          "output_type": "stream",
          "text": [
            "Fitting 20 folds for each of 12 candidates, totalling 240 fits\n"
          ]
        },
        {
          "name": "stderr",
          "output_type": "stream",
          "text": [
            "[Parallel(n_jobs=-1)]: Using backend LokyBackend with 4 concurrent workers.\n",
            "[Parallel(n_jobs=-1)]: Done   5 tasks      | elapsed:    5.0s\n",
            "[Parallel(n_jobs=-1)]: Done  10 tasks      | elapsed:    7.6s\n",
            "[Parallel(n_jobs=-1)]: Done  17 tasks      | elapsed:   12.7s\n",
            "[Parallel(n_jobs=-1)]: Done  24 tasks      | elapsed:   17.6s\n",
            "[Parallel(n_jobs=-1)]: Done  33 tasks      | elapsed:   30.8s\n",
            "[Parallel(n_jobs=-1)]: Done  42 tasks      | elapsed:   37.9s\n",
            "[Parallel(n_jobs=-1)]: Done  53 tasks      | elapsed:   44.7s\n",
            "[Parallel(n_jobs=-1)]: Done  64 tasks      | elapsed:   51.7s\n",
            "[Parallel(n_jobs=-1)]: Done  77 tasks      | elapsed:  1.1min\n",
            "[Parallel(n_jobs=-1)]: Done  90 tasks      | elapsed:  1.2min\n",
            "[Parallel(n_jobs=-1)]: Done 105 tasks      | elapsed:  1.4min\n",
            "[Parallel(n_jobs=-1)]: Done 120 tasks      | elapsed:  1.6min\n",
            "[Parallel(n_jobs=-1)]: Done 137 tasks      | elapsed:  1.8min\n",
            "[Parallel(n_jobs=-1)]: Done 154 tasks      | elapsed:  2.0min\n",
            "[Parallel(n_jobs=-1)]: Done 173 tasks      | elapsed:  2.2min\n",
            "[Parallel(n_jobs=-1)]: Done 192 tasks      | elapsed:  2.5min\n",
            "[Parallel(n_jobs=-1)]: Done 213 tasks      | elapsed:  2.7min\n",
            "[Parallel(n_jobs=-1)]: Done 240 out of 240 | elapsed:  3.0min finished\n"
          ]
        },
        {
          "name": "stdout",
          "output_type": "stream",
          "text": [
            "\\F1-Score: 0.6733\n",
            "Melhores parâmetros: {'C': 0.1, 'gamma': 1, 'kernel': 'sigmoid'}\n",
            "\n"
          ]
        },
        {
          "data": {
            "text/plain": [
              "array([0.6733101 , 0.6733101 , 0.51852704, 0.58916502, 0.6733101 ,\n",
              "       0.57323969, 0.51678819, 0.53187555, 0.6733101 , 0.55706303,\n",
              "       0.51687129, 0.53025125])"
            ]
          },
          "execution_count": 60,
          "metadata": {},
          "output_type": "execute_result"
        }
      ],
      "source": [
        "param_grid = {'C': [0.1,1, 10], 'gamma': [1,0.1,0.01,0.001],'kernel': ['sigmoid']}\n",
        "\n",
        "                  \n",
        "modeloSVC = SVC()\n",
        "validacao = RepeatedStratifiedKFold(n_splits = 10, n_repeats = 2)\n",
        "\n",
        "grid_SVC = GridSearchCV(modeloSVC, param_grid = param_grid,\n",
        "                                  scoring = 'f1', cv = validacao, \n",
        "                                  verbose = 10, n_jobs = -1)#n_jobs = usa VARIOS CLUSTERS\n",
        "\n",
        "grid_SVC.fit(XTreino, YTreino)\n",
        "melhor_SVC = grid_SVC.best_estimator_\n",
        "\n",
        "print('\\F1-Score: {:.4f}'.format(grid_SVC.best_score_))\n",
        "#print('\\Precisão: {:.4f}'.format(grid_SVC.best_score_))\n",
        "print('Melhores parâmetros: {}\\n'.format(grid_SVC.best_params_))\n",
        "\n",
        "grid_SVC.cv_results_['mean_test_score']"
      ]
    },
    {
      "cell_type": "code",
      "execution_count": null,
      "metadata": {
        "id": "NkXV2mPCbWnN",
        "outputId": "6c08f242-c15b-4b69-daa4-d8f75c9a29d2"
      },
      "outputs": [
        {
          "data": {
            "text/plain": [
              "SVC(C=0.1, gamma=1, kernel='sigmoid')"
            ]
          },
          "execution_count": 61,
          "metadata": {},
          "output_type": "execute_result"
        }
      ],
      "source": [
        "melhor_SVC"
      ]
    },
    {
      "cell_type": "code",
      "execution_count": null,
      "metadata": {
        "scrolled": true,
        "id": "LPeUIz3NbWnN",
        "outputId": "9d00adae-a98d-4379-b853-9d8cb7bc5302"
      },
      "outputs": [
        {
          "name": "stdout",
          "output_type": "stream",
          "text": [
            "Fitting 20 folds for each of 16 candidates, totalling 320 fits\n"
          ]
        },
        {
          "name": "stderr",
          "output_type": "stream",
          "text": [
            "[Parallel(n_jobs=-1)]: Using backend LokyBackend with 4 concurrent workers.\n",
            "[Parallel(n_jobs=-1)]: Done   5 tasks      | elapsed:    9.7s\n",
            "[Parallel(n_jobs=-1)]: Done  10 tasks      | elapsed:   14.9s\n",
            "[Parallel(n_jobs=-1)]: Done  17 tasks      | elapsed:   23.8s\n",
            "[Parallel(n_jobs=-1)]: Done  24 tasks      | elapsed:   29.6s\n",
            "[Parallel(n_jobs=-1)]: Done  33 tasks      | elapsed:   42.2s\n",
            "[Parallel(n_jobs=-1)]: Done  42 tasks      | elapsed:   52.2s\n",
            "[Parallel(n_jobs=-1)]: Done  53 tasks      | elapsed:  1.1min\n",
            "[Parallel(n_jobs=-1)]: Done  64 tasks      | elapsed:  1.3min\n",
            "[Parallel(n_jobs=-1)]: Done  77 tasks      | elapsed:  1.5min\n",
            "[Parallel(n_jobs=-1)]: Done  90 tasks      | elapsed:  2.8min\n",
            "[Parallel(n_jobs=-1)]: Done 105 tasks      | elapsed:  4.7min\n",
            "[Parallel(n_jobs=-1)]: Done 120 tasks      | elapsed:  6.2min\n",
            "[Parallel(n_jobs=-1)]: Done 137 tasks      | elapsed:  8.4min\n",
            "[Parallel(n_jobs=-1)]: Done 154 tasks      | elapsed: 11.1min\n",
            "[Parallel(n_jobs=-1)]: Done 173 tasks      | elapsed: 19.2min\n",
            "[Parallel(n_jobs=-1)]: Done 192 tasks      | elapsed: 28.8min\n",
            "[Parallel(n_jobs=-1)]: Done 213 tasks      | elapsed: 37.8min\n",
            "[Parallel(n_jobs=-1)]: Done 234 tasks      | elapsed: 47.6min\n",
            "[Parallel(n_jobs=-1)]: Done 257 tasks      | elapsed: 78.7min\n",
            "[Parallel(n_jobs=-1)]: Done 280 tasks      | elapsed: 113.1min\n",
            "[Parallel(n_jobs=-1)]: Done 305 tasks      | elapsed: 154.7min\n",
            "[Parallel(n_jobs=-1)]: Done 320 out of 320 | elapsed: 175.7min finished\n"
          ]
        },
        {
          "name": "stdout",
          "output_type": "stream",
          "text": [
            "\\F1-Score: 0.6770\n",
            "Melhores parâmetros: {'C': 10, 'gamma': 1, 'kernel': 'linear'}\n",
            "\n"
          ]
        },
        {
          "data": {
            "text/plain": [
              "array([0.67610753, 0.67610753, 0.67610753, 0.67610753, 0.67678929,\n",
              "       0.67678929, 0.67678929, 0.67678929, 0.67701595, 0.67701595,\n",
              "       0.67701595, 0.67701595, 0.67614827, 0.67614827, 0.67614827,\n",
              "       0.67614827])"
            ]
          },
          "execution_count": 62,
          "metadata": {},
          "output_type": "execute_result"
        }
      ],
      "source": [
        "param_grid = {'C': [0.1,1, 10, 100], 'gamma': [1,0.1,0.01,0.001],'kernel': ['linear']}\n",
        "\n",
        "                  \n",
        "modeloSVC = SVC()\n",
        "validacao = RepeatedStratifiedKFold(n_splits = 10, n_repeats = 2)\n",
        "\n",
        "grid_SVC = GridSearchCV(modeloSVC, param_grid = param_grid,\n",
        "                                  scoring = 'f1', cv = validacao, \n",
        "                                  verbose = 10, n_jobs = -1)#n_jobs = usa VARIOS CLUSTERS\n",
        "\n",
        "grid_SVC.fit(XTreino, YTreino)\n",
        "melhor_SVC = grid_SVC.best_estimator_\n",
        "\n",
        "print('\\F1-Score: {:.4f}'.format(grid_SVC.best_score_))\n",
        "#print('\\Precisão: {:.4f}'.format(grid_SVC.best_score_))\n",
        "print('Melhores parâmetros: {}\\n'.format(grid_SVC.best_params_))\n",
        "\n",
        "grid_SVC.cv_results_['mean_test_score']"
      ]
    },
    {
      "cell_type": "code",
      "execution_count": null,
      "metadata": {
        "id": "KjIZzi3AbWnN",
        "outputId": "2a2d4b59-a952-4049-ca0d-7897df13eb6f"
      },
      "outputs": [
        {
          "data": {
            "text/plain": [
              "SVC(C=10, gamma=1, kernel='linear')"
            ]
          },
          "execution_count": 63,
          "metadata": {},
          "output_type": "execute_result"
        }
      ],
      "source": [
        "melhor_SVC"
      ]
    },
    {
      "cell_type": "markdown",
      "metadata": {
        "id": "sqBlitlTvTe7"
      },
      "source": [
        "---"
      ]
    },
    {
      "cell_type": "code",
      "execution_count": null,
      "metadata": {
        "id": "qslq_zWibWnO",
        "outputId": "44a9a74d-de1f-4772-9236-e75a3ca71c6f"
      },
      "outputs": [
        {
          "name": "stderr",
          "output_type": "stream",
          "text": [
            "[Parallel(n_jobs=-1)]: Using backend LokyBackend with 4 concurrent workers.\n",
            "[Parallel(n_jobs=-1)]: Done   5 tasks      | elapsed:    0.7s\n",
            "[Parallel(n_jobs=-1)]: Done  10 tasks      | elapsed:    1.3s\n",
            "[Parallel(n_jobs=-1)]: Done  17 tasks      | elapsed:    2.1s\n",
            "[Parallel(n_jobs=-1)]: Done  24 tasks      | elapsed:    2.7s\n",
            "[Parallel(n_jobs=-1)]: Done  33 tasks      | elapsed:    3.8s\n",
            "[Parallel(n_jobs=-1)]: Done  42 tasks      | elapsed:    4.7s\n",
            "[Parallel(n_jobs=-1)]: Done  53 tasks      | elapsed:    6.1s\n",
            "[Parallel(n_jobs=-1)]: Done  64 tasks      | elapsed:    6.9s\n",
            "[Parallel(n_jobs=-1)]: Done  77 tasks      | elapsed:    8.4s\n",
            "[Parallel(n_jobs=-1)]: Done  90 tasks      | elapsed:    9.7s\n"
          ]
        },
        {
          "name": "stdout",
          "output_type": "stream",
          "text": [
            "0.6957147149231436\n",
            "0.5731905555124265\n",
            "0.8850371330774816\n"
          ]
        },
        {
          "name": "stderr",
          "output_type": "stream",
          "text": [
            "[Parallel(n_jobs=-1)]: Done 100 out of 100 | elapsed:   10.5s finished\n"
          ]
        }
      ],
      "source": [
        "validacao = RepeatedStratifiedKFold(n_splits = 10, n_repeats = 10)\n",
        "modelo_Grad = GradientBoostingClassifier(learning_rate = 0.01, max_depth = 3, n_estimators = 20)\n",
        "mol_Grad = cross_validate(modelo_Grad, XTreino, YTreino, cv = validacao, scoring = ['accuracy', 'recall', 'f1', 'precision'],verbose = 10, n_jobs = -1)\n",
        "\n",
        "acc = mol_Grad['test_accuracy'].mean()\n",
        "pre = mol_Grad['test_precision'].mean()\n",
        "rec = mol_Grad['test_recall'].mean()\n",
        "f1s = mol_Grad['test_f1'].mean()\n",
        "\n",
        "j = 'Grad'\n",
        "\n",
        "print(f1s)\n",
        "print(pre)\n",
        "print(rec)"
      ]
    },
    {
      "cell_type": "markdown",
      "metadata": {
        "id": "bJZ049aAB5iN"
      },
      "source": [
        "Combinação por Votos"
      ]
    },
    {
      "cell_type": "code",
      "execution_count": null,
      "metadata": {
        "id": "-F5p1PY7R15D"
      },
      "outputs": [],
      "source": [
        "modelo_Grad = GradientBoostingClassifier(learning_rate = 0.01, max_depth = 3, n_estimators = 20)\n",
        "modelo_Randon = RandomForestClassifier()\n",
        "\n",
        "modelo_SVM_Linear = SVC(kernel = 'linear', C = 10, gamma = 1)\n",
        "modelo_SVM_RBF = SVC(kernel = 'rbf')\n",
        "modelo_SVM_POLY = SVC(kernel = 'poly')\n",
        "\n",
        "modelo_Ada = AdaBoostClassifier()"
      ]
    },
    {
      "cell_type": "code",
      "execution_count": null,
      "metadata": {
        "colab": {
          "base_uri": "https://localhost:8080/"
        },
        "id": "FhDLWGb4EDJw",
        "outputId": "5becdbea-50bf-4d08-9674-4dda3713eb39"
      },
      "outputs": [
        {
          "name": "stderr",
          "output_type": "stream",
          "text": [
            "[Parallel(n_jobs=-1)]: Using backend LokyBackend with 4 concurrent workers.\n",
            "[Parallel(n_jobs=-1)]: Done   5 out of  10 | elapsed:  3.7min remaining:  3.7min\n",
            "[Parallel(n_jobs=-1)]: Done   7 out of  10 | elapsed:  4.7min remaining:  2.0min\n",
            "[Parallel(n_jobs=-1)]: Done  10 out of  10 | elapsed:  5.1min finished\n"
          ]
        },
        {
          "data": {
            "text/plain": [
              "0.6950290484728034"
            ]
          },
          "execution_count": 53,
          "metadata": {},
          "output_type": "execute_result"
        }
      ],
      "source": [
        " #precisa ser alimentada com uma LISTA DE MODELOS\n",
        "\n",
        "#modelos definido na tabela de testes\n",
        "validacao = RepeatedStratifiedKFold(n_splits = 10, n_repeats = 1)\n",
        "\n",
        "#LISTA DE MODELOS - Nome do modelo + instancia do modelo\n",
        "modelos = [('Gradiente', modelo_Grad), ('Árvore', modelo_Randon), ('SVM RBF', modelo_SVM_RBF),('Modelo Ada', modelo_Ada) , ('SVM Linear', modelo_SVM_Linear)]# ('Modelo Ada', modelo_Ada)]#, ('SVM POLY', modelo_SVM_POLY ) #SVM n tem\n",
        "#modelo de votos soft implementado\n",
        "modelo = VotingClassifier(modelos, voting = 'hard')\n",
        "\n",
        "#medidas apuradas do modelo selecionado, vendo apenas a métrica F1-Score com o método kfold repetido\n",
        "medidas = cross_validate(modelo, XTreino, YTreino, cv = validacao, scoring = 'f1', verbose = 10, n_jobs = -1)\n",
        "medidas['test_score'].mean()#resultado para cada iteração e para cada repetição"
      ]
    },
    {
      "cell_type": "code",
      "execution_count": null,
      "metadata": {
        "id": "Eg20IbiQTIeu"
      },
      "outputs": [],
      "source": [
        "hard\n",
        "0.6875128310917977\n",
        "0.6879245054037814\n",
        "\n",
        "Linear \n",
        "0.6889695169366093\n",
        "0.6883924200020168\n",
        "ADA \n",
        "0.6892501305303662\n",
        "0.6924120583658716\n",
        "\n",
        "soft\n",
        "0.6839246138695521"
      ]
    },
    {
      "cell_type": "markdown",
      "metadata": {
        "id": "h9LUeZVyNoQO"
      },
      "source": [
        "#A Submissão"
      ]
    },
    {
      "cell_type": "code",
      "execution_count": null,
      "metadata": {
        "id": "F0zL6pX_NqUu"
      },
      "outputs": [],
      "source": [
        "\n",
        "modelos_sub = [('Gradiente', modelo_Grad), ('Árvore', modelo_Randon), ('SVM RBF', modelo_SVM_RBF),('Modelo Ada', modelo_Ada) , ('SVM Linear', modelo_SVM_Linear)]\n",
        "modelo_sub = VotingClassifier(modelos_sub, voting = 'hard')\n",
        "\n",
        "modelo_sub.fit(XTreino, YTreino)\n",
        "pred_sub = modelo_sub.predict(XTeste)"
      ]
    },
    {
      "cell_type": "code",
      "execution_count": null,
      "metadata": {
        "id": "3ORwpAwlN5Fb"
      },
      "outputs": [],
      "source": [
        "\n",
        "predicao_final = pd.DataFrame()\n",
        "predicao_final['term_deposit'] = pred_sub\n",
        "#Escrevendo CSV\n",
        "predicao_final.to_csv('D:\\Submissão.csv', index = False)"
      ]
    },
    {
      "cell_type": "code",
      "execution_count": null,
      "metadata": {
        "colab": {
          "base_uri": "https://localhost:8080/",
          "height": 300
        },
        "id": "lhu8JUW-Nvw3",
        "outputId": "0714c920-a744-4a87-a11e-e91e9c81d16f"
      },
      "outputs": [
        {
          "data": {
            "text/html": [
              "<div>\n",
              "<style scoped>\n",
              "    .dataframe tbody tr th:only-of-type {\n",
              "        vertical-align: middle;\n",
              "    }\n",
              "\n",
              "    .dataframe tbody tr th {\n",
              "        vertical-align: top;\n",
              "    }\n",
              "\n",
              "    .dataframe thead th {\n",
              "        text-align: right;\n",
              "    }\n",
              "</style>\n",
              "<table border=\"1\" class=\"dataframe\">\n",
              "  <thead>\n",
              "    <tr style=\"text-align: right;\">\n",
              "      <th></th>\n",
              "      <th>term_deposit</th>\n",
              "    </tr>\n",
              "  </thead>\n",
              "  <tbody>\n",
              "    <tr>\n",
              "      <th>count</th>\n",
              "      <td>1422.000000</td>\n",
              "    </tr>\n",
              "    <tr>\n",
              "      <th>mean</th>\n",
              "      <td>0.580872</td>\n",
              "    </tr>\n",
              "    <tr>\n",
              "      <th>std</th>\n",
              "      <td>0.493590</td>\n",
              "    </tr>\n",
              "    <tr>\n",
              "      <th>min</th>\n",
              "      <td>0.000000</td>\n",
              "    </tr>\n",
              "    <tr>\n",
              "      <th>25%</th>\n",
              "      <td>0.000000</td>\n",
              "    </tr>\n",
              "    <tr>\n",
              "      <th>50%</th>\n",
              "      <td>1.000000</td>\n",
              "    </tr>\n",
              "    <tr>\n",
              "      <th>75%</th>\n",
              "      <td>1.000000</td>\n",
              "    </tr>\n",
              "    <tr>\n",
              "      <th>max</th>\n",
              "      <td>1.000000</td>\n",
              "    </tr>\n",
              "  </tbody>\n",
              "</table>\n",
              "</div>"
            ],
            "text/plain": [
              "       term_deposit\n",
              "count   1422.000000\n",
              "mean       0.580872\n",
              "std        0.493590\n",
              "min        0.000000\n",
              "25%        0.000000\n",
              "50%        1.000000\n",
              "75%        1.000000\n",
              "max        1.000000"
            ]
          },
          "execution_count": 56,
          "metadata": {},
          "output_type": "execute_result"
        }
      ],
      "source": [
        "predicao_final.describe()"
      ]
    },
    {
      "cell_type": "code",
      "execution_count": null,
      "metadata": {
        "colab": {
          "base_uri": "https://localhost:8080/"
        },
        "id": "8lZpxe9_v6Lb",
        "outputId": "1775b972-f804-41ee-c014-753968ffc359"
      },
      "outputs": [
        {
          "data": {
            "text/plain": [
              "term_deposit\n",
              "1               826\n",
              "0               596\n",
              "dtype: int64"
            ]
          },
          "execution_count": 60,
          "metadata": {},
          "output_type": "execute_result"
        }
      ],
      "source": [
        "predicao_final.value_counts()"
      ]
    },
    {
      "cell_type": "code",
      "execution_count": null,
      "metadata": {
        "id": "ZjTC9xq0v6Tu"
      },
      "outputs": [],
      "source": [
        "resultados3 = pd.DataFrame()"
      ]
    },
    {
      "cell_type": "code",
      "execution_count": null,
      "metadata": {
        "id": "ytvUyXuJ7yBj"
      },
      "outputs": [],
      "source": [
        ""
      ]
    },
    {
      "cell_type": "code",
      "execution_count": null,
      "metadata": {
        "id": "Igp7rpivVjBQ"
      },
      "outputs": [],
      "source": [
        ""
      ]
    },
    {
      "cell_type": "markdown",
      "metadata": {
        "id": "y-7JQ-_eVjI8"
      },
      "source": [
        "https://forms.gle/LgycvedPBZtAHHux9"
      ]
    }
  ],
  "metadata": {
    "accelerator": "GPU",
    "celltoolbar": "Tags",
    "colab": {
      "collapsed_sections": [],
      "name": "Desafio Flai5.ipynb",
      "provenance": [],
      "toc_visible": true,
      "include_colab_link": true
    },
    "kernelspec": {
      "display_name": "Python 3",
      "language": "python",
      "name": "python3"
    },
    "language_info": {
      "codemirror_mode": {
        "name": "ipython",
        "version": 3
      },
      "file_extension": ".py",
      "mimetype": "text/x-python",
      "name": "python",
      "nbconvert_exporter": "python",
      "pygments_lexer": "ipython3",
      "version": "3.8.5"
    }
  },
  "nbformat": 4,
  "nbformat_minor": 0
}