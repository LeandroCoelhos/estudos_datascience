{
  "nbformat": 4,
  "nbformat_minor": 0,
  "metadata": {
    "colab": {
      "provenance": [],
      "authorship_tag": "ABX9TyM2TKiFLATGd77NSVjOL3V7",
      "include_colab_link": true
    },
    "kernelspec": {
      "name": "python3",
      "display_name": "Python 3"
    },
    "language_info": {
      "name": "python"
    }
  },
  "cells": [
    {
      "cell_type": "markdown",
      "metadata": {
        "id": "view-in-github",
        "colab_type": "text"
      },
      "source": [
        "<a href=\"https://colab.research.google.com/github/LeandroCoelhos/estudos_datascience/blob/main/regressao_interpretabilidade.ipynb\" target=\"_parent\"><img src=\"https://colab.research.google.com/assets/colab-badge.svg\" alt=\"Open In Colab\"/></a>"
      ]
    },
    {
      "cell_type": "code",
      "execution_count": 1,
      "metadata": {
        "colab": {
          "base_uri": "https://localhost:8080/"
        },
        "id": "-c6DhUIbOSMA",
        "outputId": "0ec32119-f2a9-4541-f9d8-e2b8b863c803"
      },
      "outputs": [
        {
          "output_type": "stream",
          "name": "stdout",
          "text": [
            "R2 Score: 0.5758\n",
            "Mean Squared Error (MSE): 0.5559\n",
            "Mean Absolute Error (MAE): 0.5332\n",
            "\n",
            "Coeficientes do Modelo:\n",
            "const        -37.023278\n",
            "MedInc         0.448675\n",
            "HouseAge       0.009724\n",
            "AveRooms      -0.123323\n",
            "AveBedrms      0.783145\n",
            "Population    -0.000002\n",
            "AveOccup      -0.003526\n",
            "Latitude      -0.419792\n",
            "Longitude     -0.433708\n",
            "dtype: float64\n",
            "\n",
            "As três variáveis mais impactantes:\n",
            "const        37.023278\n",
            "AveBedrms     0.783145\n",
            "MedInc        0.448675\n",
            "dtype: float64\n"
          ]
        }
      ],
      "source": [
        "import pandas as pd\n",
        "import statsmodels.api as sm\n",
        "from sklearn.datasets import fetch_california_housing\n",
        "from sklearn.model_selection import train_test_split\n",
        "from sklearn.metrics import r2_score, mean_squared_error, mean_absolute_error\n",
        "\n",
        "# Carregando o conjunto de dados da Califórnia\n",
        "data = fetch_california_housing()\n",
        "df = pd.DataFrame(data.data, columns=data.feature_names)\n",
        "df['target'] = data.target\n",
        "\n",
        "# Dividindo o conjunto de dados em treino e teste\n",
        "train_df, test_df = train_test_split(df, test_size=0.2, random_state=42)\n",
        "\n",
        "# Separando variáveis independentes (X) e a variável dependente (y)\n",
        "X_train = train_df.drop('target', axis=1)\n",
        "y_train = train_df['target']\n",
        "\n",
        "X_test = test_df.drop('target', axis=1)\n",
        "y_test = test_df['target']\n",
        "\n",
        "# Adicionando uma constante para o termo independente\n",
        "X_train = sm.add_constant(X_train)\n",
        "X_test = sm.add_constant(X_test)\n",
        "\n",
        "# Criando e treinando o modelo de regressão linear\n",
        "modelo_reg = sm.OLS(y_train, X_train).fit()\n",
        "\n",
        "# Realizando previsões no conjunto de teste\n",
        "y_pred = modelo_reg.predict(X_test)\n",
        "\n",
        "# Calculando as métricas\n",
        "r2 = r2_score(y_test, y_pred)\n",
        "mse = mean_squared_error(y_test, y_pred)\n",
        "mae = mean_absolute_error(y_test, y_pred)\n",
        "\n",
        "# Imprimindo as métricas\n",
        "print(f\"R2 Score: {r2:.4f}\")\n",
        "print(f\"Mean Squared Error (MSE): {mse:.4f}\")\n",
        "print(f\"Mean Absolute Error (MAE): {mae:.4f}\")\n",
        "\n",
        "# Imprimindo os coeficientes do modelo\n",
        "print(\"\\nCoeficientes do Modelo:\")\n",
        "print(modelo_reg.params)\n",
        "\n",
        "# Identificando as três variáveis mais impactantes\n",
        "top_variables = modelo_reg.params.abs().sort_values(ascending=False).head(3)\n",
        "print(\"\\nAs três variáveis mais impactantes:\")\n",
        "print(top_variables)\n"
      ]
    },
    {
      "cell_type": "code",
      "source": [
        "import statsmodels.api as sm\n",
        "import pandas as pd\n",
        "\n",
        "# Supondo que você já treinou um modelo de regressão linear chamado modelo_reg\n",
        "# e tem um conjunto de teste chamado X_test\n",
        "\n",
        "# Adicionando uma constante à matriz de recursos (intercepto)\n",
        "X_test_com_const = sm.add_constant(X_test)\n",
        "\n",
        "# Obtendo as previsões do modelo\n",
        "predictions = modelo_reg.get_prediction(X_test_com_const)\n",
        "\n",
        "# Inicializando um DataFrame para armazenar os resultados\n",
        "resultados_df = pd.DataFrame(index=X_test.index)\n",
        "\n",
        "# Iterando sobre cada previsão individual\n",
        "for i, (idx, row) in enumerate(predictions.summary_frame().iterrows()):\n",
        "    # Obtendo os coeficientes para a previsão atual\n",
        "    coeficientes_previsao = row[:-1]  # Excluindo o intercepto\n",
        "\n",
        "    # Extraindo os três coeficientes mais influentes\n",
        "    coeficientes_influentes = coeficientes_previsao.abs().nlargest(3).index\n",
        "\n",
        "    # Salvando os três coeficientes mais influentes nas colunas correspondentes\n",
        "    resultados_df.at[idx, 'mais_influente_1'] = coeficientes_influentes[0]\n",
        "    resultados_df.at[idx, 'mais_influente_2'] = coeficientes_influentes[1]\n",
        "    resultados_df.at[idx, 'mais_influente_3'] = coeficientes_influentes[2]\n",
        "\n",
        "# Exibindo o DataFrame resultante\n",
        "print(resultados_df)"
      ],
      "metadata": {
        "colab": {
          "base_uri": "https://localhost:8080/"
        },
        "id": "e33czVmfPicu",
        "outputId": "21ef7d7d-0c89-4532-c996-22596a5033a4"
      },
      "execution_count": 14,
      "outputs": [
        {
          "output_type": "stream",
          "name": "stdout",
          "text": [
            "      mais_influente_1 mais_influente_2 mais_influente_3\n",
            "20046    mean_ci_upper             mean    mean_ci_lower\n",
            "3024     mean_ci_upper             mean    mean_ci_lower\n",
            "15663    mean_ci_upper             mean    mean_ci_lower\n",
            "20484    mean_ci_upper             mean    mean_ci_lower\n",
            "9814     mean_ci_upper             mean    mean_ci_lower\n",
            "...                ...              ...              ...\n",
            "15362    mean_ci_upper             mean    mean_ci_lower\n",
            "16623    mean_ci_upper             mean    mean_ci_lower\n",
            "18086    mean_ci_upper             mean    mean_ci_lower\n",
            "2144     mean_ci_upper             mean    mean_ci_lower\n",
            "3665     mean_ci_upper             mean    mean_ci_lower\n",
            "\n",
            "[4128 rows x 3 columns]\n"
          ]
        }
      ]
    },
    {
      "cell_type": "code",
      "source": [
        "# Criando uma lista com todas as variáveis mais influentes\n",
        "variaveis_influentes = resultados_df['mais_influente_1'].tolist() + resultados_df['mais_influente_2'].tolist() + resultados_df['mais_influente_3'].tolist()\n",
        "\n",
        "# Contando a ocorrência de cada variável\n",
        "contagem_variaveis = pd.Series(variaveis_influentes).value_counts()\n",
        "\n",
        "# Obtendo os top 3 valores mais comuns\n",
        "top3_valores_mais_comuns = contagem_variaveis.head(3)\n",
        "\n",
        "# Exibindo os top 3 valores mais comuns\n",
        "print(top3_valores_mais_comuns)"
      ],
      "metadata": {
        "colab": {
          "base_uri": "https://localhost:8080/"
        },
        "id": "uogWkxT6O4cs",
        "outputId": "e46e950c-c904-4077-e7ba-29dcba5e37f5"
      },
      "execution_count": 18,
      "outputs": [
        {
          "output_type": "stream",
          "name": "stdout",
          "text": [
            "mean             4125\n",
            "mean_ci_upper    4115\n",
            "mean_ci_lower    3930\n",
            "dtype: int64\n"
          ]
        }
      ]
    },
    {
      "cell_type": "code",
      "source": [],
      "metadata": {
        "id": "_J4IsVHHSNh-"
      },
      "execution_count": null,
      "outputs": []
    }
  ]
}